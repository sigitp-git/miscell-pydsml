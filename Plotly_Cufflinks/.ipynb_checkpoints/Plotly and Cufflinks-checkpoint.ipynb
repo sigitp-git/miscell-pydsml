{
 "cells": [
  {
   "cell_type": "markdown",
   "metadata": {},
   "source": [
    "Plotly is a library that allows you to create interactive plots that you can use in dashboards or websites (you can save them as html files or static images).\n",
    "\n",
    "## Installation\n",
    "\n",
    "In order for this all to work, you'll need to install plotly and cufflinks to call plots directly off of a pandas dataframe. These libraries are not currently available through **conda** but are available through **pip**. Install the libraries at your command line/terminal using:\n",
    "\n",
    "    pip install plotly\n",
    "    pip install cufflinks\n",
    "    pip install chart-studio\n",
    "    import chart_studio.plotly as py\n",
    "\n",
    "** NOTE: Make sure you only have one installation of Python on your computer when you do this, otherwise the installation may not work. **\n",
    "\n",
    "## Imports and Set-up"
   ]
  },
  {
   "cell_type": "code",
   "execution_count": 1,
   "metadata": {},
   "outputs": [],
   "source": [
    "import pandas as pd\n",
    "import numpy as np\n",
    "import chart_studio.plotly as py\n",
    "%matplotlib inline"
   ]
  },
  {
   "cell_type": "code",
   "execution_count": 2,
   "metadata": {},
   "outputs": [
    {
     "name": "stdout",
     "output_type": "stream",
     "text": [
      "4.9.0\n"
     ]
    }
   ],
   "source": [
    "from plotly import __version__\n",
    "from plotly.offline import download_plotlyjs, init_notebook_mode, plot, iplot\n",
    "\n",
    "print(__version__) # requires version >= 1.9.0"
   ]
  },
  {
   "cell_type": "code",
   "execution_count": 3,
   "metadata": {},
   "outputs": [],
   "source": [
    "import cufflinks as cf"
   ]
  },
  {
   "cell_type": "code",
   "execution_count": 4,
   "metadata": {},
   "outputs": [
    {
     "data": {
      "text/html": [
       "        <script type=\"text/javascript\">\n",
       "        window.PlotlyConfig = {MathJaxConfig: 'local'};\n",
       "        if (window.MathJax) {MathJax.Hub.Config({SVG: {font: \"STIX-Web\"}});}\n",
       "        if (typeof require !== 'undefined') {\n",
       "        require.undef(\"plotly\");\n",
       "        requirejs.config({\n",
       "            paths: {\n",
       "                'plotly': ['https://cdn.plot.ly/plotly-latest.min']\n",
       "            }\n",
       "        });\n",
       "        require(['plotly'], function(Plotly) {\n",
       "            window._Plotly = Plotly;\n",
       "        });\n",
       "        }\n",
       "        </script>\n",
       "        "
      ]
     },
     "metadata": {},
     "output_type": "display_data"
    }
   ],
   "source": [
    "# For Notebooks, connect Jupyter Notebook, Python, and the interactive JS library from plot.ly\n",
    "init_notebook_mode(connected=True)"
   ]
  },
  {
   "cell_type": "code",
   "execution_count": 5,
   "metadata": {},
   "outputs": [
    {
     "data": {
      "text/html": [
       "        <script type=\"text/javascript\">\n",
       "        window.PlotlyConfig = {MathJaxConfig: 'local'};\n",
       "        if (window.MathJax) {MathJax.Hub.Config({SVG: {font: \"STIX-Web\"}});}\n",
       "        if (typeof require !== 'undefined') {\n",
       "        require.undef(\"plotly\");\n",
       "        requirejs.config({\n",
       "            paths: {\n",
       "                'plotly': ['https://cdn.plot.ly/plotly-latest.min']\n",
       "            }\n",
       "        });\n",
       "        require(['plotly'], function(Plotly) {\n",
       "            window._Plotly = Plotly;\n",
       "        });\n",
       "        }\n",
       "        </script>\n",
       "        "
      ]
     },
     "metadata": {},
     "output_type": "display_data"
    }
   ],
   "source": [
    "# For offline use, not used with plot.ly hosting\n",
    "cf.go_offline()"
   ]
  },
  {
   "cell_type": "markdown",
   "metadata": {},
   "source": [
    "### Fake Data"
   ]
  },
  {
   "cell_type": "code",
   "execution_count": 6,
   "metadata": {},
   "outputs": [],
   "source": [
    "df = pd.DataFrame(np.random.randn(100,4),columns='A B C D'.split())"
   ]
  },
  {
   "cell_type": "code",
   "execution_count": 7,
   "metadata": {},
   "outputs": [
    {
     "data": {
      "text/html": [
       "<div>\n",
       "<style scoped>\n",
       "    .dataframe tbody tr th:only-of-type {\n",
       "        vertical-align: middle;\n",
       "    }\n",
       "\n",
       "    .dataframe tbody tr th {\n",
       "        vertical-align: top;\n",
       "    }\n",
       "\n",
       "    .dataframe thead th {\n",
       "        text-align: right;\n",
       "    }\n",
       "</style>\n",
       "<table border=\"1\" class=\"dataframe\">\n",
       "  <thead>\n",
       "    <tr style=\"text-align: right;\">\n",
       "      <th></th>\n",
       "      <th>A</th>\n",
       "      <th>B</th>\n",
       "      <th>C</th>\n",
       "      <th>D</th>\n",
       "    </tr>\n",
       "  </thead>\n",
       "  <tbody>\n",
       "    <tr>\n",
       "      <th>0</th>\n",
       "      <td>-1.149882</td>\n",
       "      <td>-0.821597</td>\n",
       "      <td>-0.050434</td>\n",
       "      <td>0.545307</td>\n",
       "    </tr>\n",
       "    <tr>\n",
       "      <th>1</th>\n",
       "      <td>1.536239</td>\n",
       "      <td>0.566439</td>\n",
       "      <td>0.638399</td>\n",
       "      <td>0.629727</td>\n",
       "    </tr>\n",
       "    <tr>\n",
       "      <th>2</th>\n",
       "      <td>0.393238</td>\n",
       "      <td>0.508964</td>\n",
       "      <td>-0.555210</td>\n",
       "      <td>-0.940146</td>\n",
       "    </tr>\n",
       "    <tr>\n",
       "      <th>3</th>\n",
       "      <td>-2.059996</td>\n",
       "      <td>-0.259264</td>\n",
       "      <td>0.873389</td>\n",
       "      <td>-0.984773</td>\n",
       "    </tr>\n",
       "    <tr>\n",
       "      <th>4</th>\n",
       "      <td>0.095630</td>\n",
       "      <td>1.142565</td>\n",
       "      <td>-0.279736</td>\n",
       "      <td>1.509089</td>\n",
       "    </tr>\n",
       "  </tbody>\n",
       "</table>\n",
       "</div>"
      ],
      "text/plain": [
       "          A         B         C         D\n",
       "0 -1.149882 -0.821597 -0.050434  0.545307\n",
       "1  1.536239  0.566439  0.638399  0.629727\n",
       "2  0.393238  0.508964 -0.555210 -0.940146\n",
       "3 -2.059996 -0.259264  0.873389 -0.984773\n",
       "4  0.095630  1.142565 -0.279736  1.509089"
      ]
     },
     "execution_count": 7,
     "metadata": {},
     "output_type": "execute_result"
    }
   ],
   "source": [
    "df.head()"
   ]
  },
  {
   "cell_type": "code",
   "execution_count": 8,
   "metadata": {},
   "outputs": [],
   "source": [
    "df2 = pd.DataFrame({'Category':['A','B','C'],'Values':[32,43,50]})"
   ]
  },
  {
   "cell_type": "code",
   "execution_count": 10,
   "metadata": {},
   "outputs": [
    {
     "data": {
      "text/html": [
       "<div>\n",
       "<style scoped>\n",
       "    .dataframe tbody tr th:only-of-type {\n",
       "        vertical-align: middle;\n",
       "    }\n",
       "\n",
       "    .dataframe tbody tr th {\n",
       "        vertical-align: top;\n",
       "    }\n",
       "\n",
       "    .dataframe thead th {\n",
       "        text-align: right;\n",
       "    }\n",
       "</style>\n",
       "<table border=\"1\" class=\"dataframe\">\n",
       "  <thead>\n",
       "    <tr style=\"text-align: right;\">\n",
       "      <th></th>\n",
       "      <th>Category</th>\n",
       "      <th>Values</th>\n",
       "    </tr>\n",
       "  </thead>\n",
       "  <tbody>\n",
       "    <tr>\n",
       "      <th>0</th>\n",
       "      <td>A</td>\n",
       "      <td>32</td>\n",
       "    </tr>\n",
       "    <tr>\n",
       "      <th>1</th>\n",
       "      <td>B</td>\n",
       "      <td>43</td>\n",
       "    </tr>\n",
       "    <tr>\n",
       "      <th>2</th>\n",
       "      <td>C</td>\n",
       "      <td>50</td>\n",
       "    </tr>\n",
       "  </tbody>\n",
       "</table>\n",
       "</div>"
      ],
      "text/plain": [
       "  Category  Values\n",
       "0        A      32\n",
       "1        B      43\n",
       "2        C      50"
      ]
     },
     "execution_count": 10,
     "metadata": {},
     "output_type": "execute_result"
    }
   ],
   "source": [
    "df2.head()"
   ]
  },
  {
   "cell_type": "code",
   "execution_count": 14,
   "metadata": {},
   "outputs": [
    {
     "data": {
      "text/plain": [
       "<matplotlib.axes._subplots.AxesSubplot at 0x1a1d1fca10>"
      ]
     },
     "execution_count": 14,
     "metadata": {},
     "output_type": "execute_result"
    },
    {
     "data": {
      "image/png": "[encoded data removed]",
      "text/plain": [
       "<Figure size 432x288 with 1 Axes>"
      ]
     },
     "metadata": {
      "needs_background": "light"
     },
     "output_type": "display_data"
    }
   ],
   "source": [
    "df.plot() #default matplotlib plot"
   ]
  },
  {
   "cell_type": "code",
   "execution_count": 16,
   "metadata": {},
   "outputs": [
    {
     "data": {
      "application/vnd.plotly.v1+json": {
       "config": {
        "linkText": "Export to plot.ly",
        "plotlyServerURL": "https://plot.ly",
        "showLink": true
       },
       "data": [
        {
         "line": {
          "color": "rgba(255, 153, 51, 1.0)",
          "dash": "solid",
          "shape": "linear",
          "width": 1.3
         },
         "mode": "lines",
         "name": "A",
         "text": "",
         "type": "scatter",
         "x": [
          0,
          1,
          2,
          3,
          4,
          5,
          6,
          7,
          8,
          9,
          10,
          11,
          12,
          13,
          14,
          15,
          16,
          17,
          18,
          19,
          20,
          21,
          22,
          23,
          24,
          25,
          26,
          27,
          28,
          29,
          30,
          31,
          32,
          33,
          34,
          35,
          36,
          37,
          38,
          39,
          40,
          41,
          42,
          43,
          44,
          45,
          46,
          47,
          48,
          49,
          50,
          51,
          52,
          53,
          54,
          55,
          56,
          57,
          58,
          59,
          60,
          61,
          62,
          63,
          64,
          65,
          66,
          67,
          68,
          69,
          70,
          71,
          72,
          73,
          74,
          75,
          76,
          77,
          78,
          79,
          80,
          81,
          82,
          83,
          84,
          85,
          86,
          87,
          88,
          89,
          90,
          91,
          92,
          93,
          94,
          95,
          96,
          97,
          98,
          99
         ],
         "y": [
          -1.149882228543045,
          1.5362385410467798,
          0.3932379374579331,
          -2.059996463523254,
          0.09562991677781363,
          -0.1844539287632311,
          2.3418220729645576,
          -0.43975047658280936,
          0.6288630050374875,
          -0.030326212811700944,
          -1.702156021656865,
          -1.517666528581438,
          1.19528182618035,
          -0.9288515943816018,
          0.2672440911504483,
          -0.4002975415796906,
          -1.2173180116996651,
          0.9662247412467714,
          -1.9290761726699661,
          1.249919408423394,
          -0.6783813256393709,
          -0.7888541279691633,
          -2.7701270507949274,
          -0.4570081697608714,
          -1.5754577270896186,
          1.7040742114772185,
          -1.323623647403465,
          -1.0710918640009173,
          0.2187213850037935,
          -0.07078716233479242,
          -1.303646959301516,
          2.1897266317892035,
          0.13093518856030348,
          -0.9903480467852114,
          0.33671892236565953,
          -1.1556963538417262,
          -0.2773860242357469,
          1.9377494811247495,
          0.1423953006490988,
          0.6731945716487792,
          -0.46541278669836533,
          -0.714379146180877,
          1.0651922056412366,
          0.3114333896682094,
          -0.29224469547465676,
          -0.6358918139816263,
          -0.06286318467275165,
          0.07858067675403434,
          -0.02010629030746235,
          0.9735632755624417,
          0.3806941990300737,
          0.9555634570784103,
          -0.38220496895255784,
          -0.22327324528616546,
          -1.8998284305790532,
          -0.24424740920339258,
          -0.02526692348391983,
          -0.1382620224959738,
          1.395861014773399,
          -0.3604338840902675,
          0.3563945466276664,
          -0.07645210423467486,
          1.058060157864064,
          0.03543017928138459,
          0.32199934259140944,
          0.7294917431182483,
          0.16221584077406218,
          0.44579793102551135,
          -0.06772507530824512,
          0.39109205187050505,
          -0.7385195761252955,
          -1.2023650450948926,
          -1.3018179686182045,
          -0.7588769767804764,
          0.8540615931350239,
          0.7937811845169089,
          -0.11330210909059032,
          0.9786046847077196,
          0.1026403652012129,
          -0.6973082302186342,
          -0.7309060647842065,
          -0.3824059171264001,
          0.5322395624685383,
          0.5520881490592399,
          0.7893147543534774,
          0.9593248351973666,
          0.08953894702720594,
          -0.10201225506825605,
          -0.112709501292115,
          -0.6104114734459825,
          0.4274545255274656,
          0.3232725058320922,
          0.14213070118669957,
          -0.7675916048632497,
          -0.15544652729455274,
          -0.6522117023376075,
          1.7648913777096549,
          -1.0343556208880231,
          0.6291210941714808,
          -0.2714321671685072
         ]
        },
        {
         "line": {
          "color": "rgba(55, 128, 191, 1.0)",
          "dash": "solid",
          "shape": "linear",
          "width": 1.3
         },
         "mode": "lines",
         "name": "B",
         "text": "",
         "type": "scatter",
         "x": [
          0,
          1,
          2,
          3,
          4,
          5,
          6,
          7,
          8,
          9,
          10,
          11,
          12,
          13,
          14,
          15,
          16,
          17,
          18,
          19,
          20,
          21,
          22,
          23,
          24,
          25,
          26,
          27,
          28,
          29,
          30,
          31,
          32,
          33,
          34,
          35,
          36,
          37,
          38,
          39,
          40,
          41,
          42,
          43,
          44,
          45,
          46,
          47,
          48,
          49,
          50,
          51,
          52,
          53,
          54,
          55,
          56,
          57,
          58,
          59,
          60,
          61,
          62,
          63,
          64,
          65,
          66,
          67,
          68,
          69,
          70,
          71,
          72,
          73,
          74,
          75,
          76,
          77,
          78,
          79,
          80,
          81,
          82,
          83,
          84,
          85,
          86,
          87,
          88,
          89,
          90,
          91,
          92,
          93,
          94,
          95,
          96,
          97,
          98,
          99
         ],
         "y": [
          -0.821596800402655,
          0.5664394505597601,
          0.5089641346070292,
          -0.2592635248813433,
          1.1425648848092516,
          0.1303293725182424,
          -0.7452599453081017,
          0.6807839819422564,
          -0.03025028909446263,
          -0.7216948550717397,
          0.012099971974348565,
          -1.9328018674909626,
          0.2940669437690773,
          -0.6425845565868856,
          -1.274457701503331,
          -0.31820163749691893,
          -0.9201990535926323,
          -1.3082244088756303,
          0.9672470890932595,
          0.5604202824371384,
          -0.7169037558756315,
          0.5214208294070508,
          0.005276194451701883,
          1.34131395639202,
          0.862730069774194,
          0.444210324881266,
          0.7166122997543846,
          0.5905621985926649,
          -0.6123356568653066,
          -0.526925454627251,
          0.3566581207234709,
          -0.7958593703435825,
          0.4820928557493119,
          2.082313812263963,
          1.2477493754732194,
          0.4347371625321479,
          -0.5524659931146368,
          -0.8005632090645551,
          -0.49586200765958227,
          0.7363425104966456,
          -0.5004712861884172,
          1.0482761927570294,
          -0.6137346570027824,
          -0.03968309123000246,
          -0.3226370483232409,
          -0.9003242820526284,
          -0.4726691235269847,
          1.468411024145207,
          -0.45566617797248504,
          0.07953301178126826,
          0.5357369360643719,
          -0.08765107497054818,
          -1.426308343534027,
          0.819068484709911,
          1.8086881553071021,
          0.40025853155354885,
          -0.8893840863646113,
          0.9387138657020594,
          0.6986426191038498,
          0.43740462673617786,
          0.6644892611484586,
          0.0311752431301281,
          -0.8240084892443692,
          1.5178420616192276,
          0.014463322301807217,
          -0.07506796365150185,
          0.25267110665442416,
          0.9536021445007004,
          -0.021310183431371237,
          -1.3114035432534275,
          0.8592510660239445,
          -1.2507752033737798,
          1.4246620884121426,
          1.1027173115312447,
          0.6118120227281758,
          -0.7975020166108695,
          -1.462540048851282,
          0.6827294493991927,
          0.5334301271174584,
          0.7294526884023559,
          -0.04388537975766861,
          -0.789556783280647,
          0.3392864194491249,
          0.790166279806434,
          1.0259494794903965,
          0.27094021554193,
          1.4829223336581099,
          -0.23293511983863718,
          0.6859245229420942,
          0.5874723324937035,
          0.48557210628845787,
          -0.12662879963201118,
          0.9212668798284969,
          -1.2223765090701693,
          -0.029869681236115303,
          -1.8045036109927406,
          -1.9155662026040001,
          -0.536847880512402,
          0.34557732447025485,
          -0.3892917688322118
         ]
        },
        {
         "line": {
          "color": "rgba(50, 171, 96, 1.0)",
          "dash": "solid",
          "shape": "linear",
          "width": 1.3
         },
         "mode": "lines",
         "name": "C",
         "text": "",
         "type": "scatter",
         "x": [
          0,
          1,
          2,
          3,
          4,
          5,
          6,
          7,
          8,
          9,
          10,
          11,
          12,
          13,
          14,
          15,
          16,
          17,
          18,
          19,
          20,
          21,
          22,
          23,
          24,
          25,
          26,
          27,
          28,
          29,
          30,
          31,
          32,
          33,
          34,
          35,
          36,
          37,
          38,
          39,
          40,
          41,
          42,
          43,
          44,
          45,
          46,
          47,
          48,
          49,
          50,
          51,
          52,
          53,
          54,
          55,
          56,
          57,
          58,
          59,
          60,
          61,
          62,
          63,
          64,
          65,
          66,
          67,
          68,
          69,
          70,
          71,
          72,
          73,
          74,
          75,
          76,
          77,
          78,
          79,
          80,
          81,
          82,
          83,
          84,
          85,
          86,
          87,
          88,
          89,
          90,
          91,
          92,
          93,
          94,
          95,
          96,
          97,
          98,
          99
         ],
         "y": [
          -0.05043432899368031,
          0.6383985377849963,
          -0.5552104688070715,
          0.8733894761659502,
          -0.27973637356455144,
          0.3099198456823666,
          -0.88279025720947,
          1.5867347920708614,
          -1.1682939504435819,
          -0.5398035790255533,
          2.6047288884328945,
          -0.28450355075339073,
          -0.18411605199644634,
          -0.7087374298548398,
          1.6390687626183504,
          -0.5433847348255266,
          -0.29102616128048525,
          0.3867966969243918,
          -0.5738198681006161,
          -0.8467916453984707,
          0.5297032633356104,
          0.34987822330080387,
          0.6945634517303589,
          0.7468221924352632,
          1.900151098890552,
          -0.621938312162858,
          -0.16362440785066615,
          0.3584161327870031,
          0.6084762558026675,
          -0.9318463866260959,
          -1.7149056880168532,
          -0.10128499226000447,
          0.19637626627572874,
          0.2969997402467644,
          -0.5831229998849408,
          -0.6053470808434863,
          -0.519200620192376,
          1.132014562741578,
          2.14583857085064,
          1.1082670904027203,
          0.9915436083465138,
          0.35064782627575036,
          -0.8718624044359158,
          -0.7711209904670029,
          1.8434894167073075,
          -0.881682946775223,
          2.2198785443767775,
          -0.9020703454223811,
          -2.0310072709609477,
          0.0859417760441214,
          -0.5497913464560333,
          -0.8896792267662379,
          0.0501728664565584,
          -1.4144078755079297,
          -1.2547969891058721,
          0.4244866684966232,
          0.5746324117859202,
          0.23125449383760513,
          0.6734505472376046,
          0.9481492334735947,
          -0.15602051696246882,
          -0.27681846353088535,
          0.6879641900610127,
          -0.5650179988527602,
          -0.6727447321566563,
          0.8055284608391798,
          -0.07814871647186178,
          0.5983513117146525,
          0.39409971719175724,
          0.2652492847240678,
          -1.1594253536181287,
          1.5322943352645402,
          0.29524129053229714,
          -0.21092943984307086,
          0.7241385453207122,
          -0.5075445506409986,
          -1.0399223896721543,
          -2.6981299945993604,
          0.444443913026689,
          -0.2080299799409404,
          -0.48655055177461065,
          -0.24397033164856838,
          -0.1394653239772895,
          0.8566379732556342,
          -0.40928402997218166,
          -0.8146622155618218,
          -0.12037812400398963,
          -0.0004340621273201351,
          2.4020992968620263,
          0.8084817681546183,
          0.3342529934430462,
          0.21356656246612182,
          -0.7660769594747029,
          -0.1688787331661423,
          -0.8175685865248625,
          1.1337186472505991,
          -0.8818864274262241,
          -0.6262697386361157,
          -1.587580606392134,
          1.3878120685001782
         ]
        },
        {
         "line": {
          "color": "rgba(128, 0, 128, 1.0)",
          "dash": "solid",
          "shape": "linear",
          "width": 1.3
         },
         "mode": "lines",
         "name": "D",
         "text": "",
         "type": "scatter",
         "x": [
          0,
          1,
          2,
          3,
          4,
          5,
          6,
          7,
          8,
          9,
          10,
          11,
          12,
          13,
          14,
          15,
          16,
          17,
          18,
          19,
          20,
          21,
          22,
          23,
          24,
          25,
          26,
          27,
          28,
          29,
          30,
          31,
          32,
          33,
          34,
          35,
          36,
          37,
          38,
          39,
          40,
          41,
          42,
          43,
          44,
          45,
          46,
          47,
          48,
          49,
          50,
          51,
          52,
          53,
          54,
          55,
          56,
          57,
          58,
          59,
          60,
          61,
          62,
          63,
          64,
          65,
          66,
          67,
          68,
          69,
          70,
          71,
          72,
          73,
          74,
          75,
          76,
          77,
          78,
          79,
          80,
          81,
          82,
          83,
          84,
          85,
          86,
          87,
          88,
          89,
          90,
          91,
          92,
          93,
          94,
          95,
          96,
          97,
          98,
          99
         ],
         "y": [
          0.5453066085348863,
          0.6297272301796784,
          -0.9401461784548403,
          -0.9847733132602441,
          1.509088854044453,
          -1.7000718360475824,
          -1.2225246766948081,
          1.3568654711368602,
          0.22949621448467727,
          2.1801712492246623,
          0.5837170028026545,
          0.24891769712044948,
          0.10317662432857874,
          -1.4088141062786053,
          3.114453696537187,
          0.5834183604615801,
          -0.5741527118434024,
          -1.1152938765819431,
          -0.32064879042738254,
          -0.0028248826754078134,
          -1.0740947558270184,
          -1.145910377161432,
          -1.622254906735283,
          0.0849850233504138,
          0.48170159146795744,
          0.1577755528307472,
          -0.504127259110801,
          -0.42063541220074924,
          0.7892685553129059,
          0.5268042161431765,
          1.2662485409933102,
          1.2956511293072994,
          -1.9576037803587114,
          0.5811261923984811,
          1.8785462043575325,
          -0.08774836819701964,
          0.9936591690188294,
          0.20979789911097893,
          0.9783870564757947,
          -0.4828364341183934,
          0.7638656251918456,
          -0.10031401419564683,
          0.6256444425530976,
          1.474091024374885,
          -1.8210439918869357,
          -0.6306310693510034,
          -1.249298484344971,
          -1.999155382645612,
          0.46224949849096975,
          -0.34470294101095705,
          1.038300340305395,
          -0.884885731263254,
          -0.6201625925282921,
          0.5184519198587142,
          0.43543105924330205,
          -0.7227359721398886,
          -0.7755191591579904,
          -1.0755675808765595,
          0.8544324240378218,
          2.076530741297135,
          0.43393973919277723,
          -0.4690057057030747,
          1.6062580004266929,
          1.3388694692214416,
          0.3555205791346771,
          0.13372868023617268,
          -1.274558124113613,
          0.007648624125840822,
          -1.1725752578112267,
          -0.4476181800792881,
          1.025402172731115,
          -0.9778778830870949,
          -1.9127435863256657,
          0.7662278656128317,
          1.7013257856725703,
          1.227232519758253,
          -0.07606912837548144,
          0.5952707419086611,
          0.18385146042710004,
          -0.6123272648027931,
          -0.3200931051252156,
          0.6388727081193947,
          0.5438565635317469,
          0.4985924271650018,
          1.582456123753077,
          0.00900868556309942,
          -0.3661353184511324,
          -0.5282883669256038,
          0.1620926442176821,
          1.5666749409075835,
          0.3472465771172096,
          0.2287517566522857,
          0.8253230381114772,
          -1.3204961957638008,
          1.2104316254647076,
          -0.8837493643965285,
          1.5207769567087257,
          -1.8632609220655565,
          0.3257742103009992,
          0.6961644380276888
         ]
        }
       ],
       "layout": {
        "legend": {
         "bgcolor": "#F5F6F9",
         "font": {
          "color": "#4D5663"
         }
        },
        "paper_bgcolor": "#F5F6F9",
        "plot_bgcolor": "#F5F6F9",
        "template": {
         "data": {
          "bar": [
           {
            "error_x": {
             "color": "#2a3f5f"
            },
            "error_y": {
             "color": "#2a3f5f"
            },
            "marker": {
             "line": {
              "color": "#E5ECF6",
              "width": 0.5
             }
            },
            "type": "bar"
           }
          ],
          "barpolar": [
           {
            "marker": {
             "line": {
              "color": "#E5ECF6",
              "width": 0.5
             }
            },
            "type": "barpolar"
           }
          ],
          "carpet": [
           {
            "aaxis": {
             "endlinecolor": "#2a3f5f",
             "gridcolor": "white",
             "linecolor": "white",
             "minorgridcolor": "white",
             "startlinecolor": "#2a3f5f"
            },
            "baxis": {
             "endlinecolor": "#2a3f5f",
             "gridcolor": "white",
             "linecolor": "white",
             "minorgridcolor": "white",
             "startlinecolor": "#2a3f5f"
            },
            "type": "carpet"
           }
          ],
          "choropleth": [
           {
            "colorbar": {
             "outlinewidth": 0,
             "ticks": ""
            },
            "type": "choropleth"
           }
          ],
          "contour": [
           {
            "colorbar": {
             "outlinewidth": 0,
             "ticks": ""
            },
            "colorscale": [
             [
              0,
              "#0d0887"
             ],
             [
              0.1111111111111111,
              "#46039f"
             ],
             [
              0.2222222222222222,
              "#7201a8"
             ],
             [
              0.3333333333333333,
              "#9c179e"
             ],
             [
              0.4444444444444444,
              "#bd3786"
             ],
             [
              0.5555555555555556,
              "#d8576b"
             ],
             [
              0.6666666666666666,
              "#ed7953"
             ],
             [
              0.7777777777777778,
              "#fb9f3a"
             ],
             [
              0.8888888888888888,
              "#fdca26"
             ],
             [
              1,
              "#f0f921"
             ]
            ],
            "type": "contour"
           }
          ],
          "contourcarpet": [
           {
            "colorbar": {
             "outlinewidth": 0,
             "ticks": ""
            },
            "type": "contourcarpet"
           }
          ],
          "heatmap": [
           {
            "colorbar": {
             "outlinewidth": 0,
             "ticks": ""
            },
            "colorscale": [
             [
              0,
              "#0d0887"
             ],
             [
              0.1111111111111111,
              "#46039f"
             ],
             [
              0.2222222222222222,
              "#7201a8"
             ],
             [
              0.3333333333333333,
              "#9c179e"
             ],
             [
              0.4444444444444444,
              "#bd3786"
             ],
             [
              0.5555555555555556,
              "#d8576b"
             ],
             [
              0.6666666666666666,
              "#ed7953"
             ],
             [
              0.7777777777777778,
              "#fb9f3a"
             ],
             [
              0.8888888888888888,
              "#fdca26"
             ],
             [
              1,
              "#f0f921"
             ]
            ],
            "type": "heatmap"
           }
          ],
          "heatmapgl": [
           {
            "colorbar": {
             "outlinewidth": 0,
             "ticks": ""
            },
            "colorscale": [
             [
              0,
              "#0d0887"
             ],
             [
              0.1111111111111111,
              "#46039f"
             ],
             [
              0.2222222222222222,
              "#7201a8"
             ],
             [
              0.3333333333333333,
              "#9c179e"
             ],
             [
              0.4444444444444444,
              "#bd3786"
             ],
             [
              0.5555555555555556,
              "#d8576b"
             ],
             [
              0.6666666666666666,
              "#ed7953"
             ],
             [
              0.7777777777777778,
              "#fb9f3a"
             ],
             [
              0.8888888888888888,
              "#fdca26"
             ],
             [
              1,
              "#f0f921"
             ]
            ],
            "type": "heatmapgl"
           }
          ],
          "histogram": [
           {
            "marker": {
             "colorbar": {
              "outlinewidth": 0,
              "ticks": ""
             }
            },
            "type": "histogram"
           }
          ],
          "histogram2d": [
           {
            "colorbar": {
             "outlinewidth": 0,
             "ticks": ""
            },
            "colorscale": [
             [
              0,
              "#0d0887"
             ],
             [
              0.1111111111111111,
              "#46039f"
             ],
             [
              0.2222222222222222,
              "#7201a8"
             ],
             [
              0.3333333333333333,
              "#9c179e"
             ],
             [
              0.4444444444444444,
              "#bd3786"
             ],
             [
              0.5555555555555556,
              "#d8576b"
             ],
             [
              0.6666666666666666,
              "#ed7953"
             ],
             [
              0.7777777777777778,
              "#fb9f3a"
             ],
             [
              0.8888888888888888,
              "#fdca26"
             ],
             [
              1,
              "#f0f921"
             ]
            ],
            "type": "histogram2d"
           }
          ],
          "histogram2dcontour": [
           {
            "colorbar": {
             "outlinewidth": 0,
             "ticks": ""
            },
            "colorscale": [
             [
              0,
              "#0d0887"
             ],
             [
              0.1111111111111111,
              "#46039f"
             ],
             [
              0.2222222222222222,
              "#7201a8"
             ],
             [
              0.3333333333333333,
              "#9c179e"
             ],
             [
              0.4444444444444444,
              "#bd3786"
             ],
             [
              0.5555555555555556,
              "#d8576b"
             ],
             [
              0.6666666666666666,
              "#ed7953"
             ],
             [
              0.7777777777777778,
              "#fb9f3a"
             ],
             [
              0.8888888888888888,
              "#fdca26"
             ],
             [
              1,
              "#f0f921"
             ]
            ],
            "type": "histogram2dcontour"
           }
          ],
          "mesh3d": [
           {
            "colorbar": {
             "outlinewidth": 0,
             "ticks": ""
            },
            "type": "mesh3d"
           }
          ],
          "parcoords": [
           {
            "line": {
             "colorbar": {
              "outlinewidth": 0,
              "ticks": ""
             }
            },
            "type": "parcoords"
           }
          ],
          "pie": [
           {
            "automargin": true,
            "type": "pie"
           }
          ],
          "scatter": [
           {
            "marker": {
             "colorbar": {
              "outlinewidth": 0,
              "ticks": ""
             }
            },
            "type": "scatter"
           }
          ],
          "scatter3d": [
           {
            "line": {
             "colorbar": {
              "outlinewidth": 0,
              "ticks": ""
             }
            },
            "marker": {
             "colorbar": {
              "outlinewidth": 0,
              "ticks": ""
             }
            },
            "type": "scatter3d"
           }
          ],
          "scattercarpet": [
           {
            "marker": {
             "colorbar": {
              "outlinewidth": 0,
              "ticks": ""
             }
            },
            "type": "scattercarpet"
           }
          ],
          "scattergeo": [
           {
            "marker": {
             "colorbar": {
              "outlinewidth": 0,
              "ticks": ""
             }
            },
            "type": "scattergeo"
           }
          ],
          "scattergl": [
           {
            "marker": {
             "colorbar": {
              "outlinewidth": 0,
              "ticks": ""
             }
            },
            "type": "scattergl"
           }
          ],
          "scattermapbox": [
           {
            "marker": {
             "colorbar": {
              "outlinewidth": 0,
              "ticks": ""
             }
            },
            "type": "scattermapbox"
           }
          ],
          "scatterpolar": [
           {
            "marker": {
             "colorbar": {
              "outlinewidth": 0,
              "ticks": ""
             }
            },
            "type": "scatterpolar"
           }
          ],
          "scatterpolargl": [
           {
            "marker": {
             "colorbar": {
              "outlinewidth": 0,
              "ticks": ""
             }
            },
            "type": "scatterpolargl"
           }
          ],
          "scatterternary": [
           {
            "marker": {
             "colorbar": {
              "outlinewidth": 0,
              "ticks": ""
             }
            },
            "type": "scatterternary"
           }
          ],
          "surface": [
           {
            "colorbar": {
             "outlinewidth": 0,
             "ticks": ""
            },
            "colorscale": [
             [
              0,
              "#0d0887"
             ],
             [
              0.1111111111111111,
              "#46039f"
             ],
             [
              0.2222222222222222,
              "#7201a8"
             ],
             [
              0.3333333333333333,
              "#9c179e"
             ],
             [
              0.4444444444444444,
              "#bd3786"
             ],
             [
              0.5555555555555556,
              "#d8576b"
             ],
             [
              0.6666666666666666,
              "#ed7953"
             ],
             [
              0.7777777777777778,
              "#fb9f3a"
             ],
             [
              0.8888888888888888,
              "#fdca26"
             ],
             [
              1,
              "#f0f921"
             ]
            ],
            "type": "surface"
           }
          ],
          "table": [
           {
            "cells": {
             "fill": {
              "color": "#EBF0F8"
             },
             "line": {
              "color": "white"
             }
            },
            "header": {
             "fill": {
              "color": "#C8D4E3"
             },
             "line": {
              "color": "white"
             }
            },
            "type": "table"
           }
          ]
         },
         "layout": {
          "annotationdefaults": {
           "arrowcolor": "#2a3f5f",
           "arrowhead": 0,
           "arrowwidth": 1
          },
          "coloraxis": {
           "colorbar": {
            "outlinewidth": 0,
            "ticks": ""
           }
          },
          "colorscale": {
           "diverging": [
            [
             0,
             "#8e0152"
            ],
            [
             0.1,
             "#c51b7d"
            ],
            [
             0.2,
             "#de77ae"
            ],
            [
             0.3,
             "#f1b6da"
            ],
            [
             0.4,
             "#fde0ef"
            ],
            [
             0.5,
             "#f7f7f7"
            ],
            [
             0.6,
             "#e6f5d0"
            ],
            [
             0.7,
             "#b8e186"
            ],
            [
             0.8,
             "#7fbc41"
            ],
            [
             0.9,
             "#4d9221"
            ],
            [
             1,
             "#276419"
            ]
           ],
           "sequential": [
            [
             0,
             "#0d0887"
            ],
            [
             0.1111111111111111,
             "#46039f"
            ],
            [
             0.2222222222222222,
             "#7201a8"
            ],
            [
             0.3333333333333333,
             "#9c179e"
            ],
            [
             0.4444444444444444,
             "#bd3786"
            ],
            [
             0.5555555555555556,
             "#d8576b"
            ],
            [
             0.6666666666666666,
             "#ed7953"
            ],
            [
             0.7777777777777778,
             "#fb9f3a"
            ],
            [
             0.8888888888888888,
             "#fdca26"
            ],
            [
             1,
             "#f0f921"
            ]
           ],
           "sequentialminus": [
            [
             0,
             "#0d0887"
            ],
            [
             0.1111111111111111,
             "#46039f"
            ],
            [
             0.2222222222222222,
             "#7201a8"
            ],
            [
             0.3333333333333333,
             "#9c179e"
            ],
            [
             0.4444444444444444,
             "#bd3786"
            ],
            [
             0.5555555555555556,
             "#d8576b"
            ],
            [
             0.6666666666666666,
             "#ed7953"
            ],
            [
             0.7777777777777778,
             "#fb9f3a"
            ],
            [
             0.8888888888888888,
             "#fdca26"
            ],
            [
             1,
             "#f0f921"
            ]
           ]
          },
          "colorway": [
           "#636efa",
           "#EF553B",
           "#00cc96",
           "#ab63fa",
           "#FFA15A",
           "#19d3f3",
           "#FF6692",
           "#B6E880",
           "#FF97FF",
           "#FECB52"
          ],
          "font": {
           "color": "#2a3f5f"
          },
          "geo": {
           "bgcolor": "white",
           "lakecolor": "white",
           "landcolor": "#E5ECF6",
           "showlakes": true,
           "showland": true,
           "subunitcolor": "white"
          },
          "hoverlabel": {
           "align": "left"
          },
          "hovermode": "closest",
          "mapbox": {
           "style": "light"
          },
          "paper_bgcolor": "white",
          "plot_bgcolor": "#E5ECF6",
          "polar": {
           "angularaxis": {
            "gridcolor": "white",
            "linecolor": "white",
            "ticks": ""
           },
           "bgcolor": "#E5ECF6",
           "radialaxis": {
            "gridcolor": "white",
            "linecolor": "white",
            "ticks": ""
           }
          },
          "scene": {
           "xaxis": {
            "backgroundcolor": "#E5ECF6",
            "gridcolor": "white",
            "gridwidth": 2,
            "linecolor": "white",
            "showbackground": true,
            "ticks": "",
            "zerolinecolor": "white"
           },
           "yaxis": {
            "backgroundcolor": "#E5ECF6",
            "gridcolor": "white",
            "gridwidth": 2,
            "linecolor": "white",
            "showbackground": true,
            "ticks": "",
            "zerolinecolor": "white"
           },
           "zaxis": {
            "backgroundcolor": "#E5ECF6",
            "gridcolor": "white",
            "gridwidth": 2,
            "linecolor": "white",
            "showbackground": true,
            "ticks": "",
            "zerolinecolor": "white"
           }
          },
          "shapedefaults": {
           "line": {
            "color": "#2a3f5f"
           }
          },
          "ternary": {
           "aaxis": {
            "gridcolor": "white",
            "linecolor": "white",
            "ticks": ""
           },
           "baxis": {
            "gridcolor": "white",
            "linecolor": "white",
            "ticks": ""
           },
           "bgcolor": "#E5ECF6",
           "caxis": {
            "gridcolor": "white",
            "linecolor": "white",
            "ticks": ""
           }
          },
          "title": {
           "x": 0.05
          },
          "xaxis": {
           "automargin": true,
           "gridcolor": "white",
           "linecolor": "white",
           "ticks": "",
           "title": {
            "standoff": 15
           },
           "zerolinecolor": "white",
           "zerolinewidth": 2
          },
          "yaxis": {
           "automargin": true,
           "gridcolor": "white",
           "linecolor": "white",
           "ticks": "",
           "title": {
            "standoff": 15
           },
           "zerolinecolor": "white",
           "zerolinewidth": 2
          }
         }
        },
        "title": {
         "font": {
          "color": "#4D5663"
         }
        },
        "xaxis": {
         "gridcolor": "#E1E5ED",
         "showgrid": true,
         "tickfont": {
          "color": "#4D5663"
         },
         "title": {
          "font": {
           "color": "#4D5663"
          },
          "text": ""
         },
         "zerolinecolor": "#E1E5ED"
        },
        "yaxis": {
         "gridcolor": "#E1E5ED",
         "showgrid": true,
         "tickfont": {
          "color": "#4D5663"
         },
         "title": {
          "font": {
           "color": "#4D5663"
          },
          "text": ""
         },
         "zerolinecolor": "#E1E5ED"
        }
       }
      },
      "text/html": [
       "<div>\n",
       "        \n",
       "        \n",
       "            <div id=\"910e4ec7-1905-4cec-bcdc-5e9ae38da06b\" class=\"plotly-graph-div\" style=\"height:525px; width:100%;\"></div>\n",
       "            <script type=\"text/javascript\">\n",
       "                require([\"plotly\"], function(Plotly) {\n",
       "                    window.PLOTLYENV=window.PLOTLYENV || {};\n",
       "                    window.PLOTLYENV.BASE_URL='https://plot.ly';\n",
       "                    \n",
       "                if (document.getElementById(\"910e4ec7-1905-4cec-bcdc-5e9ae38da06b\")) {\n",
       "                    Plotly.newPlot(\n",
       "                        '910e4ec7-1905-4cec-bcdc-5e9ae38da06b',\n",
       "                        [{\"line\": {\"color\": \"rgba(255, 153, 51, 1.0)\", \"dash\": \"solid\", \"shape\": \"linear\", \"width\": 1.3}, \"mode\": \"lines\", \"name\": \"A\", \"text\": \"\", \"type\": \"scatter\", \"x\": [0, 1, 2, 3, 4, 5, 6, 7, 8, 9, 10, 11, 12, 13, 14, 15, 16, 17, 18, 19, 20, 21, 22, 23, 24, 25, 26, 27, 28, 29, 30, 31, 32, 33, 34, 35, 36, 37, 38, 39, 40, 41, 42, 43, 44, 45, 46, 47, 48, 49, 50, 51, 52, 53, 54, 55, 56, 57, 58, 59, 60, 61, 62, 63, 64, 65, 66, 67, 68, 69, 70, 71, 72, 73, 74, 75, 76, 77, 78, 79, 80, 81, 82, 83, 84, 85, 86, 87, 88, 89, 90, 91, 92, 93, 94, 95, 96, 97, 98, 99], \"y\": [-1.149882228543045, 1.5362385410467798, 0.3932379374579331, -2.059996463523254, 0.09562991677781363, -0.1844539287632311, 2.3418220729645576, -0.43975047658280936, 0.6288630050374875, -0.030326212811700944, -1.702156021656865, -1.517666528581438, 1.19528182618035, -0.9288515943816018, 0.2672440911504483, -0.4002975415796906, -1.2173180116996651, 0.9662247412467714, -1.9290761726699661, 1.249919408423394, -0.6783813256393709, -0.7888541279691633, -2.7701270507949274, -0.4570081697608714, -1.5754577270896186, 1.7040742114772185, -1.323623647403465, -1.0710918640009173, 0.2187213850037935, -0.07078716233479242, -1.303646959301516, 2.1897266317892035, 0.13093518856030348, -0.9903480467852114, 0.33671892236565953, -1.1556963538417262, -0.2773860242357469, 1.9377494811247495, 0.1423953006490988, 0.6731945716487792, -0.46541278669836533, -0.714379146180877, 1.0651922056412366, 0.3114333896682094, -0.29224469547465676, -0.6358918139816263, -0.06286318467275165, 0.07858067675403434, -0.02010629030746235, 0.9735632755624417, 0.3806941990300737, 0.9555634570784103, -0.38220496895255784, -0.22327324528616546, -1.8998284305790532, -0.24424740920339258, -0.02526692348391983, -0.1382620224959738, 1.395861014773399, -0.3604338840902675, 0.3563945466276664, -0.07645210423467486, 1.058060157864064, 0.03543017928138459, 0.32199934259140944, 0.7294917431182483, 0.16221584077406218, 0.44579793102551135, -0.06772507530824512, 0.39109205187050505, -0.7385195761252955, -1.2023650450948926, -1.3018179686182045, -0.7588769767804764, 0.8540615931350239, 0.7937811845169089, -0.11330210909059032, 0.9786046847077196, 0.1026403652012129, -0.6973082302186342, -0.7309060647842065, -0.3824059171264001, 0.5322395624685383, 0.5520881490592399, 0.7893147543534774, 0.9593248351973666, 0.08953894702720594, -0.10201225506825605, -0.112709501292115, -0.6104114734459825, 0.4274545255274656, 0.3232725058320922, 0.14213070118669957, -0.7675916048632497, -0.15544652729455274, -0.6522117023376075, 1.7648913777096549, -1.0343556208880231, 0.6291210941714808, -0.2714321671685072]}, {\"line\": {\"color\": \"rgba(55, 128, 191, 1.0)\", \"dash\": \"solid\", \"shape\": \"linear\", \"width\": 1.3}, \"mode\": \"lines\", \"name\": \"B\", \"text\": \"\", \"type\": \"scatter\", \"x\": [0, 1, 2, 3, 4, 5, 6, 7, 8, 9, 10, 11, 12, 13, 14, 15, 16, 17, 18, 19, 20, 21, 22, 23, 24, 25, 26, 27, 28, 29, 30, 31, 32, 33, 34, 35, 36, 37, 38, 39, 40, 41, 42, 43, 44, 45, 46, 47, 48, 49, 50, 51, 52, 53, 54, 55, 56, 57, 58, 59, 60, 61, 62, 63, 64, 65, 66, 67, 68, 69, 70, 71, 72, 73, 74, 75, 76, 77, 78, 79, 80, 81, 82, 83, 84, 85, 86, 87, 88, 89, 90, 91, 92, 93, 94, 95, 96, 97, 98, 99], \"y\": [-0.821596800402655, 0.5664394505597601, 0.5089641346070292, -0.2592635248813433, 1.1425648848092516, 0.1303293725182424, -0.7452599453081017, 0.6807839819422564, -0.03025028909446263, -0.7216948550717397, 0.012099971974348565, -1.9328018674909626, 0.2940669437690773, -0.6425845565868856, -1.274457701503331, -0.31820163749691893, -0.9201990535926323, -1.3082244088756303, 0.9672470890932595, 0.5604202824371384, -0.7169037558756315, 0.5214208294070508, 0.005276194451701883, 1.34131395639202, 0.862730069774194, 0.444210324881266, 0.7166122997543846, 0.5905621985926649, -0.6123356568653066, -0.526925454627251, 0.3566581207234709, -0.7958593703435825, 0.4820928557493119, 2.082313812263963, 1.2477493754732194, 0.4347371625321479, -0.5524659931146368, -0.8005632090645551, -0.49586200765958227, 0.7363425104966456, -0.5004712861884172, 1.0482761927570294, -0.6137346570027824, -0.03968309123000246, -0.3226370483232409, -0.9003242820526284, -0.4726691235269847, 1.468411024145207, -0.45566617797248504, 0.07953301178126826, 0.5357369360643719, -0.08765107497054818, -1.426308343534027, 0.819068484709911, 1.8086881553071021, 0.40025853155354885, -0.8893840863646113, 0.9387138657020594, 0.6986426191038498, 0.43740462673617786, 0.6644892611484586, 0.0311752431301281, -0.8240084892443692, 1.5178420616192276, 0.014463322301807217, -0.07506796365150185, 0.25267110665442416, 0.9536021445007004, -0.021310183431371237, -1.3114035432534275, 0.8592510660239445, -1.2507752033737798, 1.4246620884121426, 1.1027173115312447, 0.6118120227281758, -0.7975020166108695, -1.462540048851282, 0.6827294493991927, 0.5334301271174584, 0.7294526884023559, -0.04388537975766861, -0.789556783280647, 0.3392864194491249, 0.790166279806434, 1.0259494794903965, 0.27094021554193, 1.4829223336581099, -0.23293511983863718, 0.6859245229420942, 0.5874723324937035, 0.48557210628845787, -0.12662879963201118, 0.9212668798284969, -1.2223765090701693, -0.029869681236115303, -1.8045036109927406, -1.9155662026040001, -0.536847880512402, 0.34557732447025485, -0.3892917688322118]}, {\"line\": {\"color\": \"rgba(50, 171, 96, 1.0)\", \"dash\": \"solid\", \"shape\": \"linear\", \"width\": 1.3}, \"mode\": \"lines\", \"name\": \"C\", \"text\": \"\", \"type\": \"scatter\", \"x\": [0, 1, 2, 3, 4, 5, 6, 7, 8, 9, 10, 11, 12, 13, 14, 15, 16, 17, 18, 19, 20, 21, 22, 23, 24, 25, 26, 27, 28, 29, 30, 31, 32, 33, 34, 35, 36, 37, 38, 39, 40, 41, 42, 43, 44, 45, 46, 47, 48, 49, 50, 51, 52, 53, 54, 55, 56, 57, 58, 59, 60, 61, 62, 63, 64, 65, 66, 67, 68, 69, 70, 71, 72, 73, 74, 75, 76, 77, 78, 79, 80, 81, 82, 83, 84, 85, 86, 87, 88, 89, 90, 91, 92, 93, 94, 95, 96, 97, 98, 99], \"y\": [-0.05043432899368031, 0.6383985377849963, -0.5552104688070715, 0.8733894761659502, -0.27973637356455144, 0.3099198456823666, -0.88279025720947, 1.5867347920708614, -1.1682939504435819, -0.5398035790255533, 2.6047288884328945, -0.28450355075339073, -0.18411605199644634, -0.7087374298548398, 1.6390687626183504, -0.5433847348255266, -0.29102616128048525, 0.3867966969243918, -0.5738198681006161, -0.8467916453984707, 0.5297032633356104, 0.34987822330080387, 0.6945634517303589, 0.7468221924352632, 1.900151098890552, -0.621938312162858, -0.16362440785066615, 0.3584161327870031, 0.6084762558026675, -0.9318463866260959, -1.7149056880168532, -0.10128499226000447, 0.19637626627572874, 0.2969997402467644, -0.5831229998849408, -0.6053470808434863, -0.519200620192376, 1.132014562741578, 2.14583857085064, 1.1082670904027203, 0.9915436083465138, 0.35064782627575036, -0.8718624044359158, -0.7711209904670029, 1.8434894167073075, -0.881682946775223, 2.2198785443767775, -0.9020703454223811, -2.0310072709609477, 0.0859417760441214, -0.5497913464560333, -0.8896792267662379, 0.0501728664565584, -1.4144078755079297, -1.2547969891058721, 0.4244866684966232, 0.5746324117859202, 0.23125449383760513, 0.6734505472376046, 0.9481492334735947, -0.15602051696246882, -0.27681846353088535, 0.6879641900610127, -0.5650179988527602, -0.6727447321566563, 0.8055284608391798, -0.07814871647186178, 0.5983513117146525, 0.39409971719175724, 0.2652492847240678, -1.1594253536181287, 1.5322943352645402, 0.29524129053229714, -0.21092943984307086, 0.7241385453207122, -0.5075445506409986, -1.0399223896721543, -2.6981299945993604, 0.444443913026689, -0.2080299799409404, -0.48655055177461065, -0.24397033164856838, -0.1394653239772895, 0.8566379732556342, -0.40928402997218166, -0.8146622155618218, -0.12037812400398963, -0.0004340621273201351, 2.4020992968620263, 0.8084817681546183, 0.3342529934430462, 0.21356656246612182, -0.7660769594747029, -0.1688787331661423, -0.8175685865248625, 1.1337186472505991, -0.8818864274262241, -0.6262697386361157, -1.587580606392134, 1.3878120685001782]}, {\"line\": {\"color\": \"rgba(128, 0, 128, 1.0)\", \"dash\": \"solid\", \"shape\": \"linear\", \"width\": 1.3}, \"mode\": \"lines\", \"name\": \"D\", \"text\": \"\", \"type\": \"scatter\", \"x\": [0, 1, 2, 3, 4, 5, 6, 7, 8, 9, 10, 11, 12, 13, 14, 15, 16, 17, 18, 19, 20, 21, 22, 23, 24, 25, 26, 27, 28, 29, 30, 31, 32, 33, 34, 35, 36, 37, 38, 39, 40, 41, 42, 43, 44, 45, 46, 47, 48, 49, 50, 51, 52, 53, 54, 55, 56, 57, 58, 59, 60, 61, 62, 63, 64, 65, 66, 67, 68, 69, 70, 71, 72, 73, 74, 75, 76, 77, 78, 79, 80, 81, 82, 83, 84, 85, 86, 87, 88, 89, 90, 91, 92, 93, 94, 95, 96, 97, 98, 99], \"y\": [0.5453066085348863, 0.6297272301796784, -0.9401461784548403, -0.9847733132602441, 1.509088854044453, -1.7000718360475824, -1.2225246766948081, 1.3568654711368602, 0.22949621448467727, 2.1801712492246623, 0.5837170028026545, 0.24891769712044948, 0.10317662432857874, -1.4088141062786053, 3.114453696537187, 0.5834183604615801, -0.5741527118434024, -1.1152938765819431, -0.32064879042738254, -0.0028248826754078134, -1.0740947558270184, -1.145910377161432, -1.622254906735283, 0.0849850233504138, 0.48170159146795744, 0.1577755528307472, -0.504127259110801, -0.42063541220074924, 0.7892685553129059, 0.5268042161431765, 1.2662485409933102, 1.2956511293072994, -1.9576037803587114, 0.5811261923984811, 1.8785462043575325, -0.08774836819701964, 0.9936591690188294, 0.20979789911097893, 0.9783870564757947, -0.4828364341183934, 0.7638656251918456, -0.10031401419564683, 0.6256444425530976, 1.474091024374885, -1.8210439918869357, -0.6306310693510034, -1.249298484344971, -1.999155382645612, 0.46224949849096975, -0.34470294101095705, 1.038300340305395, -0.884885731263254, -0.6201625925282921, 0.5184519198587142, 0.43543105924330205, -0.7227359721398886, -0.7755191591579904, -1.0755675808765595, 0.8544324240378218, 2.076530741297135, 0.43393973919277723, -0.4690057057030747, 1.6062580004266929, 1.3388694692214416, 0.3555205791346771, 0.13372868023617268, -1.274558124113613, 0.007648624125840822, -1.1725752578112267, -0.4476181800792881, 1.025402172731115, -0.9778778830870949, -1.9127435863256657, 0.7662278656128317, 1.7013257856725703, 1.227232519758253, -0.07606912837548144, 0.5952707419086611, 0.18385146042710004, -0.6123272648027931, -0.3200931051252156, 0.6388727081193947, 0.5438565635317469, 0.4985924271650018, 1.582456123753077, 0.00900868556309942, -0.3661353184511324, -0.5282883669256038, 0.1620926442176821, 1.5666749409075835, 0.3472465771172096, 0.2287517566522857, 0.8253230381114772, -1.3204961957638008, 1.2104316254647076, -0.8837493643965285, 1.5207769567087257, -1.8632609220655565, 0.3257742103009992, 0.6961644380276888]}],\n",
       "                        {\"legend\": {\"bgcolor\": \"#F5F6F9\", \"font\": {\"color\": \"#4D5663\"}}, \"paper_bgcolor\": \"#F5F6F9\", \"plot_bgcolor\": \"#F5F6F9\", \"template\": {\"data\": {\"bar\": [{\"error_x\": {\"color\": \"#2a3f5f\"}, \"error_y\": {\"color\": \"#2a3f5f\"}, \"marker\": {\"line\": {\"color\": \"#E5ECF6\", \"width\": 0.5}}, \"type\": \"bar\"}], \"barpolar\": [{\"marker\": {\"line\": {\"color\": \"#E5ECF6\", \"width\": 0.5}}, \"type\": \"barpolar\"}], \"carpet\": [{\"aaxis\": {\"endlinecolor\": \"#2a3f5f\", \"gridcolor\": \"white\", \"linecolor\": \"white\", \"minorgridcolor\": \"white\", \"startlinecolor\": \"#2a3f5f\"}, \"baxis\": {\"endlinecolor\": \"#2a3f5f\", \"gridcolor\": \"white\", \"linecolor\": \"white\", \"minorgridcolor\": \"white\", \"startlinecolor\": \"#2a3f5f\"}, \"type\": \"carpet\"}], \"choropleth\": [{\"colorbar\": {\"outlinewidth\": 0, \"ticks\": \"\"}, \"type\": \"choropleth\"}], \"contour\": [{\"colorbar\": {\"outlinewidth\": 0, \"ticks\": \"\"}, \"colorscale\": [[0.0, \"#0d0887\"], [0.1111111111111111, \"#46039f\"], [0.2222222222222222, \"#7201a8\"], [0.3333333333333333, \"#9c179e\"], [0.4444444444444444, \"#bd3786\"], [0.5555555555555556, \"#d8576b\"], [0.6666666666666666, \"#ed7953\"], [0.7777777777777778, \"#fb9f3a\"], [0.8888888888888888, \"#fdca26\"], [1.0, \"#f0f921\"]], \"type\": \"contour\"}], \"contourcarpet\": [{\"colorbar\": {\"outlinewidth\": 0, \"ticks\": \"\"}, \"type\": \"contourcarpet\"}], \"heatmap\": [{\"colorbar\": {\"outlinewidth\": 0, \"ticks\": \"\"}, \"colorscale\": [[0.0, \"#0d0887\"], [0.1111111111111111, \"#46039f\"], [0.2222222222222222, \"#7201a8\"], [0.3333333333333333, \"#9c179e\"], [0.4444444444444444, \"#bd3786\"], [0.5555555555555556, \"#d8576b\"], [0.6666666666666666, \"#ed7953\"], [0.7777777777777778, \"#fb9f3a\"], [0.8888888888888888, \"#fdca26\"], [1.0, \"#f0f921\"]], \"type\": \"heatmap\"}], \"heatmapgl\": [{\"colorbar\": {\"outlinewidth\": 0, \"ticks\": \"\"}, \"colorscale\": [[0.0, \"#0d0887\"], [0.1111111111111111, \"#46039f\"], [0.2222222222222222, \"#7201a8\"], [0.3333333333333333, \"#9c179e\"], [0.4444444444444444, \"#bd3786\"], [0.5555555555555556, \"#d8576b\"], [0.6666666666666666, \"#ed7953\"], [0.7777777777777778, \"#fb9f3a\"], [0.8888888888888888, \"#fdca26\"], [1.0, \"#f0f921\"]], \"type\": \"heatmapgl\"}], \"histogram\": [{\"marker\": {\"colorbar\": {\"outlinewidth\": 0, \"ticks\": \"\"}}, \"type\": \"histogram\"}], \"histogram2d\": [{\"colorbar\": {\"outlinewidth\": 0, \"ticks\": \"\"}, \"colorscale\": [[0.0, \"#0d0887\"], [0.1111111111111111, \"#46039f\"], [0.2222222222222222, \"#7201a8\"], [0.3333333333333333, \"#9c179e\"], [0.4444444444444444, \"#bd3786\"], [0.5555555555555556, \"#d8576b\"], [0.6666666666666666, \"#ed7953\"], [0.7777777777777778, \"#fb9f3a\"], [0.8888888888888888, \"#fdca26\"], [1.0, \"#f0f921\"]], \"type\": \"histogram2d\"}], \"histogram2dcontour\": [{\"colorbar\": {\"outlinewidth\": 0, \"ticks\": \"\"}, \"colorscale\": [[0.0, \"#0d0887\"], [0.1111111111111111, \"#46039f\"], [0.2222222222222222, \"#7201a8\"], [0.3333333333333333, \"#9c179e\"], [0.4444444444444444, \"#bd3786\"], [0.5555555555555556, \"#d8576b\"], [0.6666666666666666, \"#ed7953\"], [0.7777777777777778, \"#fb9f3a\"], [0.8888888888888888, \"#fdca26\"], [1.0, \"#f0f921\"]], \"type\": \"histogram2dcontour\"}], \"mesh3d\": [{\"colorbar\": {\"outlinewidth\": 0, \"ticks\": \"\"}, \"type\": \"mesh3d\"}], \"parcoords\": [{\"line\": {\"colorbar\": {\"outlinewidth\": 0, \"ticks\": \"\"}}, \"type\": \"parcoords\"}], \"pie\": [{\"automargin\": true, \"type\": \"pie\"}], \"scatter\": [{\"marker\": {\"colorbar\": {\"outlinewidth\": 0, \"ticks\": \"\"}}, \"type\": \"scatter\"}], \"scatter3d\": [{\"line\": {\"colorbar\": {\"outlinewidth\": 0, \"ticks\": \"\"}}, \"marker\": {\"colorbar\": {\"outlinewidth\": 0, \"ticks\": \"\"}}, \"type\": \"scatter3d\"}], \"scattercarpet\": [{\"marker\": {\"colorbar\": {\"outlinewidth\": 0, \"ticks\": \"\"}}, \"type\": \"scattercarpet\"}], \"scattergeo\": [{\"marker\": {\"colorbar\": {\"outlinewidth\": 0, \"ticks\": \"\"}}, \"type\": \"scattergeo\"}], \"scattergl\": [{\"marker\": {\"colorbar\": {\"outlinewidth\": 0, \"ticks\": \"\"}}, \"type\": \"scattergl\"}], \"scattermapbox\": [{\"marker\": {\"colorbar\": {\"outlinewidth\": 0, \"ticks\": \"\"}}, \"type\": \"scattermapbox\"}], \"scatterpolar\": [{\"marker\": {\"colorbar\": {\"outlinewidth\": 0, \"ticks\": \"\"}}, \"type\": \"scatterpolar\"}], \"scatterpolargl\": [{\"marker\": {\"colorbar\": {\"outlinewidth\": 0, \"ticks\": \"\"}}, \"type\": \"scatterpolargl\"}], \"scatterternary\": [{\"marker\": {\"colorbar\": {\"outlinewidth\": 0, \"ticks\": \"\"}}, \"type\": \"scatterternary\"}], \"surface\": [{\"colorbar\": {\"outlinewidth\": 0, \"ticks\": \"\"}, \"colorscale\": [[0.0, \"#0d0887\"], [0.1111111111111111, \"#46039f\"], [0.2222222222222222, \"#7201a8\"], [0.3333333333333333, \"#9c179e\"], [0.4444444444444444, \"#bd3786\"], [0.5555555555555556, \"#d8576b\"], [0.6666666666666666, \"#ed7953\"], [0.7777777777777778, \"#fb9f3a\"], [0.8888888888888888, \"#fdca26\"], [1.0, \"#f0f921\"]], \"type\": \"surface\"}], \"table\": [{\"cells\": {\"fill\": {\"color\": \"#EBF0F8\"}, \"line\": {\"color\": \"white\"}}, \"header\": {\"fill\": {\"color\": \"#C8D4E3\"}, \"line\": {\"color\": \"white\"}}, \"type\": \"table\"}]}, \"layout\": {\"annotationdefaults\": {\"arrowcolor\": \"#2a3f5f\", \"arrowhead\": 0, \"arrowwidth\": 1}, \"coloraxis\": {\"colorbar\": {\"outlinewidth\": 0, \"ticks\": \"\"}}, \"colorscale\": {\"diverging\": [[0, \"#8e0152\"], [0.1, \"#c51b7d\"], [0.2, \"#de77ae\"], [0.3, \"#f1b6da\"], [0.4, \"#fde0ef\"], [0.5, \"#f7f7f7\"], [0.6, \"#e6f5d0\"], [0.7, \"#b8e186\"], [0.8, \"#7fbc41\"], [0.9, \"#4d9221\"], [1, \"#276419\"]], \"sequential\": [[0.0, \"#0d0887\"], [0.1111111111111111, \"#46039f\"], [0.2222222222222222, \"#7201a8\"], [0.3333333333333333, \"#9c179e\"], [0.4444444444444444, \"#bd3786\"], [0.5555555555555556, \"#d8576b\"], [0.6666666666666666, \"#ed7953\"], [0.7777777777777778, \"#fb9f3a\"], [0.8888888888888888, \"#fdca26\"], [1.0, \"#f0f921\"]], \"sequentialminus\": [[0.0, \"#0d0887\"], [0.1111111111111111, \"#46039f\"], [0.2222222222222222, \"#7201a8\"], [0.3333333333333333, \"#9c179e\"], [0.4444444444444444, \"#bd3786\"], [0.5555555555555556, \"#d8576b\"], [0.6666666666666666, \"#ed7953\"], [0.7777777777777778, \"#fb9f3a\"], [0.8888888888888888, \"#fdca26\"], [1.0, \"#f0f921\"]]}, \"colorway\": [\"#636efa\", \"#EF553B\", \"#00cc96\", \"#ab63fa\", \"#FFA15A\", \"#19d3f3\", \"#FF6692\", \"#B6E880\", \"#FF97FF\", \"#FECB52\"], \"font\": {\"color\": \"#2a3f5f\"}, \"geo\": {\"bgcolor\": \"white\", \"lakecolor\": \"white\", \"landcolor\": \"#E5ECF6\", \"showlakes\": true, \"showland\": true, \"subunitcolor\": \"white\"}, \"hoverlabel\": {\"align\": \"left\"}, \"hovermode\": \"closest\", \"mapbox\": {\"style\": \"light\"}, \"paper_bgcolor\": \"white\", \"plot_bgcolor\": \"#E5ECF6\", \"polar\": {\"angularaxis\": {\"gridcolor\": \"white\", \"linecolor\": \"white\", \"ticks\": \"\"}, \"bgcolor\": \"#E5ECF6\", \"radialaxis\": {\"gridcolor\": \"white\", \"linecolor\": \"white\", \"ticks\": \"\"}}, \"scene\": {\"xaxis\": {\"backgroundcolor\": \"#E5ECF6\", \"gridcolor\": \"white\", \"gridwidth\": 2, \"linecolor\": \"white\", \"showbackground\": true, \"ticks\": \"\", \"zerolinecolor\": \"white\"}, \"yaxis\": {\"backgroundcolor\": \"#E5ECF6\", \"gridcolor\": \"white\", \"gridwidth\": 2, \"linecolor\": \"white\", \"showbackground\": true, \"ticks\": \"\", \"zerolinecolor\": \"white\"}, \"zaxis\": {\"backgroundcolor\": \"#E5ECF6\", \"gridcolor\": \"white\", \"gridwidth\": 2, \"linecolor\": \"white\", \"showbackground\": true, \"ticks\": \"\", \"zerolinecolor\": \"white\"}}, \"shapedefaults\": {\"line\": {\"color\": \"#2a3f5f\"}}, \"ternary\": {\"aaxis\": {\"gridcolor\": \"white\", \"linecolor\": \"white\", \"ticks\": \"\"}, \"baxis\": {\"gridcolor\": \"white\", \"linecolor\": \"white\", \"ticks\": \"\"}, \"bgcolor\": \"#E5ECF6\", \"caxis\": {\"gridcolor\": \"white\", \"linecolor\": \"white\", \"ticks\": \"\"}}, \"title\": {\"x\": 0.05}, \"xaxis\": {\"automargin\": true, \"gridcolor\": \"white\", \"linecolor\": \"white\", \"ticks\": \"\", \"title\": {\"standoff\": 15}, \"zerolinecolor\": \"white\", \"zerolinewidth\": 2}, \"yaxis\": {\"automargin\": true, \"gridcolor\": \"white\", \"linecolor\": \"white\", \"ticks\": \"\", \"title\": {\"standoff\": 15}, \"zerolinecolor\": \"white\", \"zerolinewidth\": 2}}}, \"title\": {\"font\": {\"color\": \"#4D5663\"}}, \"xaxis\": {\"gridcolor\": \"#E1E5ED\", \"showgrid\": true, \"tickfont\": {\"color\": \"#4D5663\"}, \"title\": {\"font\": {\"color\": \"#4D5663\"}, \"text\": \"\"}, \"zerolinecolor\": \"#E1E5ED\"}, \"yaxis\": {\"gridcolor\": \"#E1E5ED\", \"showgrid\": true, \"tickfont\": {\"color\": \"#4D5663\"}, \"title\": {\"font\": {\"color\": \"#4D5663\"}, \"text\": \"\"}, \"zerolinecolor\": \"#E1E5ED\"}},\n",
       "                        {\"showLink\": true, \"linkText\": \"Export to plot.ly\", \"plotlyServerURL\": \"https://plot.ly\", \"responsive\": true}\n",
       "                    ).then(function(){\n",
       "                            \n",
       "var gd = document.getElementById('910e4ec7-1905-4cec-bcdc-5e9ae38da06b');\n",
       "var x = new MutationObserver(function (mutations, observer) {{\n",
       "        var display = window.getComputedStyle(gd).display;\n",
       "        if (!display || display === 'none') {{\n",
       "            console.log([gd, 'removed!']);\n",
       "            Plotly.purge(gd);\n",
       "            observer.disconnect();\n",
       "        }}\n",
       "}});\n",
       "\n",
       "// Listen for the removal of the full notebook cells\n",
       "var notebookContainer = gd.closest('#notebook-container');\n",
       "if (notebookContainer) {{\n",
       "    x.observe(notebookContainer, {childList: true});\n",
       "}}\n",
       "\n",
       "// Listen for the clearing of the current output cell\n",
       "var outputEl = gd.closest('.output');\n",
       "if (outputEl) {{\n",
       "    x.observe(outputEl, {childList: true});\n",
       "}}\n",
       "\n",
       "                        })\n",
       "                };\n",
       "                });\n",
       "            </script>\n",
       "        </div>"
      ]
     },
     "metadata": {},
     "output_type": "display_data"
    }
   ],
   "source": [
    "df.iplot() #plotly interactive plot"
   ]
  },
  {
   "cell_type": "code",
   "execution_count": null,
   "metadata": {},
   "outputs": [],
   "source": []
  },
  {
   "cell_type": "markdown",
   "metadata": {},
   "source": [
    "## Using Cufflinks and iplot()\n",
    "\n",
    "* scatter\n",
    "* bar\n",
    "* box\n",
    "* spread\n",
    "* ratio\n",
    "* heatmap\n",
    "* surface\n",
    "* histogram\n",
    "* bubble"
   ]
  },
  {
   "cell_type": "code",
   "execution_count": null,
   "metadata": {},
   "outputs": [],
   "source": []
  },
  {
   "cell_type": "markdown",
   "metadata": {},
   "source": [
    "## Scatter"
   ]
  },
  {
   "cell_type": "code",
   "execution_count": 18,
   "metadata": {},
   "outputs": [
    {
     "data": {
      "application/vnd.plotly.v1+json": {
       "config": {
        "linkText": "Export to plot.ly",
        "plotlyServerURL": "https://plot.ly",
        "showLink": true
       },
       "data": [
        {
         "line": {
          "color": "rgba(255, 153, 51, 1.0)",
          "dash": "solid",
          "shape": "linear",
          "width": 1.3
         },
         "marker": {
          "size": 10,
          "symbol": "circle"
         },
         "mode": "markers",
         "name": "B",
         "text": "",
         "type": "scatter",
         "x": [
          -1.149882228543045,
          1.5362385410467798,
          0.3932379374579331,
          -2.059996463523254,
          0.09562991677781363,
          -0.1844539287632311,
          2.3418220729645576,
          -0.43975047658280936,
          0.6288630050374875,
          -0.030326212811700944,
          -1.702156021656865,
          -1.517666528581438,
          1.19528182618035,
          -0.9288515943816018,
          0.2672440911504483,
          -0.4002975415796906,
          -1.2173180116996651,
          0.9662247412467714,
          -1.9290761726699661,
          1.249919408423394,
          -0.6783813256393709,
          -0.7888541279691633,
          -2.7701270507949274,
          -0.4570081697608714,
          -1.5754577270896186,
          1.7040742114772185,
          -1.323623647403465,
          -1.0710918640009173,
          0.2187213850037935,
          -0.07078716233479242,
          -1.303646959301516,
          2.1897266317892035,
          0.13093518856030348,
          -0.9903480467852114,
          0.33671892236565953,
          -1.1556963538417262,
          -0.2773860242357469,
          1.9377494811247495,
          0.1423953006490988,
          0.6731945716487792,
          -0.46541278669836533,
          -0.714379146180877,
          1.0651922056412366,
          0.3114333896682094,
          -0.29224469547465676,
          -0.6358918139816263,
          -0.06286318467275165,
          0.07858067675403434,
          -0.02010629030746235,
          0.9735632755624417,
          0.3806941990300737,
          0.9555634570784103,
          -0.38220496895255784,
          -0.22327324528616546,
          -1.8998284305790532,
          -0.24424740920339258,
          -0.02526692348391983,
          -0.1382620224959738,
          1.395861014773399,
          -0.3604338840902675,
          0.3563945466276664,
          -0.07645210423467486,
          1.058060157864064,
          0.03543017928138459,
          0.32199934259140944,
          0.7294917431182483,
          0.16221584077406218,
          0.44579793102551135,
          -0.06772507530824512,
          0.39109205187050505,
          -0.7385195761252955,
          -1.2023650450948926,
          -1.3018179686182045,
          -0.7588769767804764,
          0.8540615931350239,
          0.7937811845169089,
          -0.11330210909059032,
          0.9786046847077196,
          0.1026403652012129,
          -0.6973082302186342,
          -0.7309060647842065,
          -0.3824059171264001,
          0.5322395624685383,
          0.5520881490592399,
          0.7893147543534774,
          0.9593248351973666,
          0.08953894702720594,
          -0.10201225506825605,
          -0.112709501292115,
          -0.6104114734459825,
          0.4274545255274656,
          0.3232725058320922,
          0.14213070118669957,
          -0.7675916048632497,
          -0.15544652729455274,
          -0.6522117023376075,
          1.7648913777096549,
          -1.0343556208880231,
          0.6291210941714808,
          -0.2714321671685072
         ],
         "y": [
          -0.821596800402655,
          0.5664394505597601,
          0.5089641346070292,
          -0.2592635248813433,
          1.1425648848092516,
          0.1303293725182424,
          -0.7452599453081017,
          0.6807839819422564,
          -0.03025028909446263,
          -0.7216948550717397,
          0.012099971974348565,
          -1.9328018674909626,
          0.2940669437690773,
          -0.6425845565868856,
          -1.274457701503331,
          -0.31820163749691893,
          -0.9201990535926323,
          -1.3082244088756303,
          0.9672470890932595,
          0.5604202824371384,
          -0.7169037558756315,
          0.5214208294070508,
          0.005276194451701883,
          1.34131395639202,
          0.862730069774194,
          0.444210324881266,
          0.7166122997543846,
          0.5905621985926649,
          -0.6123356568653066,
          -0.526925454627251,
          0.3566581207234709,
          -0.7958593703435825,
          0.4820928557493119,
          2.082313812263963,
          1.2477493754732194,
          0.4347371625321479,
          -0.5524659931146368,
          -0.8005632090645551,
          -0.49586200765958227,
          0.7363425104966456,
          -0.5004712861884172,
          1.0482761927570294,
          -0.6137346570027824,
          -0.03968309123000246,
          -0.3226370483232409,
          -0.9003242820526284,
          -0.4726691235269847,
          1.468411024145207,
          -0.45566617797248504,
          0.07953301178126826,
          0.5357369360643719,
          -0.08765107497054818,
          -1.426308343534027,
          0.819068484709911,
          1.8086881553071021,
          0.40025853155354885,
          -0.8893840863646113,
          0.9387138657020594,
          0.6986426191038498,
          0.43740462673617786,
          0.6644892611484586,
          0.0311752431301281,
          -0.8240084892443692,
          1.5178420616192276,
          0.014463322301807217,
          -0.07506796365150185,
          0.25267110665442416,
          0.9536021445007004,
          -0.021310183431371237,
          -1.3114035432534275,
          0.8592510660239445,
          -1.2507752033737798,
          1.4246620884121426,
          1.1027173115312447,
          0.6118120227281758,
          -0.7975020166108695,
          -1.462540048851282,
          0.6827294493991927,
          0.5334301271174584,
          0.7294526884023559,
          -0.04388537975766861,
          -0.789556783280647,
          0.3392864194491249,
          0.790166279806434,
          1.0259494794903965,
          0.27094021554193,
          1.4829223336581099,
          -0.23293511983863718,
          0.6859245229420942,
          0.5874723324937035,
          0.48557210628845787,
          -0.12662879963201118,
          0.9212668798284969,
          -1.2223765090701693,
          -0.029869681236115303,
          -1.8045036109927406,
          -1.9155662026040001,
          -0.536847880512402,
          0.34557732447025485,
          -0.3892917688322118
         ]
        }
       ],
       "layout": {
        "legend": {
         "bgcolor": "#F5F6F9",
         "font": {
          "color": "#4D5663"
         }
        },
        "paper_bgcolor": "#F5F6F9",
        "plot_bgcolor": "#F5F6F9",
        "template": {
         "data": {
          "bar": [
           {
            "error_x": {
             "color": "#2a3f5f"
            },
            "error_y": {
             "color": "#2a3f5f"
            },
            "marker": {
             "line": {
              "color": "#E5ECF6",
              "width": 0.5
             }
            },
            "type": "bar"
           }
          ],
          "barpolar": [
           {
            "marker": {
             "line": {
              "color": "#E5ECF6",
              "width": 0.5
             }
            },
            "type": "barpolar"
           }
          ],
          "carpet": [
           {
            "aaxis": {
             "endlinecolor": "#2a3f5f",
             "gridcolor": "white",
             "linecolor": "white",
             "minorgridcolor": "white",
             "startlinecolor": "#2a3f5f"
            },
            "baxis": {
             "endlinecolor": "#2a3f5f",
             "gridcolor": "white",
             "linecolor": "white",
             "minorgridcolor": "white",
             "startlinecolor": "#2a3f5f"
            },
            "type": "carpet"
           }
          ],
          "choropleth": [
           {
            "colorbar": {
             "outlinewidth": 0,
             "ticks": ""
            },
            "type": "choropleth"
           }
          ],
          "contour": [
           {
            "colorbar": {
             "outlinewidth": 0,
             "ticks": ""
            },
            "colorscale": [
             [
              0,
              "#0d0887"
             ],
             [
              0.1111111111111111,
              "#46039f"
             ],
             [
              0.2222222222222222,
              "#7201a8"
             ],
             [
              0.3333333333333333,
              "#9c179e"
             ],
             [
              0.4444444444444444,
              "#bd3786"
             ],
             [
              0.5555555555555556,
              "#d8576b"
             ],
             [
              0.6666666666666666,
              "#ed7953"
             ],
             [
              0.7777777777777778,
              "#fb9f3a"
             ],
             [
              0.8888888888888888,
              "#fdca26"
             ],
             [
              1,
              "#f0f921"
             ]
            ],
            "type": "contour"
           }
          ],
          "contourcarpet": [
           {
            "colorbar": {
             "outlinewidth": 0,
             "ticks": ""
            },
            "type": "contourcarpet"
           }
          ],
          "heatmap": [
           {
            "colorbar": {
             "outlinewidth": 0,
             "ticks": ""
            },
            "colorscale": [
             [
              0,
              "#0d0887"
             ],
             [
              0.1111111111111111,
              "#46039f"
             ],
             [
              0.2222222222222222,
              "#7201a8"
             ],
             [
              0.3333333333333333,
              "#9c179e"
             ],
             [
              0.4444444444444444,
              "#bd3786"
             ],
             [
              0.5555555555555556,
              "#d8576b"
             ],
             [
              0.6666666666666666,
              "#ed7953"
             ],
             [
              0.7777777777777778,
              "#fb9f3a"
             ],
             [
              0.8888888888888888,
              "#fdca26"
             ],
             [
              1,
              "#f0f921"
             ]
            ],
            "type": "heatmap"
           }
          ],
          "heatmapgl": [
           {
            "colorbar": {
             "outlinewidth": 0,
             "ticks": ""
            },
            "colorscale": [
             [
              0,
              "#0d0887"
             ],
             [
              0.1111111111111111,
              "#46039f"
             ],
             [
              0.2222222222222222,
              "#7201a8"
             ],
             [
              0.3333333333333333,
              "#9c179e"
             ],
             [
              0.4444444444444444,
              "#bd3786"
             ],
             [
              0.5555555555555556,
              "#d8576b"
             ],
             [
              0.6666666666666666,
              "#ed7953"
             ],
             [
              0.7777777777777778,
              "#fb9f3a"
             ],
             [
              0.8888888888888888,
              "#fdca26"
             ],
             [
              1,
              "#f0f921"
             ]
            ],
            "type": "heatmapgl"
           }
          ],
          "histogram": [
           {
            "marker": {
             "colorbar": {
              "outlinewidth": 0,
              "ticks": ""
             }
            },
            "type": "histogram"
           }
          ],
          "histogram2d": [
           {
            "colorbar": {
             "outlinewidth": 0,
             "ticks": ""
            },
            "colorscale": [
             [
              0,
              "#0d0887"
             ],
             [
              0.1111111111111111,
              "#46039f"
             ],
             [
              0.2222222222222222,
              "#7201a8"
             ],
             [
              0.3333333333333333,
              "#9c179e"
             ],
             [
              0.4444444444444444,
              "#bd3786"
             ],
             [
              0.5555555555555556,
              "#d8576b"
             ],
             [
              0.6666666666666666,
              "#ed7953"
             ],
             [
              0.7777777777777778,
              "#fb9f3a"
             ],
             [
              0.8888888888888888,
              "#fdca26"
             ],
             [
              1,
              "#f0f921"
             ]
            ],
            "type": "histogram2d"
           }
          ],
          "histogram2dcontour": [
           {
            "colorbar": {
             "outlinewidth": 0,
             "ticks": ""
            },
            "colorscale": [
             [
              0,
              "#0d0887"
             ],
             [
              0.1111111111111111,
              "#46039f"
             ],
             [
              0.2222222222222222,
              "#7201a8"
             ],
             [
              0.3333333333333333,
              "#9c179e"
             ],
             [
              0.4444444444444444,
              "#bd3786"
             ],
             [
              0.5555555555555556,
              "#d8576b"
             ],
             [
              0.6666666666666666,
              "#ed7953"
             ],
             [
              0.7777777777777778,
              "#fb9f3a"
             ],
             [
              0.8888888888888888,
              "#fdca26"
             ],
             [
              1,
              "#f0f921"
             ]
            ],
            "type": "histogram2dcontour"
           }
          ],
          "mesh3d": [
           {
            "colorbar": {
             "outlinewidth": 0,
             "ticks": ""
            },
            "type": "mesh3d"
           }
          ],
          "parcoords": [
           {
            "line": {
             "colorbar": {
              "outlinewidth": 0,
              "ticks": ""
             }
            },
            "type": "parcoords"
           }
          ],
          "pie": [
           {
            "automargin": true,
            "type": "pie"
           }
          ],
          "scatter": [
           {
            "marker": {
             "colorbar": {
              "outlinewidth": 0,
              "ticks": ""
             }
            },
            "type": "scatter"
           }
          ],
          "scatter3d": [
           {
            "line": {
             "colorbar": {
              "outlinewidth": 0,
              "ticks": ""
             }
            },
            "marker": {
             "colorbar": {
              "outlinewidth": 0,
              "ticks": ""
             }
            },
            "type": "scatter3d"
           }
          ],
          "scattercarpet": [
           {
            "marker": {
             "colorbar": {
              "outlinewidth": 0,
              "ticks": ""
             }
            },
            "type": "scattercarpet"
           }
          ],
          "scattergeo": [
           {
            "marker": {
             "colorbar": {
              "outlinewidth": 0,
              "ticks": ""
             }
            },
            "type": "scattergeo"
           }
          ],
          "scattergl": [
           {
            "marker": {
             "colorbar": {
              "outlinewidth": 0,
              "ticks": ""
             }
            },
            "type": "scattergl"
           }
          ],
          "scattermapbox": [
           {
            "marker": {
             "colorbar": {
              "outlinewidth": 0,
              "ticks": ""
             }
            },
            "type": "scattermapbox"
           }
          ],
          "scatterpolar": [
           {
            "marker": {
             "colorbar": {
              "outlinewidth": 0,
              "ticks": ""
             }
            },
            "type": "scatterpolar"
           }
          ],
          "scatterpolargl": [
           {
            "marker": {
             "colorbar": {
              "outlinewidth": 0,
              "ticks": ""
             }
            },
            "type": "scatterpolargl"
           }
          ],
          "scatterternary": [
           {
            "marker": {
             "colorbar": {
              "outlinewidth": 0,
              "ticks": ""
             }
            },
            "type": "scatterternary"
           }
          ],
          "surface": [
           {
            "colorbar": {
             "outlinewidth": 0,
             "ticks": ""
            },
            "colorscale": [
             [
              0,
              "#0d0887"
             ],
             [
              0.1111111111111111,
              "#46039f"
             ],
             [
              0.2222222222222222,
              "#7201a8"
             ],
             [
              0.3333333333333333,
              "#9c179e"
             ],
             [
              0.4444444444444444,
              "#bd3786"
             ],
             [
              0.5555555555555556,
              "#d8576b"
             ],
             [
              0.6666666666666666,
              "#ed7953"
             ],
             [
              0.7777777777777778,
              "#fb9f3a"
             ],
             [
              0.8888888888888888,
              "#fdca26"
             ],
             [
              1,
              "#f0f921"
             ]
            ],
            "type": "surface"
           }
          ],
          "table": [
           {
            "cells": {
             "fill": {
              "color": "#EBF0F8"
             },
             "line": {
              "color": "white"
             }
            },
            "header": {
             "fill": {
              "color": "#C8D4E3"
             },
             "line": {
              "color": "white"
             }
            },
            "type": "table"
           }
          ]
         },
         "layout": {
          "annotationdefaults": {
           "arrowcolor": "#2a3f5f",
           "arrowhead": 0,
           "arrowwidth": 1
          },
          "coloraxis": {
           "colorbar": {
            "outlinewidth": 0,
            "ticks": ""
           }
          },
          "colorscale": {
           "diverging": [
            [
             0,
             "#8e0152"
            ],
            [
             0.1,
             "#c51b7d"
            ],
            [
             0.2,
             "#de77ae"
            ],
            [
             0.3,
             "#f1b6da"
            ],
            [
             0.4,
             "#fde0ef"
            ],
            [
             0.5,
             "#f7f7f7"
            ],
            [
             0.6,
             "#e6f5d0"
            ],
            [
             0.7,
             "#b8e186"
            ],
            [
             0.8,
             "#7fbc41"
            ],
            [
             0.9,
             "#4d9221"
            ],
            [
             1,
             "#276419"
            ]
           ],
           "sequential": [
            [
             0,
             "#0d0887"
            ],
            [
             0.1111111111111111,
             "#46039f"
            ],
            [
             0.2222222222222222,
             "#7201a8"
            ],
            [
             0.3333333333333333,
             "#9c179e"
            ],
            [
             0.4444444444444444,
             "#bd3786"
            ],
            [
             0.5555555555555556,
             "#d8576b"
            ],
            [
             0.6666666666666666,
             "#ed7953"
            ],
            [
             0.7777777777777778,
             "#fb9f3a"
            ],
            [
             0.8888888888888888,
             "#fdca26"
            ],
            [
             1,
             "#f0f921"
            ]
           ],
           "sequentialminus": [
            [
             0,
             "#0d0887"
            ],
            [
             0.1111111111111111,
             "#46039f"
            ],
            [
             0.2222222222222222,
             "#7201a8"
            ],
            [
             0.3333333333333333,
             "#9c179e"
            ],
            [
             0.4444444444444444,
             "#bd3786"
            ],
            [
             0.5555555555555556,
             "#d8576b"
            ],
            [
             0.6666666666666666,
             "#ed7953"
            ],
            [
             0.7777777777777778,
             "#fb9f3a"
            ],
            [
             0.8888888888888888,
             "#fdca26"
            ],
            [
             1,
             "#f0f921"
            ]
           ]
          },
          "colorway": [
           "#636efa",
           "#EF553B",
           "#00cc96",
           "#ab63fa",
           "#FFA15A",
           "#19d3f3",
           "#FF6692",
           "#B6E880",
           "#FF97FF",
           "#FECB52"
          ],
          "font": {
           "color": "#2a3f5f"
          },
          "geo": {
           "bgcolor": "white",
           "lakecolor": "white",
           "landcolor": "#E5ECF6",
           "showlakes": true,
           "showland": true,
           "subunitcolor": "white"
          },
          "hoverlabel": {
           "align": "left"
          },
          "hovermode": "closest",
          "mapbox": {
           "style": "light"
          },
          "paper_bgcolor": "white",
          "plot_bgcolor": "#E5ECF6",
          "polar": {
           "angularaxis": {
            "gridcolor": "white",
            "linecolor": "white",
            "ticks": ""
           },
           "bgcolor": "#E5ECF6",
           "radialaxis": {
            "gridcolor": "white",
            "linecolor": "white",
            "ticks": ""
           }
          },
          "scene": {
           "xaxis": {
            "backgroundcolor": "#E5ECF6",
            "gridcolor": "white",
            "gridwidth": 2,
            "linecolor": "white",
            "showbackground": true,
            "ticks": "",
            "zerolinecolor": "white"
           },
           "yaxis": {
            "backgroundcolor": "#E5ECF6",
            "gridcolor": "white",
            "gridwidth": 2,
            "linecolor": "white",
            "showbackground": true,
            "ticks": "",
            "zerolinecolor": "white"
           },
           "zaxis": {
            "backgroundcolor": "#E5ECF6",
            "gridcolor": "white",
            "gridwidth": 2,
            "linecolor": "white",
            "showbackground": true,
            "ticks": "",
            "zerolinecolor": "white"
           }
          },
          "shapedefaults": {
           "line": {
            "color": "#2a3f5f"
           }
          },
          "ternary": {
           "aaxis": {
            "gridcolor": "white",
            "linecolor": "white",
            "ticks": ""
           },
           "baxis": {
            "gridcolor": "white",
            "linecolor": "white",
            "ticks": ""
           },
           "bgcolor": "#E5ECF6",
           "caxis": {
            "gridcolor": "white",
            "linecolor": "white",
            "ticks": ""
           }
          },
          "title": {
           "x": 0.05
          },
          "xaxis": {
           "automargin": true,
           "gridcolor": "white",
           "linecolor": "white",
           "ticks": "",
           "title": {
            "standoff": 15
           },
           "zerolinecolor": "white",
           "zerolinewidth": 2
          },
          "yaxis": {
           "automargin": true,
           "gridcolor": "white",
           "linecolor": "white",
           "ticks": "",
           "title": {
            "standoff": 15
           },
           "zerolinecolor": "white",
           "zerolinewidth": 2
          }
         }
        },
        "title": {
         "font": {
          "color": "#4D5663"
         }
        },
        "xaxis": {
         "gridcolor": "#E1E5ED",
         "showgrid": true,
         "tickfont": {
          "color": "#4D5663"
         },
         "title": {
          "font": {
           "color": "#4D5663"
          },
          "text": ""
         },
         "zerolinecolor": "#E1E5ED"
        },
        "yaxis": {
         "gridcolor": "#E1E5ED",
         "showgrid": true,
         "tickfont": {
          "color": "#4D5663"
         },
         "title": {
          "font": {
           "color": "#4D5663"
          },
          "text": ""
         },
         "zerolinecolor": "#E1E5ED"
        }
       }
      },
      "text/html": [
       "<div>\n",
       "        \n",
       "        \n",
       "            <div id=\"5c5bd24d-aaa1-4897-975a-6b346ea80526\" class=\"plotly-graph-div\" style=\"height:525px; width:100%;\"></div>\n",
       "            <script type=\"text/javascript\">\n",
       "                require([\"plotly\"], function(Plotly) {\n",
       "                    window.PLOTLYENV=window.PLOTLYENV || {};\n",
       "                    window.PLOTLYENV.BASE_URL='https://plot.ly';\n",
       "                    \n",
       "                if (document.getElementById(\"5c5bd24d-aaa1-4897-975a-6b346ea80526\")) {\n",
       "                    Plotly.newPlot(\n",
       "                        '5c5bd24d-aaa1-4897-975a-6b346ea80526',\n",
       "                        [{\"line\": {\"color\": \"rgba(255, 153, 51, 1.0)\", \"dash\": \"solid\", \"shape\": \"linear\", \"width\": 1.3}, \"marker\": {\"size\": 10, \"symbol\": \"circle\"}, \"mode\": \"markers\", \"name\": \"B\", \"text\": \"\", \"type\": \"scatter\", \"x\": [-1.149882228543045, 1.5362385410467798, 0.3932379374579331, -2.059996463523254, 0.09562991677781363, -0.1844539287632311, 2.3418220729645576, -0.43975047658280936, 0.6288630050374875, -0.030326212811700944, -1.702156021656865, -1.517666528581438, 1.19528182618035, -0.9288515943816018, 0.2672440911504483, -0.4002975415796906, -1.2173180116996651, 0.9662247412467714, -1.9290761726699661, 1.249919408423394, -0.6783813256393709, -0.7888541279691633, -2.7701270507949274, -0.4570081697608714, -1.5754577270896186, 1.7040742114772185, -1.323623647403465, -1.0710918640009173, 0.2187213850037935, -0.07078716233479242, -1.303646959301516, 2.1897266317892035, 0.13093518856030348, -0.9903480467852114, 0.33671892236565953, -1.1556963538417262, -0.2773860242357469, 1.9377494811247495, 0.1423953006490988, 0.6731945716487792, -0.46541278669836533, -0.714379146180877, 1.0651922056412366, 0.3114333896682094, -0.29224469547465676, -0.6358918139816263, -0.06286318467275165, 0.07858067675403434, -0.02010629030746235, 0.9735632755624417, 0.3806941990300737, 0.9555634570784103, -0.38220496895255784, -0.22327324528616546, -1.8998284305790532, -0.24424740920339258, -0.02526692348391983, -0.1382620224959738, 1.395861014773399, -0.3604338840902675, 0.3563945466276664, -0.07645210423467486, 1.058060157864064, 0.03543017928138459, 0.32199934259140944, 0.7294917431182483, 0.16221584077406218, 0.44579793102551135, -0.06772507530824512, 0.39109205187050505, -0.7385195761252955, -1.2023650450948926, -1.3018179686182045, -0.7588769767804764, 0.8540615931350239, 0.7937811845169089, -0.11330210909059032, 0.9786046847077196, 0.1026403652012129, -0.6973082302186342, -0.7309060647842065, -0.3824059171264001, 0.5322395624685383, 0.5520881490592399, 0.7893147543534774, 0.9593248351973666, 0.08953894702720594, -0.10201225506825605, -0.112709501292115, -0.6104114734459825, 0.4274545255274656, 0.3232725058320922, 0.14213070118669957, -0.7675916048632497, -0.15544652729455274, -0.6522117023376075, 1.7648913777096549, -1.0343556208880231, 0.6291210941714808, -0.2714321671685072], \"y\": [-0.821596800402655, 0.5664394505597601, 0.5089641346070292, -0.2592635248813433, 1.1425648848092516, 0.1303293725182424, -0.7452599453081017, 0.6807839819422564, -0.03025028909446263, -0.7216948550717397, 0.012099971974348565, -1.9328018674909626, 0.2940669437690773, -0.6425845565868856, -1.274457701503331, -0.31820163749691893, -0.9201990535926323, -1.3082244088756303, 0.9672470890932595, 0.5604202824371384, -0.7169037558756315, 0.5214208294070508, 0.005276194451701883, 1.34131395639202, 0.862730069774194, 0.444210324881266, 0.7166122997543846, 0.5905621985926649, -0.6123356568653066, -0.526925454627251, 0.3566581207234709, -0.7958593703435825, 0.4820928557493119, 2.082313812263963, 1.2477493754732194, 0.4347371625321479, -0.5524659931146368, -0.8005632090645551, -0.49586200765958227, 0.7363425104966456, -0.5004712861884172, 1.0482761927570294, -0.6137346570027824, -0.03968309123000246, -0.3226370483232409, -0.9003242820526284, -0.4726691235269847, 1.468411024145207, -0.45566617797248504, 0.07953301178126826, 0.5357369360643719, -0.08765107497054818, -1.426308343534027, 0.819068484709911, 1.8086881553071021, 0.40025853155354885, -0.8893840863646113, 0.9387138657020594, 0.6986426191038498, 0.43740462673617786, 0.6644892611484586, 0.0311752431301281, -0.8240084892443692, 1.5178420616192276, 0.014463322301807217, -0.07506796365150185, 0.25267110665442416, 0.9536021445007004, -0.021310183431371237, -1.3114035432534275, 0.8592510660239445, -1.2507752033737798, 1.4246620884121426, 1.1027173115312447, 0.6118120227281758, -0.7975020166108695, -1.462540048851282, 0.6827294493991927, 0.5334301271174584, 0.7294526884023559, -0.04388537975766861, -0.789556783280647, 0.3392864194491249, 0.790166279806434, 1.0259494794903965, 0.27094021554193, 1.4829223336581099, -0.23293511983863718, 0.6859245229420942, 0.5874723324937035, 0.48557210628845787, -0.12662879963201118, 0.9212668798284969, -1.2223765090701693, -0.029869681236115303, -1.8045036109927406, -1.9155662026040001, -0.536847880512402, 0.34557732447025485, -0.3892917688322118]}],\n",
       "                        {\"legend\": {\"bgcolor\": \"#F5F6F9\", \"font\": {\"color\": \"#4D5663\"}}, \"paper_bgcolor\": \"#F5F6F9\", \"plot_bgcolor\": \"#F5F6F9\", \"template\": {\"data\": {\"bar\": [{\"error_x\": {\"color\": \"#2a3f5f\"}, \"error_y\": {\"color\": \"#2a3f5f\"}, \"marker\": {\"line\": {\"color\": \"#E5ECF6\", \"width\": 0.5}}, \"type\": \"bar\"}], \"barpolar\": [{\"marker\": {\"line\": {\"color\": \"#E5ECF6\", \"width\": 0.5}}, \"type\": \"barpolar\"}], \"carpet\": [{\"aaxis\": {\"endlinecolor\": \"#2a3f5f\", \"gridcolor\": \"white\", \"linecolor\": \"white\", \"minorgridcolor\": \"white\", \"startlinecolor\": \"#2a3f5f\"}, \"baxis\": {\"endlinecolor\": \"#2a3f5f\", \"gridcolor\": \"white\", \"linecolor\": \"white\", \"minorgridcolor\": \"white\", \"startlinecolor\": \"#2a3f5f\"}, \"type\": \"carpet\"}], \"choropleth\": [{\"colorbar\": {\"outlinewidth\": 0, \"ticks\": \"\"}, \"type\": \"choropleth\"}], \"contour\": [{\"colorbar\": {\"outlinewidth\": 0, \"ticks\": \"\"}, \"colorscale\": [[0.0, \"#0d0887\"], [0.1111111111111111, \"#46039f\"], [0.2222222222222222, \"#7201a8\"], [0.3333333333333333, \"#9c179e\"], [0.4444444444444444, \"#bd3786\"], [0.5555555555555556, \"#d8576b\"], [0.6666666666666666, \"#ed7953\"], [0.7777777777777778, \"#fb9f3a\"], [0.8888888888888888, \"#fdca26\"], [1.0, \"#f0f921\"]], \"type\": \"contour\"}], \"contourcarpet\": [{\"colorbar\": {\"outlinewidth\": 0, \"ticks\": \"\"}, \"type\": \"contourcarpet\"}], \"heatmap\": [{\"colorbar\": {\"outlinewidth\": 0, \"ticks\": \"\"}, \"colorscale\": [[0.0, \"#0d0887\"], [0.1111111111111111, \"#46039f\"], [0.2222222222222222, \"#7201a8\"], [0.3333333333333333, \"#9c179e\"], [0.4444444444444444, \"#bd3786\"], [0.5555555555555556, \"#d8576b\"], [0.6666666666666666, \"#ed7953\"], [0.7777777777777778, \"#fb9f3a\"], [0.8888888888888888, \"#fdca26\"], [1.0, \"#f0f921\"]], \"type\": \"heatmap\"}], \"heatmapgl\": [{\"colorbar\": {\"outlinewidth\": 0, \"ticks\": \"\"}, \"colorscale\": [[0.0, \"#0d0887\"], [0.1111111111111111, \"#46039f\"], [0.2222222222222222, \"#7201a8\"], [0.3333333333333333, \"#9c179e\"], [0.4444444444444444, \"#bd3786\"], [0.5555555555555556, \"#d8576b\"], [0.6666666666666666, \"#ed7953\"], [0.7777777777777778, \"#fb9f3a\"], [0.8888888888888888, \"#fdca26\"], [1.0, \"#f0f921\"]], \"type\": \"heatmapgl\"}], \"histogram\": [{\"marker\": {\"colorbar\": {\"outlinewidth\": 0, \"ticks\": \"\"}}, \"type\": \"histogram\"}], \"histogram2d\": [{\"colorbar\": {\"outlinewidth\": 0, \"ticks\": \"\"}, \"colorscale\": [[0.0, \"#0d0887\"], [0.1111111111111111, \"#46039f\"], [0.2222222222222222, \"#7201a8\"], [0.3333333333333333, \"#9c179e\"], [0.4444444444444444, \"#bd3786\"], [0.5555555555555556, \"#d8576b\"], [0.6666666666666666, \"#ed7953\"], [0.7777777777777778, \"#fb9f3a\"], [0.8888888888888888, \"#fdca26\"], [1.0, \"#f0f921\"]], \"type\": \"histogram2d\"}], \"histogram2dcontour\": [{\"colorbar\": {\"outlinewidth\": 0, \"ticks\": \"\"}, \"colorscale\": [[0.0, \"#0d0887\"], [0.1111111111111111, \"#46039f\"], [0.2222222222222222, \"#7201a8\"], [0.3333333333333333, \"#9c179e\"], [0.4444444444444444, \"#bd3786\"], [0.5555555555555556, \"#d8576b\"], [0.6666666666666666, \"#ed7953\"], [0.7777777777777778, \"#fb9f3a\"], [0.8888888888888888, \"#fdca26\"], [1.0, \"#f0f921\"]], \"type\": \"histogram2dcontour\"}], \"mesh3d\": [{\"colorbar\": {\"outlinewidth\": 0, \"ticks\": \"\"}, \"type\": \"mesh3d\"}], \"parcoords\": [{\"line\": {\"colorbar\": {\"outlinewidth\": 0, \"ticks\": \"\"}}, \"type\": \"parcoords\"}], \"pie\": [{\"automargin\": true, \"type\": \"pie\"}], \"scatter\": [{\"marker\": {\"colorbar\": {\"outlinewidth\": 0, \"ticks\": \"\"}}, \"type\": \"scatter\"}], \"scatter3d\": [{\"line\": {\"colorbar\": {\"outlinewidth\": 0, \"ticks\": \"\"}}, \"marker\": {\"colorbar\": {\"outlinewidth\": 0, \"ticks\": \"\"}}, \"type\": \"scatter3d\"}], \"scattercarpet\": [{\"marker\": {\"colorbar\": {\"outlinewidth\": 0, \"ticks\": \"\"}}, \"type\": \"scattercarpet\"}], \"scattergeo\": [{\"marker\": {\"colorbar\": {\"outlinewidth\": 0, \"ticks\": \"\"}}, \"type\": \"scattergeo\"}], \"scattergl\": [{\"marker\": {\"colorbar\": {\"outlinewidth\": 0, \"ticks\": \"\"}}, \"type\": \"scattergl\"}], \"scattermapbox\": [{\"marker\": {\"colorbar\": {\"outlinewidth\": 0, \"ticks\": \"\"}}, \"type\": \"scattermapbox\"}], \"scatterpolar\": [{\"marker\": {\"colorbar\": {\"outlinewidth\": 0, \"ticks\": \"\"}}, \"type\": \"scatterpolar\"}], \"scatterpolargl\": [{\"marker\": {\"colorbar\": {\"outlinewidth\": 0, \"ticks\": \"\"}}, \"type\": \"scatterpolargl\"}], \"scatterternary\": [{\"marker\": {\"colorbar\": {\"outlinewidth\": 0, \"ticks\": \"\"}}, \"type\": \"scatterternary\"}], \"surface\": [{\"colorbar\": {\"outlinewidth\": 0, \"ticks\": \"\"}, \"colorscale\": [[0.0, \"#0d0887\"], [0.1111111111111111, \"#46039f\"], [0.2222222222222222, \"#7201a8\"], [0.3333333333333333, \"#9c179e\"], [0.4444444444444444, \"#bd3786\"], [0.5555555555555556, \"#d8576b\"], [0.6666666666666666, \"#ed7953\"], [0.7777777777777778, \"#fb9f3a\"], [0.8888888888888888, \"#fdca26\"], [1.0, \"#f0f921\"]], \"type\": \"surface\"}], \"table\": [{\"cells\": {\"fill\": {\"color\": \"#EBF0F8\"}, \"line\": {\"color\": \"white\"}}, \"header\": {\"fill\": {\"color\": \"#C8D4E3\"}, \"line\": {\"color\": \"white\"}}, \"type\": \"table\"}]}, \"layout\": {\"annotationdefaults\": {\"arrowcolor\": \"#2a3f5f\", \"arrowhead\": 0, \"arrowwidth\": 1}, \"coloraxis\": {\"colorbar\": {\"outlinewidth\": 0, \"ticks\": \"\"}}, \"colorscale\": {\"diverging\": [[0, \"#8e0152\"], [0.1, \"#c51b7d\"], [0.2, \"#de77ae\"], [0.3, \"#f1b6da\"], [0.4, \"#fde0ef\"], [0.5, \"#f7f7f7\"], [0.6, \"#e6f5d0\"], [0.7, \"#b8e186\"], [0.8, \"#7fbc41\"], [0.9, \"#4d9221\"], [1, \"#276419\"]], \"sequential\": [[0.0, \"#0d0887\"], [0.1111111111111111, \"#46039f\"], [0.2222222222222222, \"#7201a8\"], [0.3333333333333333, \"#9c179e\"], [0.4444444444444444, \"#bd3786\"], [0.5555555555555556, \"#d8576b\"], [0.6666666666666666, \"#ed7953\"], [0.7777777777777778, \"#fb9f3a\"], [0.8888888888888888, \"#fdca26\"], [1.0, \"#f0f921\"]], \"sequentialminus\": [[0.0, \"#0d0887\"], [0.1111111111111111, \"#46039f\"], [0.2222222222222222, \"#7201a8\"], [0.3333333333333333, \"#9c179e\"], [0.4444444444444444, \"#bd3786\"], [0.5555555555555556, \"#d8576b\"], [0.6666666666666666, \"#ed7953\"], [0.7777777777777778, \"#fb9f3a\"], [0.8888888888888888, \"#fdca26\"], [1.0, \"#f0f921\"]]}, \"colorway\": [\"#636efa\", \"#EF553B\", \"#00cc96\", \"#ab63fa\", \"#FFA15A\", \"#19d3f3\", \"#FF6692\", \"#B6E880\", \"#FF97FF\", \"#FECB52\"], \"font\": {\"color\": \"#2a3f5f\"}, \"geo\": {\"bgcolor\": \"white\", \"lakecolor\": \"white\", \"landcolor\": \"#E5ECF6\", \"showlakes\": true, \"showland\": true, \"subunitcolor\": \"white\"}, \"hoverlabel\": {\"align\": \"left\"}, \"hovermode\": \"closest\", \"mapbox\": {\"style\": \"light\"}, \"paper_bgcolor\": \"white\", \"plot_bgcolor\": \"#E5ECF6\", \"polar\": {\"angularaxis\": {\"gridcolor\": \"white\", \"linecolor\": \"white\", \"ticks\": \"\"}, \"bgcolor\": \"#E5ECF6\", \"radialaxis\": {\"gridcolor\": \"white\", \"linecolor\": \"white\", \"ticks\": \"\"}}, \"scene\": {\"xaxis\": {\"backgroundcolor\": \"#E5ECF6\", \"gridcolor\": \"white\", \"gridwidth\": 2, \"linecolor\": \"white\", \"showbackground\": true, \"ticks\": \"\", \"zerolinecolor\": \"white\"}, \"yaxis\": {\"backgroundcolor\": \"#E5ECF6\", \"gridcolor\": \"white\", \"gridwidth\": 2, \"linecolor\": \"white\", \"showbackground\": true, \"ticks\": \"\", \"zerolinecolor\": \"white\"}, \"zaxis\": {\"backgroundcolor\": \"#E5ECF6\", \"gridcolor\": \"white\", \"gridwidth\": 2, \"linecolor\": \"white\", \"showbackground\": true, \"ticks\": \"\", \"zerolinecolor\": \"white\"}}, \"shapedefaults\": {\"line\": {\"color\": \"#2a3f5f\"}}, \"ternary\": {\"aaxis\": {\"gridcolor\": \"white\", \"linecolor\": \"white\", \"ticks\": \"\"}, \"baxis\": {\"gridcolor\": \"white\", \"linecolor\": \"white\", \"ticks\": \"\"}, \"bgcolor\": \"#E5ECF6\", \"caxis\": {\"gridcolor\": \"white\", \"linecolor\": \"white\", \"ticks\": \"\"}}, \"title\": {\"x\": 0.05}, \"xaxis\": {\"automargin\": true, \"gridcolor\": \"white\", \"linecolor\": \"white\", \"ticks\": \"\", \"title\": {\"standoff\": 15}, \"zerolinecolor\": \"white\", \"zerolinewidth\": 2}, \"yaxis\": {\"automargin\": true, \"gridcolor\": \"white\", \"linecolor\": \"white\", \"ticks\": \"\", \"title\": {\"standoff\": 15}, \"zerolinecolor\": \"white\", \"zerolinewidth\": 2}}}, \"title\": {\"font\": {\"color\": \"#4D5663\"}}, \"xaxis\": {\"gridcolor\": \"#E1E5ED\", \"showgrid\": true, \"tickfont\": {\"color\": \"#4D5663\"}, \"title\": {\"font\": {\"color\": \"#4D5663\"}, \"text\": \"\"}, \"zerolinecolor\": \"#E1E5ED\"}, \"yaxis\": {\"gridcolor\": \"#E1E5ED\", \"showgrid\": true, \"tickfont\": {\"color\": \"#4D5663\"}, \"title\": {\"font\": {\"color\": \"#4D5663\"}, \"text\": \"\"}, \"zerolinecolor\": \"#E1E5ED\"}},\n",
       "                        {\"showLink\": true, \"linkText\": \"Export to plot.ly\", \"plotlyServerURL\": \"https://plot.ly\", \"responsive\": true}\n",
       "                    ).then(function(){\n",
       "                            \n",
       "var gd = document.getElementById('5c5bd24d-aaa1-4897-975a-6b346ea80526');\n",
       "var x = new MutationObserver(function (mutations, observer) {{\n",
       "        var display = window.getComputedStyle(gd).display;\n",
       "        if (!display || display === 'none') {{\n",
       "            console.log([gd, 'removed!']);\n",
       "            Plotly.purge(gd);\n",
       "            observer.disconnect();\n",
       "        }}\n",
       "}});\n",
       "\n",
       "// Listen for the removal of the full notebook cells\n",
       "var notebookContainer = gd.closest('#notebook-container');\n",
       "if (notebookContainer) {{\n",
       "    x.observe(notebookContainer, {childList: true});\n",
       "}}\n",
       "\n",
       "// Listen for the clearing of the current output cell\n",
       "var outputEl = gd.closest('.output');\n",
       "if (outputEl) {{\n",
       "    x.observe(outputEl, {childList: true});\n",
       "}}\n",
       "\n",
       "                        })\n",
       "                };\n",
       "                });\n",
       "            </script>\n",
       "        </div>"
      ]
     },
     "metadata": {},
     "output_type": "display_data"
    }
   ],
   "source": [
    "df.iplot(kind='scatter',x='A',y='B',mode='markers',size=10)"
   ]
  },
  {
   "cell_type": "code",
   "execution_count": 19,
   "metadata": {},
   "outputs": [
    {
     "data": {
      "application/vnd.plotly.v1+json": {
       "config": {
        "linkText": "Export to plot.ly",
        "plotlyServerURL": "https://plot.ly",
        "showLink": true
       },
       "data": [
        {
         "line": {
          "color": "rgba(255, 153, 51, 1.0)",
          "dash": "solid",
          "shape": "linear",
          "width": 1.3
         },
         "mode": "lines",
         "name": "B",
         "text": "",
         "type": "scatter",
         "x": [
          -1.149882228543045,
          1.5362385410467798,
          0.3932379374579331,
          -2.059996463523254,
          0.09562991677781363,
          -0.1844539287632311,
          2.3418220729645576,
          -0.43975047658280936,
          0.6288630050374875,
          -0.030326212811700944,
          -1.702156021656865,
          -1.517666528581438,
          1.19528182618035,
          -0.9288515943816018,
          0.2672440911504483,
          -0.4002975415796906,
          -1.2173180116996651,
          0.9662247412467714,
          -1.9290761726699661,
          1.249919408423394,
          -0.6783813256393709,
          -0.7888541279691633,
          -2.7701270507949274,
          -0.4570081697608714,
          -1.5754577270896186,
          1.7040742114772185,
          -1.323623647403465,
          -1.0710918640009173,
          0.2187213850037935,
          -0.07078716233479242,
          -1.303646959301516,
          2.1897266317892035,
          0.13093518856030348,
          -0.9903480467852114,
          0.33671892236565953,
          -1.1556963538417262,
          -0.2773860242357469,
          1.9377494811247495,
          0.1423953006490988,
          0.6731945716487792,
          -0.46541278669836533,
          -0.714379146180877,
          1.0651922056412366,
          0.3114333896682094,
          -0.29224469547465676,
          -0.6358918139816263,
          -0.06286318467275165,
          0.07858067675403434,
          -0.02010629030746235,
          0.9735632755624417,
          0.3806941990300737,
          0.9555634570784103,
          -0.38220496895255784,
          -0.22327324528616546,
          -1.8998284305790532,
          -0.24424740920339258,
          -0.02526692348391983,
          -0.1382620224959738,
          1.395861014773399,
          -0.3604338840902675,
          0.3563945466276664,
          -0.07645210423467486,
          1.058060157864064,
          0.03543017928138459,
          0.32199934259140944,
          0.7294917431182483,
          0.16221584077406218,
          0.44579793102551135,
          -0.06772507530824512,
          0.39109205187050505,
          -0.7385195761252955,
          -1.2023650450948926,
          -1.3018179686182045,
          -0.7588769767804764,
          0.8540615931350239,
          0.7937811845169089,
          -0.11330210909059032,
          0.9786046847077196,
          0.1026403652012129,
          -0.6973082302186342,
          -0.7309060647842065,
          -0.3824059171264001,
          0.5322395624685383,
          0.5520881490592399,
          0.7893147543534774,
          0.9593248351973666,
          0.08953894702720594,
          -0.10201225506825605,
          -0.112709501292115,
          -0.6104114734459825,
          0.4274545255274656,
          0.3232725058320922,
          0.14213070118669957,
          -0.7675916048632497,
          -0.15544652729455274,
          -0.6522117023376075,
          1.7648913777096549,
          -1.0343556208880231,
          0.6291210941714808,
          -0.2714321671685072
         ],
         "y": [
          -0.821596800402655,
          0.5664394505597601,
          0.5089641346070292,
          -0.2592635248813433,
          1.1425648848092516,
          0.1303293725182424,
          -0.7452599453081017,
          0.6807839819422564,
          -0.03025028909446263,
          -0.7216948550717397,
          0.012099971974348565,
          -1.9328018674909626,
          0.2940669437690773,
          -0.6425845565868856,
          -1.274457701503331,
          -0.31820163749691893,
          -0.9201990535926323,
          -1.3082244088756303,
          0.9672470890932595,
          0.5604202824371384,
          -0.7169037558756315,
          0.5214208294070508,
          0.005276194451701883,
          1.34131395639202,
          0.862730069774194,
          0.444210324881266,
          0.7166122997543846,
          0.5905621985926649,
          -0.6123356568653066,
          -0.526925454627251,
          0.3566581207234709,
          -0.7958593703435825,
          0.4820928557493119,
          2.082313812263963,
          1.2477493754732194,
          0.4347371625321479,
          -0.5524659931146368,
          -0.8005632090645551,
          -0.49586200765958227,
          0.7363425104966456,
          -0.5004712861884172,
          1.0482761927570294,
          -0.6137346570027824,
          -0.03968309123000246,
          -0.3226370483232409,
          -0.9003242820526284,
          -0.4726691235269847,
          1.468411024145207,
          -0.45566617797248504,
          0.07953301178126826,
          0.5357369360643719,
          -0.08765107497054818,
          -1.426308343534027,
          0.819068484709911,
          1.8086881553071021,
          0.40025853155354885,
          -0.8893840863646113,
          0.9387138657020594,
          0.6986426191038498,
          0.43740462673617786,
          0.6644892611484586,
          0.0311752431301281,
          -0.8240084892443692,
          1.5178420616192276,
          0.014463322301807217,
          -0.07506796365150185,
          0.25267110665442416,
          0.9536021445007004,
          -0.021310183431371237,
          -1.3114035432534275,
          0.8592510660239445,
          -1.2507752033737798,
          1.4246620884121426,
          1.1027173115312447,
          0.6118120227281758,
          -0.7975020166108695,
          -1.462540048851282,
          0.6827294493991927,
          0.5334301271174584,
          0.7294526884023559,
          -0.04388537975766861,
          -0.789556783280647,
          0.3392864194491249,
          0.790166279806434,
          1.0259494794903965,
          0.27094021554193,
          1.4829223336581099,
          -0.23293511983863718,
          0.6859245229420942,
          0.5874723324937035,
          0.48557210628845787,
          -0.12662879963201118,
          0.9212668798284969,
          -1.2223765090701693,
          -0.029869681236115303,
          -1.8045036109927406,
          -1.9155662026040001,
          -0.536847880512402,
          0.34557732447025485,
          -0.3892917688322118
         ]
        }
       ],
       "layout": {
        "legend": {
         "bgcolor": "#F5F6F9",
         "font": {
          "color": "#4D5663"
         }
        },
        "paper_bgcolor": "#F5F6F9",
        "plot_bgcolor": "#F5F6F9",
        "template": {
         "data": {
          "bar": [
           {
            "error_x": {
             "color": "#2a3f5f"
            },
            "error_y": {
             "color": "#2a3f5f"
            },
            "marker": {
             "line": {
              "color": "#E5ECF6",
              "width": 0.5
             }
            },
            "type": "bar"
           }
          ],
          "barpolar": [
           {
            "marker": {
             "line": {
              "color": "#E5ECF6",
              "width": 0.5
             }
            },
            "type": "barpolar"
           }
          ],
          "carpet": [
           {
            "aaxis": {
             "endlinecolor": "#2a3f5f",
             "gridcolor": "white",
             "linecolor": "white",
             "minorgridcolor": "white",
             "startlinecolor": "#2a3f5f"
            },
            "baxis": {
             "endlinecolor": "#2a3f5f",
             "gridcolor": "white",
             "linecolor": "white",
             "minorgridcolor": "white",
             "startlinecolor": "#2a3f5f"
            },
            "type": "carpet"
           }
          ],
          "choropleth": [
           {
            "colorbar": {
             "outlinewidth": 0,
             "ticks": ""
            },
            "type": "choropleth"
           }
          ],
          "contour": [
           {
            "colorbar": {
             "outlinewidth": 0,
             "ticks": ""
            },
            "colorscale": [
             [
              0,
              "#0d0887"
             ],
             [
              0.1111111111111111,
              "#46039f"
             ],
             [
              0.2222222222222222,
              "#7201a8"
             ],
             [
              0.3333333333333333,
              "#9c179e"
             ],
             [
              0.4444444444444444,
              "#bd3786"
             ],
             [
              0.5555555555555556,
              "#d8576b"
             ],
             [
              0.6666666666666666,
              "#ed7953"
             ],
             [
              0.7777777777777778,
              "#fb9f3a"
             ],
             [
              0.8888888888888888,
              "#fdca26"
             ],
             [
              1,
              "#f0f921"
             ]
            ],
            "type": "contour"
           }
          ],
          "contourcarpet": [
           {
            "colorbar": {
             "outlinewidth": 0,
             "ticks": ""
            },
            "type": "contourcarpet"
           }
          ],
          "heatmap": [
           {
            "colorbar": {
             "outlinewidth": 0,
             "ticks": ""
            },
            "colorscale": [
             [
              0,
              "#0d0887"
             ],
             [
              0.1111111111111111,
              "#46039f"
             ],
             [
              0.2222222222222222,
              "#7201a8"
             ],
             [
              0.3333333333333333,
              "#9c179e"
             ],
             [
              0.4444444444444444,
              "#bd3786"
             ],
             [
              0.5555555555555556,
              "#d8576b"
             ],
             [
              0.6666666666666666,
              "#ed7953"
             ],
             [
              0.7777777777777778,
              "#fb9f3a"
             ],
             [
              0.8888888888888888,
              "#fdca26"
             ],
             [
              1,
              "#f0f921"
             ]
            ],
            "type": "heatmap"
           }
          ],
          "heatmapgl": [
           {
            "colorbar": {
             "outlinewidth": 0,
             "ticks": ""
            },
            "colorscale": [
             [
              0,
              "#0d0887"
             ],
             [
              0.1111111111111111,
              "#46039f"
             ],
             [
              0.2222222222222222,
              "#7201a8"
             ],
             [
              0.3333333333333333,
              "#9c179e"
             ],
             [
              0.4444444444444444,
              "#bd3786"
             ],
             [
              0.5555555555555556,
              "#d8576b"
             ],
             [
              0.6666666666666666,
              "#ed7953"
             ],
             [
              0.7777777777777778,
              "#fb9f3a"
             ],
             [
              0.8888888888888888,
              "#fdca26"
             ],
             [
              1,
              "#f0f921"
             ]
            ],
            "type": "heatmapgl"
           }
          ],
          "histogram": [
           {
            "marker": {
             "colorbar": {
              "outlinewidth": 0,
              "ticks": ""
             }
            },
            "type": "histogram"
           }
          ],
          "histogram2d": [
           {
            "colorbar": {
             "outlinewidth": 0,
             "ticks": ""
            },
            "colorscale": [
             [
              0,
              "#0d0887"
             ],
             [
              0.1111111111111111,
              "#46039f"
             ],
             [
              0.2222222222222222,
              "#7201a8"
             ],
             [
              0.3333333333333333,
              "#9c179e"
             ],
             [
              0.4444444444444444,
              "#bd3786"
             ],
             [
              0.5555555555555556,
              "#d8576b"
             ],
             [
              0.6666666666666666,
              "#ed7953"
             ],
             [
              0.7777777777777778,
              "#fb9f3a"
             ],
             [
              0.8888888888888888,
              "#fdca26"
             ],
             [
              1,
              "#f0f921"
             ]
            ],
            "type": "histogram2d"
           }
          ],
          "histogram2dcontour": [
           {
            "colorbar": {
             "outlinewidth": 0,
             "ticks": ""
            },
            "colorscale": [
             [
              0,
              "#0d0887"
             ],
             [
              0.1111111111111111,
              "#46039f"
             ],
             [
              0.2222222222222222,
              "#7201a8"
             ],
             [
              0.3333333333333333,
              "#9c179e"
             ],
             [
              0.4444444444444444,
              "#bd3786"
             ],
             [
              0.5555555555555556,
              "#d8576b"
             ],
             [
              0.6666666666666666,
              "#ed7953"
             ],
             [
              0.7777777777777778,
              "#fb9f3a"
             ],
             [
              0.8888888888888888,
              "#fdca26"
             ],
             [
              1,
              "#f0f921"
             ]
            ],
            "type": "histogram2dcontour"
           }
          ],
          "mesh3d": [
           {
            "colorbar": {
             "outlinewidth": 0,
             "ticks": ""
            },
            "type": "mesh3d"
           }
          ],
          "parcoords": [
           {
            "line": {
             "colorbar": {
              "outlinewidth": 0,
              "ticks": ""
             }
            },
            "type": "parcoords"
           }
          ],
          "pie": [
           {
            "automargin": true,
            "type": "pie"
           }
          ],
          "scatter": [
           {
            "marker": {
             "colorbar": {
              "outlinewidth": 0,
              "ticks": ""
             }
            },
            "type": "scatter"
           }
          ],
          "scatter3d": [
           {
            "line": {
             "colorbar": {
              "outlinewidth": 0,
              "ticks": ""
             }
            },
            "marker": {
             "colorbar": {
              "outlinewidth": 0,
              "ticks": ""
             }
            },
            "type": "scatter3d"
           }
          ],
          "scattercarpet": [
           {
            "marker": {
             "colorbar": {
              "outlinewidth": 0,
              "ticks": ""
             }
            },
            "type": "scattercarpet"
           }
          ],
          "scattergeo": [
           {
            "marker": {
             "colorbar": {
              "outlinewidth": 0,
              "ticks": ""
             }
            },
            "type": "scattergeo"
           }
          ],
          "scattergl": [
           {
            "marker": {
             "colorbar": {
              "outlinewidth": 0,
              "ticks": ""
             }
            },
            "type": "scattergl"
           }
          ],
          "scattermapbox": [
           {
            "marker": {
             "colorbar": {
              "outlinewidth": 0,
              "ticks": ""
             }
            },
            "type": "scattermapbox"
           }
          ],
          "scatterpolar": [
           {
            "marker": {
             "colorbar": {
              "outlinewidth": 0,
              "ticks": ""
             }
            },
            "type": "scatterpolar"
           }
          ],
          "scatterpolargl": [
           {
            "marker": {
             "colorbar": {
              "outlinewidth": 0,
              "ticks": ""
             }
            },
            "type": "scatterpolargl"
           }
          ],
          "scatterternary": [
           {
            "marker": {
             "colorbar": {
              "outlinewidth": 0,
              "ticks": ""
             }
            },
            "type": "scatterternary"
           }
          ],
          "surface": [
           {
            "colorbar": {
             "outlinewidth": 0,
             "ticks": ""
            },
            "colorscale": [
             [
              0,
              "#0d0887"
             ],
             [
              0.1111111111111111,
              "#46039f"
             ],
             [
              0.2222222222222222,
              "#7201a8"
             ],
             [
              0.3333333333333333,
              "#9c179e"
             ],
             [
              0.4444444444444444,
              "#bd3786"
             ],
             [
              0.5555555555555556,
              "#d8576b"
             ],
             [
              0.6666666666666666,
              "#ed7953"
             ],
             [
              0.7777777777777778,
              "#fb9f3a"
             ],
             [
              0.8888888888888888,
              "#fdca26"
             ],
             [
              1,
              "#f0f921"
             ]
            ],
            "type": "surface"
           }
          ],
          "table": [
           {
            "cells": {
             "fill": {
              "color": "#EBF0F8"
             },
             "line": {
              "color": "white"
             }
            },
            "header": {
             "fill": {
              "color": "#C8D4E3"
             },
             "line": {
              "color": "white"
             }
            },
            "type": "table"
           }
          ]
         },
         "layout": {
          "annotationdefaults": {
           "arrowcolor": "#2a3f5f",
           "arrowhead": 0,
           "arrowwidth": 1
          },
          "coloraxis": {
           "colorbar": {
            "outlinewidth": 0,
            "ticks": ""
           }
          },
          "colorscale": {
           "diverging": [
            [
             0,
             "#8e0152"
            ],
            [
             0.1,
             "#c51b7d"
            ],
            [
             0.2,
             "#de77ae"
            ],
            [
             0.3,
             "#f1b6da"
            ],
            [
             0.4,
             "#fde0ef"
            ],
            [
             0.5,
             "#f7f7f7"
            ],
            [
             0.6,
             "#e6f5d0"
            ],
            [
             0.7,
             "#b8e186"
            ],
            [
             0.8,
             "#7fbc41"
            ],
            [
             0.9,
             "#4d9221"
            ],
            [
             1,
             "#276419"
            ]
           ],
           "sequential": [
            [
             0,
             "#0d0887"
            ],
            [
             0.1111111111111111,
             "#46039f"
            ],
            [
             0.2222222222222222,
             "#7201a8"
            ],
            [
             0.3333333333333333,
             "#9c179e"
            ],
            [
             0.4444444444444444,
             "#bd3786"
            ],
            [
             0.5555555555555556,
             "#d8576b"
            ],
            [
             0.6666666666666666,
             "#ed7953"
            ],
            [
             0.7777777777777778,
             "#fb9f3a"
            ],
            [
             0.8888888888888888,
             "#fdca26"
            ],
            [
             1,
             "#f0f921"
            ]
           ],
           "sequentialminus": [
            [
             0,
             "#0d0887"
            ],
            [
             0.1111111111111111,
             "#46039f"
            ],
            [
             0.2222222222222222,
             "#7201a8"
            ],
            [
             0.3333333333333333,
             "#9c179e"
            ],
            [
             0.4444444444444444,
             "#bd3786"
            ],
            [
             0.5555555555555556,
             "#d8576b"
            ],
            [
             0.6666666666666666,
             "#ed7953"
            ],
            [
             0.7777777777777778,
             "#fb9f3a"
            ],
            [
             0.8888888888888888,
             "#fdca26"
            ],
            [
             1,
             "#f0f921"
            ]
           ]
          },
          "colorway": [
           "#636efa",
           "#EF553B",
           "#00cc96",
           "#ab63fa",
           "#FFA15A",
           "#19d3f3",
           "#FF6692",
           "#B6E880",
           "#FF97FF",
           "#FECB52"
          ],
          "font": {
           "color": "#2a3f5f"
          },
          "geo": {
           "bgcolor": "white",
           "lakecolor": "white",
           "landcolor": "#E5ECF6",
           "showlakes": true,
           "showland": true,
           "subunitcolor": "white"
          },
          "hoverlabel": {
           "align": "left"
          },
          "hovermode": "closest",
          "mapbox": {
           "style": "light"
          },
          "paper_bgcolor": "white",
          "plot_bgcolor": "#E5ECF6",
          "polar": {
           "angularaxis": {
            "gridcolor": "white",
            "linecolor": "white",
            "ticks": ""
           },
           "bgcolor": "#E5ECF6",
           "radialaxis": {
            "gridcolor": "white",
            "linecolor": "white",
            "ticks": ""
           }
          },
          "scene": {
           "xaxis": {
            "backgroundcolor": "#E5ECF6",
            "gridcolor": "white",
            "gridwidth": 2,
            "linecolor": "white",
            "showbackground": true,
            "ticks": "",
            "zerolinecolor": "white"
           },
           "yaxis": {
            "backgroundcolor": "#E5ECF6",
            "gridcolor": "white",
            "gridwidth": 2,
            "linecolor": "white",
            "showbackground": true,
            "ticks": "",
            "zerolinecolor": "white"
           },
           "zaxis": {
            "backgroundcolor": "#E5ECF6",
            "gridcolor": "white",
            "gridwidth": 2,
            "linecolor": "white",
            "showbackground": true,
            "ticks": "",
            "zerolinecolor": "white"
           }
          },
          "shapedefaults": {
           "line": {
            "color": "#2a3f5f"
           }
          },
          "ternary": {
           "aaxis": {
            "gridcolor": "white",
            "linecolor": "white",
            "ticks": ""
           },
           "baxis": {
            "gridcolor": "white",
            "linecolor": "white",
            "ticks": ""
           },
           "bgcolor": "#E5ECF6",
           "caxis": {
            "gridcolor": "white",
            "linecolor": "white",
            "ticks": ""
           }
          },
          "title": {
           "x": 0.05
          },
          "xaxis": {
           "automargin": true,
           "gridcolor": "white",
           "linecolor": "white",
           "ticks": "",
           "title": {
            "standoff": 15
           },
           "zerolinecolor": "white",
           "zerolinewidth": 2
          },
          "yaxis": {
           "automargin": true,
           "gridcolor": "white",
           "linecolor": "white",
           "ticks": "",
           "title": {
            "standoff": 15
           },
           "zerolinecolor": "white",
           "zerolinewidth": 2
          }
         }
        },
        "title": {
         "font": {
          "color": "#4D5663"
         }
        },
        "xaxis": {
         "gridcolor": "#E1E5ED",
         "showgrid": true,
         "tickfont": {
          "color": "#4D5663"
         },
         "title": {
          "font": {
           "color": "#4D5663"
          },
          "text": ""
         },
         "zerolinecolor": "#E1E5ED"
        },
        "yaxis": {
         "gridcolor": "#E1E5ED",
         "showgrid": true,
         "tickfont": {
          "color": "#4D5663"
         },
         "title": {
          "font": {
           "color": "#4D5663"
          },
          "text": ""
         },
         "zerolinecolor": "#E1E5ED"
        }
       }
      },
      "text/html": [
       "<div>\n",
       "        \n",
       "        \n",
       "            <div id=\"15e6e39d-3582-4da5-a0a6-b6c8892d0de3\" class=\"plotly-graph-div\" style=\"height:525px; width:100%;\"></div>\n",
       "            <script type=\"text/javascript\">\n",
       "                require([\"plotly\"], function(Plotly) {\n",
       "                    window.PLOTLYENV=window.PLOTLYENV || {};\n",
       "                    window.PLOTLYENV.BASE_URL='https://plot.ly';\n",
       "                    \n",
       "                if (document.getElementById(\"15e6e39d-3582-4da5-a0a6-b6c8892d0de3\")) {\n",
       "                    Plotly.newPlot(\n",
       "                        '15e6e39d-3582-4da5-a0a6-b6c8892d0de3',\n",
       "                        [{\"line\": {\"color\": \"rgba(255, 153, 51, 1.0)\", \"dash\": \"solid\", \"shape\": \"linear\", \"width\": 1.3}, \"mode\": \"lines\", \"name\": \"B\", \"text\": \"\", \"type\": \"scatter\", \"x\": [-1.149882228543045, 1.5362385410467798, 0.3932379374579331, -2.059996463523254, 0.09562991677781363, -0.1844539287632311, 2.3418220729645576, -0.43975047658280936, 0.6288630050374875, -0.030326212811700944, -1.702156021656865, -1.517666528581438, 1.19528182618035, -0.9288515943816018, 0.2672440911504483, -0.4002975415796906, -1.2173180116996651, 0.9662247412467714, -1.9290761726699661, 1.249919408423394, -0.6783813256393709, -0.7888541279691633, -2.7701270507949274, -0.4570081697608714, -1.5754577270896186, 1.7040742114772185, -1.323623647403465, -1.0710918640009173, 0.2187213850037935, -0.07078716233479242, -1.303646959301516, 2.1897266317892035, 0.13093518856030348, -0.9903480467852114, 0.33671892236565953, -1.1556963538417262, -0.2773860242357469, 1.9377494811247495, 0.1423953006490988, 0.6731945716487792, -0.46541278669836533, -0.714379146180877, 1.0651922056412366, 0.3114333896682094, -0.29224469547465676, -0.6358918139816263, -0.06286318467275165, 0.07858067675403434, -0.02010629030746235, 0.9735632755624417, 0.3806941990300737, 0.9555634570784103, -0.38220496895255784, -0.22327324528616546, -1.8998284305790532, -0.24424740920339258, -0.02526692348391983, -0.1382620224959738, 1.395861014773399, -0.3604338840902675, 0.3563945466276664, -0.07645210423467486, 1.058060157864064, 0.03543017928138459, 0.32199934259140944, 0.7294917431182483, 0.16221584077406218, 0.44579793102551135, -0.06772507530824512, 0.39109205187050505, -0.7385195761252955, -1.2023650450948926, -1.3018179686182045, -0.7588769767804764, 0.8540615931350239, 0.7937811845169089, -0.11330210909059032, 0.9786046847077196, 0.1026403652012129, -0.6973082302186342, -0.7309060647842065, -0.3824059171264001, 0.5322395624685383, 0.5520881490592399, 0.7893147543534774, 0.9593248351973666, 0.08953894702720594, -0.10201225506825605, -0.112709501292115, -0.6104114734459825, 0.4274545255274656, 0.3232725058320922, 0.14213070118669957, -0.7675916048632497, -0.15544652729455274, -0.6522117023376075, 1.7648913777096549, -1.0343556208880231, 0.6291210941714808, -0.2714321671685072], \"y\": [-0.821596800402655, 0.5664394505597601, 0.5089641346070292, -0.2592635248813433, 1.1425648848092516, 0.1303293725182424, -0.7452599453081017, 0.6807839819422564, -0.03025028909446263, -0.7216948550717397, 0.012099971974348565, -1.9328018674909626, 0.2940669437690773, -0.6425845565868856, -1.274457701503331, -0.31820163749691893, -0.9201990535926323, -1.3082244088756303, 0.9672470890932595, 0.5604202824371384, -0.7169037558756315, 0.5214208294070508, 0.005276194451701883, 1.34131395639202, 0.862730069774194, 0.444210324881266, 0.7166122997543846, 0.5905621985926649, -0.6123356568653066, -0.526925454627251, 0.3566581207234709, -0.7958593703435825, 0.4820928557493119, 2.082313812263963, 1.2477493754732194, 0.4347371625321479, -0.5524659931146368, -0.8005632090645551, -0.49586200765958227, 0.7363425104966456, -0.5004712861884172, 1.0482761927570294, -0.6137346570027824, -0.03968309123000246, -0.3226370483232409, -0.9003242820526284, -0.4726691235269847, 1.468411024145207, -0.45566617797248504, 0.07953301178126826, 0.5357369360643719, -0.08765107497054818, -1.426308343534027, 0.819068484709911, 1.8086881553071021, 0.40025853155354885, -0.8893840863646113, 0.9387138657020594, 0.6986426191038498, 0.43740462673617786, 0.6644892611484586, 0.0311752431301281, -0.8240084892443692, 1.5178420616192276, 0.014463322301807217, -0.07506796365150185, 0.25267110665442416, 0.9536021445007004, -0.021310183431371237, -1.3114035432534275, 0.8592510660239445, -1.2507752033737798, 1.4246620884121426, 1.1027173115312447, 0.6118120227281758, -0.7975020166108695, -1.462540048851282, 0.6827294493991927, 0.5334301271174584, 0.7294526884023559, -0.04388537975766861, -0.789556783280647, 0.3392864194491249, 0.790166279806434, 1.0259494794903965, 0.27094021554193, 1.4829223336581099, -0.23293511983863718, 0.6859245229420942, 0.5874723324937035, 0.48557210628845787, -0.12662879963201118, 0.9212668798284969, -1.2223765090701693, -0.029869681236115303, -1.8045036109927406, -1.9155662026040001, -0.536847880512402, 0.34557732447025485, -0.3892917688322118]}],\n",
       "                        {\"legend\": {\"bgcolor\": \"#F5F6F9\", \"font\": {\"color\": \"#4D5663\"}}, \"paper_bgcolor\": \"#F5F6F9\", \"plot_bgcolor\": \"#F5F6F9\", \"template\": {\"data\": {\"bar\": [{\"error_x\": {\"color\": \"#2a3f5f\"}, \"error_y\": {\"color\": \"#2a3f5f\"}, \"marker\": {\"line\": {\"color\": \"#E5ECF6\", \"width\": 0.5}}, \"type\": \"bar\"}], \"barpolar\": [{\"marker\": {\"line\": {\"color\": \"#E5ECF6\", \"width\": 0.5}}, \"type\": \"barpolar\"}], \"carpet\": [{\"aaxis\": {\"endlinecolor\": \"#2a3f5f\", \"gridcolor\": \"white\", \"linecolor\": \"white\", \"minorgridcolor\": \"white\", \"startlinecolor\": \"#2a3f5f\"}, \"baxis\": {\"endlinecolor\": \"#2a3f5f\", \"gridcolor\": \"white\", \"linecolor\": \"white\", \"minorgridcolor\": \"white\", \"startlinecolor\": \"#2a3f5f\"}, \"type\": \"carpet\"}], \"choropleth\": [{\"colorbar\": {\"outlinewidth\": 0, \"ticks\": \"\"}, \"type\": \"choropleth\"}], \"contour\": [{\"colorbar\": {\"outlinewidth\": 0, \"ticks\": \"\"}, \"colorscale\": [[0.0, \"#0d0887\"], [0.1111111111111111, \"#46039f\"], [0.2222222222222222, \"#7201a8\"], [0.3333333333333333, \"#9c179e\"], [0.4444444444444444, \"#bd3786\"], [0.5555555555555556, \"#d8576b\"], [0.6666666666666666, \"#ed7953\"], [0.7777777777777778, \"#fb9f3a\"], [0.8888888888888888, \"#fdca26\"], [1.0, \"#f0f921\"]], \"type\": \"contour\"}], \"contourcarpet\": [{\"colorbar\": {\"outlinewidth\": 0, \"ticks\": \"\"}, \"type\": \"contourcarpet\"}], \"heatmap\": [{\"colorbar\": {\"outlinewidth\": 0, \"ticks\": \"\"}, \"colorscale\": [[0.0, \"#0d0887\"], [0.1111111111111111, \"#46039f\"], [0.2222222222222222, \"#7201a8\"], [0.3333333333333333, \"#9c179e\"], [0.4444444444444444, \"#bd3786\"], [0.5555555555555556, \"#d8576b\"], [0.6666666666666666, \"#ed7953\"], [0.7777777777777778, \"#fb9f3a\"], [0.8888888888888888, \"#fdca26\"], [1.0, \"#f0f921\"]], \"type\": \"heatmap\"}], \"heatmapgl\": [{\"colorbar\": {\"outlinewidth\": 0, \"ticks\": \"\"}, \"colorscale\": [[0.0, \"#0d0887\"], [0.1111111111111111, \"#46039f\"], [0.2222222222222222, \"#7201a8\"], [0.3333333333333333, \"#9c179e\"], [0.4444444444444444, \"#bd3786\"], [0.5555555555555556, \"#d8576b\"], [0.6666666666666666, \"#ed7953\"], [0.7777777777777778, \"#fb9f3a\"], [0.8888888888888888, \"#fdca26\"], [1.0, \"#f0f921\"]], \"type\": \"heatmapgl\"}], \"histogram\": [{\"marker\": {\"colorbar\": {\"outlinewidth\": 0, \"ticks\": \"\"}}, \"type\": \"histogram\"}], \"histogram2d\": [{\"colorbar\": {\"outlinewidth\": 0, \"ticks\": \"\"}, \"colorscale\": [[0.0, \"#0d0887\"], [0.1111111111111111, \"#46039f\"], [0.2222222222222222, \"#7201a8\"], [0.3333333333333333, \"#9c179e\"], [0.4444444444444444, \"#bd3786\"], [0.5555555555555556, \"#d8576b\"], [0.6666666666666666, \"#ed7953\"], [0.7777777777777778, \"#fb9f3a\"], [0.8888888888888888, \"#fdca26\"], [1.0, \"#f0f921\"]], \"type\": \"histogram2d\"}], \"histogram2dcontour\": [{\"colorbar\": {\"outlinewidth\": 0, \"ticks\": \"\"}, \"colorscale\": [[0.0, \"#0d0887\"], [0.1111111111111111, \"#46039f\"], [0.2222222222222222, \"#7201a8\"], [0.3333333333333333, \"#9c179e\"], [0.4444444444444444, \"#bd3786\"], [0.5555555555555556, \"#d8576b\"], [0.6666666666666666, \"#ed7953\"], [0.7777777777777778, \"#fb9f3a\"], [0.8888888888888888, \"#fdca26\"], [1.0, \"#f0f921\"]], \"type\": \"histogram2dcontour\"}], \"mesh3d\": [{\"colorbar\": {\"outlinewidth\": 0, \"ticks\": \"\"}, \"type\": \"mesh3d\"}], \"parcoords\": [{\"line\": {\"colorbar\": {\"outlinewidth\": 0, \"ticks\": \"\"}}, \"type\": \"parcoords\"}], \"pie\": [{\"automargin\": true, \"type\": \"pie\"}], \"scatter\": [{\"marker\": {\"colorbar\": {\"outlinewidth\": 0, \"ticks\": \"\"}}, \"type\": \"scatter\"}], \"scatter3d\": [{\"line\": {\"colorbar\": {\"outlinewidth\": 0, \"ticks\": \"\"}}, \"marker\": {\"colorbar\": {\"outlinewidth\": 0, \"ticks\": \"\"}}, \"type\": \"scatter3d\"}], \"scattercarpet\": [{\"marker\": {\"colorbar\": {\"outlinewidth\": 0, \"ticks\": \"\"}}, \"type\": \"scattercarpet\"}], \"scattergeo\": [{\"marker\": {\"colorbar\": {\"outlinewidth\": 0, \"ticks\": \"\"}}, \"type\": \"scattergeo\"}], \"scattergl\": [{\"marker\": {\"colorbar\": {\"outlinewidth\": 0, \"ticks\": \"\"}}, \"type\": \"scattergl\"}], \"scattermapbox\": [{\"marker\": {\"colorbar\": {\"outlinewidth\": 0, \"ticks\": \"\"}}, \"type\": \"scattermapbox\"}], \"scatterpolar\": [{\"marker\": {\"colorbar\": {\"outlinewidth\": 0, \"ticks\": \"\"}}, \"type\": \"scatterpolar\"}], \"scatterpolargl\": [{\"marker\": {\"colorbar\": {\"outlinewidth\": 0, \"ticks\": \"\"}}, \"type\": \"scatterpolargl\"}], \"scatterternary\": [{\"marker\": {\"colorbar\": {\"outlinewidth\": 0, \"ticks\": \"\"}}, \"type\": \"scatterternary\"}], \"surface\": [{\"colorbar\": {\"outlinewidth\": 0, \"ticks\": \"\"}, \"colorscale\": [[0.0, \"#0d0887\"], [0.1111111111111111, \"#46039f\"], [0.2222222222222222, \"#7201a8\"], [0.3333333333333333, \"#9c179e\"], [0.4444444444444444, \"#bd3786\"], [0.5555555555555556, \"#d8576b\"], [0.6666666666666666, \"#ed7953\"], [0.7777777777777778, \"#fb9f3a\"], [0.8888888888888888, \"#fdca26\"], [1.0, \"#f0f921\"]], \"type\": \"surface\"}], \"table\": [{\"cells\": {\"fill\": {\"color\": \"#EBF0F8\"}, \"line\": {\"color\": \"white\"}}, \"header\": {\"fill\": {\"color\": \"#C8D4E3\"}, \"line\": {\"color\": \"white\"}}, \"type\": \"table\"}]}, \"layout\": {\"annotationdefaults\": {\"arrowcolor\": \"#2a3f5f\", \"arrowhead\": 0, \"arrowwidth\": 1}, \"coloraxis\": {\"colorbar\": {\"outlinewidth\": 0, \"ticks\": \"\"}}, \"colorscale\": {\"diverging\": [[0, \"#8e0152\"], [0.1, \"#c51b7d\"], [0.2, \"#de77ae\"], [0.3, \"#f1b6da\"], [0.4, \"#fde0ef\"], [0.5, \"#f7f7f7\"], [0.6, \"#e6f5d0\"], [0.7, \"#b8e186\"], [0.8, \"#7fbc41\"], [0.9, \"#4d9221\"], [1, \"#276419\"]], \"sequential\": [[0.0, \"#0d0887\"], [0.1111111111111111, \"#46039f\"], [0.2222222222222222, \"#7201a8\"], [0.3333333333333333, \"#9c179e\"], [0.4444444444444444, \"#bd3786\"], [0.5555555555555556, \"#d8576b\"], [0.6666666666666666, \"#ed7953\"], [0.7777777777777778, \"#fb9f3a\"], [0.8888888888888888, \"#fdca26\"], [1.0, \"#f0f921\"]], \"sequentialminus\": [[0.0, \"#0d0887\"], [0.1111111111111111, \"#46039f\"], [0.2222222222222222, \"#7201a8\"], [0.3333333333333333, \"#9c179e\"], [0.4444444444444444, \"#bd3786\"], [0.5555555555555556, \"#d8576b\"], [0.6666666666666666, \"#ed7953\"], [0.7777777777777778, \"#fb9f3a\"], [0.8888888888888888, \"#fdca26\"], [1.0, \"#f0f921\"]]}, \"colorway\": [\"#636efa\", \"#EF553B\", \"#00cc96\", \"#ab63fa\", \"#FFA15A\", \"#19d3f3\", \"#FF6692\", \"#B6E880\", \"#FF97FF\", \"#FECB52\"], \"font\": {\"color\": \"#2a3f5f\"}, \"geo\": {\"bgcolor\": \"white\", \"lakecolor\": \"white\", \"landcolor\": \"#E5ECF6\", \"showlakes\": true, \"showland\": true, \"subunitcolor\": \"white\"}, \"hoverlabel\": {\"align\": \"left\"}, \"hovermode\": \"closest\", \"mapbox\": {\"style\": \"light\"}, \"paper_bgcolor\": \"white\", \"plot_bgcolor\": \"#E5ECF6\", \"polar\": {\"angularaxis\": {\"gridcolor\": \"white\", \"linecolor\": \"white\", \"ticks\": \"\"}, \"bgcolor\": \"#E5ECF6\", \"radialaxis\": {\"gridcolor\": \"white\", \"linecolor\": \"white\", \"ticks\": \"\"}}, \"scene\": {\"xaxis\": {\"backgroundcolor\": \"#E5ECF6\", \"gridcolor\": \"white\", \"gridwidth\": 2, \"linecolor\": \"white\", \"showbackground\": true, \"ticks\": \"\", \"zerolinecolor\": \"white\"}, \"yaxis\": {\"backgroundcolor\": \"#E5ECF6\", \"gridcolor\": \"white\", \"gridwidth\": 2, \"linecolor\": \"white\", \"showbackground\": true, \"ticks\": \"\", \"zerolinecolor\": \"white\"}, \"zaxis\": {\"backgroundcolor\": \"#E5ECF6\", \"gridcolor\": \"white\", \"gridwidth\": 2, \"linecolor\": \"white\", \"showbackground\": true, \"ticks\": \"\", \"zerolinecolor\": \"white\"}}, \"shapedefaults\": {\"line\": {\"color\": \"#2a3f5f\"}}, \"ternary\": {\"aaxis\": {\"gridcolor\": \"white\", \"linecolor\": \"white\", \"ticks\": \"\"}, \"baxis\": {\"gridcolor\": \"white\", \"linecolor\": \"white\", \"ticks\": \"\"}, \"bgcolor\": \"#E5ECF6\", \"caxis\": {\"gridcolor\": \"white\", \"linecolor\": \"white\", \"ticks\": \"\"}}, \"title\": {\"x\": 0.05}, \"xaxis\": {\"automargin\": true, \"gridcolor\": \"white\", \"linecolor\": \"white\", \"ticks\": \"\", \"title\": {\"standoff\": 15}, \"zerolinecolor\": \"white\", \"zerolinewidth\": 2}, \"yaxis\": {\"automargin\": true, \"gridcolor\": \"white\", \"linecolor\": \"white\", \"ticks\": \"\", \"title\": {\"standoff\": 15}, \"zerolinecolor\": \"white\", \"zerolinewidth\": 2}}}, \"title\": {\"font\": {\"color\": \"#4D5663\"}}, \"xaxis\": {\"gridcolor\": \"#E1E5ED\", \"showgrid\": true, \"tickfont\": {\"color\": \"#4D5663\"}, \"title\": {\"font\": {\"color\": \"#4D5663\"}, \"text\": \"\"}, \"zerolinecolor\": \"#E1E5ED\"}, \"yaxis\": {\"gridcolor\": \"#E1E5ED\", \"showgrid\": true, \"tickfont\": {\"color\": \"#4D5663\"}, \"title\": {\"font\": {\"color\": \"#4D5663\"}, \"text\": \"\"}, \"zerolinecolor\": \"#E1E5ED\"}},\n",
       "                        {\"showLink\": true, \"linkText\": \"Export to plot.ly\", \"plotlyServerURL\": \"https://plot.ly\", \"responsive\": true}\n",
       "                    ).then(function(){\n",
       "                            \n",
       "var gd = document.getElementById('15e6e39d-3582-4da5-a0a6-b6c8892d0de3');\n",
       "var x = new MutationObserver(function (mutations, observer) {{\n",
       "        var display = window.getComputedStyle(gd).display;\n",
       "        if (!display || display === 'none') {{\n",
       "            console.log([gd, 'removed!']);\n",
       "            Plotly.purge(gd);\n",
       "            observer.disconnect();\n",
       "        }}\n",
       "}});\n",
       "\n",
       "// Listen for the removal of the full notebook cells\n",
       "var notebookContainer = gd.closest('#notebook-container');\n",
       "if (notebookContainer) {{\n",
       "    x.observe(notebookContainer, {childList: true});\n",
       "}}\n",
       "\n",
       "// Listen for the clearing of the current output cell\n",
       "var outputEl = gd.closest('.output');\n",
       "if (outputEl) {{\n",
       "    x.observe(outputEl, {childList: true});\n",
       "}}\n",
       "\n",
       "                        })\n",
       "                };\n",
       "                });\n",
       "            </script>\n",
       "        </div>"
      ]
     },
     "metadata": {},
     "output_type": "display_data"
    }
   ],
   "source": [
    "df.iplot(kind='scatter',x='A',y='B',size=10)"
   ]
  },
  {
   "cell_type": "markdown",
   "metadata": {},
   "source": [
    "## Bar Plots"
   ]
  },
  {
   "cell_type": "code",
   "execution_count": 24,
   "metadata": {},
   "outputs": [
    {
     "data": {
      "application/vnd.plotly.v1+json": {
       "config": {
        "linkText": "Export to plot.ly",
        "plotlyServerURL": "https://plot.ly",
        "showLink": true
       },
       "data": [
        {
         "marker": {
          "color": "rgba(255, 153, 51, 0.6)",
          "line": {
           "color": "rgba(255, 153, 51, 1.0)",
           "width": 1
          }
         },
         "name": "Values",
         "orientation": "v",
         "text": "",
         "type": "bar",
         "x": [
          "A",
          "B",
          "C"
         ],
         "y": [
          32,
          43,
          50
         ]
        }
       ],
       "layout": {
        "legend": {
         "bgcolor": "#F5F6F9",
         "font": {
          "color": "#4D5663"
         }
        },
        "paper_bgcolor": "#F5F6F9",
        "plot_bgcolor": "#F5F6F9",
        "template": {
         "data": {
          "bar": [
           {
            "error_x": {
             "color": "#2a3f5f"
            },
            "error_y": {
             "color": "#2a3f5f"
            },
            "marker": {
             "line": {
              "color": "#E5ECF6",
              "width": 0.5
             }
            },
            "type": "bar"
           }
          ],
          "barpolar": [
           {
            "marker": {
             "line": {
              "color": "#E5ECF6",
              "width": 0.5
             }
            },
            "type": "barpolar"
           }
          ],
          "carpet": [
           {
            "aaxis": {
             "endlinecolor": "#2a3f5f",
             "gridcolor": "white",
             "linecolor": "white",
             "minorgridcolor": "white",
             "startlinecolor": "#2a3f5f"
            },
            "baxis": {
             "endlinecolor": "#2a3f5f",
             "gridcolor": "white",
             "linecolor": "white",
             "minorgridcolor": "white",
             "startlinecolor": "#2a3f5f"
            },
            "type": "carpet"
           }
          ],
          "choropleth": [
           {
            "colorbar": {
             "outlinewidth": 0,
             "ticks": ""
            },
            "type": "choropleth"
           }
          ],
          "contour": [
           {
            "colorbar": {
             "outlinewidth": 0,
             "ticks": ""
            },
            "colorscale": [
             [
              0,
              "#0d0887"
             ],
             [
              0.1111111111111111,
              "#46039f"
             ],
             [
              0.2222222222222222,
              "#7201a8"
             ],
             [
              0.3333333333333333,
              "#9c179e"
             ],
             [
              0.4444444444444444,
              "#bd3786"
             ],
             [
              0.5555555555555556,
              "#d8576b"
             ],
             [
              0.6666666666666666,
              "#ed7953"
             ],
             [
              0.7777777777777778,
              "#fb9f3a"
             ],
             [
              0.8888888888888888,
              "#fdca26"
             ],
             [
              1,
              "#f0f921"
             ]
            ],
            "type": "contour"
           }
          ],
          "contourcarpet": [
           {
            "colorbar": {
             "outlinewidth": 0,
             "ticks": ""
            },
            "type": "contourcarpet"
           }
          ],
          "heatmap": [
           {
            "colorbar": {
             "outlinewidth": 0,
             "ticks": ""
            },
            "colorscale": [
             [
              0,
              "#0d0887"
             ],
             [
              0.1111111111111111,
              "#46039f"
             ],
             [
              0.2222222222222222,
              "#7201a8"
             ],
             [
              0.3333333333333333,
              "#9c179e"
             ],
             [
              0.4444444444444444,
              "#bd3786"
             ],
             [
              0.5555555555555556,
              "#d8576b"
             ],
             [
              0.6666666666666666,
              "#ed7953"
             ],
             [
              0.7777777777777778,
              "#fb9f3a"
             ],
             [
              0.8888888888888888,
              "#fdca26"
             ],
             [
              1,
              "#f0f921"
             ]
            ],
            "type": "heatmap"
           }
          ],
          "heatmapgl": [
           {
            "colorbar": {
             "outlinewidth": 0,
             "ticks": ""
            },
            "colorscale": [
             [
              0,
              "#0d0887"
             ],
             [
              0.1111111111111111,
              "#46039f"
             ],
             [
              0.2222222222222222,
              "#7201a8"
             ],
             [
              0.3333333333333333,
              "#9c179e"
             ],
             [
              0.4444444444444444,
              "#bd3786"
             ],
             [
              0.5555555555555556,
              "#d8576b"
             ],
             [
              0.6666666666666666,
              "#ed7953"
             ],
             [
              0.7777777777777778,
              "#fb9f3a"
             ],
             [
              0.8888888888888888,
              "#fdca26"
             ],
             [
              1,
              "#f0f921"
             ]
            ],
            "type": "heatmapgl"
           }
          ],
          "histogram": [
           {
            "marker": {
             "colorbar": {
              "outlinewidth": 0,
              "ticks": ""
             }
            },
            "type": "histogram"
           }
          ],
          "histogram2d": [
           {
            "colorbar": {
             "outlinewidth": 0,
             "ticks": ""
            },
            "colorscale": [
             [
              0,
              "#0d0887"
             ],
             [
              0.1111111111111111,
              "#46039f"
             ],
             [
              0.2222222222222222,
              "#7201a8"
             ],
             [
              0.3333333333333333,
              "#9c179e"
             ],
             [
              0.4444444444444444,
              "#bd3786"
             ],
             [
              0.5555555555555556,
              "#d8576b"
             ],
             [
              0.6666666666666666,
              "#ed7953"
             ],
             [
              0.7777777777777778,
              "#fb9f3a"
             ],
             [
              0.8888888888888888,
              "#fdca26"
             ],
             [
              1,
              "#f0f921"
             ]
            ],
            "type": "histogram2d"
           }
          ],
          "histogram2dcontour": [
           {
            "colorbar": {
             "outlinewidth": 0,
             "ticks": ""
            },
            "colorscale": [
             [
              0,
              "#0d0887"
             ],
             [
              0.1111111111111111,
              "#46039f"
             ],
             [
              0.2222222222222222,
              "#7201a8"
             ],
             [
              0.3333333333333333,
              "#9c179e"
             ],
             [
              0.4444444444444444,
              "#bd3786"
             ],
             [
              0.5555555555555556,
              "#d8576b"
             ],
             [
              0.6666666666666666,
              "#ed7953"
             ],
             [
              0.7777777777777778,
              "#fb9f3a"
             ],
             [
              0.8888888888888888,
              "#fdca26"
             ],
             [
              1,
              "#f0f921"
             ]
            ],
            "type": "histogram2dcontour"
           }
          ],
          "mesh3d": [
           {
            "colorbar": {
             "outlinewidth": 0,
             "ticks": ""
            },
            "type": "mesh3d"
           }
          ],
          "parcoords": [
           {
            "line": {
             "colorbar": {
              "outlinewidth": 0,
              "ticks": ""
             }
            },
            "type": "parcoords"
           }
          ],
          "pie": [
           {
            "automargin": true,
            "type": "pie"
           }
          ],
          "scatter": [
           {
            "marker": {
             "colorbar": {
              "outlinewidth": 0,
              "ticks": ""
             }
            },
            "type": "scatter"
           }
          ],
          "scatter3d": [
           {
            "line": {
             "colorbar": {
              "outlinewidth": 0,
              "ticks": ""
             }
            },
            "marker": {
             "colorbar": {
              "outlinewidth": 0,
              "ticks": ""
             }
            },
            "type": "scatter3d"
           }
          ],
          "scattercarpet": [
           {
            "marker": {
             "colorbar": {
              "outlinewidth": 0,
              "ticks": ""
             }
            },
            "type": "scattercarpet"
           }
          ],
          "scattergeo": [
           {
            "marker": {
             "colorbar": {
              "outlinewidth": 0,
              "ticks": ""
             }
            },
            "type": "scattergeo"
           }
          ],
          "scattergl": [
           {
            "marker": {
             "colorbar": {
              "outlinewidth": 0,
              "ticks": ""
             }
            },
            "type": "scattergl"
           }
          ],
          "scattermapbox": [
           {
            "marker": {
             "colorbar": {
              "outlinewidth": 0,
              "ticks": ""
             }
            },
            "type": "scattermapbox"
           }
          ],
          "scatterpolar": [
           {
            "marker": {
             "colorbar": {
              "outlinewidth": 0,
              "ticks": ""
             }
            },
            "type": "scatterpolar"
           }
          ],
          "scatterpolargl": [
           {
            "marker": {
             "colorbar": {
              "outlinewidth": 0,
              "ticks": ""
             }
            },
            "type": "scatterpolargl"
           }
          ],
          "scatterternary": [
           {
            "marker": {
             "colorbar": {
              "outlinewidth": 0,
              "ticks": ""
             }
            },
            "type": "scatterternary"
           }
          ],
          "surface": [
           {
            "colorbar": {
             "outlinewidth": 0,
             "ticks": ""
            },
            "colorscale": [
             [
              0,
              "#0d0887"
             ],
             [
              0.1111111111111111,
              "#46039f"
             ],
             [
              0.2222222222222222,
              "#7201a8"
             ],
             [
              0.3333333333333333,
              "#9c179e"
             ],
             [
              0.4444444444444444,
              "#bd3786"
             ],
             [
              0.5555555555555556,
              "#d8576b"
             ],
             [
              0.6666666666666666,
              "#ed7953"
             ],
             [
              0.7777777777777778,
              "#fb9f3a"
             ],
             [
              0.8888888888888888,
              "#fdca26"
             ],
             [
              1,
              "#f0f921"
             ]
            ],
            "type": "surface"
           }
          ],
          "table": [
           {
            "cells": {
             "fill": {
              "color": "#EBF0F8"
             },
             "line": {
              "color": "white"
             }
            },
            "header": {
             "fill": {
              "color": "#C8D4E3"
             },
             "line": {
              "color": "white"
             }
            },
            "type": "table"
           }
          ]
         },
         "layout": {
          "annotationdefaults": {
           "arrowcolor": "#2a3f5f",
           "arrowhead": 0,
           "arrowwidth": 1
          },
          "coloraxis": {
           "colorbar": {
            "outlinewidth": 0,
            "ticks": ""
           }
          },
          "colorscale": {
           "diverging": [
            [
             0,
             "#8e0152"
            ],
            [
             0.1,
             "#c51b7d"
            ],
            [
             0.2,
             "#de77ae"
            ],
            [
             0.3,
             "#f1b6da"
            ],
            [
             0.4,
             "#fde0ef"
            ],
            [
             0.5,
             "#f7f7f7"
            ],
            [
             0.6,
             "#e6f5d0"
            ],
            [
             0.7,
             "#b8e186"
            ],
            [
             0.8,
             "#7fbc41"
            ],
            [
             0.9,
             "#4d9221"
            ],
            [
             1,
             "#276419"
            ]
           ],
           "sequential": [
            [
             0,
             "#0d0887"
            ],
            [
             0.1111111111111111,
             "#46039f"
            ],
            [
             0.2222222222222222,
             "#7201a8"
            ],
            [
             0.3333333333333333,
             "#9c179e"
            ],
            [
             0.4444444444444444,
             "#bd3786"
            ],
            [
             0.5555555555555556,
             "#d8576b"
            ],
            [
             0.6666666666666666,
             "#ed7953"
            ],
            [
             0.7777777777777778,
             "#fb9f3a"
            ],
            [
             0.8888888888888888,
             "#fdca26"
            ],
            [
             1,
             "#f0f921"
            ]
           ],
           "sequentialminus": [
            [
             0,
             "#0d0887"
            ],
            [
             0.1111111111111111,
             "#46039f"
            ],
            [
             0.2222222222222222,
             "#7201a8"
            ],
            [
             0.3333333333333333,
             "#9c179e"
            ],
            [
             0.4444444444444444,
             "#bd3786"
            ],
            [
             0.5555555555555556,
             "#d8576b"
            ],
            [
             0.6666666666666666,
             "#ed7953"
            ],
            [
             0.7777777777777778,
             "#fb9f3a"
            ],
            [
             0.8888888888888888,
             "#fdca26"
            ],
            [
             1,
             "#f0f921"
            ]
           ]
          },
          "colorway": [
           "#636efa",
           "#EF553B",
           "#00cc96",
           "#ab63fa",
           "#FFA15A",
           "#19d3f3",
           "#FF6692",
           "#B6E880",
           "#FF97FF",
           "#FECB52"
          ],
          "font": {
           "color": "#2a3f5f"
          },
          "geo": {
           "bgcolor": "white",
           "lakecolor": "white",
           "landcolor": "#E5ECF6",
           "showlakes": true,
           "showland": true,
           "subunitcolor": "white"
          },
          "hoverlabel": {
           "align": "left"
          },
          "hovermode": "closest",
          "mapbox": {
           "style": "light"
          },
          "paper_bgcolor": "white",
          "plot_bgcolor": "#E5ECF6",
          "polar": {
           "angularaxis": {
            "gridcolor": "white",
            "linecolor": "white",
            "ticks": ""
           },
           "bgcolor": "#E5ECF6",
           "radialaxis": {
            "gridcolor": "white",
            "linecolor": "white",
            "ticks": ""
           }
          },
          "scene": {
           "xaxis": {
            "backgroundcolor": "#E5ECF6",
            "gridcolor": "white",
            "gridwidth": 2,
            "linecolor": "white",
            "showbackground": true,
            "ticks": "",
            "zerolinecolor": "white"
           },
           "yaxis": {
            "backgroundcolor": "#E5ECF6",
            "gridcolor": "white",
            "gridwidth": 2,
            "linecolor": "white",
            "showbackground": true,
            "ticks": "",
            "zerolinecolor": "white"
           },
           "zaxis": {
            "backgroundcolor": "#E5ECF6",
            "gridcolor": "white",
            "gridwidth": 2,
            "linecolor": "white",
            "showbackground": true,
            "ticks": "",
            "zerolinecolor": "white"
           }
          },
          "shapedefaults": {
           "line": {
            "color": "#2a3f5f"
           }
          },
          "ternary": {
           "aaxis": {
            "gridcolor": "white",
            "linecolor": "white",
            "ticks": ""
           },
           "baxis": {
            "gridcolor": "white",
            "linecolor": "white",
            "ticks": ""
           },
           "bgcolor": "#E5ECF6",
           "caxis": {
            "gridcolor": "white",
            "linecolor": "white",
            "ticks": ""
           }
          },
          "title": {
           "x": 0.05
          },
          "xaxis": {
           "automargin": true,
           "gridcolor": "white",
           "linecolor": "white",
           "ticks": "",
           "title": {
            "standoff": 15
           },
           "zerolinecolor": "white",
           "zerolinewidth": 2
          },
          "yaxis": {
           "automargin": true,
           "gridcolor": "white",
           "linecolor": "white",
           "ticks": "",
           "title": {
            "standoff": 15
           },
           "zerolinecolor": "white",
           "zerolinewidth": 2
          }
         }
        },
        "title": {
         "font": {
          "color": "#4D5663"
         }
        },
        "xaxis": {
         "gridcolor": "#E1E5ED",
         "showgrid": true,
         "tickfont": {
          "color": "#4D5663"
         },
         "title": {
          "font": {
           "color": "#4D5663"
          },
          "text": ""
         },
         "zerolinecolor": "#E1E5ED"
        },
        "yaxis": {
         "gridcolor": "#E1E5ED",
         "showgrid": true,
         "tickfont": {
          "color": "#4D5663"
         },
         "title": {
          "font": {
           "color": "#4D5663"
          },
          "text": ""
         },
         "zerolinecolor": "#E1E5ED"
        }
       }
      },
      "text/html": [
       "<div>\n",
       "        \n",
       "        \n",
       "            <div id=\"1e71d57f-6ff1-42ea-a546-a13342b89395\" class=\"plotly-graph-div\" style=\"height:525px; width:100%;\"></div>\n",
       "            <script type=\"text/javascript\">\n",
       "                require([\"plotly\"], function(Plotly) {\n",
       "                    window.PLOTLYENV=window.PLOTLYENV || {};\n",
       "                    window.PLOTLYENV.BASE_URL='https://plot.ly';\n",
       "                    \n",
       "                if (document.getElementById(\"1e71d57f-6ff1-42ea-a546-a13342b89395\")) {\n",
       "                    Plotly.newPlot(\n",
       "                        '1e71d57f-6ff1-42ea-a546-a13342b89395',\n",
       "                        [{\"marker\": {\"color\": \"rgba(255, 153, 51, 0.6)\", \"line\": {\"color\": \"rgba(255, 153, 51, 1.0)\", \"width\": 1}}, \"name\": \"Values\", \"orientation\": \"v\", \"text\": \"\", \"type\": \"bar\", \"x\": [\"A\", \"B\", \"C\"], \"y\": [32, 43, 50]}],\n",
       "                        {\"legend\": {\"bgcolor\": \"#F5F6F9\", \"font\": {\"color\": \"#4D5663\"}}, \"paper_bgcolor\": \"#F5F6F9\", \"plot_bgcolor\": \"#F5F6F9\", \"template\": {\"data\": {\"bar\": [{\"error_x\": {\"color\": \"#2a3f5f\"}, \"error_y\": {\"color\": \"#2a3f5f\"}, \"marker\": {\"line\": {\"color\": \"#E5ECF6\", \"width\": 0.5}}, \"type\": \"bar\"}], \"barpolar\": [{\"marker\": {\"line\": {\"color\": \"#E5ECF6\", \"width\": 0.5}}, \"type\": \"barpolar\"}], \"carpet\": [{\"aaxis\": {\"endlinecolor\": \"#2a3f5f\", \"gridcolor\": \"white\", \"linecolor\": \"white\", \"minorgridcolor\": \"white\", \"startlinecolor\": \"#2a3f5f\"}, \"baxis\": {\"endlinecolor\": \"#2a3f5f\", \"gridcolor\": \"white\", \"linecolor\": \"white\", \"minorgridcolor\": \"white\", \"startlinecolor\": \"#2a3f5f\"}, \"type\": \"carpet\"}], \"choropleth\": [{\"colorbar\": {\"outlinewidth\": 0, \"ticks\": \"\"}, \"type\": \"choropleth\"}], \"contour\": [{\"colorbar\": {\"outlinewidth\": 0, \"ticks\": \"\"}, \"colorscale\": [[0.0, \"#0d0887\"], [0.1111111111111111, \"#46039f\"], [0.2222222222222222, \"#7201a8\"], [0.3333333333333333, \"#9c179e\"], [0.4444444444444444, \"#bd3786\"], [0.5555555555555556, \"#d8576b\"], [0.6666666666666666, \"#ed7953\"], [0.7777777777777778, \"#fb9f3a\"], [0.8888888888888888, \"#fdca26\"], [1.0, \"#f0f921\"]], \"type\": \"contour\"}], \"contourcarpet\": [{\"colorbar\": {\"outlinewidth\": 0, \"ticks\": \"\"}, \"type\": \"contourcarpet\"}], \"heatmap\": [{\"colorbar\": {\"outlinewidth\": 0, \"ticks\": \"\"}, \"colorscale\": [[0.0, \"#0d0887\"], [0.1111111111111111, \"#46039f\"], [0.2222222222222222, \"#7201a8\"], [0.3333333333333333, \"#9c179e\"], [0.4444444444444444, \"#bd3786\"], [0.5555555555555556, \"#d8576b\"], [0.6666666666666666, \"#ed7953\"], [0.7777777777777778, \"#fb9f3a\"], [0.8888888888888888, \"#fdca26\"], [1.0, \"#f0f921\"]], \"type\": \"heatmap\"}], \"heatmapgl\": [{\"colorbar\": {\"outlinewidth\": 0, \"ticks\": \"\"}, \"colorscale\": [[0.0, \"#0d0887\"], [0.1111111111111111, \"#46039f\"], [0.2222222222222222, \"#7201a8\"], [0.3333333333333333, \"#9c179e\"], [0.4444444444444444, \"#bd3786\"], [0.5555555555555556, \"#d8576b\"], [0.6666666666666666, \"#ed7953\"], [0.7777777777777778, \"#fb9f3a\"], [0.8888888888888888, \"#fdca26\"], [1.0, \"#f0f921\"]], \"type\": \"heatmapgl\"}], \"histogram\": [{\"marker\": {\"colorbar\": {\"outlinewidth\": 0, \"ticks\": \"\"}}, \"type\": \"histogram\"}], \"histogram2d\": [{\"colorbar\": {\"outlinewidth\": 0, \"ticks\": \"\"}, \"colorscale\": [[0.0, \"#0d0887\"], [0.1111111111111111, \"#46039f\"], [0.2222222222222222, \"#7201a8\"], [0.3333333333333333, \"#9c179e\"], [0.4444444444444444, \"#bd3786\"], [0.5555555555555556, \"#d8576b\"], [0.6666666666666666, \"#ed7953\"], [0.7777777777777778, \"#fb9f3a\"], [0.8888888888888888, \"#fdca26\"], [1.0, \"#f0f921\"]], \"type\": \"histogram2d\"}], \"histogram2dcontour\": [{\"colorbar\": {\"outlinewidth\": 0, \"ticks\": \"\"}, \"colorscale\": [[0.0, \"#0d0887\"], [0.1111111111111111, \"#46039f\"], [0.2222222222222222, \"#7201a8\"], [0.3333333333333333, \"#9c179e\"], [0.4444444444444444, \"#bd3786\"], [0.5555555555555556, \"#d8576b\"], [0.6666666666666666, \"#ed7953\"], [0.7777777777777778, \"#fb9f3a\"], [0.8888888888888888, \"#fdca26\"], [1.0, \"#f0f921\"]], \"type\": \"histogram2dcontour\"}], \"mesh3d\": [{\"colorbar\": {\"outlinewidth\": 0, \"ticks\": \"\"}, \"type\": \"mesh3d\"}], \"parcoords\": [{\"line\": {\"colorbar\": {\"outlinewidth\": 0, \"ticks\": \"\"}}, \"type\": \"parcoords\"}], \"pie\": [{\"automargin\": true, \"type\": \"pie\"}], \"scatter\": [{\"marker\": {\"colorbar\": {\"outlinewidth\": 0, \"ticks\": \"\"}}, \"type\": \"scatter\"}], \"scatter3d\": [{\"line\": {\"colorbar\": {\"outlinewidth\": 0, \"ticks\": \"\"}}, \"marker\": {\"colorbar\": {\"outlinewidth\": 0, \"ticks\": \"\"}}, \"type\": \"scatter3d\"}], \"scattercarpet\": [{\"marker\": {\"colorbar\": {\"outlinewidth\": 0, \"ticks\": \"\"}}, \"type\": \"scattercarpet\"}], \"scattergeo\": [{\"marker\": {\"colorbar\": {\"outlinewidth\": 0, \"ticks\": \"\"}}, \"type\": \"scattergeo\"}], \"scattergl\": [{\"marker\": {\"colorbar\": {\"outlinewidth\": 0, \"ticks\": \"\"}}, \"type\": \"scattergl\"}], \"scattermapbox\": [{\"marker\": {\"colorbar\": {\"outlinewidth\": 0, \"ticks\": \"\"}}, \"type\": \"scattermapbox\"}], \"scatterpolar\": [{\"marker\": {\"colorbar\": {\"outlinewidth\": 0, \"ticks\": \"\"}}, \"type\": \"scatterpolar\"}], \"scatterpolargl\": [{\"marker\": {\"colorbar\": {\"outlinewidth\": 0, \"ticks\": \"\"}}, \"type\": \"scatterpolargl\"}], \"scatterternary\": [{\"marker\": {\"colorbar\": {\"outlinewidth\": 0, \"ticks\": \"\"}}, \"type\": \"scatterternary\"}], \"surface\": [{\"colorbar\": {\"outlinewidth\": 0, \"ticks\": \"\"}, \"colorscale\": [[0.0, \"#0d0887\"], [0.1111111111111111, \"#46039f\"], [0.2222222222222222, \"#7201a8\"], [0.3333333333333333, \"#9c179e\"], [0.4444444444444444, \"#bd3786\"], [0.5555555555555556, \"#d8576b\"], [0.6666666666666666, \"#ed7953\"], [0.7777777777777778, \"#fb9f3a\"], [0.8888888888888888, \"#fdca26\"], [1.0, \"#f0f921\"]], \"type\": \"surface\"}], \"table\": [{\"cells\": {\"fill\": {\"color\": \"#EBF0F8\"}, \"line\": {\"color\": \"white\"}}, \"header\": {\"fill\": {\"color\": \"#C8D4E3\"}, \"line\": {\"color\": \"white\"}}, \"type\": \"table\"}]}, \"layout\": {\"annotationdefaults\": {\"arrowcolor\": \"#2a3f5f\", \"arrowhead\": 0, \"arrowwidth\": 1}, \"coloraxis\": {\"colorbar\": {\"outlinewidth\": 0, \"ticks\": \"\"}}, \"colorscale\": {\"diverging\": [[0, \"#8e0152\"], [0.1, \"#c51b7d\"], [0.2, \"#de77ae\"], [0.3, \"#f1b6da\"], [0.4, \"#fde0ef\"], [0.5, \"#f7f7f7\"], [0.6, \"#e6f5d0\"], [0.7, \"#b8e186\"], [0.8, \"#7fbc41\"], [0.9, \"#4d9221\"], [1, \"#276419\"]], \"sequential\": [[0.0, \"#0d0887\"], [0.1111111111111111, \"#46039f\"], [0.2222222222222222, \"#7201a8\"], [0.3333333333333333, \"#9c179e\"], [0.4444444444444444, \"#bd3786\"], [0.5555555555555556, \"#d8576b\"], [0.6666666666666666, \"#ed7953\"], [0.7777777777777778, \"#fb9f3a\"], [0.8888888888888888, \"#fdca26\"], [1.0, \"#f0f921\"]], \"sequentialminus\": [[0.0, \"#0d0887\"], [0.1111111111111111, \"#46039f\"], [0.2222222222222222, \"#7201a8\"], [0.3333333333333333, \"#9c179e\"], [0.4444444444444444, \"#bd3786\"], [0.5555555555555556, \"#d8576b\"], [0.6666666666666666, \"#ed7953\"], [0.7777777777777778, \"#fb9f3a\"], [0.8888888888888888, \"#fdca26\"], [1.0, \"#f0f921\"]]}, \"colorway\": [\"#636efa\", \"#EF553B\", \"#00cc96\", \"#ab63fa\", \"#FFA15A\", \"#19d3f3\", \"#FF6692\", \"#B6E880\", \"#FF97FF\", \"#FECB52\"], \"font\": {\"color\": \"#2a3f5f\"}, \"geo\": {\"bgcolor\": \"white\", \"lakecolor\": \"white\", \"landcolor\": \"#E5ECF6\", \"showlakes\": true, \"showland\": true, \"subunitcolor\": \"white\"}, \"hoverlabel\": {\"align\": \"left\"}, \"hovermode\": \"closest\", \"mapbox\": {\"style\": \"light\"}, \"paper_bgcolor\": \"white\", \"plot_bgcolor\": \"#E5ECF6\", \"polar\": {\"angularaxis\": {\"gridcolor\": \"white\", \"linecolor\": \"white\", \"ticks\": \"\"}, \"bgcolor\": \"#E5ECF6\", \"radialaxis\": {\"gridcolor\": \"white\", \"linecolor\": \"white\", \"ticks\": \"\"}}, \"scene\": {\"xaxis\": {\"backgroundcolor\": \"#E5ECF6\", \"gridcolor\": \"white\", \"gridwidth\": 2, \"linecolor\": \"white\", \"showbackground\": true, \"ticks\": \"\", \"zerolinecolor\": \"white\"}, \"yaxis\": {\"backgroundcolor\": \"#E5ECF6\", \"gridcolor\": \"white\", \"gridwidth\": 2, \"linecolor\": \"white\", \"showbackground\": true, \"ticks\": \"\", \"zerolinecolor\": \"white\"}, \"zaxis\": {\"backgroundcolor\": \"#E5ECF6\", \"gridcolor\": \"white\", \"gridwidth\": 2, \"linecolor\": \"white\", \"showbackground\": true, \"ticks\": \"\", \"zerolinecolor\": \"white\"}}, \"shapedefaults\": {\"line\": {\"color\": \"#2a3f5f\"}}, \"ternary\": {\"aaxis\": {\"gridcolor\": \"white\", \"linecolor\": \"white\", \"ticks\": \"\"}, \"baxis\": {\"gridcolor\": \"white\", \"linecolor\": \"white\", \"ticks\": \"\"}, \"bgcolor\": \"#E5ECF6\", \"caxis\": {\"gridcolor\": \"white\", \"linecolor\": \"white\", \"ticks\": \"\"}}, \"title\": {\"x\": 0.05}, \"xaxis\": {\"automargin\": true, \"gridcolor\": \"white\", \"linecolor\": \"white\", \"ticks\": \"\", \"title\": {\"standoff\": 15}, \"zerolinecolor\": \"white\", \"zerolinewidth\": 2}, \"yaxis\": {\"automargin\": true, \"gridcolor\": \"white\", \"linecolor\": \"white\", \"ticks\": \"\", \"title\": {\"standoff\": 15}, \"zerolinecolor\": \"white\", \"zerolinewidth\": 2}}}, \"title\": {\"font\": {\"color\": \"#4D5663\"}}, \"xaxis\": {\"gridcolor\": \"#E1E5ED\", \"showgrid\": true, \"tickfont\": {\"color\": \"#4D5663\"}, \"title\": {\"font\": {\"color\": \"#4D5663\"}, \"text\": \"\"}, \"zerolinecolor\": \"#E1E5ED\"}, \"yaxis\": {\"gridcolor\": \"#E1E5ED\", \"showgrid\": true, \"tickfont\": {\"color\": \"#4D5663\"}, \"title\": {\"font\": {\"color\": \"#4D5663\"}, \"text\": \"\"}, \"zerolinecolor\": \"#E1E5ED\"}},\n",
       "                        {\"showLink\": true, \"linkText\": \"Export to plot.ly\", \"plotlyServerURL\": \"https://plot.ly\", \"responsive\": true}\n",
       "                    ).then(function(){\n",
       "                            \n",
       "var gd = document.getElementById('1e71d57f-6ff1-42ea-a546-a13342b89395');\n",
       "var x = new MutationObserver(function (mutations, observer) {{\n",
       "        var display = window.getComputedStyle(gd).display;\n",
       "        if (!display || display === 'none') {{\n",
       "            console.log([gd, 'removed!']);\n",
       "            Plotly.purge(gd);\n",
       "            observer.disconnect();\n",
       "        }}\n",
       "}});\n",
       "\n",
       "// Listen for the removal of the full notebook cells\n",
       "var notebookContainer = gd.closest('#notebook-container');\n",
       "if (notebookContainer) {{\n",
       "    x.observe(notebookContainer, {childList: true});\n",
       "}}\n",
       "\n",
       "// Listen for the clearing of the current output cell\n",
       "var outputEl = gd.closest('.output');\n",
       "if (outputEl) {{\n",
       "    x.observe(outputEl, {childList: true});\n",
       "}}\n",
       "\n",
       "                        })\n",
       "                };\n",
       "                });\n",
       "            </script>\n",
       "        </div>"
      ]
     },
     "metadata": {},
     "output_type": "display_data"
    }
   ],
   "source": [
    "df2.iplot(kind='bar',x='Category',y='Values')"
   ]
  },
  {
   "cell_type": "code",
   "execution_count": 25,
   "metadata": {},
   "outputs": [
    {
     "data": {
      "application/vnd.plotly.v1+json": {
       "config": {
        "linkText": "Export to plot.ly",
        "plotlyServerURL": "https://plot.ly",
        "showLink": true
       },
       "data": [
        {
         "marker": {
          "color": "rgba(255, 153, 51, 0.6)",
          "line": {
           "color": "rgba(255, 153, 51, 1.0)",
           "width": 1
          }
         },
         "name": "A",
         "orientation": "v",
         "text": "",
         "type": "bar",
         "x": [
          0,
          1,
          2,
          3,
          4,
          5,
          6,
          7,
          8,
          9,
          10,
          11,
          12,
          13,
          14,
          15,
          16,
          17,
          18,
          19,
          20,
          21,
          22,
          23,
          24,
          25,
          26,
          27,
          28,
          29,
          30,
          31,
          32,
          33,
          34,
          35,
          36,
          37,
          38,
          39,
          40,
          41,
          42,
          43,
          44,
          45,
          46,
          47,
          48,
          49,
          50,
          51,
          52,
          53,
          54,
          55,
          56,
          57,
          58,
          59,
          60,
          61,
          62,
          63,
          64,
          65,
          66,
          67,
          68,
          69,
          70,
          71,
          72,
          73,
          74,
          75,
          76,
          77,
          78,
          79,
          80,
          81,
          82,
          83,
          84,
          85,
          86,
          87,
          88,
          89,
          90,
          91,
          92,
          93,
          94,
          95,
          96,
          97,
          98,
          99
         ],
         "y": [
          -1.149882228543045,
          1.5362385410467798,
          0.3932379374579331,
          -2.059996463523254,
          0.09562991677781363,
          -0.1844539287632311,
          2.3418220729645576,
          -0.43975047658280936,
          0.6288630050374875,
          -0.030326212811700944,
          -1.702156021656865,
          -1.517666528581438,
          1.19528182618035,
          -0.9288515943816018,
          0.2672440911504483,
          -0.4002975415796906,
          -1.2173180116996651,
          0.9662247412467714,
          -1.9290761726699661,
          1.249919408423394,
          -0.6783813256393709,
          -0.7888541279691633,
          -2.7701270507949274,
          -0.4570081697608714,
          -1.5754577270896186,
          1.7040742114772185,
          -1.323623647403465,
          -1.0710918640009173,
          0.2187213850037935,
          -0.07078716233479242,
          -1.303646959301516,
          2.1897266317892035,
          0.13093518856030348,
          -0.9903480467852114,
          0.33671892236565953,
          -1.1556963538417262,
          -0.2773860242357469,
          1.9377494811247495,
          0.1423953006490988,
          0.6731945716487792,
          -0.46541278669836533,
          -0.714379146180877,
          1.0651922056412366,
          0.3114333896682094,
          -0.29224469547465676,
          -0.6358918139816263,
          -0.06286318467275165,
          0.07858067675403434,
          -0.02010629030746235,
          0.9735632755624417,
          0.3806941990300737,
          0.9555634570784103,
          -0.38220496895255784,
          -0.22327324528616546,
          -1.8998284305790532,
          -0.24424740920339258,
          -0.02526692348391983,
          -0.1382620224959738,
          1.395861014773399,
          -0.3604338840902675,
          0.3563945466276664,
          -0.07645210423467486,
          1.058060157864064,
          0.03543017928138459,
          0.32199934259140944,
          0.7294917431182483,
          0.16221584077406218,
          0.44579793102551135,
          -0.06772507530824512,
          0.39109205187050505,
          -0.7385195761252955,
          -1.2023650450948926,
          -1.3018179686182045,
          -0.7588769767804764,
          0.8540615931350239,
          0.7937811845169089,
          -0.11330210909059032,
          0.9786046847077196,
          0.1026403652012129,
          -0.6973082302186342,
          -0.7309060647842065,
          -0.3824059171264001,
          0.5322395624685383,
          0.5520881490592399,
          0.7893147543534774,
          0.9593248351973666,
          0.08953894702720594,
          -0.10201225506825605,
          -0.112709501292115,
          -0.6104114734459825,
          0.4274545255274656,
          0.3232725058320922,
          0.14213070118669957,
          -0.7675916048632497,
          -0.15544652729455274,
          -0.6522117023376075,
          1.7648913777096549,
          -1.0343556208880231,
          0.6291210941714808,
          -0.2714321671685072
         ]
        },
        {
         "marker": {
          "color": "rgba(55, 128, 191, 0.6)",
          "line": {
           "color": "rgba(55, 128, 191, 1.0)",
           "width": 1
          }
         },
         "name": "B",
         "orientation": "v",
         "text": "",
         "type": "bar",
         "x": [
          0,
          1,
          2,
          3,
          4,
          5,
          6,
          7,
          8,
          9,
          10,
          11,
          12,
          13,
          14,
          15,
          16,
          17,
          18,
          19,
          20,
          21,
          22,
          23,
          24,
          25,
          26,
          27,
          28,
          29,
          30,
          31,
          32,
          33,
          34,
          35,
          36,
          37,
          38,
          39,
          40,
          41,
          42,
          43,
          44,
          45,
          46,
          47,
          48,
          49,
          50,
          51,
          52,
          53,
          54,
          55,
          56,
          57,
          58,
          59,
          60,
          61,
          62,
          63,
          64,
          65,
          66,
          67,
          68,
          69,
          70,
          71,
          72,
          73,
          74,
          75,
          76,
          77,
          78,
          79,
          80,
          81,
          82,
          83,
          84,
          85,
          86,
          87,
          88,
          89,
          90,
          91,
          92,
          93,
          94,
          95,
          96,
          97,
          98,
          99
         ],
         "y": [
          -0.821596800402655,
          0.5664394505597601,
          0.5089641346070292,
          -0.2592635248813433,
          1.1425648848092516,
          0.1303293725182424,
          -0.7452599453081017,
          0.6807839819422564,
          -0.03025028909446263,
          -0.7216948550717397,
          0.012099971974348565,
          -1.9328018674909626,
          0.2940669437690773,
          -0.6425845565868856,
          -1.274457701503331,
          -0.31820163749691893,
          -0.9201990535926323,
          -1.3082244088756303,
          0.9672470890932595,
          0.5604202824371384,
          -0.7169037558756315,
          0.5214208294070508,
          0.005276194451701883,
          1.34131395639202,
          0.862730069774194,
          0.444210324881266,
          0.7166122997543846,
          0.5905621985926649,
          -0.6123356568653066,
          -0.526925454627251,
          0.3566581207234709,
          -0.7958593703435825,
          0.4820928557493119,
          2.082313812263963,
          1.2477493754732194,
          0.4347371625321479,
          -0.5524659931146368,
          -0.8005632090645551,
          -0.49586200765958227,
          0.7363425104966456,
          -0.5004712861884172,
          1.0482761927570294,
          -0.6137346570027824,
          -0.03968309123000246,
          -0.3226370483232409,
          -0.9003242820526284,
          -0.4726691235269847,
          1.468411024145207,
          -0.45566617797248504,
          0.07953301178126826,
          0.5357369360643719,
          -0.08765107497054818,
          -1.426308343534027,
          0.819068484709911,
          1.8086881553071021,
          0.40025853155354885,
          -0.8893840863646113,
          0.9387138657020594,
          0.6986426191038498,
          0.43740462673617786,
          0.6644892611484586,
          0.0311752431301281,
          -0.8240084892443692,
          1.5178420616192276,
          0.014463322301807217,
          -0.07506796365150185,
          0.25267110665442416,
          0.9536021445007004,
          -0.021310183431371237,
          -1.3114035432534275,
          0.8592510660239445,
          -1.2507752033737798,
          1.4246620884121426,
          1.1027173115312447,
          0.6118120227281758,
          -0.7975020166108695,
          -1.462540048851282,
          0.6827294493991927,
          0.5334301271174584,
          0.7294526884023559,
          -0.04388537975766861,
          -0.789556783280647,
          0.3392864194491249,
          0.790166279806434,
          1.0259494794903965,
          0.27094021554193,
          1.4829223336581099,
          -0.23293511983863718,
          0.6859245229420942,
          0.5874723324937035,
          0.48557210628845787,
          -0.12662879963201118,
          0.9212668798284969,
          -1.2223765090701693,
          -0.029869681236115303,
          -1.8045036109927406,
          -1.9155662026040001,
          -0.536847880512402,
          0.34557732447025485,
          -0.3892917688322118
         ]
        },
        {
         "marker": {
          "color": "rgba(50, 171, 96, 0.6)",
          "line": {
           "color": "rgba(50, 171, 96, 1.0)",
           "width": 1
          }
         },
         "name": "C",
         "orientation": "v",
         "text": "",
         "type": "bar",
         "x": [
          0,
          1,
          2,
          3,
          4,
          5,
          6,
          7,
          8,
          9,
          10,
          11,
          12,
          13,
          14,
          15,
          16,
          17,
          18,
          19,
          20,
          21,
          22,
          23,
          24,
          25,
          26,
          27,
          28,
          29,
          30,
          31,
          32,
          33,
          34,
          35,
          36,
          37,
          38,
          39,
          40,
          41,
          42,
          43,
          44,
          45,
          46,
          47,
          48,
          49,
          50,
          51,
          52,
          53,
          54,
          55,
          56,
          57,
          58,
          59,
          60,
          61,
          62,
          63,
          64,
          65,
          66,
          67,
          68,
          69,
          70,
          71,
          72,
          73,
          74,
          75,
          76,
          77,
          78,
          79,
          80,
          81,
          82,
          83,
          84,
          85,
          86,
          87,
          88,
          89,
          90,
          91,
          92,
          93,
          94,
          95,
          96,
          97,
          98,
          99
         ],
         "y": [
          -0.05043432899368031,
          0.6383985377849963,
          -0.5552104688070715,
          0.8733894761659502,
          -0.27973637356455144,
          0.3099198456823666,
          -0.88279025720947,
          1.5867347920708614,
          -1.1682939504435819,
          -0.5398035790255533,
          2.6047288884328945,
          -0.28450355075339073,
          -0.18411605199644634,
          -0.7087374298548398,
          1.6390687626183504,
          -0.5433847348255266,
          -0.29102616128048525,
          0.3867966969243918,
          -0.5738198681006161,
          -0.8467916453984707,
          0.5297032633356104,
          0.34987822330080387,
          0.6945634517303589,
          0.7468221924352632,
          1.900151098890552,
          -0.621938312162858,
          -0.16362440785066615,
          0.3584161327870031,
          0.6084762558026675,
          -0.9318463866260959,
          -1.7149056880168532,
          -0.10128499226000447,
          0.19637626627572874,
          0.2969997402467644,
          -0.5831229998849408,
          -0.6053470808434863,
          -0.519200620192376,
          1.132014562741578,
          2.14583857085064,
          1.1082670904027203,
          0.9915436083465138,
          0.35064782627575036,
          -0.8718624044359158,
          -0.7711209904670029,
          1.8434894167073075,
          -0.881682946775223,
          2.2198785443767775,
          -0.9020703454223811,
          -2.0310072709609477,
          0.0859417760441214,
          -0.5497913464560333,
          -0.8896792267662379,
          0.0501728664565584,
          -1.4144078755079297,
          -1.2547969891058721,
          0.4244866684966232,
          0.5746324117859202,
          0.23125449383760513,
          0.6734505472376046,
          0.9481492334735947,
          -0.15602051696246882,
          -0.27681846353088535,
          0.6879641900610127,
          -0.5650179988527602,
          -0.6727447321566563,
          0.8055284608391798,
          -0.07814871647186178,
          0.5983513117146525,
          0.39409971719175724,
          0.2652492847240678,
          -1.1594253536181287,
          1.5322943352645402,
          0.29524129053229714,
          -0.21092943984307086,
          0.7241385453207122,
          -0.5075445506409986,
          -1.0399223896721543,
          -2.6981299945993604,
          0.444443913026689,
          -0.2080299799409404,
          -0.48655055177461065,
          -0.24397033164856838,
          -0.1394653239772895,
          0.8566379732556342,
          -0.40928402997218166,
          -0.8146622155618218,
          -0.12037812400398963,
          -0.0004340621273201351,
          2.4020992968620263,
          0.8084817681546183,
          0.3342529934430462,
          0.21356656246612182,
          -0.7660769594747029,
          -0.1688787331661423,
          -0.8175685865248625,
          1.1337186472505991,
          -0.8818864274262241,
          -0.6262697386361157,
          -1.587580606392134,
          1.3878120685001782
         ]
        },
        {
         "marker": {
          "color": "rgba(128, 0, 128, 0.6)",
          "line": {
           "color": "rgba(128, 0, 128, 1.0)",
           "width": 1
          }
         },
         "name": "D",
         "orientation": "v",
         "text": "",
         "type": "bar",
         "x": [
          0,
          1,
          2,
          3,
          4,
          5,
          6,
          7,
          8,
          9,
          10,
          11,
          12,
          13,
          14,
          15,
          16,
          17,
          18,
          19,
          20,
          21,
          22,
          23,
          24,
          25,
          26,
          27,
          28,
          29,
          30,
          31,
          32,
          33,
          34,
          35,
          36,
          37,
          38,
          39,
          40,
          41,
          42,
          43,
          44,
          45,
          46,
          47,
          48,
          49,
          50,
          51,
          52,
          53,
          54,
          55,
          56,
          57,
          58,
          59,
          60,
          61,
          62,
          63,
          64,
          65,
          66,
          67,
          68,
          69,
          70,
          71,
          72,
          73,
          74,
          75,
          76,
          77,
          78,
          79,
          80,
          81,
          82,
          83,
          84,
          85,
          86,
          87,
          88,
          89,
          90,
          91,
          92,
          93,
          94,
          95,
          96,
          97,
          98,
          99
         ],
         "y": [
          0.5453066085348863,
          0.6297272301796784,
          -0.9401461784548403,
          -0.9847733132602441,
          1.509088854044453,
          -1.7000718360475824,
          -1.2225246766948081,
          1.3568654711368602,
          0.22949621448467727,
          2.1801712492246623,
          0.5837170028026545,
          0.24891769712044948,
          0.10317662432857874,
          -1.4088141062786053,
          3.114453696537187,
          0.5834183604615801,
          -0.5741527118434024,
          -1.1152938765819431,
          -0.32064879042738254,
          -0.0028248826754078134,
          -1.0740947558270184,
          -1.145910377161432,
          -1.622254906735283,
          0.0849850233504138,
          0.48170159146795744,
          0.1577755528307472,
          -0.504127259110801,
          -0.42063541220074924,
          0.7892685553129059,
          0.5268042161431765,
          1.2662485409933102,
          1.2956511293072994,
          -1.9576037803587114,
          0.5811261923984811,
          1.8785462043575325,
          -0.08774836819701964,
          0.9936591690188294,
          0.20979789911097893,
          0.9783870564757947,
          -0.4828364341183934,
          0.7638656251918456,
          -0.10031401419564683,
          0.6256444425530976,
          1.474091024374885,
          -1.8210439918869357,
          -0.6306310693510034,
          -1.249298484344971,
          -1.999155382645612,
          0.46224949849096975,
          -0.34470294101095705,
          1.038300340305395,
          -0.884885731263254,
          -0.6201625925282921,
          0.5184519198587142,
          0.43543105924330205,
          -0.7227359721398886,
          -0.7755191591579904,
          -1.0755675808765595,
          0.8544324240378218,
          2.076530741297135,
          0.43393973919277723,
          -0.4690057057030747,
          1.6062580004266929,
          1.3388694692214416,
          0.3555205791346771,
          0.13372868023617268,
          -1.274558124113613,
          0.007648624125840822,
          -1.1725752578112267,
          -0.4476181800792881,
          1.025402172731115,
          -0.9778778830870949,
          -1.9127435863256657,
          0.7662278656128317,
          1.7013257856725703,
          1.227232519758253,
          -0.07606912837548144,
          0.5952707419086611,
          0.18385146042710004,
          -0.6123272648027931,
          -0.3200931051252156,
          0.6388727081193947,
          0.5438565635317469,
          0.4985924271650018,
          1.582456123753077,
          0.00900868556309942,
          -0.3661353184511324,
          -0.5282883669256038,
          0.1620926442176821,
          1.5666749409075835,
          0.3472465771172096,
          0.2287517566522857,
          0.8253230381114772,
          -1.3204961957638008,
          1.2104316254647076,
          -0.8837493643965285,
          1.5207769567087257,
          -1.8632609220655565,
          0.3257742103009992,
          0.6961644380276888
         ]
        }
       ],
       "layout": {
        "legend": {
         "bgcolor": "#F5F6F9",
         "font": {
          "color": "#4D5663"
         }
        },
        "paper_bgcolor": "#F5F6F9",
        "plot_bgcolor": "#F5F6F9",
        "template": {
         "data": {
          "bar": [
           {
            "error_x": {
             "color": "#2a3f5f"
            },
            "error_y": {
             "color": "#2a3f5f"
            },
            "marker": {
             "line": {
              "color": "#E5ECF6",
              "width": 0.5
             }
            },
            "type": "bar"
           }
          ],
          "barpolar": [
           {
            "marker": {
             "line": {
              "color": "#E5ECF6",
              "width": 0.5
             }
            },
            "type": "barpolar"
           }
          ],
          "carpet": [
           {
            "aaxis": {
             "endlinecolor": "#2a3f5f",
             "gridcolor": "white",
             "linecolor": "white",
             "minorgridcolor": "white",
             "startlinecolor": "#2a3f5f"
            },
            "baxis": {
             "endlinecolor": "#2a3f5f",
             "gridcolor": "white",
             "linecolor": "white",
             "minorgridcolor": "white",
             "startlinecolor": "#2a3f5f"
            },
            "type": "carpet"
           }
          ],
          "choropleth": [
           {
            "colorbar": {
             "outlinewidth": 0,
             "ticks": ""
            },
            "type": "choropleth"
           }
          ],
          "contour": [
           {
            "colorbar": {
             "outlinewidth": 0,
             "ticks": ""
            },
            "colorscale": [
             [
              0,
              "#0d0887"
             ],
             [
              0.1111111111111111,
              "#46039f"
             ],
             [
              0.2222222222222222,
              "#7201a8"
             ],
             [
              0.3333333333333333,
              "#9c179e"
             ],
             [
              0.4444444444444444,
              "#bd3786"
             ],
             [
              0.5555555555555556,
              "#d8576b"
             ],
             [
              0.6666666666666666,
              "#ed7953"
             ],
             [
              0.7777777777777778,
              "#fb9f3a"
             ],
             [
              0.8888888888888888,
              "#fdca26"
             ],
             [
              1,
              "#f0f921"
             ]
            ],
            "type": "contour"
           }
          ],
          "contourcarpet": [
           {
            "colorbar": {
             "outlinewidth": 0,
             "ticks": ""
            },
            "type": "contourcarpet"
           }
          ],
          "heatmap": [
           {
            "colorbar": {
             "outlinewidth": 0,
             "ticks": ""
            },
            "colorscale": [
             [
              0,
              "#0d0887"
             ],
             [
              0.1111111111111111,
              "#46039f"
             ],
             [
              0.2222222222222222,
              "#7201a8"
             ],
             [
              0.3333333333333333,
              "#9c179e"
             ],
             [
              0.4444444444444444,
              "#bd3786"
             ],
             [
              0.5555555555555556,
              "#d8576b"
             ],
             [
              0.6666666666666666,
              "#ed7953"
             ],
             [
              0.7777777777777778,
              "#fb9f3a"
             ],
             [
              0.8888888888888888,
              "#fdca26"
             ],
             [
              1,
              "#f0f921"
             ]
            ],
            "type": "heatmap"
           }
          ],
          "heatmapgl": [
           {
            "colorbar": {
             "outlinewidth": 0,
             "ticks": ""
            },
            "colorscale": [
             [
              0,
              "#0d0887"
             ],
             [
              0.1111111111111111,
              "#46039f"
             ],
             [
              0.2222222222222222,
              "#7201a8"
             ],
             [
              0.3333333333333333,
              "#9c179e"
             ],
             [
              0.4444444444444444,
              "#bd3786"
             ],
             [
              0.5555555555555556,
              "#d8576b"
             ],
             [
              0.6666666666666666,
              "#ed7953"
             ],
             [
              0.7777777777777778,
              "#fb9f3a"
             ],
             [
              0.8888888888888888,
              "#fdca26"
             ],
             [
              1,
              "#f0f921"
             ]
            ],
            "type": "heatmapgl"
           }
          ],
          "histogram": [
           {
            "marker": {
             "colorbar": {
              "outlinewidth": 0,
              "ticks": ""
             }
            },
            "type": "histogram"
           }
          ],
          "histogram2d": [
           {
            "colorbar": {
             "outlinewidth": 0,
             "ticks": ""
            },
            "colorscale": [
             [
              0,
              "#0d0887"
             ],
             [
              0.1111111111111111,
              "#46039f"
             ],
             [
              0.2222222222222222,
              "#7201a8"
             ],
             [
              0.3333333333333333,
              "#9c179e"
             ],
             [
              0.4444444444444444,
              "#bd3786"
             ],
             [
              0.5555555555555556,
              "#d8576b"
             ],
             [
              0.6666666666666666,
              "#ed7953"
             ],
             [
              0.7777777777777778,
              "#fb9f3a"
             ],
             [
              0.8888888888888888,
              "#fdca26"
             ],
             [
              1,
              "#f0f921"
             ]
            ],
            "type": "histogram2d"
           }
          ],
          "histogram2dcontour": [
           {
            "colorbar": {
             "outlinewidth": 0,
             "ticks": ""
            },
            "colorscale": [
             [
              0,
              "#0d0887"
             ],
             [
              0.1111111111111111,
              "#46039f"
             ],
             [
              0.2222222222222222,
              "#7201a8"
             ],
             [
              0.3333333333333333,
              "#9c179e"
             ],
             [
              0.4444444444444444,
              "#bd3786"
             ],
             [
              0.5555555555555556,
              "#d8576b"
             ],
             [
              0.6666666666666666,
              "#ed7953"
             ],
             [
              0.7777777777777778,
              "#fb9f3a"
             ],
             [
              0.8888888888888888,
              "#fdca26"
             ],
             [
              1,
              "#f0f921"
             ]
            ],
            "type": "histogram2dcontour"
           }
          ],
          "mesh3d": [
           {
            "colorbar": {
             "outlinewidth": 0,
             "ticks": ""
            },
            "type": "mesh3d"
           }
          ],
          "parcoords": [
           {
            "line": {
             "colorbar": {
              "outlinewidth": 0,
              "ticks": ""
             }
            },
            "type": "parcoords"
           }
          ],
          "pie": [
           {
            "automargin": true,
            "type": "pie"
           }
          ],
          "scatter": [
           {
            "marker": {
             "colorbar": {
              "outlinewidth": 0,
              "ticks": ""
             }
            },
            "type": "scatter"
           }
          ],
          "scatter3d": [
           {
            "line": {
             "colorbar": {
              "outlinewidth": 0,
              "ticks": ""
             }
            },
            "marker": {
             "colorbar": {
              "outlinewidth": 0,
              "ticks": ""
             }
            },
            "type": "scatter3d"
           }
          ],
          "scattercarpet": [
           {
            "marker": {
             "colorbar": {
              "outlinewidth": 0,
              "ticks": ""
             }
            },
            "type": "scattercarpet"
           }
          ],
          "scattergeo": [
           {
            "marker": {
             "colorbar": {
              "outlinewidth": 0,
              "ticks": ""
             }
            },
            "type": "scattergeo"
           }
          ],
          "scattergl": [
           {
            "marker": {
             "colorbar": {
              "outlinewidth": 0,
              "ticks": ""
             }
            },
            "type": "scattergl"
           }
          ],
          "scattermapbox": [
           {
            "marker": {
             "colorbar": {
              "outlinewidth": 0,
              "ticks": ""
             }
            },
            "type": "scattermapbox"
           }
          ],
          "scatterpolar": [
           {
            "marker": {
             "colorbar": {
              "outlinewidth": 0,
              "ticks": ""
             }
            },
            "type": "scatterpolar"
           }
          ],
          "scatterpolargl": [
           {
            "marker": {
             "colorbar": {
              "outlinewidth": 0,
              "ticks": ""
             }
            },
            "type": "scatterpolargl"
           }
          ],
          "scatterternary": [
           {
            "marker": {
             "colorbar": {
              "outlinewidth": 0,
              "ticks": ""
             }
            },
            "type": "scatterternary"
           }
          ],
          "surface": [
           {
            "colorbar": {
             "outlinewidth": 0,
             "ticks": ""
            },
            "colorscale": [
             [
              0,
              "#0d0887"
             ],
             [
              0.1111111111111111,
              "#46039f"
             ],
             [
              0.2222222222222222,
              "#7201a8"
             ],
             [
              0.3333333333333333,
              "#9c179e"
             ],
             [
              0.4444444444444444,
              "#bd3786"
             ],
             [
              0.5555555555555556,
              "#d8576b"
             ],
             [
              0.6666666666666666,
              "#ed7953"
             ],
             [
              0.7777777777777778,
              "#fb9f3a"
             ],
             [
              0.8888888888888888,
              "#fdca26"
             ],
             [
              1,
              "#f0f921"
             ]
            ],
            "type": "surface"
           }
          ],
          "table": [
           {
            "cells": {
             "fill": {
              "color": "#EBF0F8"
             },
             "line": {
              "color": "white"
             }
            },
            "header": {
             "fill": {
              "color": "#C8D4E3"
             },
             "line": {
              "color": "white"
             }
            },
            "type": "table"
           }
          ]
         },
         "layout": {
          "annotationdefaults": {
           "arrowcolor": "#2a3f5f",
           "arrowhead": 0,
           "arrowwidth": 1
          },
          "coloraxis": {
           "colorbar": {
            "outlinewidth": 0,
            "ticks": ""
           }
          },
          "colorscale": {
           "diverging": [
            [
             0,
             "#8e0152"
            ],
            [
             0.1,
             "#c51b7d"
            ],
            [
             0.2,
             "#de77ae"
            ],
            [
             0.3,
             "#f1b6da"
            ],
            [
             0.4,
             "#fde0ef"
            ],
            [
             0.5,
             "#f7f7f7"
            ],
            [
             0.6,
             "#e6f5d0"
            ],
            [
             0.7,
             "#b8e186"
            ],
            [
             0.8,
             "#7fbc41"
            ],
            [
             0.9,
             "#4d9221"
            ],
            [
             1,
             "#276419"
            ]
           ],
           "sequential": [
            [
             0,
             "#0d0887"
            ],
            [
             0.1111111111111111,
             "#46039f"
            ],
            [
             0.2222222222222222,
             "#7201a8"
            ],
            [
             0.3333333333333333,
             "#9c179e"
            ],
            [
             0.4444444444444444,
             "#bd3786"
            ],
            [
             0.5555555555555556,
             "#d8576b"
            ],
            [
             0.6666666666666666,
             "#ed7953"
            ],
            [
             0.7777777777777778,
             "#fb9f3a"
            ],
            [
             0.8888888888888888,
             "#fdca26"
            ],
            [
             1,
             "#f0f921"
            ]
           ],
           "sequentialminus": [
            [
             0,
             "#0d0887"
            ],
            [
             0.1111111111111111,
             "#46039f"
            ],
            [
             0.2222222222222222,
             "#7201a8"
            ],
            [
             0.3333333333333333,
             "#9c179e"
            ],
            [
             0.4444444444444444,
             "#bd3786"
            ],
            [
             0.5555555555555556,
             "#d8576b"
            ],
            [
             0.6666666666666666,
             "#ed7953"
            ],
            [
             0.7777777777777778,
             "#fb9f3a"
            ],
            [
             0.8888888888888888,
             "#fdca26"
            ],
            [
             1,
             "#f0f921"
            ]
           ]
          },
          "colorway": [
           "#636efa",
           "#EF553B",
           "#00cc96",
           "#ab63fa",
           "#FFA15A",
           "#19d3f3",
           "#FF6692",
           "#B6E880",
           "#FF97FF",
           "#FECB52"
          ],
          "font": {
           "color": "#2a3f5f"
          },
          "geo": {
           "bgcolor": "white",
           "lakecolor": "white",
           "landcolor": "#E5ECF6",
           "showlakes": true,
           "showland": true,
           "subunitcolor": "white"
          },
          "hoverlabel": {
           "align": "left"
          },
          "hovermode": "closest",
          "mapbox": {
           "style": "light"
          },
          "paper_bgcolor": "white",
          "plot_bgcolor": "#E5ECF6",
          "polar": {
           "angularaxis": {
            "gridcolor": "white",
            "linecolor": "white",
            "ticks": ""
           },
           "bgcolor": "#E5ECF6",
           "radialaxis": {
            "gridcolor": "white",
            "linecolor": "white",
            "ticks": ""
           }
          },
          "scene": {
           "xaxis": {
            "backgroundcolor": "#E5ECF6",
            "gridcolor": "white",
            "gridwidth": 2,
            "linecolor": "white",
            "showbackground": true,
            "ticks": "",
            "zerolinecolor": "white"
           },
           "yaxis": {
            "backgroundcolor": "#E5ECF6",
            "gridcolor": "white",
            "gridwidth": 2,
            "linecolor": "white",
            "showbackground": true,
            "ticks": "",
            "zerolinecolor": "white"
           },
           "zaxis": {
            "backgroundcolor": "#E5ECF6",
            "gridcolor": "white",
            "gridwidth": 2,
            "linecolor": "white",
            "showbackground": true,
            "ticks": "",
            "zerolinecolor": "white"
           }
          },
          "shapedefaults": {
           "line": {
            "color": "#2a3f5f"
           }
          },
          "ternary": {
           "aaxis": {
            "gridcolor": "white",
            "linecolor": "white",
            "ticks": ""
           },
           "baxis": {
            "gridcolor": "white",
            "linecolor": "white",
            "ticks": ""
           },
           "bgcolor": "#E5ECF6",
           "caxis": {
            "gridcolor": "white",
            "linecolor": "white",
            "ticks": ""
           }
          },
          "title": {
           "x": 0.05
          },
          "xaxis": {
           "automargin": true,
           "gridcolor": "white",
           "linecolor": "white",
           "ticks": "",
           "title": {
            "standoff": 15
           },
           "zerolinecolor": "white",
           "zerolinewidth": 2
          },
          "yaxis": {
           "automargin": true,
           "gridcolor": "white",
           "linecolor": "white",
           "ticks": "",
           "title": {
            "standoff": 15
           },
           "zerolinecolor": "white",
           "zerolinewidth": 2
          }
         }
        },
        "title": {
         "font": {
          "color": "#4D5663"
         }
        },
        "xaxis": {
         "gridcolor": "#E1E5ED",
         "showgrid": true,
         "tickfont": {
          "color": "#4D5663"
         },
         "title": {
          "font": {
           "color": "#4D5663"
          },
          "text": ""
         },
         "zerolinecolor": "#E1E5ED"
        },
        "yaxis": {
         "gridcolor": "#E1E5ED",
         "showgrid": true,
         "tickfont": {
          "color": "#4D5663"
         },
         "title": {
          "font": {
           "color": "#4D5663"
          },
          "text": ""
         },
         "zerolinecolor": "#E1E5ED"
        }
       }
      },
      "text/html": [
       "<div>\n",
       "        \n",
       "        \n",
       "            <div id=\"c706a7e1-6dc9-47c6-a472-afcc258262f6\" class=\"plotly-graph-div\" style=\"height:525px; width:100%;\"></div>\n",
       "            <script type=\"text/javascript\">\n",
       "                require([\"plotly\"], function(Plotly) {\n",
       "                    window.PLOTLYENV=window.PLOTLYENV || {};\n",
       "                    window.PLOTLYENV.BASE_URL='https://plot.ly';\n",
       "                    \n",
       "                if (document.getElementById(\"c706a7e1-6dc9-47c6-a472-afcc258262f6\")) {\n",
       "                    Plotly.newPlot(\n",
       "                        'c706a7e1-6dc9-47c6-a472-afcc258262f6',\n",
       "                        [{\"marker\": {\"color\": \"rgba(255, 153, 51, 0.6)\", \"line\": {\"color\": \"rgba(255, 153, 51, 1.0)\", \"width\": 1}}, \"name\": \"A\", \"orientation\": \"v\", \"text\": \"\", \"type\": \"bar\", \"x\": [0, 1, 2, 3, 4, 5, 6, 7, 8, 9, 10, 11, 12, 13, 14, 15, 16, 17, 18, 19, 20, 21, 22, 23, 24, 25, 26, 27, 28, 29, 30, 31, 32, 33, 34, 35, 36, 37, 38, 39, 40, 41, 42, 43, 44, 45, 46, 47, 48, 49, 50, 51, 52, 53, 54, 55, 56, 57, 58, 59, 60, 61, 62, 63, 64, 65, 66, 67, 68, 69, 70, 71, 72, 73, 74, 75, 76, 77, 78, 79, 80, 81, 82, 83, 84, 85, 86, 87, 88, 89, 90, 91, 92, 93, 94, 95, 96, 97, 98, 99], \"y\": [-1.149882228543045, 1.5362385410467798, 0.3932379374579331, -2.059996463523254, 0.09562991677781363, -0.1844539287632311, 2.3418220729645576, -0.43975047658280936, 0.6288630050374875, -0.030326212811700944, -1.702156021656865, -1.517666528581438, 1.19528182618035, -0.9288515943816018, 0.2672440911504483, -0.4002975415796906, -1.2173180116996651, 0.9662247412467714, -1.9290761726699661, 1.249919408423394, -0.6783813256393709, -0.7888541279691633, -2.7701270507949274, -0.4570081697608714, -1.5754577270896186, 1.7040742114772185, -1.323623647403465, -1.0710918640009173, 0.2187213850037935, -0.07078716233479242, -1.303646959301516, 2.1897266317892035, 0.13093518856030348, -0.9903480467852114, 0.33671892236565953, -1.1556963538417262, -0.2773860242357469, 1.9377494811247495, 0.1423953006490988, 0.6731945716487792, -0.46541278669836533, -0.714379146180877, 1.0651922056412366, 0.3114333896682094, -0.29224469547465676, -0.6358918139816263, -0.06286318467275165, 0.07858067675403434, -0.02010629030746235, 0.9735632755624417, 0.3806941990300737, 0.9555634570784103, -0.38220496895255784, -0.22327324528616546, -1.8998284305790532, -0.24424740920339258, -0.02526692348391983, -0.1382620224959738, 1.395861014773399, -0.3604338840902675, 0.3563945466276664, -0.07645210423467486, 1.058060157864064, 0.03543017928138459, 0.32199934259140944, 0.7294917431182483, 0.16221584077406218, 0.44579793102551135, -0.06772507530824512, 0.39109205187050505, -0.7385195761252955, -1.2023650450948926, -1.3018179686182045, -0.7588769767804764, 0.8540615931350239, 0.7937811845169089, -0.11330210909059032, 0.9786046847077196, 0.1026403652012129, -0.6973082302186342, -0.7309060647842065, -0.3824059171264001, 0.5322395624685383, 0.5520881490592399, 0.7893147543534774, 0.9593248351973666, 0.08953894702720594, -0.10201225506825605, -0.112709501292115, -0.6104114734459825, 0.4274545255274656, 0.3232725058320922, 0.14213070118669957, -0.7675916048632497, -0.15544652729455274, -0.6522117023376075, 1.7648913777096549, -1.0343556208880231, 0.6291210941714808, -0.2714321671685072]}, {\"marker\": {\"color\": \"rgba(55, 128, 191, 0.6)\", \"line\": {\"color\": \"rgba(55, 128, 191, 1.0)\", \"width\": 1}}, \"name\": \"B\", \"orientation\": \"v\", \"text\": \"\", \"type\": \"bar\", \"x\": [0, 1, 2, 3, 4, 5, 6, 7, 8, 9, 10, 11, 12, 13, 14, 15, 16, 17, 18, 19, 20, 21, 22, 23, 24, 25, 26, 27, 28, 29, 30, 31, 32, 33, 34, 35, 36, 37, 38, 39, 40, 41, 42, 43, 44, 45, 46, 47, 48, 49, 50, 51, 52, 53, 54, 55, 56, 57, 58, 59, 60, 61, 62, 63, 64, 65, 66, 67, 68, 69, 70, 71, 72, 73, 74, 75, 76, 77, 78, 79, 80, 81, 82, 83, 84, 85, 86, 87, 88, 89, 90, 91, 92, 93, 94, 95, 96, 97, 98, 99], \"y\": [-0.821596800402655, 0.5664394505597601, 0.5089641346070292, -0.2592635248813433, 1.1425648848092516, 0.1303293725182424, -0.7452599453081017, 0.6807839819422564, -0.03025028909446263, -0.7216948550717397, 0.012099971974348565, -1.9328018674909626, 0.2940669437690773, -0.6425845565868856, -1.274457701503331, -0.31820163749691893, -0.9201990535926323, -1.3082244088756303, 0.9672470890932595, 0.5604202824371384, -0.7169037558756315, 0.5214208294070508, 0.005276194451701883, 1.34131395639202, 0.862730069774194, 0.444210324881266, 0.7166122997543846, 0.5905621985926649, -0.6123356568653066, -0.526925454627251, 0.3566581207234709, -0.7958593703435825, 0.4820928557493119, 2.082313812263963, 1.2477493754732194, 0.4347371625321479, -0.5524659931146368, -0.8005632090645551, -0.49586200765958227, 0.7363425104966456, -0.5004712861884172, 1.0482761927570294, -0.6137346570027824, -0.03968309123000246, -0.3226370483232409, -0.9003242820526284, -0.4726691235269847, 1.468411024145207, -0.45566617797248504, 0.07953301178126826, 0.5357369360643719, -0.08765107497054818, -1.426308343534027, 0.819068484709911, 1.8086881553071021, 0.40025853155354885, -0.8893840863646113, 0.9387138657020594, 0.6986426191038498, 0.43740462673617786, 0.6644892611484586, 0.0311752431301281, -0.8240084892443692, 1.5178420616192276, 0.014463322301807217, -0.07506796365150185, 0.25267110665442416, 0.9536021445007004, -0.021310183431371237, -1.3114035432534275, 0.8592510660239445, -1.2507752033737798, 1.4246620884121426, 1.1027173115312447, 0.6118120227281758, -0.7975020166108695, -1.462540048851282, 0.6827294493991927, 0.5334301271174584, 0.7294526884023559, -0.04388537975766861, -0.789556783280647, 0.3392864194491249, 0.790166279806434, 1.0259494794903965, 0.27094021554193, 1.4829223336581099, -0.23293511983863718, 0.6859245229420942, 0.5874723324937035, 0.48557210628845787, -0.12662879963201118, 0.9212668798284969, -1.2223765090701693, -0.029869681236115303, -1.8045036109927406, -1.9155662026040001, -0.536847880512402, 0.34557732447025485, -0.3892917688322118]}, {\"marker\": {\"color\": \"rgba(50, 171, 96, 0.6)\", \"line\": {\"color\": \"rgba(50, 171, 96, 1.0)\", \"width\": 1}}, \"name\": \"C\", \"orientation\": \"v\", \"text\": \"\", \"type\": \"bar\", \"x\": [0, 1, 2, 3, 4, 5, 6, 7, 8, 9, 10, 11, 12, 13, 14, 15, 16, 17, 18, 19, 20, 21, 22, 23, 24, 25, 26, 27, 28, 29, 30, 31, 32, 33, 34, 35, 36, 37, 38, 39, 40, 41, 42, 43, 44, 45, 46, 47, 48, 49, 50, 51, 52, 53, 54, 55, 56, 57, 58, 59, 60, 61, 62, 63, 64, 65, 66, 67, 68, 69, 70, 71, 72, 73, 74, 75, 76, 77, 78, 79, 80, 81, 82, 83, 84, 85, 86, 87, 88, 89, 90, 91, 92, 93, 94, 95, 96, 97, 98, 99], \"y\": [-0.05043432899368031, 0.6383985377849963, -0.5552104688070715, 0.8733894761659502, -0.27973637356455144, 0.3099198456823666, -0.88279025720947, 1.5867347920708614, -1.1682939504435819, -0.5398035790255533, 2.6047288884328945, -0.28450355075339073, -0.18411605199644634, -0.7087374298548398, 1.6390687626183504, -0.5433847348255266, -0.29102616128048525, 0.3867966969243918, -0.5738198681006161, -0.8467916453984707, 0.5297032633356104, 0.34987822330080387, 0.6945634517303589, 0.7468221924352632, 1.900151098890552, -0.621938312162858, -0.16362440785066615, 0.3584161327870031, 0.6084762558026675, -0.9318463866260959, -1.7149056880168532, -0.10128499226000447, 0.19637626627572874, 0.2969997402467644, -0.5831229998849408, -0.6053470808434863, -0.519200620192376, 1.132014562741578, 2.14583857085064, 1.1082670904027203, 0.9915436083465138, 0.35064782627575036, -0.8718624044359158, -0.7711209904670029, 1.8434894167073075, -0.881682946775223, 2.2198785443767775, -0.9020703454223811, -2.0310072709609477, 0.0859417760441214, -0.5497913464560333, -0.8896792267662379, 0.0501728664565584, -1.4144078755079297, -1.2547969891058721, 0.4244866684966232, 0.5746324117859202, 0.23125449383760513, 0.6734505472376046, 0.9481492334735947, -0.15602051696246882, -0.27681846353088535, 0.6879641900610127, -0.5650179988527602, -0.6727447321566563, 0.8055284608391798, -0.07814871647186178, 0.5983513117146525, 0.39409971719175724, 0.2652492847240678, -1.1594253536181287, 1.5322943352645402, 0.29524129053229714, -0.21092943984307086, 0.7241385453207122, -0.5075445506409986, -1.0399223896721543, -2.6981299945993604, 0.444443913026689, -0.2080299799409404, -0.48655055177461065, -0.24397033164856838, -0.1394653239772895, 0.8566379732556342, -0.40928402997218166, -0.8146622155618218, -0.12037812400398963, -0.0004340621273201351, 2.4020992968620263, 0.8084817681546183, 0.3342529934430462, 0.21356656246612182, -0.7660769594747029, -0.1688787331661423, -0.8175685865248625, 1.1337186472505991, -0.8818864274262241, -0.6262697386361157, -1.587580606392134, 1.3878120685001782]}, {\"marker\": {\"color\": \"rgba(128, 0, 128, 0.6)\", \"line\": {\"color\": \"rgba(128, 0, 128, 1.0)\", \"width\": 1}}, \"name\": \"D\", \"orientation\": \"v\", \"text\": \"\", \"type\": \"bar\", \"x\": [0, 1, 2, 3, 4, 5, 6, 7, 8, 9, 10, 11, 12, 13, 14, 15, 16, 17, 18, 19, 20, 21, 22, 23, 24, 25, 26, 27, 28, 29, 30, 31, 32, 33, 34, 35, 36, 37, 38, 39, 40, 41, 42, 43, 44, 45, 46, 47, 48, 49, 50, 51, 52, 53, 54, 55, 56, 57, 58, 59, 60, 61, 62, 63, 64, 65, 66, 67, 68, 69, 70, 71, 72, 73, 74, 75, 76, 77, 78, 79, 80, 81, 82, 83, 84, 85, 86, 87, 88, 89, 90, 91, 92, 93, 94, 95, 96, 97, 98, 99], \"y\": [0.5453066085348863, 0.6297272301796784, -0.9401461784548403, -0.9847733132602441, 1.509088854044453, -1.7000718360475824, -1.2225246766948081, 1.3568654711368602, 0.22949621448467727, 2.1801712492246623, 0.5837170028026545, 0.24891769712044948, 0.10317662432857874, -1.4088141062786053, 3.114453696537187, 0.5834183604615801, -0.5741527118434024, -1.1152938765819431, -0.32064879042738254, -0.0028248826754078134, -1.0740947558270184, -1.145910377161432, -1.622254906735283, 0.0849850233504138, 0.48170159146795744, 0.1577755528307472, -0.504127259110801, -0.42063541220074924, 0.7892685553129059, 0.5268042161431765, 1.2662485409933102, 1.2956511293072994, -1.9576037803587114, 0.5811261923984811, 1.8785462043575325, -0.08774836819701964, 0.9936591690188294, 0.20979789911097893, 0.9783870564757947, -0.4828364341183934, 0.7638656251918456, -0.10031401419564683, 0.6256444425530976, 1.474091024374885, -1.8210439918869357, -0.6306310693510034, -1.249298484344971, -1.999155382645612, 0.46224949849096975, -0.34470294101095705, 1.038300340305395, -0.884885731263254, -0.6201625925282921, 0.5184519198587142, 0.43543105924330205, -0.7227359721398886, -0.7755191591579904, -1.0755675808765595, 0.8544324240378218, 2.076530741297135, 0.43393973919277723, -0.4690057057030747, 1.6062580004266929, 1.3388694692214416, 0.3555205791346771, 0.13372868023617268, -1.274558124113613, 0.007648624125840822, -1.1725752578112267, -0.4476181800792881, 1.025402172731115, -0.9778778830870949, -1.9127435863256657, 0.7662278656128317, 1.7013257856725703, 1.227232519758253, -0.07606912837548144, 0.5952707419086611, 0.18385146042710004, -0.6123272648027931, -0.3200931051252156, 0.6388727081193947, 0.5438565635317469, 0.4985924271650018, 1.582456123753077, 0.00900868556309942, -0.3661353184511324, -0.5282883669256038, 0.1620926442176821, 1.5666749409075835, 0.3472465771172096, 0.2287517566522857, 0.8253230381114772, -1.3204961957638008, 1.2104316254647076, -0.8837493643965285, 1.5207769567087257, -1.8632609220655565, 0.3257742103009992, 0.6961644380276888]}],\n",
       "                        {\"legend\": {\"bgcolor\": \"#F5F6F9\", \"font\": {\"color\": \"#4D5663\"}}, \"paper_bgcolor\": \"#F5F6F9\", \"plot_bgcolor\": \"#F5F6F9\", \"template\": {\"data\": {\"bar\": [{\"error_x\": {\"color\": \"#2a3f5f\"}, \"error_y\": {\"color\": \"#2a3f5f\"}, \"marker\": {\"line\": {\"color\": \"#E5ECF6\", \"width\": 0.5}}, \"type\": \"bar\"}], \"barpolar\": [{\"marker\": {\"line\": {\"color\": \"#E5ECF6\", \"width\": 0.5}}, \"type\": \"barpolar\"}], \"carpet\": [{\"aaxis\": {\"endlinecolor\": \"#2a3f5f\", \"gridcolor\": \"white\", \"linecolor\": \"white\", \"minorgridcolor\": \"white\", \"startlinecolor\": \"#2a3f5f\"}, \"baxis\": {\"endlinecolor\": \"#2a3f5f\", \"gridcolor\": \"white\", \"linecolor\": \"white\", \"minorgridcolor\": \"white\", \"startlinecolor\": \"#2a3f5f\"}, \"type\": \"carpet\"}], \"choropleth\": [{\"colorbar\": {\"outlinewidth\": 0, \"ticks\": \"\"}, \"type\": \"choropleth\"}], \"contour\": [{\"colorbar\": {\"outlinewidth\": 0, \"ticks\": \"\"}, \"colorscale\": [[0.0, \"#0d0887\"], [0.1111111111111111, \"#46039f\"], [0.2222222222222222, \"#7201a8\"], [0.3333333333333333, \"#9c179e\"], [0.4444444444444444, \"#bd3786\"], [0.5555555555555556, \"#d8576b\"], [0.6666666666666666, \"#ed7953\"], [0.7777777777777778, \"#fb9f3a\"], [0.8888888888888888, \"#fdca26\"], [1.0, \"#f0f921\"]], \"type\": \"contour\"}], \"contourcarpet\": [{\"colorbar\": {\"outlinewidth\": 0, \"ticks\": \"\"}, \"type\": \"contourcarpet\"}], \"heatmap\": [{\"colorbar\": {\"outlinewidth\": 0, \"ticks\": \"\"}, \"colorscale\": [[0.0, \"#0d0887\"], [0.1111111111111111, \"#46039f\"], [0.2222222222222222, \"#7201a8\"], [0.3333333333333333, \"#9c179e\"], [0.4444444444444444, \"#bd3786\"], [0.5555555555555556, \"#d8576b\"], [0.6666666666666666, \"#ed7953\"], [0.7777777777777778, \"#fb9f3a\"], [0.8888888888888888, \"#fdca26\"], [1.0, \"#f0f921\"]], \"type\": \"heatmap\"}], \"heatmapgl\": [{\"colorbar\": {\"outlinewidth\": 0, \"ticks\": \"\"}, \"colorscale\": [[0.0, \"#0d0887\"], [0.1111111111111111, \"#46039f\"], [0.2222222222222222, \"#7201a8\"], [0.3333333333333333, \"#9c179e\"], [0.4444444444444444, \"#bd3786\"], [0.5555555555555556, \"#d8576b\"], [0.6666666666666666, \"#ed7953\"], [0.7777777777777778, \"#fb9f3a\"], [0.8888888888888888, \"#fdca26\"], [1.0, \"#f0f921\"]], \"type\": \"heatmapgl\"}], \"histogram\": [{\"marker\": {\"colorbar\": {\"outlinewidth\": 0, \"ticks\": \"\"}}, \"type\": \"histogram\"}], \"histogram2d\": [{\"colorbar\": {\"outlinewidth\": 0, \"ticks\": \"\"}, \"colorscale\": [[0.0, \"#0d0887\"], [0.1111111111111111, \"#46039f\"], [0.2222222222222222, \"#7201a8\"], [0.3333333333333333, \"#9c179e\"], [0.4444444444444444, \"#bd3786\"], [0.5555555555555556, \"#d8576b\"], [0.6666666666666666, \"#ed7953\"], [0.7777777777777778, \"#fb9f3a\"], [0.8888888888888888, \"#fdca26\"], [1.0, \"#f0f921\"]], \"type\": \"histogram2d\"}], \"histogram2dcontour\": [{\"colorbar\": {\"outlinewidth\": 0, \"ticks\": \"\"}, \"colorscale\": [[0.0, \"#0d0887\"], [0.1111111111111111, \"#46039f\"], [0.2222222222222222, \"#7201a8\"], [0.3333333333333333, \"#9c179e\"], [0.4444444444444444, \"#bd3786\"], [0.5555555555555556, \"#d8576b\"], [0.6666666666666666, \"#ed7953\"], [0.7777777777777778, \"#fb9f3a\"], [0.8888888888888888, \"#fdca26\"], [1.0, \"#f0f921\"]], \"type\": \"histogram2dcontour\"}], \"mesh3d\": [{\"colorbar\": {\"outlinewidth\": 0, \"ticks\": \"\"}, \"type\": \"mesh3d\"}], \"parcoords\": [{\"line\": {\"colorbar\": {\"outlinewidth\": 0, \"ticks\": \"\"}}, \"type\": \"parcoords\"}], \"pie\": [{\"automargin\": true, \"type\": \"pie\"}], \"scatter\": [{\"marker\": {\"colorbar\": {\"outlinewidth\": 0, \"ticks\": \"\"}}, \"type\": \"scatter\"}], \"scatter3d\": [{\"line\": {\"colorbar\": {\"outlinewidth\": 0, \"ticks\": \"\"}}, \"marker\": {\"colorbar\": {\"outlinewidth\": 0, \"ticks\": \"\"}}, \"type\": \"scatter3d\"}], \"scattercarpet\": [{\"marker\": {\"colorbar\": {\"outlinewidth\": 0, \"ticks\": \"\"}}, \"type\": \"scattercarpet\"}], \"scattergeo\": [{\"marker\": {\"colorbar\": {\"outlinewidth\": 0, \"ticks\": \"\"}}, \"type\": \"scattergeo\"}], \"scattergl\": [{\"marker\": {\"colorbar\": {\"outlinewidth\": 0, \"ticks\": \"\"}}, \"type\": \"scattergl\"}], \"scattermapbox\": [{\"marker\": {\"colorbar\": {\"outlinewidth\": 0, \"ticks\": \"\"}}, \"type\": \"scattermapbox\"}], \"scatterpolar\": [{\"marker\": {\"colorbar\": {\"outlinewidth\": 0, \"ticks\": \"\"}}, \"type\": \"scatterpolar\"}], \"scatterpolargl\": [{\"marker\": {\"colorbar\": {\"outlinewidth\": 0, \"ticks\": \"\"}}, \"type\": \"scatterpolargl\"}], \"scatterternary\": [{\"marker\": {\"colorbar\": {\"outlinewidth\": 0, \"ticks\": \"\"}}, \"type\": \"scatterternary\"}], \"surface\": [{\"colorbar\": {\"outlinewidth\": 0, \"ticks\": \"\"}, \"colorscale\": [[0.0, \"#0d0887\"], [0.1111111111111111, \"#46039f\"], [0.2222222222222222, \"#7201a8\"], [0.3333333333333333, \"#9c179e\"], [0.4444444444444444, \"#bd3786\"], [0.5555555555555556, \"#d8576b\"], [0.6666666666666666, \"#ed7953\"], [0.7777777777777778, \"#fb9f3a\"], [0.8888888888888888, \"#fdca26\"], [1.0, \"#f0f921\"]], \"type\": \"surface\"}], \"table\": [{\"cells\": {\"fill\": {\"color\": \"#EBF0F8\"}, \"line\": {\"color\": \"white\"}}, \"header\": {\"fill\": {\"color\": \"#C8D4E3\"}, \"line\": {\"color\": \"white\"}}, \"type\": \"table\"}]}, \"layout\": {\"annotationdefaults\": {\"arrowcolor\": \"#2a3f5f\", \"arrowhead\": 0, \"arrowwidth\": 1}, \"coloraxis\": {\"colorbar\": {\"outlinewidth\": 0, \"ticks\": \"\"}}, \"colorscale\": {\"diverging\": [[0, \"#8e0152\"], [0.1, \"#c51b7d\"], [0.2, \"#de77ae\"], [0.3, \"#f1b6da\"], [0.4, \"#fde0ef\"], [0.5, \"#f7f7f7\"], [0.6, \"#e6f5d0\"], [0.7, \"#b8e186\"], [0.8, \"#7fbc41\"], [0.9, \"#4d9221\"], [1, \"#276419\"]], \"sequential\": [[0.0, \"#0d0887\"], [0.1111111111111111, \"#46039f\"], [0.2222222222222222, \"#7201a8\"], [0.3333333333333333, \"#9c179e\"], [0.4444444444444444, \"#bd3786\"], [0.5555555555555556, \"#d8576b\"], [0.6666666666666666, \"#ed7953\"], [0.7777777777777778, \"#fb9f3a\"], [0.8888888888888888, \"#fdca26\"], [1.0, \"#f0f921\"]], \"sequentialminus\": [[0.0, \"#0d0887\"], [0.1111111111111111, \"#46039f\"], [0.2222222222222222, \"#7201a8\"], [0.3333333333333333, \"#9c179e\"], [0.4444444444444444, \"#bd3786\"], [0.5555555555555556, \"#d8576b\"], [0.6666666666666666, \"#ed7953\"], [0.7777777777777778, \"#fb9f3a\"], [0.8888888888888888, \"#fdca26\"], [1.0, \"#f0f921\"]]}, \"colorway\": [\"#636efa\", \"#EF553B\", \"#00cc96\", \"#ab63fa\", \"#FFA15A\", \"#19d3f3\", \"#FF6692\", \"#B6E880\", \"#FF97FF\", \"#FECB52\"], \"font\": {\"color\": \"#2a3f5f\"}, \"geo\": {\"bgcolor\": \"white\", \"lakecolor\": \"white\", \"landcolor\": \"#E5ECF6\", \"showlakes\": true, \"showland\": true, \"subunitcolor\": \"white\"}, \"hoverlabel\": {\"align\": \"left\"}, \"hovermode\": \"closest\", \"mapbox\": {\"style\": \"light\"}, \"paper_bgcolor\": \"white\", \"plot_bgcolor\": \"#E5ECF6\", \"polar\": {\"angularaxis\": {\"gridcolor\": \"white\", \"linecolor\": \"white\", \"ticks\": \"\"}, \"bgcolor\": \"#E5ECF6\", \"radialaxis\": {\"gridcolor\": \"white\", \"linecolor\": \"white\", \"ticks\": \"\"}}, \"scene\": {\"xaxis\": {\"backgroundcolor\": \"#E5ECF6\", \"gridcolor\": \"white\", \"gridwidth\": 2, \"linecolor\": \"white\", \"showbackground\": true, \"ticks\": \"\", \"zerolinecolor\": \"white\"}, \"yaxis\": {\"backgroundcolor\": \"#E5ECF6\", \"gridcolor\": \"white\", \"gridwidth\": 2, \"linecolor\": \"white\", \"showbackground\": true, \"ticks\": \"\", \"zerolinecolor\": \"white\"}, \"zaxis\": {\"backgroundcolor\": \"#E5ECF6\", \"gridcolor\": \"white\", \"gridwidth\": 2, \"linecolor\": \"white\", \"showbackground\": true, \"ticks\": \"\", \"zerolinecolor\": \"white\"}}, \"shapedefaults\": {\"line\": {\"color\": \"#2a3f5f\"}}, \"ternary\": {\"aaxis\": {\"gridcolor\": \"white\", \"linecolor\": \"white\", \"ticks\": \"\"}, \"baxis\": {\"gridcolor\": \"white\", \"linecolor\": \"white\", \"ticks\": \"\"}, \"bgcolor\": \"#E5ECF6\", \"caxis\": {\"gridcolor\": \"white\", \"linecolor\": \"white\", \"ticks\": \"\"}}, \"title\": {\"x\": 0.05}, \"xaxis\": {\"automargin\": true, \"gridcolor\": \"white\", \"linecolor\": \"white\", \"ticks\": \"\", \"title\": {\"standoff\": 15}, \"zerolinecolor\": \"white\", \"zerolinewidth\": 2}, \"yaxis\": {\"automargin\": true, \"gridcolor\": \"white\", \"linecolor\": \"white\", \"ticks\": \"\", \"title\": {\"standoff\": 15}, \"zerolinecolor\": \"white\", \"zerolinewidth\": 2}}}, \"title\": {\"font\": {\"color\": \"#4D5663\"}}, \"xaxis\": {\"gridcolor\": \"#E1E5ED\", \"showgrid\": true, \"tickfont\": {\"color\": \"#4D5663\"}, \"title\": {\"font\": {\"color\": \"#4D5663\"}, \"text\": \"\"}, \"zerolinecolor\": \"#E1E5ED\"}, \"yaxis\": {\"gridcolor\": \"#E1E5ED\", \"showgrid\": true, \"tickfont\": {\"color\": \"#4D5663\"}, \"title\": {\"font\": {\"color\": \"#4D5663\"}, \"text\": \"\"}, \"zerolinecolor\": \"#E1E5ED\"}},\n",
       "                        {\"showLink\": true, \"linkText\": \"Export to plot.ly\", \"plotlyServerURL\": \"https://plot.ly\", \"responsive\": true}\n",
       "                    ).then(function(){\n",
       "                            \n",
       "var gd = document.getElementById('c706a7e1-6dc9-47c6-a472-afcc258262f6');\n",
       "var x = new MutationObserver(function (mutations, observer) {{\n",
       "        var display = window.getComputedStyle(gd).display;\n",
       "        if (!display || display === 'none') {{\n",
       "            console.log([gd, 'removed!']);\n",
       "            Plotly.purge(gd);\n",
       "            observer.disconnect();\n",
       "        }}\n",
       "}});\n",
       "\n",
       "// Listen for the removal of the full notebook cells\n",
       "var notebookContainer = gd.closest('#notebook-container');\n",
       "if (notebookContainer) {{\n",
       "    x.observe(notebookContainer, {childList: true});\n",
       "}}\n",
       "\n",
       "// Listen for the clearing of the current output cell\n",
       "var outputEl = gd.closest('.output');\n",
       "if (outputEl) {{\n",
       "    x.observe(outputEl, {childList: true});\n",
       "}}\n",
       "\n",
       "                        })\n",
       "                };\n",
       "                });\n",
       "            </script>\n",
       "        </div>"
      ]
     },
     "metadata": {},
     "output_type": "display_data"
    }
   ],
   "source": [
    "df.iplot(kind='bar')"
   ]
  },
  {
   "cell_type": "code",
   "execution_count": 26,
   "metadata": {},
   "outputs": [
    {
     "data": {
      "application/vnd.plotly.v1+json": {
       "config": {
        "linkText": "Export to plot.ly",
        "plotlyServerURL": "https://plot.ly",
        "showLink": true
       },
       "data": [
        {
         "marker": {
          "color": "rgba(255, 153, 51, 0.6)",
          "line": {
           "color": "rgba(255, 153, 51, 1.0)",
           "width": 1
          }
         },
         "name": "None",
         "orientation": "v",
         "text": "",
         "type": "bar",
         "x": [
          "A",
          "B",
          "C",
          "D"
         ],
         "y": [
          -5.6546368364384945,
          7.214996613807052,
          3.031995489161254,
          10.095308560664261
         ]
        }
       ],
       "layout": {
        "legend": {
         "bgcolor": "#F5F6F9",
         "font": {
          "color": "#4D5663"
         }
        },
        "paper_bgcolor": "#F5F6F9",
        "plot_bgcolor": "#F5F6F9",
        "template": {
         "data": {
          "bar": [
           {
            "error_x": {
             "color": "#2a3f5f"
            },
            "error_y": {
             "color": "#2a3f5f"
            },
            "marker": {
             "line": {
              "color": "#E5ECF6",
              "width": 0.5
             }
            },
            "type": "bar"
           }
          ],
          "barpolar": [
           {
            "marker": {
             "line": {
              "color": "#E5ECF6",
              "width": 0.5
             }
            },
            "type": "barpolar"
           }
          ],
          "carpet": [
           {
            "aaxis": {
             "endlinecolor": "#2a3f5f",
             "gridcolor": "white",
             "linecolor": "white",
             "minorgridcolor": "white",
             "startlinecolor": "#2a3f5f"
            },
            "baxis": {
             "endlinecolor": "#2a3f5f",
             "gridcolor": "white",
             "linecolor": "white",
             "minorgridcolor": "white",
             "startlinecolor": "#2a3f5f"
            },
            "type": "carpet"
           }
          ],
          "choropleth": [
           {
            "colorbar": {
             "outlinewidth": 0,
             "ticks": ""
            },
            "type": "choropleth"
           }
          ],
          "contour": [
           {
            "colorbar": {
             "outlinewidth": 0,
             "ticks": ""
            },
            "colorscale": [
             [
              0,
              "#0d0887"
             ],
             [
              0.1111111111111111,
              "#46039f"
             ],
             [
              0.2222222222222222,
              "#7201a8"
             ],
             [
              0.3333333333333333,
              "#9c179e"
             ],
             [
              0.4444444444444444,
              "#bd3786"
             ],
             [
              0.5555555555555556,
              "#d8576b"
             ],
             [
              0.6666666666666666,
              "#ed7953"
             ],
             [
              0.7777777777777778,
              "#fb9f3a"
             ],
             [
              0.8888888888888888,
              "#fdca26"
             ],
             [
              1,
              "#f0f921"
             ]
            ],
            "type": "contour"
           }
          ],
          "contourcarpet": [
           {
            "colorbar": {
             "outlinewidth": 0,
             "ticks": ""
            },
            "type": "contourcarpet"
           }
          ],
          "heatmap": [
           {
            "colorbar": {
             "outlinewidth": 0,
             "ticks": ""
            },
            "colorscale": [
             [
              0,
              "#0d0887"
             ],
             [
              0.1111111111111111,
              "#46039f"
             ],
             [
              0.2222222222222222,
              "#7201a8"
             ],
             [
              0.3333333333333333,
              "#9c179e"
             ],
             [
              0.4444444444444444,
              "#bd3786"
             ],
             [
              0.5555555555555556,
              "#d8576b"
             ],
             [
              0.6666666666666666,
              "#ed7953"
             ],
             [
              0.7777777777777778,
              "#fb9f3a"
             ],
             [
              0.8888888888888888,
              "#fdca26"
             ],
             [
              1,
              "#f0f921"
             ]
            ],
            "type": "heatmap"
           }
          ],
          "heatmapgl": [
           {
            "colorbar": {
             "outlinewidth": 0,
             "ticks": ""
            },
            "colorscale": [
             [
              0,
              "#0d0887"
             ],
             [
              0.1111111111111111,
              "#46039f"
             ],
             [
              0.2222222222222222,
              "#7201a8"
             ],
             [
              0.3333333333333333,
              "#9c179e"
             ],
             [
              0.4444444444444444,
              "#bd3786"
             ],
             [
              0.5555555555555556,
              "#d8576b"
             ],
             [
              0.6666666666666666,
              "#ed7953"
             ],
             [
              0.7777777777777778,
              "#fb9f3a"
             ],
             [
              0.8888888888888888,
              "#fdca26"
             ],
             [
              1,
              "#f0f921"
             ]
            ],
            "type": "heatmapgl"
           }
          ],
          "histogram": [
           {
            "marker": {
             "colorbar": {
              "outlinewidth": 0,
              "ticks": ""
             }
            },
            "type": "histogram"
           }
          ],
          "histogram2d": [
           {
            "colorbar": {
             "outlinewidth": 0,
             "ticks": ""
            },
            "colorscale": [
             [
              0,
              "#0d0887"
             ],
             [
              0.1111111111111111,
              "#46039f"
             ],
             [
              0.2222222222222222,
              "#7201a8"
             ],
             [
              0.3333333333333333,
              "#9c179e"
             ],
             [
              0.4444444444444444,
              "#bd3786"
             ],
             [
              0.5555555555555556,
              "#d8576b"
             ],
             [
              0.6666666666666666,
              "#ed7953"
             ],
             [
              0.7777777777777778,
              "#fb9f3a"
             ],
             [
              0.8888888888888888,
              "#fdca26"
             ],
             [
              1,
              "#f0f921"
             ]
            ],
            "type": "histogram2d"
           }
          ],
          "histogram2dcontour": [
           {
            "colorbar": {
             "outlinewidth": 0,
             "ticks": ""
            },
            "colorscale": [
             [
              0,
              "#0d0887"
             ],
             [
              0.1111111111111111,
              "#46039f"
             ],
             [
              0.2222222222222222,
              "#7201a8"
             ],
             [
              0.3333333333333333,
              "#9c179e"
             ],
             [
              0.4444444444444444,
              "#bd3786"
             ],
             [
              0.5555555555555556,
              "#d8576b"
             ],
             [
              0.6666666666666666,
              "#ed7953"
             ],
             [
              0.7777777777777778,
              "#fb9f3a"
             ],
             [
              0.8888888888888888,
              "#fdca26"
             ],
             [
              1,
              "#f0f921"
             ]
            ],
            "type": "histogram2dcontour"
           }
          ],
          "mesh3d": [
           {
            "colorbar": {
             "outlinewidth": 0,
             "ticks": ""
            },
            "type": "mesh3d"
           }
          ],
          "parcoords": [
           {
            "line": {
             "colorbar": {
              "outlinewidth": 0,
              "ticks": ""
             }
            },
            "type": "parcoords"
           }
          ],
          "pie": [
           {
            "automargin": true,
            "type": "pie"
           }
          ],
          "scatter": [
           {
            "marker": {
             "colorbar": {
              "outlinewidth": 0,
              "ticks": ""
             }
            },
            "type": "scatter"
           }
          ],
          "scatter3d": [
           {
            "line": {
             "colorbar": {
              "outlinewidth": 0,
              "ticks": ""
             }
            },
            "marker": {
             "colorbar": {
              "outlinewidth": 0,
              "ticks": ""
             }
            },
            "type": "scatter3d"
           }
          ],
          "scattercarpet": [
           {
            "marker": {
             "colorbar": {
              "outlinewidth": 0,
              "ticks": ""
             }
            },
            "type": "scattercarpet"
           }
          ],
          "scattergeo": [
           {
            "marker": {
             "colorbar": {
              "outlinewidth": 0,
              "ticks": ""
             }
            },
            "type": "scattergeo"
           }
          ],
          "scattergl": [
           {
            "marker": {
             "colorbar": {
              "outlinewidth": 0,
              "ticks": ""
             }
            },
            "type": "scattergl"
           }
          ],
          "scattermapbox": [
           {
            "marker": {
             "colorbar": {
              "outlinewidth": 0,
              "ticks": ""
             }
            },
            "type": "scattermapbox"
           }
          ],
          "scatterpolar": [
           {
            "marker": {
             "colorbar": {
              "outlinewidth": 0,
              "ticks": ""
             }
            },
            "type": "scatterpolar"
           }
          ],
          "scatterpolargl": [
           {
            "marker": {
             "colorbar": {
              "outlinewidth": 0,
              "ticks": ""
             }
            },
            "type": "scatterpolargl"
           }
          ],
          "scatterternary": [
           {
            "marker": {
             "colorbar": {
              "outlinewidth": 0,
              "ticks": ""
             }
            },
            "type": "scatterternary"
           }
          ],
          "surface": [
           {
            "colorbar": {
             "outlinewidth": 0,
             "ticks": ""
            },
            "colorscale": [
             [
              0,
              "#0d0887"
             ],
             [
              0.1111111111111111,
              "#46039f"
             ],
             [
              0.2222222222222222,
              "#7201a8"
             ],
             [
              0.3333333333333333,
              "#9c179e"
             ],
             [
              0.4444444444444444,
              "#bd3786"
             ],
             [
              0.5555555555555556,
              "#d8576b"
             ],
             [
              0.6666666666666666,
              "#ed7953"
             ],
             [
              0.7777777777777778,
              "#fb9f3a"
             ],
             [
              0.8888888888888888,
              "#fdca26"
             ],
             [
              1,
              "#f0f921"
             ]
            ],
            "type": "surface"
           }
          ],
          "table": [
           {
            "cells": {
             "fill": {
              "color": "#EBF0F8"
             },
             "line": {
              "color": "white"
             }
            },
            "header": {
             "fill": {
              "color": "#C8D4E3"
             },
             "line": {
              "color": "white"
             }
            },
            "type": "table"
           }
          ]
         },
         "layout": {
          "annotationdefaults": {
           "arrowcolor": "#2a3f5f",
           "arrowhead": 0,
           "arrowwidth": 1
          },
          "coloraxis": {
           "colorbar": {
            "outlinewidth": 0,
            "ticks": ""
           }
          },
          "colorscale": {
           "diverging": [
            [
             0,
             "#8e0152"
            ],
            [
             0.1,
             "#c51b7d"
            ],
            [
             0.2,
             "#de77ae"
            ],
            [
             0.3,
             "#f1b6da"
            ],
            [
             0.4,
             "#fde0ef"
            ],
            [
             0.5,
             "#f7f7f7"
            ],
            [
             0.6,
             "#e6f5d0"
            ],
            [
             0.7,
             "#b8e186"
            ],
            [
             0.8,
             "#7fbc41"
            ],
            [
             0.9,
             "#4d9221"
            ],
            [
             1,
             "#276419"
            ]
           ],
           "sequential": [
            [
             0,
             "#0d0887"
            ],
            [
             0.1111111111111111,
             "#46039f"
            ],
            [
             0.2222222222222222,
             "#7201a8"
            ],
            [
             0.3333333333333333,
             "#9c179e"
            ],
            [
             0.4444444444444444,
             "#bd3786"
            ],
            [
             0.5555555555555556,
             "#d8576b"
            ],
            [
             0.6666666666666666,
             "#ed7953"
            ],
            [
             0.7777777777777778,
             "#fb9f3a"
            ],
            [
             0.8888888888888888,
             "#fdca26"
            ],
            [
             1,
             "#f0f921"
            ]
           ],
           "sequentialminus": [
            [
             0,
             "#0d0887"
            ],
            [
             0.1111111111111111,
             "#46039f"
            ],
            [
             0.2222222222222222,
             "#7201a8"
            ],
            [
             0.3333333333333333,
             "#9c179e"
            ],
            [
             0.4444444444444444,
             "#bd3786"
            ],
            [
             0.5555555555555556,
             "#d8576b"
            ],
            [
             0.6666666666666666,
             "#ed7953"
            ],
            [
             0.7777777777777778,
             "#fb9f3a"
            ],
            [
             0.8888888888888888,
             "#fdca26"
            ],
            [
             1,
             "#f0f921"
            ]
           ]
          },
          "colorway": [
           "#636efa",
           "#EF553B",
           "#00cc96",
           "#ab63fa",
           "#FFA15A",
           "#19d3f3",
           "#FF6692",
           "#B6E880",
           "#FF97FF",
           "#FECB52"
          ],
          "font": {
           "color": "#2a3f5f"
          },
          "geo": {
           "bgcolor": "white",
           "lakecolor": "white",
           "landcolor": "#E5ECF6",
           "showlakes": true,
           "showland": true,
           "subunitcolor": "white"
          },
          "hoverlabel": {
           "align": "left"
          },
          "hovermode": "closest",
          "mapbox": {
           "style": "light"
          },
          "paper_bgcolor": "white",
          "plot_bgcolor": "#E5ECF6",
          "polar": {
           "angularaxis": {
            "gridcolor": "white",
            "linecolor": "white",
            "ticks": ""
           },
           "bgcolor": "#E5ECF6",
           "radialaxis": {
            "gridcolor": "white",
            "linecolor": "white",
            "ticks": ""
           }
          },
          "scene": {
           "xaxis": {
            "backgroundcolor": "#E5ECF6",
            "gridcolor": "white",
            "gridwidth": 2,
            "linecolor": "white",
            "showbackground": true,
            "ticks": "",
            "zerolinecolor": "white"
           },
           "yaxis": {
            "backgroundcolor": "#E5ECF6",
            "gridcolor": "white",
            "gridwidth": 2,
            "linecolor": "white",
            "showbackground": true,
            "ticks": "",
            "zerolinecolor": "white"
           },
           "zaxis": {
            "backgroundcolor": "#E5ECF6",
            "gridcolor": "white",
            "gridwidth": 2,
            "linecolor": "white",
            "showbackground": true,
            "ticks": "",
            "zerolinecolor": "white"
           }
          },
          "shapedefaults": {
           "line": {
            "color": "#2a3f5f"
           }
          },
          "ternary": {
           "aaxis": {
            "gridcolor": "white",
            "linecolor": "white",
            "ticks": ""
           },
           "baxis": {
            "gridcolor": "white",
            "linecolor": "white",
            "ticks": ""
           },
           "bgcolor": "#E5ECF6",
           "caxis": {
            "gridcolor": "white",
            "linecolor": "white",
            "ticks": ""
           }
          },
          "title": {
           "x": 0.05
          },
          "xaxis": {
           "automargin": true,
           "gridcolor": "white",
           "linecolor": "white",
           "ticks": "",
           "title": {
            "standoff": 15
           },
           "zerolinecolor": "white",
           "zerolinewidth": 2
          },
          "yaxis": {
           "automargin": true,
           "gridcolor": "white",
           "linecolor": "white",
           "ticks": "",
           "title": {
            "standoff": 15
           },
           "zerolinecolor": "white",
           "zerolinewidth": 2
          }
         }
        },
        "title": {
         "font": {
          "color": "#4D5663"
         }
        },
        "xaxis": {
         "gridcolor": "#E1E5ED",
         "showgrid": true,
         "tickfont": {
          "color": "#4D5663"
         },
         "title": {
          "font": {
           "color": "#4D5663"
          },
          "text": ""
         },
         "zerolinecolor": "#E1E5ED"
        },
        "yaxis": {
         "gridcolor": "#E1E5ED",
         "showgrid": true,
         "tickfont": {
          "color": "#4D5663"
         },
         "title": {
          "font": {
           "color": "#4D5663"
          },
          "text": ""
         },
         "zerolinecolor": "#E1E5ED"
        }
       }
      },
      "text/html": [
       "<div>\n",
       "        \n",
       "        \n",
       "            <div id=\"386a9fd1-8f02-44ee-b39d-526f1b80c880\" class=\"plotly-graph-div\" style=\"height:525px; width:100%;\"></div>\n",
       "            <script type=\"text/javascript\">\n",
       "                require([\"plotly\"], function(Plotly) {\n",
       "                    window.PLOTLYENV=window.PLOTLYENV || {};\n",
       "                    window.PLOTLYENV.BASE_URL='https://plot.ly';\n",
       "                    \n",
       "                if (document.getElementById(\"386a9fd1-8f02-44ee-b39d-526f1b80c880\")) {\n",
       "                    Plotly.newPlot(\n",
       "                        '386a9fd1-8f02-44ee-b39d-526f1b80c880',\n",
       "                        [{\"marker\": {\"color\": \"rgba(255, 153, 51, 0.6)\", \"line\": {\"color\": \"rgba(255, 153, 51, 1.0)\", \"width\": 1}}, \"name\": \"None\", \"orientation\": \"v\", \"text\": \"\", \"type\": \"bar\", \"x\": [\"A\", \"B\", \"C\", \"D\"], \"y\": [-5.6546368364384945, 7.214996613807052, 3.031995489161254, 10.095308560664261]}],\n",
       "                        {\"legend\": {\"bgcolor\": \"#F5F6F9\", \"font\": {\"color\": \"#4D5663\"}}, \"paper_bgcolor\": \"#F5F6F9\", \"plot_bgcolor\": \"#F5F6F9\", \"template\": {\"data\": {\"bar\": [{\"error_x\": {\"color\": \"#2a3f5f\"}, \"error_y\": {\"color\": \"#2a3f5f\"}, \"marker\": {\"line\": {\"color\": \"#E5ECF6\", \"width\": 0.5}}, \"type\": \"bar\"}], \"barpolar\": [{\"marker\": {\"line\": {\"color\": \"#E5ECF6\", \"width\": 0.5}}, \"type\": \"barpolar\"}], \"carpet\": [{\"aaxis\": {\"endlinecolor\": \"#2a3f5f\", \"gridcolor\": \"white\", \"linecolor\": \"white\", \"minorgridcolor\": \"white\", \"startlinecolor\": \"#2a3f5f\"}, \"baxis\": {\"endlinecolor\": \"#2a3f5f\", \"gridcolor\": \"white\", \"linecolor\": \"white\", \"minorgridcolor\": \"white\", \"startlinecolor\": \"#2a3f5f\"}, \"type\": \"carpet\"}], \"choropleth\": [{\"colorbar\": {\"outlinewidth\": 0, \"ticks\": \"\"}, \"type\": \"choropleth\"}], \"contour\": [{\"colorbar\": {\"outlinewidth\": 0, \"ticks\": \"\"}, \"colorscale\": [[0.0, \"#0d0887\"], [0.1111111111111111, \"#46039f\"], [0.2222222222222222, \"#7201a8\"], [0.3333333333333333, \"#9c179e\"], [0.4444444444444444, \"#bd3786\"], [0.5555555555555556, \"#d8576b\"], [0.6666666666666666, \"#ed7953\"], [0.7777777777777778, \"#fb9f3a\"], [0.8888888888888888, \"#fdca26\"], [1.0, \"#f0f921\"]], \"type\": \"contour\"}], \"contourcarpet\": [{\"colorbar\": {\"outlinewidth\": 0, \"ticks\": \"\"}, \"type\": \"contourcarpet\"}], \"heatmap\": [{\"colorbar\": {\"outlinewidth\": 0, \"ticks\": \"\"}, \"colorscale\": [[0.0, \"#0d0887\"], [0.1111111111111111, \"#46039f\"], [0.2222222222222222, \"#7201a8\"], [0.3333333333333333, \"#9c179e\"], [0.4444444444444444, \"#bd3786\"], [0.5555555555555556, \"#d8576b\"], [0.6666666666666666, \"#ed7953\"], [0.7777777777777778, \"#fb9f3a\"], [0.8888888888888888, \"#fdca26\"], [1.0, \"#f0f921\"]], \"type\": \"heatmap\"}], \"heatmapgl\": [{\"colorbar\": {\"outlinewidth\": 0, \"ticks\": \"\"}, \"colorscale\": [[0.0, \"#0d0887\"], [0.1111111111111111, \"#46039f\"], [0.2222222222222222, \"#7201a8\"], [0.3333333333333333, \"#9c179e\"], [0.4444444444444444, \"#bd3786\"], [0.5555555555555556, \"#d8576b\"], [0.6666666666666666, \"#ed7953\"], [0.7777777777777778, \"#fb9f3a\"], [0.8888888888888888, \"#fdca26\"], [1.0, \"#f0f921\"]], \"type\": \"heatmapgl\"}], \"histogram\": [{\"marker\": {\"colorbar\": {\"outlinewidth\": 0, \"ticks\": \"\"}}, \"type\": \"histogram\"}], \"histogram2d\": [{\"colorbar\": {\"outlinewidth\": 0, \"ticks\": \"\"}, \"colorscale\": [[0.0, \"#0d0887\"], [0.1111111111111111, \"#46039f\"], [0.2222222222222222, \"#7201a8\"], [0.3333333333333333, \"#9c179e\"], [0.4444444444444444, \"#bd3786\"], [0.5555555555555556, \"#d8576b\"], [0.6666666666666666, \"#ed7953\"], [0.7777777777777778, \"#fb9f3a\"], [0.8888888888888888, \"#fdca26\"], [1.0, \"#f0f921\"]], \"type\": \"histogram2d\"}], \"histogram2dcontour\": [{\"colorbar\": {\"outlinewidth\": 0, \"ticks\": \"\"}, \"colorscale\": [[0.0, \"#0d0887\"], [0.1111111111111111, \"#46039f\"], [0.2222222222222222, \"#7201a8\"], [0.3333333333333333, \"#9c179e\"], [0.4444444444444444, \"#bd3786\"], [0.5555555555555556, \"#d8576b\"], [0.6666666666666666, \"#ed7953\"], [0.7777777777777778, \"#fb9f3a\"], [0.8888888888888888, \"#fdca26\"], [1.0, \"#f0f921\"]], \"type\": \"histogram2dcontour\"}], \"mesh3d\": [{\"colorbar\": {\"outlinewidth\": 0, \"ticks\": \"\"}, \"type\": \"mesh3d\"}], \"parcoords\": [{\"line\": {\"colorbar\": {\"outlinewidth\": 0, \"ticks\": \"\"}}, \"type\": \"parcoords\"}], \"pie\": [{\"automargin\": true, \"type\": \"pie\"}], \"scatter\": [{\"marker\": {\"colorbar\": {\"outlinewidth\": 0, \"ticks\": \"\"}}, \"type\": \"scatter\"}], \"scatter3d\": [{\"line\": {\"colorbar\": {\"outlinewidth\": 0, \"ticks\": \"\"}}, \"marker\": {\"colorbar\": {\"outlinewidth\": 0, \"ticks\": \"\"}}, \"type\": \"scatter3d\"}], \"scattercarpet\": [{\"marker\": {\"colorbar\": {\"outlinewidth\": 0, \"ticks\": \"\"}}, \"type\": \"scattercarpet\"}], \"scattergeo\": [{\"marker\": {\"colorbar\": {\"outlinewidth\": 0, \"ticks\": \"\"}}, \"type\": \"scattergeo\"}], \"scattergl\": [{\"marker\": {\"colorbar\": {\"outlinewidth\": 0, \"ticks\": \"\"}}, \"type\": \"scattergl\"}], \"scattermapbox\": [{\"marker\": {\"colorbar\": {\"outlinewidth\": 0, \"ticks\": \"\"}}, \"type\": \"scattermapbox\"}], \"scatterpolar\": [{\"marker\": {\"colorbar\": {\"outlinewidth\": 0, \"ticks\": \"\"}}, \"type\": \"scatterpolar\"}], \"scatterpolargl\": [{\"marker\": {\"colorbar\": {\"outlinewidth\": 0, \"ticks\": \"\"}}, \"type\": \"scatterpolargl\"}], \"scatterternary\": [{\"marker\": {\"colorbar\": {\"outlinewidth\": 0, \"ticks\": \"\"}}, \"type\": \"scatterternary\"}], \"surface\": [{\"colorbar\": {\"outlinewidth\": 0, \"ticks\": \"\"}, \"colorscale\": [[0.0, \"#0d0887\"], [0.1111111111111111, \"#46039f\"], [0.2222222222222222, \"#7201a8\"], [0.3333333333333333, \"#9c179e\"], [0.4444444444444444, \"#bd3786\"], [0.5555555555555556, \"#d8576b\"], [0.6666666666666666, \"#ed7953\"], [0.7777777777777778, \"#fb9f3a\"], [0.8888888888888888, \"#fdca26\"], [1.0, \"#f0f921\"]], \"type\": \"surface\"}], \"table\": [{\"cells\": {\"fill\": {\"color\": \"#EBF0F8\"}, \"line\": {\"color\": \"white\"}}, \"header\": {\"fill\": {\"color\": \"#C8D4E3\"}, \"line\": {\"color\": \"white\"}}, \"type\": \"table\"}]}, \"layout\": {\"annotationdefaults\": {\"arrowcolor\": \"#2a3f5f\", \"arrowhead\": 0, \"arrowwidth\": 1}, \"coloraxis\": {\"colorbar\": {\"outlinewidth\": 0, \"ticks\": \"\"}}, \"colorscale\": {\"diverging\": [[0, \"#8e0152\"], [0.1, \"#c51b7d\"], [0.2, \"#de77ae\"], [0.3, \"#f1b6da\"], [0.4, \"#fde0ef\"], [0.5, \"#f7f7f7\"], [0.6, \"#e6f5d0\"], [0.7, \"#b8e186\"], [0.8, \"#7fbc41\"], [0.9, \"#4d9221\"], [1, \"#276419\"]], \"sequential\": [[0.0, \"#0d0887\"], [0.1111111111111111, \"#46039f\"], [0.2222222222222222, \"#7201a8\"], [0.3333333333333333, \"#9c179e\"], [0.4444444444444444, \"#bd3786\"], [0.5555555555555556, \"#d8576b\"], [0.6666666666666666, \"#ed7953\"], [0.7777777777777778, \"#fb9f3a\"], [0.8888888888888888, \"#fdca26\"], [1.0, \"#f0f921\"]], \"sequentialminus\": [[0.0, \"#0d0887\"], [0.1111111111111111, \"#46039f\"], [0.2222222222222222, \"#7201a8\"], [0.3333333333333333, \"#9c179e\"], [0.4444444444444444, \"#bd3786\"], [0.5555555555555556, \"#d8576b\"], [0.6666666666666666, \"#ed7953\"], [0.7777777777777778, \"#fb9f3a\"], [0.8888888888888888, \"#fdca26\"], [1.0, \"#f0f921\"]]}, \"colorway\": [\"#636efa\", \"#EF553B\", \"#00cc96\", \"#ab63fa\", \"#FFA15A\", \"#19d3f3\", \"#FF6692\", \"#B6E880\", \"#FF97FF\", \"#FECB52\"], \"font\": {\"color\": \"#2a3f5f\"}, \"geo\": {\"bgcolor\": \"white\", \"lakecolor\": \"white\", \"landcolor\": \"#E5ECF6\", \"showlakes\": true, \"showland\": true, \"subunitcolor\": \"white\"}, \"hoverlabel\": {\"align\": \"left\"}, \"hovermode\": \"closest\", \"mapbox\": {\"style\": \"light\"}, \"paper_bgcolor\": \"white\", \"plot_bgcolor\": \"#E5ECF6\", \"polar\": {\"angularaxis\": {\"gridcolor\": \"white\", \"linecolor\": \"white\", \"ticks\": \"\"}, \"bgcolor\": \"#E5ECF6\", \"radialaxis\": {\"gridcolor\": \"white\", \"linecolor\": \"white\", \"ticks\": \"\"}}, \"scene\": {\"xaxis\": {\"backgroundcolor\": \"#E5ECF6\", \"gridcolor\": \"white\", \"gridwidth\": 2, \"linecolor\": \"white\", \"showbackground\": true, \"ticks\": \"\", \"zerolinecolor\": \"white\"}, \"yaxis\": {\"backgroundcolor\": \"#E5ECF6\", \"gridcolor\": \"white\", \"gridwidth\": 2, \"linecolor\": \"white\", \"showbackground\": true, \"ticks\": \"\", \"zerolinecolor\": \"white\"}, \"zaxis\": {\"backgroundcolor\": \"#E5ECF6\", \"gridcolor\": \"white\", \"gridwidth\": 2, \"linecolor\": \"white\", \"showbackground\": true, \"ticks\": \"\", \"zerolinecolor\": \"white\"}}, \"shapedefaults\": {\"line\": {\"color\": \"#2a3f5f\"}}, \"ternary\": {\"aaxis\": {\"gridcolor\": \"white\", \"linecolor\": \"white\", \"ticks\": \"\"}, \"baxis\": {\"gridcolor\": \"white\", \"linecolor\": \"white\", \"ticks\": \"\"}, \"bgcolor\": \"#E5ECF6\", \"caxis\": {\"gridcolor\": \"white\", \"linecolor\": \"white\", \"ticks\": \"\"}}, \"title\": {\"x\": 0.05}, \"xaxis\": {\"automargin\": true, \"gridcolor\": \"white\", \"linecolor\": \"white\", \"ticks\": \"\", \"title\": {\"standoff\": 15}, \"zerolinecolor\": \"white\", \"zerolinewidth\": 2}, \"yaxis\": {\"automargin\": true, \"gridcolor\": \"white\", \"linecolor\": \"white\", \"ticks\": \"\", \"title\": {\"standoff\": 15}, \"zerolinecolor\": \"white\", \"zerolinewidth\": 2}}}, \"title\": {\"font\": {\"color\": \"#4D5663\"}}, \"xaxis\": {\"gridcolor\": \"#E1E5ED\", \"showgrid\": true, \"tickfont\": {\"color\": \"#4D5663\"}, \"title\": {\"font\": {\"color\": \"#4D5663\"}, \"text\": \"\"}, \"zerolinecolor\": \"#E1E5ED\"}, \"yaxis\": {\"gridcolor\": \"#E1E5ED\", \"showgrid\": true, \"tickfont\": {\"color\": \"#4D5663\"}, \"title\": {\"font\": {\"color\": \"#4D5663\"}, \"text\": \"\"}, \"zerolinecolor\": \"#E1E5ED\"}},\n",
       "                        {\"showLink\": true, \"linkText\": \"Export to plot.ly\", \"plotlyServerURL\": \"https://plot.ly\", \"responsive\": true}\n",
       "                    ).then(function(){\n",
       "                            \n",
       "var gd = document.getElementById('386a9fd1-8f02-44ee-b39d-526f1b80c880');\n",
       "var x = new MutationObserver(function (mutations, observer) {{\n",
       "        var display = window.getComputedStyle(gd).display;\n",
       "        if (!display || display === 'none') {{\n",
       "            console.log([gd, 'removed!']);\n",
       "            Plotly.purge(gd);\n",
       "            observer.disconnect();\n",
       "        }}\n",
       "}});\n",
       "\n",
       "// Listen for the removal of the full notebook cells\n",
       "var notebookContainer = gd.closest('#notebook-container');\n",
       "if (notebookContainer) {{\n",
       "    x.observe(notebookContainer, {childList: true});\n",
       "}}\n",
       "\n",
       "// Listen for the clearing of the current output cell\n",
       "var outputEl = gd.closest('.output');\n",
       "if (outputEl) {{\n",
       "    x.observe(outputEl, {childList: true});\n",
       "}}\n",
       "\n",
       "                        })\n",
       "                };\n",
       "                });\n",
       "            </script>\n",
       "        </div>"
      ]
     },
     "metadata": {},
     "output_type": "display_data"
    }
   ],
   "source": [
    "df.sum().iplot(kind='bar')"
   ]
  },
  {
   "cell_type": "code",
   "execution_count": 23,
   "metadata": {},
   "outputs": [
    {
     "data": {
      "application/vnd.plotly.v1+json": {
       "config": {
        "linkText": "Export to plot.ly",
        "plotlyServerURL": "https://plot.ly",
        "showLink": true
       },
       "data": [
        {
         "marker": {
          "color": "rgba(255, 153, 51, 0.6)",
          "line": {
           "color": "rgba(255, 153, 51, 1.0)",
           "width": 1
          }
         },
         "name": "None",
         "orientation": "v",
         "text": "",
         "type": "bar",
         "x": [
          "A",
          "B",
          "C",
          "D"
         ],
         "y": [
          100,
          100,
          100,
          100
         ]
        }
       ],
       "layout": {
        "legend": {
         "bgcolor": "#F5F6F9",
         "font": {
          "color": "#4D5663"
         }
        },
        "paper_bgcolor": "#F5F6F9",
        "plot_bgcolor": "#F5F6F9",
        "template": {
         "data": {
          "bar": [
           {
            "error_x": {
             "color": "#2a3f5f"
            },
            "error_y": {
             "color": "#2a3f5f"
            },
            "marker": {
             "line": {
              "color": "#E5ECF6",
              "width": 0.5
             }
            },
            "type": "bar"
           }
          ],
          "barpolar": [
           {
            "marker": {
             "line": {
              "color": "#E5ECF6",
              "width": 0.5
             }
            },
            "type": "barpolar"
           }
          ],
          "carpet": [
           {
            "aaxis": {
             "endlinecolor": "#2a3f5f",
             "gridcolor": "white",
             "linecolor": "white",
             "minorgridcolor": "white",
             "startlinecolor": "#2a3f5f"
            },
            "baxis": {
             "endlinecolor": "#2a3f5f",
             "gridcolor": "white",
             "linecolor": "white",
             "minorgridcolor": "white",
             "startlinecolor": "#2a3f5f"
            },
            "type": "carpet"
           }
          ],
          "choropleth": [
           {
            "colorbar": {
             "outlinewidth": 0,
             "ticks": ""
            },
            "type": "choropleth"
           }
          ],
          "contour": [
           {
            "colorbar": {
             "outlinewidth": 0,
             "ticks": ""
            },
            "colorscale": [
             [
              0,
              "#0d0887"
             ],
             [
              0.1111111111111111,
              "#46039f"
             ],
             [
              0.2222222222222222,
              "#7201a8"
             ],
             [
              0.3333333333333333,
              "#9c179e"
             ],
             [
              0.4444444444444444,
              "#bd3786"
             ],
             [
              0.5555555555555556,
              "#d8576b"
             ],
             [
              0.6666666666666666,
              "#ed7953"
             ],
             [
              0.7777777777777778,
              "#fb9f3a"
             ],
             [
              0.8888888888888888,
              "#fdca26"
             ],
             [
              1,
              "#f0f921"
             ]
            ],
            "type": "contour"
           }
          ],
          "contourcarpet": [
           {
            "colorbar": {
             "outlinewidth": 0,
             "ticks": ""
            },
            "type": "contourcarpet"
           }
          ],
          "heatmap": [
           {
            "colorbar": {
             "outlinewidth": 0,
             "ticks": ""
            },
            "colorscale": [
             [
              0,
              "#0d0887"
             ],
             [
              0.1111111111111111,
              "#46039f"
             ],
             [
              0.2222222222222222,
              "#7201a8"
             ],
             [
              0.3333333333333333,
              "#9c179e"
             ],
             [
              0.4444444444444444,
              "#bd3786"
             ],
             [
              0.5555555555555556,
              "#d8576b"
             ],
             [
              0.6666666666666666,
              "#ed7953"
             ],
             [
              0.7777777777777778,
              "#fb9f3a"
             ],
             [
              0.8888888888888888,
              "#fdca26"
             ],
             [
              1,
              "#f0f921"
             ]
            ],
            "type": "heatmap"
           }
          ],
          "heatmapgl": [
           {
            "colorbar": {
             "outlinewidth": 0,
             "ticks": ""
            },
            "colorscale": [
             [
              0,
              "#0d0887"
             ],
             [
              0.1111111111111111,
              "#46039f"
             ],
             [
              0.2222222222222222,
              "#7201a8"
             ],
             [
              0.3333333333333333,
              "#9c179e"
             ],
             [
              0.4444444444444444,
              "#bd3786"
             ],
             [
              0.5555555555555556,
              "#d8576b"
             ],
             [
              0.6666666666666666,
              "#ed7953"
             ],
             [
              0.7777777777777778,
              "#fb9f3a"
             ],
             [
              0.8888888888888888,
              "#fdca26"
             ],
             [
              1,
              "#f0f921"
             ]
            ],
            "type": "heatmapgl"
           }
          ],
          "histogram": [
           {
            "marker": {
             "colorbar": {
              "outlinewidth": 0,
              "ticks": ""
             }
            },
            "type": "histogram"
           }
          ],
          "histogram2d": [
           {
            "colorbar": {
             "outlinewidth": 0,
             "ticks": ""
            },
            "colorscale": [
             [
              0,
              "#0d0887"
             ],
             [
              0.1111111111111111,
              "#46039f"
             ],
             [
              0.2222222222222222,
              "#7201a8"
             ],
             [
              0.3333333333333333,
              "#9c179e"
             ],
             [
              0.4444444444444444,
              "#bd3786"
             ],
             [
              0.5555555555555556,
              "#d8576b"
             ],
             [
              0.6666666666666666,
              "#ed7953"
             ],
             [
              0.7777777777777778,
              "#fb9f3a"
             ],
             [
              0.8888888888888888,
              "#fdca26"
             ],
             [
              1,
              "#f0f921"
             ]
            ],
            "type": "histogram2d"
           }
          ],
          "histogram2dcontour": [
           {
            "colorbar": {
             "outlinewidth": 0,
             "ticks": ""
            },
            "colorscale": [
             [
              0,
              "#0d0887"
             ],
             [
              0.1111111111111111,
              "#46039f"
             ],
             [
              0.2222222222222222,
              "#7201a8"
             ],
             [
              0.3333333333333333,
              "#9c179e"
             ],
             [
              0.4444444444444444,
              "#bd3786"
             ],
             [
              0.5555555555555556,
              "#d8576b"
             ],
             [
              0.6666666666666666,
              "#ed7953"
             ],
             [
              0.7777777777777778,
              "#fb9f3a"
             ],
             [
              0.8888888888888888,
              "#fdca26"
             ],
             [
              1,
              "#f0f921"
             ]
            ],
            "type": "histogram2dcontour"
           }
          ],
          "mesh3d": [
           {
            "colorbar": {
             "outlinewidth": 0,
             "ticks": ""
            },
            "type": "mesh3d"
           }
          ],
          "parcoords": [
           {
            "line": {
             "colorbar": {
              "outlinewidth": 0,
              "ticks": ""
             }
            },
            "type": "parcoords"
           }
          ],
          "pie": [
           {
            "automargin": true,
            "type": "pie"
           }
          ],
          "scatter": [
           {
            "marker": {
             "colorbar": {
              "outlinewidth": 0,
              "ticks": ""
             }
            },
            "type": "scatter"
           }
          ],
          "scatter3d": [
           {
            "line": {
             "colorbar": {
              "outlinewidth": 0,
              "ticks": ""
             }
            },
            "marker": {
             "colorbar": {
              "outlinewidth": 0,
              "ticks": ""
             }
            },
            "type": "scatter3d"
           }
          ],
          "scattercarpet": [
           {
            "marker": {
             "colorbar": {
              "outlinewidth": 0,
              "ticks": ""
             }
            },
            "type": "scattercarpet"
           }
          ],
          "scattergeo": [
           {
            "marker": {
             "colorbar": {
              "outlinewidth": 0,
              "ticks": ""
             }
            },
            "type": "scattergeo"
           }
          ],
          "scattergl": [
           {
            "marker": {
             "colorbar": {
              "outlinewidth": 0,
              "ticks": ""
             }
            },
            "type": "scattergl"
           }
          ],
          "scattermapbox": [
           {
            "marker": {
             "colorbar": {
              "outlinewidth": 0,
              "ticks": ""
             }
            },
            "type": "scattermapbox"
           }
          ],
          "scatterpolar": [
           {
            "marker": {
             "colorbar": {
              "outlinewidth": 0,
              "ticks": ""
             }
            },
            "type": "scatterpolar"
           }
          ],
          "scatterpolargl": [
           {
            "marker": {
             "colorbar": {
              "outlinewidth": 0,
              "ticks": ""
             }
            },
            "type": "scatterpolargl"
           }
          ],
          "scatterternary": [
           {
            "marker": {
             "colorbar": {
              "outlinewidth": 0,
              "ticks": ""
             }
            },
            "type": "scatterternary"
           }
          ],
          "surface": [
           {
            "colorbar": {
             "outlinewidth": 0,
             "ticks": ""
            },
            "colorscale": [
             [
              0,
              "#0d0887"
             ],
             [
              0.1111111111111111,
              "#46039f"
             ],
             [
              0.2222222222222222,
              "#7201a8"
             ],
             [
              0.3333333333333333,
              "#9c179e"
             ],
             [
              0.4444444444444444,
              "#bd3786"
             ],
             [
              0.5555555555555556,
              "#d8576b"
             ],
             [
              0.6666666666666666,
              "#ed7953"
             ],
             [
              0.7777777777777778,
              "#fb9f3a"
             ],
             [
              0.8888888888888888,
              "#fdca26"
             ],
             [
              1,
              "#f0f921"
             ]
            ],
            "type": "surface"
           }
          ],
          "table": [
           {
            "cells": {
             "fill": {
              "color": "#EBF0F8"
             },
             "line": {
              "color": "white"
             }
            },
            "header": {
             "fill": {
              "color": "#C8D4E3"
             },
             "line": {
              "color": "white"
             }
            },
            "type": "table"
           }
          ]
         },
         "layout": {
          "annotationdefaults": {
           "arrowcolor": "#2a3f5f",
           "arrowhead": 0,
           "arrowwidth": 1
          },
          "coloraxis": {
           "colorbar": {
            "outlinewidth": 0,
            "ticks": ""
           }
          },
          "colorscale": {
           "diverging": [
            [
             0,
             "#8e0152"
            ],
            [
             0.1,
             "#c51b7d"
            ],
            [
             0.2,
             "#de77ae"
            ],
            [
             0.3,
             "#f1b6da"
            ],
            [
             0.4,
             "#fde0ef"
            ],
            [
             0.5,
             "#f7f7f7"
            ],
            [
             0.6,
             "#e6f5d0"
            ],
            [
             0.7,
             "#b8e186"
            ],
            [
             0.8,
             "#7fbc41"
            ],
            [
             0.9,
             "#4d9221"
            ],
            [
             1,
             "#276419"
            ]
           ],
           "sequential": [
            [
             0,
             "#0d0887"
            ],
            [
             0.1111111111111111,
             "#46039f"
            ],
            [
             0.2222222222222222,
             "#7201a8"
            ],
            [
             0.3333333333333333,
             "#9c179e"
            ],
            [
             0.4444444444444444,
             "#bd3786"
            ],
            [
             0.5555555555555556,
             "#d8576b"
            ],
            [
             0.6666666666666666,
             "#ed7953"
            ],
            [
             0.7777777777777778,
             "#fb9f3a"
            ],
            [
             0.8888888888888888,
             "#fdca26"
            ],
            [
             1,
             "#f0f921"
            ]
           ],
           "sequentialminus": [
            [
             0,
             "#0d0887"
            ],
            [
             0.1111111111111111,
             "#46039f"
            ],
            [
             0.2222222222222222,
             "#7201a8"
            ],
            [
             0.3333333333333333,
             "#9c179e"
            ],
            [
             0.4444444444444444,
             "#bd3786"
            ],
            [
             0.5555555555555556,
             "#d8576b"
            ],
            [
             0.6666666666666666,
             "#ed7953"
            ],
            [
             0.7777777777777778,
             "#fb9f3a"
            ],
            [
             0.8888888888888888,
             "#fdca26"
            ],
            [
             1,
             "#f0f921"
            ]
           ]
          },
          "colorway": [
           "#636efa",
           "#EF553B",
           "#00cc96",
           "#ab63fa",
           "#FFA15A",
           "#19d3f3",
           "#FF6692",
           "#B6E880",
           "#FF97FF",
           "#FECB52"
          ],
          "font": {
           "color": "#2a3f5f"
          },
          "geo": {
           "bgcolor": "white",
           "lakecolor": "white",
           "landcolor": "#E5ECF6",
           "showlakes": true,
           "showland": true,
           "subunitcolor": "white"
          },
          "hoverlabel": {
           "align": "left"
          },
          "hovermode": "closest",
          "mapbox": {
           "style": "light"
          },
          "paper_bgcolor": "white",
          "plot_bgcolor": "#E5ECF6",
          "polar": {
           "angularaxis": {
            "gridcolor": "white",
            "linecolor": "white",
            "ticks": ""
           },
           "bgcolor": "#E5ECF6",
           "radialaxis": {
            "gridcolor": "white",
            "linecolor": "white",
            "ticks": ""
           }
          },
          "scene": {
           "xaxis": {
            "backgroundcolor": "#E5ECF6",
            "gridcolor": "white",
            "gridwidth": 2,
            "linecolor": "white",
            "showbackground": true,
            "ticks": "",
            "zerolinecolor": "white"
           },
           "yaxis": {
            "backgroundcolor": "#E5ECF6",
            "gridcolor": "white",
            "gridwidth": 2,
            "linecolor": "white",
            "showbackground": true,
            "ticks": "",
            "zerolinecolor": "white"
           },
           "zaxis": {
            "backgroundcolor": "#E5ECF6",
            "gridcolor": "white",
            "gridwidth": 2,
            "linecolor": "white",
            "showbackground": true,
            "ticks": "",
            "zerolinecolor": "white"
           }
          },
          "shapedefaults": {
           "line": {
            "color": "#2a3f5f"
           }
          },
          "ternary": {
           "aaxis": {
            "gridcolor": "white",
            "linecolor": "white",
            "ticks": ""
           },
           "baxis": {
            "gridcolor": "white",
            "linecolor": "white",
            "ticks": ""
           },
           "bgcolor": "#E5ECF6",
           "caxis": {
            "gridcolor": "white",
            "linecolor": "white",
            "ticks": ""
           }
          },
          "title": {
           "x": 0.05
          },
          "xaxis": {
           "automargin": true,
           "gridcolor": "white",
           "linecolor": "white",
           "ticks": "",
           "title": {
            "standoff": 15
           },
           "zerolinecolor": "white",
           "zerolinewidth": 2
          },
          "yaxis": {
           "automargin": true,
           "gridcolor": "white",
           "linecolor": "white",
           "ticks": "",
           "title": {
            "standoff": 15
           },
           "zerolinecolor": "white",
           "zerolinewidth": 2
          }
         }
        },
        "title": {
         "font": {
          "color": "#4D5663"
         }
        },
        "xaxis": {
         "gridcolor": "#E1E5ED",
         "showgrid": true,
         "tickfont": {
          "color": "#4D5663"
         },
         "title": {
          "font": {
           "color": "#4D5663"
          },
          "text": ""
         },
         "zerolinecolor": "#E1E5ED"
        },
        "yaxis": {
         "gridcolor": "#E1E5ED",
         "showgrid": true,
         "tickfont": {
          "color": "#4D5663"
         },
         "title": {
          "font": {
           "color": "#4D5663"
          },
          "text": ""
         },
         "zerolinecolor": "#E1E5ED"
        }
       }
      },
      "text/html": [
       "<div>\n",
       "        \n",
       "        \n",
       "            <div id=\"e075ff7b-5b3c-43f8-85fc-ccd8e75682f8\" class=\"plotly-graph-div\" style=\"height:525px; width:100%;\"></div>\n",
       "            <script type=\"text/javascript\">\n",
       "                require([\"plotly\"], function(Plotly) {\n",
       "                    window.PLOTLYENV=window.PLOTLYENV || {};\n",
       "                    window.PLOTLYENV.BASE_URL='https://plot.ly';\n",
       "                    \n",
       "                if (document.getElementById(\"e075ff7b-5b3c-43f8-85fc-ccd8e75682f8\")) {\n",
       "                    Plotly.newPlot(\n",
       "                        'e075ff7b-5b3c-43f8-85fc-ccd8e75682f8',\n",
       "                        [{\"marker\": {\"color\": \"rgba(255, 153, 51, 0.6)\", \"line\": {\"color\": \"rgba(255, 153, 51, 1.0)\", \"width\": 1}}, \"name\": \"None\", \"orientation\": \"v\", \"text\": \"\", \"type\": \"bar\", \"x\": [\"A\", \"B\", \"C\", \"D\"], \"y\": [100, 100, 100, 100]}],\n",
       "                        {\"legend\": {\"bgcolor\": \"#F5F6F9\", \"font\": {\"color\": \"#4D5663\"}}, \"paper_bgcolor\": \"#F5F6F9\", \"plot_bgcolor\": \"#F5F6F9\", \"template\": {\"data\": {\"bar\": [{\"error_x\": {\"color\": \"#2a3f5f\"}, \"error_y\": {\"color\": \"#2a3f5f\"}, \"marker\": {\"line\": {\"color\": \"#E5ECF6\", \"width\": 0.5}}, \"type\": \"bar\"}], \"barpolar\": [{\"marker\": {\"line\": {\"color\": \"#E5ECF6\", \"width\": 0.5}}, \"type\": \"barpolar\"}], \"carpet\": [{\"aaxis\": {\"endlinecolor\": \"#2a3f5f\", \"gridcolor\": \"white\", \"linecolor\": \"white\", \"minorgridcolor\": \"white\", \"startlinecolor\": \"#2a3f5f\"}, \"baxis\": {\"endlinecolor\": \"#2a3f5f\", \"gridcolor\": \"white\", \"linecolor\": \"white\", \"minorgridcolor\": \"white\", \"startlinecolor\": \"#2a3f5f\"}, \"type\": \"carpet\"}], \"choropleth\": [{\"colorbar\": {\"outlinewidth\": 0, \"ticks\": \"\"}, \"type\": \"choropleth\"}], \"contour\": [{\"colorbar\": {\"outlinewidth\": 0, \"ticks\": \"\"}, \"colorscale\": [[0.0, \"#0d0887\"], [0.1111111111111111, \"#46039f\"], [0.2222222222222222, \"#7201a8\"], [0.3333333333333333, \"#9c179e\"], [0.4444444444444444, \"#bd3786\"], [0.5555555555555556, \"#d8576b\"], [0.6666666666666666, \"#ed7953\"], [0.7777777777777778, \"#fb9f3a\"], [0.8888888888888888, \"#fdca26\"], [1.0, \"#f0f921\"]], \"type\": \"contour\"}], \"contourcarpet\": [{\"colorbar\": {\"outlinewidth\": 0, \"ticks\": \"\"}, \"type\": \"contourcarpet\"}], \"heatmap\": [{\"colorbar\": {\"outlinewidth\": 0, \"ticks\": \"\"}, \"colorscale\": [[0.0, \"#0d0887\"], [0.1111111111111111, \"#46039f\"], [0.2222222222222222, \"#7201a8\"], [0.3333333333333333, \"#9c179e\"], [0.4444444444444444, \"#bd3786\"], [0.5555555555555556, \"#d8576b\"], [0.6666666666666666, \"#ed7953\"], [0.7777777777777778, \"#fb9f3a\"], [0.8888888888888888, \"#fdca26\"], [1.0, \"#f0f921\"]], \"type\": \"heatmap\"}], \"heatmapgl\": [{\"colorbar\": {\"outlinewidth\": 0, \"ticks\": \"\"}, \"colorscale\": [[0.0, \"#0d0887\"], [0.1111111111111111, \"#46039f\"], [0.2222222222222222, \"#7201a8\"], [0.3333333333333333, \"#9c179e\"], [0.4444444444444444, \"#bd3786\"], [0.5555555555555556, \"#d8576b\"], [0.6666666666666666, \"#ed7953\"], [0.7777777777777778, \"#fb9f3a\"], [0.8888888888888888, \"#fdca26\"], [1.0, \"#f0f921\"]], \"type\": \"heatmapgl\"}], \"histogram\": [{\"marker\": {\"colorbar\": {\"outlinewidth\": 0, \"ticks\": \"\"}}, \"type\": \"histogram\"}], \"histogram2d\": [{\"colorbar\": {\"outlinewidth\": 0, \"ticks\": \"\"}, \"colorscale\": [[0.0, \"#0d0887\"], [0.1111111111111111, \"#46039f\"], [0.2222222222222222, \"#7201a8\"], [0.3333333333333333, \"#9c179e\"], [0.4444444444444444, \"#bd3786\"], [0.5555555555555556, \"#d8576b\"], [0.6666666666666666, \"#ed7953\"], [0.7777777777777778, \"#fb9f3a\"], [0.8888888888888888, \"#fdca26\"], [1.0, \"#f0f921\"]], \"type\": \"histogram2d\"}], \"histogram2dcontour\": [{\"colorbar\": {\"outlinewidth\": 0, \"ticks\": \"\"}, \"colorscale\": [[0.0, \"#0d0887\"], [0.1111111111111111, \"#46039f\"], [0.2222222222222222, \"#7201a8\"], [0.3333333333333333, \"#9c179e\"], [0.4444444444444444, \"#bd3786\"], [0.5555555555555556, \"#d8576b\"], [0.6666666666666666, \"#ed7953\"], [0.7777777777777778, \"#fb9f3a\"], [0.8888888888888888, \"#fdca26\"], [1.0, \"#f0f921\"]], \"type\": \"histogram2dcontour\"}], \"mesh3d\": [{\"colorbar\": {\"outlinewidth\": 0, \"ticks\": \"\"}, \"type\": \"mesh3d\"}], \"parcoords\": [{\"line\": {\"colorbar\": {\"outlinewidth\": 0, \"ticks\": \"\"}}, \"type\": \"parcoords\"}], \"pie\": [{\"automargin\": true, \"type\": \"pie\"}], \"scatter\": [{\"marker\": {\"colorbar\": {\"outlinewidth\": 0, \"ticks\": \"\"}}, \"type\": \"scatter\"}], \"scatter3d\": [{\"line\": {\"colorbar\": {\"outlinewidth\": 0, \"ticks\": \"\"}}, \"marker\": {\"colorbar\": {\"outlinewidth\": 0, \"ticks\": \"\"}}, \"type\": \"scatter3d\"}], \"scattercarpet\": [{\"marker\": {\"colorbar\": {\"outlinewidth\": 0, \"ticks\": \"\"}}, \"type\": \"scattercarpet\"}], \"scattergeo\": [{\"marker\": {\"colorbar\": {\"outlinewidth\": 0, \"ticks\": \"\"}}, \"type\": \"scattergeo\"}], \"scattergl\": [{\"marker\": {\"colorbar\": {\"outlinewidth\": 0, \"ticks\": \"\"}}, \"type\": \"scattergl\"}], \"scattermapbox\": [{\"marker\": {\"colorbar\": {\"outlinewidth\": 0, \"ticks\": \"\"}}, \"type\": \"scattermapbox\"}], \"scatterpolar\": [{\"marker\": {\"colorbar\": {\"outlinewidth\": 0, \"ticks\": \"\"}}, \"type\": \"scatterpolar\"}], \"scatterpolargl\": [{\"marker\": {\"colorbar\": {\"outlinewidth\": 0, \"ticks\": \"\"}}, \"type\": \"scatterpolargl\"}], \"scatterternary\": [{\"marker\": {\"colorbar\": {\"outlinewidth\": 0, \"ticks\": \"\"}}, \"type\": \"scatterternary\"}], \"surface\": [{\"colorbar\": {\"outlinewidth\": 0, \"ticks\": \"\"}, \"colorscale\": [[0.0, \"#0d0887\"], [0.1111111111111111, \"#46039f\"], [0.2222222222222222, \"#7201a8\"], [0.3333333333333333, \"#9c179e\"], [0.4444444444444444, \"#bd3786\"], [0.5555555555555556, \"#d8576b\"], [0.6666666666666666, \"#ed7953\"], [0.7777777777777778, \"#fb9f3a\"], [0.8888888888888888, \"#fdca26\"], [1.0, \"#f0f921\"]], \"type\": \"surface\"}], \"table\": [{\"cells\": {\"fill\": {\"color\": \"#EBF0F8\"}, \"line\": {\"color\": \"white\"}}, \"header\": {\"fill\": {\"color\": \"#C8D4E3\"}, \"line\": {\"color\": \"white\"}}, \"type\": \"table\"}]}, \"layout\": {\"annotationdefaults\": {\"arrowcolor\": \"#2a3f5f\", \"arrowhead\": 0, \"arrowwidth\": 1}, \"coloraxis\": {\"colorbar\": {\"outlinewidth\": 0, \"ticks\": \"\"}}, \"colorscale\": {\"diverging\": [[0, \"#8e0152\"], [0.1, \"#c51b7d\"], [0.2, \"#de77ae\"], [0.3, \"#f1b6da\"], [0.4, \"#fde0ef\"], [0.5, \"#f7f7f7\"], [0.6, \"#e6f5d0\"], [0.7, \"#b8e186\"], [0.8, \"#7fbc41\"], [0.9, \"#4d9221\"], [1, \"#276419\"]], \"sequential\": [[0.0, \"#0d0887\"], [0.1111111111111111, \"#46039f\"], [0.2222222222222222, \"#7201a8\"], [0.3333333333333333, \"#9c179e\"], [0.4444444444444444, \"#bd3786\"], [0.5555555555555556, \"#d8576b\"], [0.6666666666666666, \"#ed7953\"], [0.7777777777777778, \"#fb9f3a\"], [0.8888888888888888, \"#fdca26\"], [1.0, \"#f0f921\"]], \"sequentialminus\": [[0.0, \"#0d0887\"], [0.1111111111111111, \"#46039f\"], [0.2222222222222222, \"#7201a8\"], [0.3333333333333333, \"#9c179e\"], [0.4444444444444444, \"#bd3786\"], [0.5555555555555556, \"#d8576b\"], [0.6666666666666666, \"#ed7953\"], [0.7777777777777778, \"#fb9f3a\"], [0.8888888888888888, \"#fdca26\"], [1.0, \"#f0f921\"]]}, \"colorway\": [\"#636efa\", \"#EF553B\", \"#00cc96\", \"#ab63fa\", \"#FFA15A\", \"#19d3f3\", \"#FF6692\", \"#B6E880\", \"#FF97FF\", \"#FECB52\"], \"font\": {\"color\": \"#2a3f5f\"}, \"geo\": {\"bgcolor\": \"white\", \"lakecolor\": \"white\", \"landcolor\": \"#E5ECF6\", \"showlakes\": true, \"showland\": true, \"subunitcolor\": \"white\"}, \"hoverlabel\": {\"align\": \"left\"}, \"hovermode\": \"closest\", \"mapbox\": {\"style\": \"light\"}, \"paper_bgcolor\": \"white\", \"plot_bgcolor\": \"#E5ECF6\", \"polar\": {\"angularaxis\": {\"gridcolor\": \"white\", \"linecolor\": \"white\", \"ticks\": \"\"}, \"bgcolor\": \"#E5ECF6\", \"radialaxis\": {\"gridcolor\": \"white\", \"linecolor\": \"white\", \"ticks\": \"\"}}, \"scene\": {\"xaxis\": {\"backgroundcolor\": \"#E5ECF6\", \"gridcolor\": \"white\", \"gridwidth\": 2, \"linecolor\": \"white\", \"showbackground\": true, \"ticks\": \"\", \"zerolinecolor\": \"white\"}, \"yaxis\": {\"backgroundcolor\": \"#E5ECF6\", \"gridcolor\": \"white\", \"gridwidth\": 2, \"linecolor\": \"white\", \"showbackground\": true, \"ticks\": \"\", \"zerolinecolor\": \"white\"}, \"zaxis\": {\"backgroundcolor\": \"#E5ECF6\", \"gridcolor\": \"white\", \"gridwidth\": 2, \"linecolor\": \"white\", \"showbackground\": true, \"ticks\": \"\", \"zerolinecolor\": \"white\"}}, \"shapedefaults\": {\"line\": {\"color\": \"#2a3f5f\"}}, \"ternary\": {\"aaxis\": {\"gridcolor\": \"white\", \"linecolor\": \"white\", \"ticks\": \"\"}, \"baxis\": {\"gridcolor\": \"white\", \"linecolor\": \"white\", \"ticks\": \"\"}, \"bgcolor\": \"#E5ECF6\", \"caxis\": {\"gridcolor\": \"white\", \"linecolor\": \"white\", \"ticks\": \"\"}}, \"title\": {\"x\": 0.05}, \"xaxis\": {\"automargin\": true, \"gridcolor\": \"white\", \"linecolor\": \"white\", \"ticks\": \"\", \"title\": {\"standoff\": 15}, \"zerolinecolor\": \"white\", \"zerolinewidth\": 2}, \"yaxis\": {\"automargin\": true, \"gridcolor\": \"white\", \"linecolor\": \"white\", \"ticks\": \"\", \"title\": {\"standoff\": 15}, \"zerolinecolor\": \"white\", \"zerolinewidth\": 2}}}, \"title\": {\"font\": {\"color\": \"#4D5663\"}}, \"xaxis\": {\"gridcolor\": \"#E1E5ED\", \"showgrid\": true, \"tickfont\": {\"color\": \"#4D5663\"}, \"title\": {\"font\": {\"color\": \"#4D5663\"}, \"text\": \"\"}, \"zerolinecolor\": \"#E1E5ED\"}, \"yaxis\": {\"gridcolor\": \"#E1E5ED\", \"showgrid\": true, \"tickfont\": {\"color\": \"#4D5663\"}, \"title\": {\"font\": {\"color\": \"#4D5663\"}, \"text\": \"\"}, \"zerolinecolor\": \"#E1E5ED\"}},\n",
       "                        {\"showLink\": true, \"linkText\": \"Export to plot.ly\", \"plotlyServerURL\": \"https://plot.ly\", \"responsive\": true}\n",
       "                    ).then(function(){\n",
       "                            \n",
       "var gd = document.getElementById('e075ff7b-5b3c-43f8-85fc-ccd8e75682f8');\n",
       "var x = new MutationObserver(function (mutations, observer) {{\n",
       "        var display = window.getComputedStyle(gd).display;\n",
       "        if (!display || display === 'none') {{\n",
       "            console.log([gd, 'removed!']);\n",
       "            Plotly.purge(gd);\n",
       "            observer.disconnect();\n",
       "        }}\n",
       "}});\n",
       "\n",
       "// Listen for the removal of the full notebook cells\n",
       "var notebookContainer = gd.closest('#notebook-container');\n",
       "if (notebookContainer) {{\n",
       "    x.observe(notebookContainer, {childList: true});\n",
       "}}\n",
       "\n",
       "// Listen for the clearing of the current output cell\n",
       "var outputEl = gd.closest('.output');\n",
       "if (outputEl) {{\n",
       "    x.observe(outputEl, {childList: true});\n",
       "}}\n",
       "\n",
       "                        })\n",
       "                };\n",
       "                });\n",
       "            </script>\n",
       "        </div>"
      ]
     },
     "metadata": {},
     "output_type": "display_data"
    }
   ],
   "source": [
    "df.count().iplot(kind='bar')"
   ]
  },
  {
   "cell_type": "code",
   "execution_count": null,
   "metadata": {},
   "outputs": [],
   "source": []
  },
  {
   "cell_type": "markdown",
   "metadata": {},
   "source": [
    "## Boxplots"
   ]
  },
  {
   "cell_type": "code",
   "execution_count": 28,
   "metadata": {},
   "outputs": [
    {
     "data": {
      "application/vnd.plotly.v1+json": {
       "config": {
        "linkText": "Export to plot.ly",
        "plotlyServerURL": "https://plot.ly",
        "showLink": true
       },
       "data": [
        {
         "boxpoints": false,
         "line": {
          "width": 1.3
         },
         "marker": {
          "color": "rgba(255, 153, 51, 1.0)"
         },
         "name": "A",
         "orientation": "v",
         "type": "box",
         "y": [
          -1.149882228543045,
          1.5362385410467798,
          0.3932379374579331,
          -2.059996463523254,
          0.09562991677781363,
          -0.1844539287632311,
          2.3418220729645576,
          -0.43975047658280936,
          0.6288630050374875,
          -0.030326212811700944,
          -1.702156021656865,
          -1.517666528581438,
          1.19528182618035,
          -0.9288515943816018,
          0.2672440911504483,
          -0.4002975415796906,
          -1.2173180116996651,
          0.9662247412467714,
          -1.9290761726699661,
          1.249919408423394,
          -0.6783813256393709,
          -0.7888541279691633,
          -2.7701270507949274,
          -0.4570081697608714,
          -1.5754577270896186,
          1.7040742114772185,
          -1.323623647403465,
          -1.0710918640009173,
          0.2187213850037935,
          -0.07078716233479242,
          -1.303646959301516,
          2.1897266317892035,
          0.13093518856030348,
          -0.9903480467852114,
          0.33671892236565953,
          -1.1556963538417262,
          -0.2773860242357469,
          1.9377494811247495,
          0.1423953006490988,
          0.6731945716487792,
          -0.46541278669836533,
          -0.714379146180877,
          1.0651922056412366,
          0.3114333896682094,
          -0.29224469547465676,
          -0.6358918139816263,
          -0.06286318467275165,
          0.07858067675403434,
          -0.02010629030746235,
          0.9735632755624417,
          0.3806941990300737,
          0.9555634570784103,
          -0.38220496895255784,
          -0.22327324528616546,
          -1.8998284305790532,
          -0.24424740920339258,
          -0.02526692348391983,
          -0.1382620224959738,
          1.395861014773399,
          -0.3604338840902675,
          0.3563945466276664,
          -0.07645210423467486,
          1.058060157864064,
          0.03543017928138459,
          0.32199934259140944,
          0.7294917431182483,
          0.16221584077406218,
          0.44579793102551135,
          -0.06772507530824512,
          0.39109205187050505,
          -0.7385195761252955,
          -1.2023650450948926,
          -1.3018179686182045,
          -0.7588769767804764,
          0.8540615931350239,
          0.7937811845169089,
          -0.11330210909059032,
          0.9786046847077196,
          0.1026403652012129,
          -0.6973082302186342,
          -0.7309060647842065,
          -0.3824059171264001,
          0.5322395624685383,
          0.5520881490592399,
          0.7893147543534774,
          0.9593248351973666,
          0.08953894702720594,
          -0.10201225506825605,
          -0.112709501292115,
          -0.6104114734459825,
          0.4274545255274656,
          0.3232725058320922,
          0.14213070118669957,
          -0.7675916048632497,
          -0.15544652729455274,
          -0.6522117023376075,
          1.7648913777096549,
          -1.0343556208880231,
          0.6291210941714808,
          -0.2714321671685072
         ]
        },
        {
         "boxpoints": false,
         "line": {
          "width": 1.3
         },
         "marker": {
          "color": "rgba(55, 128, 191, 1.0)"
         },
         "name": "B",
         "orientation": "v",
         "type": "box",
         "y": [
          -0.821596800402655,
          0.5664394505597601,
          0.5089641346070292,
          -0.2592635248813433,
          1.1425648848092516,
          0.1303293725182424,
          -0.7452599453081017,
          0.6807839819422564,
          -0.03025028909446263,
          -0.7216948550717397,
          0.012099971974348565,
          -1.9328018674909626,
          0.2940669437690773,
          -0.6425845565868856,
          -1.274457701503331,
          -0.31820163749691893,
          -0.9201990535926323,
          -1.3082244088756303,
          0.9672470890932595,
          0.5604202824371384,
          -0.7169037558756315,
          0.5214208294070508,
          0.005276194451701883,
          1.34131395639202,
          0.862730069774194,
          0.444210324881266,
          0.7166122997543846,
          0.5905621985926649,
          -0.6123356568653066,
          -0.526925454627251,
          0.3566581207234709,
          -0.7958593703435825,
          0.4820928557493119,
          2.082313812263963,
          1.2477493754732194,
          0.4347371625321479,
          -0.5524659931146368,
          -0.8005632090645551,
          -0.49586200765958227,
          0.7363425104966456,
          -0.5004712861884172,
          1.0482761927570294,
          -0.6137346570027824,
          -0.03968309123000246,
          -0.3226370483232409,
          -0.9003242820526284,
          -0.4726691235269847,
          1.468411024145207,
          -0.45566617797248504,
          0.07953301178126826,
          0.5357369360643719,
          -0.08765107497054818,
          -1.426308343534027,
          0.819068484709911,
          1.8086881553071021,
          0.40025853155354885,
          -0.8893840863646113,
          0.9387138657020594,
          0.6986426191038498,
          0.43740462673617786,
          0.6644892611484586,
          0.0311752431301281,
          -0.8240084892443692,
          1.5178420616192276,
          0.014463322301807217,
          -0.07506796365150185,
          0.25267110665442416,
          0.9536021445007004,
          -0.021310183431371237,
          -1.3114035432534275,
          0.8592510660239445,
          -1.2507752033737798,
          1.4246620884121426,
          1.1027173115312447,
          0.6118120227281758,
          -0.7975020166108695,
          -1.462540048851282,
          0.6827294493991927,
          0.5334301271174584,
          0.7294526884023559,
          -0.04388537975766861,
          -0.789556783280647,
          0.3392864194491249,
          0.790166279806434,
          1.0259494794903965,
          0.27094021554193,
          1.4829223336581099,
          -0.23293511983863718,
          0.6859245229420942,
          0.5874723324937035,
          0.48557210628845787,
          -0.12662879963201118,
          0.9212668798284969,
          -1.2223765090701693,
          -0.029869681236115303,
          -1.8045036109927406,
          -1.9155662026040001,
          -0.536847880512402,
          0.34557732447025485,
          -0.3892917688322118
         ]
        },
        {
         "boxpoints": false,
         "line": {
          "width": 1.3
         },
         "marker": {
          "color": "rgba(50, 171, 96, 1.0)"
         },
         "name": "C",
         "orientation": "v",
         "type": "box",
         "y": [
          -0.05043432899368031,
          0.6383985377849963,
          -0.5552104688070715,
          0.8733894761659502,
          -0.27973637356455144,
          0.3099198456823666,
          -0.88279025720947,
          1.5867347920708614,
          -1.1682939504435819,
          -0.5398035790255533,
          2.6047288884328945,
          -0.28450355075339073,
          -0.18411605199644634,
          -0.7087374298548398,
          1.6390687626183504,
          -0.5433847348255266,
          -0.29102616128048525,
          0.3867966969243918,
          -0.5738198681006161,
          -0.8467916453984707,
          0.5297032633356104,
          0.34987822330080387,
          0.6945634517303589,
          0.7468221924352632,
          1.900151098890552,
          -0.621938312162858,
          -0.16362440785066615,
          0.3584161327870031,
          0.6084762558026675,
          -0.9318463866260959,
          -1.7149056880168532,
          -0.10128499226000447,
          0.19637626627572874,
          0.2969997402467644,
          -0.5831229998849408,
          -0.6053470808434863,
          -0.519200620192376,
          1.132014562741578,
          2.14583857085064,
          1.1082670904027203,
          0.9915436083465138,
          0.35064782627575036,
          -0.8718624044359158,
          -0.7711209904670029,
          1.8434894167073075,
          -0.881682946775223,
          2.2198785443767775,
          -0.9020703454223811,
          -2.0310072709609477,
          0.0859417760441214,
          -0.5497913464560333,
          -0.8896792267662379,
          0.0501728664565584,
          -1.4144078755079297,
          -1.2547969891058721,
          0.4244866684966232,
          0.5746324117859202,
          0.23125449383760513,
          0.6734505472376046,
          0.9481492334735947,
          -0.15602051696246882,
          -0.27681846353088535,
          0.6879641900610127,
          -0.5650179988527602,
          -0.6727447321566563,
          0.8055284608391798,
          -0.07814871647186178,
          0.5983513117146525,
          0.39409971719175724,
          0.2652492847240678,
          -1.1594253536181287,
          1.5322943352645402,
          0.29524129053229714,
          -0.21092943984307086,
          0.7241385453207122,
          -0.5075445506409986,
          -1.0399223896721543,
          -2.6981299945993604,
          0.444443913026689,
          -0.2080299799409404,
          -0.48655055177461065,
          -0.24397033164856838,
          -0.1394653239772895,
          0.8566379732556342,
          -0.40928402997218166,
          -0.8146622155618218,
          -0.12037812400398963,
          -0.0004340621273201351,
          2.4020992968620263,
          0.8084817681546183,
          0.3342529934430462,
          0.21356656246612182,
          -0.7660769594747029,
          -0.1688787331661423,
          -0.8175685865248625,
          1.1337186472505991,
          -0.8818864274262241,
          -0.6262697386361157,
          -1.587580606392134,
          1.3878120685001782
         ]
        },
        {
         "boxpoints": false,
         "line": {
          "width": 1.3
         },
         "marker": {
          "color": "rgba(128, 0, 128, 1.0)"
         },
         "name": "D",
         "orientation": "v",
         "type": "box",
         "y": [
          0.5453066085348863,
          0.6297272301796784,
          -0.9401461784548403,
          -0.9847733132602441,
          1.509088854044453,
          -1.7000718360475824,
          -1.2225246766948081,
          1.3568654711368602,
          0.22949621448467727,
          2.1801712492246623,
          0.5837170028026545,
          0.24891769712044948,
          0.10317662432857874,
          -1.4088141062786053,
          3.114453696537187,
          0.5834183604615801,
          -0.5741527118434024,
          -1.1152938765819431,
          -0.32064879042738254,
          -0.0028248826754078134,
          -1.0740947558270184,
          -1.145910377161432,
          -1.622254906735283,
          0.0849850233504138,
          0.48170159146795744,
          0.1577755528307472,
          -0.504127259110801,
          -0.42063541220074924,
          0.7892685553129059,
          0.5268042161431765,
          1.2662485409933102,
          1.2956511293072994,
          -1.9576037803587114,
          0.5811261923984811,
          1.8785462043575325,
          -0.08774836819701964,
          0.9936591690188294,
          0.20979789911097893,
          0.9783870564757947,
          -0.4828364341183934,
          0.7638656251918456,
          -0.10031401419564683,
          0.6256444425530976,
          1.474091024374885,
          -1.8210439918869357,
          -0.6306310693510034,
          -1.249298484344971,
          -1.999155382645612,
          0.46224949849096975,
          -0.34470294101095705,
          1.038300340305395,
          -0.884885731263254,
          -0.6201625925282921,
          0.5184519198587142,
          0.43543105924330205,
          -0.7227359721398886,
          -0.7755191591579904,
          -1.0755675808765595,
          0.8544324240378218,
          2.076530741297135,
          0.43393973919277723,
          -0.4690057057030747,
          1.6062580004266929,
          1.3388694692214416,
          0.3555205791346771,
          0.13372868023617268,
          -1.274558124113613,
          0.007648624125840822,
          -1.1725752578112267,
          -0.4476181800792881,
          1.025402172731115,
          -0.9778778830870949,
          -1.9127435863256657,
          0.7662278656128317,
          1.7013257856725703,
          1.227232519758253,
          -0.07606912837548144,
          0.5952707419086611,
          0.18385146042710004,
          -0.6123272648027931,
          -0.3200931051252156,
          0.6388727081193947,
          0.5438565635317469,
          0.4985924271650018,
          1.582456123753077,
          0.00900868556309942,
          -0.3661353184511324,
          -0.5282883669256038,
          0.1620926442176821,
          1.5666749409075835,
          0.3472465771172096,
          0.2287517566522857,
          0.8253230381114772,
          -1.3204961957638008,
          1.2104316254647076,
          -0.8837493643965285,
          1.5207769567087257,
          -1.8632609220655565,
          0.3257742103009992,
          0.6961644380276888
         ]
        }
       ],
       "layout": {
        "legend": {
         "bgcolor": "#F5F6F9",
         "font": {
          "color": "#4D5663"
         }
        },
        "paper_bgcolor": "#F5F6F9",
        "plot_bgcolor": "#F5F6F9",
        "template": {
         "data": {
          "bar": [
           {
            "error_x": {
             "color": "#2a3f5f"
            },
            "error_y": {
             "color": "#2a3f5f"
            },
            "marker": {
             "line": {
              "color": "#E5ECF6",
              "width": 0.5
             }
            },
            "type": "bar"
           }
          ],
          "barpolar": [
           {
            "marker": {
             "line": {
              "color": "#E5ECF6",
              "width": 0.5
             }
            },
            "type": "barpolar"
           }
          ],
          "carpet": [
           {
            "aaxis": {
             "endlinecolor": "#2a3f5f",
             "gridcolor": "white",
             "linecolor": "white",
             "minorgridcolor": "white",
             "startlinecolor": "#2a3f5f"
            },
            "baxis": {
             "endlinecolor": "#2a3f5f",
             "gridcolor": "white",
             "linecolor": "white",
             "minorgridcolor": "white",
             "startlinecolor": "#2a3f5f"
            },
            "type": "carpet"
           }
          ],
          "choropleth": [
           {
            "colorbar": {
             "outlinewidth": 0,
             "ticks": ""
            },
            "type": "choropleth"
           }
          ],
          "contour": [
           {
            "colorbar": {
             "outlinewidth": 0,
             "ticks": ""
            },
            "colorscale": [
             [
              0,
              "#0d0887"
             ],
             [
              0.1111111111111111,
              "#46039f"
             ],
             [
              0.2222222222222222,
              "#7201a8"
             ],
             [
              0.3333333333333333,
              "#9c179e"
             ],
             [
              0.4444444444444444,
              "#bd3786"
             ],
             [
              0.5555555555555556,
              "#d8576b"
             ],
             [
              0.6666666666666666,
              "#ed7953"
             ],
             [
              0.7777777777777778,
              "#fb9f3a"
             ],
             [
              0.8888888888888888,
              "#fdca26"
             ],
             [
              1,
              "#f0f921"
             ]
            ],
            "type": "contour"
           }
          ],
          "contourcarpet": [
           {
            "colorbar": {
             "outlinewidth": 0,
             "ticks": ""
            },
            "type": "contourcarpet"
           }
          ],
          "heatmap": [
           {
            "colorbar": {
             "outlinewidth": 0,
             "ticks": ""
            },
            "colorscale": [
             [
              0,
              "#0d0887"
             ],
             [
              0.1111111111111111,
              "#46039f"
             ],
             [
              0.2222222222222222,
              "#7201a8"
             ],
             [
              0.3333333333333333,
              "#9c179e"
             ],
             [
              0.4444444444444444,
              "#bd3786"
             ],
             [
              0.5555555555555556,
              "#d8576b"
             ],
             [
              0.6666666666666666,
              "#ed7953"
             ],
             [
              0.7777777777777778,
              "#fb9f3a"
             ],
             [
              0.8888888888888888,
              "#fdca26"
             ],
             [
              1,
              "#f0f921"
             ]
            ],
            "type": "heatmap"
           }
          ],
          "heatmapgl": [
           {
            "colorbar": {
             "outlinewidth": 0,
             "ticks": ""
            },
            "colorscale": [
             [
              0,
              "#0d0887"
             ],
             [
              0.1111111111111111,
              "#46039f"
             ],
             [
              0.2222222222222222,
              "#7201a8"
             ],
             [
              0.3333333333333333,
              "#9c179e"
             ],
             [
              0.4444444444444444,
              "#bd3786"
             ],
             [
              0.5555555555555556,
              "#d8576b"
             ],
             [
              0.6666666666666666,
              "#ed7953"
             ],
             [
              0.7777777777777778,
              "#fb9f3a"
             ],
             [
              0.8888888888888888,
              "#fdca26"
             ],
             [
              1,
              "#f0f921"
             ]
            ],
            "type": "heatmapgl"
           }
          ],
          "histogram": [
           {
            "marker": {
             "colorbar": {
              "outlinewidth": 0,
              "ticks": ""
             }
            },
            "type": "histogram"
           }
          ],
          "histogram2d": [
           {
            "colorbar": {
             "outlinewidth": 0,
             "ticks": ""
            },
            "colorscale": [
             [
              0,
              "#0d0887"
             ],
             [
              0.1111111111111111,
              "#46039f"
             ],
             [
              0.2222222222222222,
              "#7201a8"
             ],
             [
              0.3333333333333333,
              "#9c179e"
             ],
             [
              0.4444444444444444,
              "#bd3786"
             ],
             [
              0.5555555555555556,
              "#d8576b"
             ],
             [
              0.6666666666666666,
              "#ed7953"
             ],
             [
              0.7777777777777778,
              "#fb9f3a"
             ],
             [
              0.8888888888888888,
              "#fdca26"
             ],
             [
              1,
              "#f0f921"
             ]
            ],
            "type": "histogram2d"
           }
          ],
          "histogram2dcontour": [
           {
            "colorbar": {
             "outlinewidth": 0,
             "ticks": ""
            },
            "colorscale": [
             [
              0,
              "#0d0887"
             ],
             [
              0.1111111111111111,
              "#46039f"
             ],
             [
              0.2222222222222222,
              "#7201a8"
             ],
             [
              0.3333333333333333,
              "#9c179e"
             ],
             [
              0.4444444444444444,
              "#bd3786"
             ],
             [
              0.5555555555555556,
              "#d8576b"
             ],
             [
              0.6666666666666666,
              "#ed7953"
             ],
             [
              0.7777777777777778,
              "#fb9f3a"
             ],
             [
              0.8888888888888888,
              "#fdca26"
             ],
             [
              1,
              "#f0f921"
             ]
            ],
            "type": "histogram2dcontour"
           }
          ],
          "mesh3d": [
           {
            "colorbar": {
             "outlinewidth": 0,
             "ticks": ""
            },
            "type": "mesh3d"
           }
          ],
          "parcoords": [
           {
            "line": {
             "colorbar": {
              "outlinewidth": 0,
              "ticks": ""
             }
            },
            "type": "parcoords"
           }
          ],
          "pie": [
           {
            "automargin": true,
            "type": "pie"
           }
          ],
          "scatter": [
           {
            "marker": {
             "colorbar": {
              "outlinewidth": 0,
              "ticks": ""
             }
            },
            "type": "scatter"
           }
          ],
          "scatter3d": [
           {
            "line": {
             "colorbar": {
              "outlinewidth": 0,
              "ticks": ""
             }
            },
            "marker": {
             "colorbar": {
              "outlinewidth": 0,
              "ticks": ""
             }
            },
            "type": "scatter3d"
           }
          ],
          "scattercarpet": [
           {
            "marker": {
             "colorbar": {
              "outlinewidth": 0,
              "ticks": ""
             }
            },
            "type": "scattercarpet"
           }
          ],
          "scattergeo": [
           {
            "marker": {
             "colorbar": {
              "outlinewidth": 0,
              "ticks": ""
             }
            },
            "type": "scattergeo"
           }
          ],
          "scattergl": [
           {
            "marker": {
             "colorbar": {
              "outlinewidth": 0,
              "ticks": ""
             }
            },
            "type": "scattergl"
           }
          ],
          "scattermapbox": [
           {
            "marker": {
             "colorbar": {
              "outlinewidth": 0,
              "ticks": ""
             }
            },
            "type": "scattermapbox"
           }
          ],
          "scatterpolar": [
           {
            "marker": {
             "colorbar": {
              "outlinewidth": 0,
              "ticks": ""
             }
            },
            "type": "scatterpolar"
           }
          ],
          "scatterpolargl": [
           {
            "marker": {
             "colorbar": {
              "outlinewidth": 0,
              "ticks": ""
             }
            },
            "type": "scatterpolargl"
           }
          ],
          "scatterternary": [
           {
            "marker": {
             "colorbar": {
              "outlinewidth": 0,
              "ticks": ""
             }
            },
            "type": "scatterternary"
           }
          ],
          "surface": [
           {
            "colorbar": {
             "outlinewidth": 0,
             "ticks": ""
            },
            "colorscale": [
             [
              0,
              "#0d0887"
             ],
             [
              0.1111111111111111,
              "#46039f"
             ],
             [
              0.2222222222222222,
              "#7201a8"
             ],
             [
              0.3333333333333333,
              "#9c179e"
             ],
             [
              0.4444444444444444,
              "#bd3786"
             ],
             [
              0.5555555555555556,
              "#d8576b"
             ],
             [
              0.6666666666666666,
              "#ed7953"
             ],
             [
              0.7777777777777778,
              "#fb9f3a"
             ],
             [
              0.8888888888888888,
              "#fdca26"
             ],
             [
              1,
              "#f0f921"
             ]
            ],
            "type": "surface"
           }
          ],
          "table": [
           {
            "cells": {
             "fill": {
              "color": "#EBF0F8"
             },
             "line": {
              "color": "white"
             }
            },
            "header": {
             "fill": {
              "color": "#C8D4E3"
             },
             "line": {
              "color": "white"
             }
            },
            "type": "table"
           }
          ]
         },
         "layout": {
          "annotationdefaults": {
           "arrowcolor": "#2a3f5f",
           "arrowhead": 0,
           "arrowwidth": 1
          },
          "coloraxis": {
           "colorbar": {
            "outlinewidth": 0,
            "ticks": ""
           }
          },
          "colorscale": {
           "diverging": [
            [
             0,
             "#8e0152"
            ],
            [
             0.1,
             "#c51b7d"
            ],
            [
             0.2,
             "#de77ae"
            ],
            [
             0.3,
             "#f1b6da"
            ],
            [
             0.4,
             "#fde0ef"
            ],
            [
             0.5,
             "#f7f7f7"
            ],
            [
             0.6,
             "#e6f5d0"
            ],
            [
             0.7,
             "#b8e186"
            ],
            [
             0.8,
             "#7fbc41"
            ],
            [
             0.9,
             "#4d9221"
            ],
            [
             1,
             "#276419"
            ]
           ],
           "sequential": [
            [
             0,
             "#0d0887"
            ],
            [
             0.1111111111111111,
             "#46039f"
            ],
            [
             0.2222222222222222,
             "#7201a8"
            ],
            [
             0.3333333333333333,
             "#9c179e"
            ],
            [
             0.4444444444444444,
             "#bd3786"
            ],
            [
             0.5555555555555556,
             "#d8576b"
            ],
            [
             0.6666666666666666,
             "#ed7953"
            ],
            [
             0.7777777777777778,
             "#fb9f3a"
            ],
            [
             0.8888888888888888,
             "#fdca26"
            ],
            [
             1,
             "#f0f921"
            ]
           ],
           "sequentialminus": [
            [
             0,
             "#0d0887"
            ],
            [
             0.1111111111111111,
             "#46039f"
            ],
            [
             0.2222222222222222,
             "#7201a8"
            ],
            [
             0.3333333333333333,
             "#9c179e"
            ],
            [
             0.4444444444444444,
             "#bd3786"
            ],
            [
             0.5555555555555556,
             "#d8576b"
            ],
            [
             0.6666666666666666,
             "#ed7953"
            ],
            [
             0.7777777777777778,
             "#fb9f3a"
            ],
            [
             0.8888888888888888,
             "#fdca26"
            ],
            [
             1,
             "#f0f921"
            ]
           ]
          },
          "colorway": [
           "#636efa",
           "#EF553B",
           "#00cc96",
           "#ab63fa",
           "#FFA15A",
           "#19d3f3",
           "#FF6692",
           "#B6E880",
           "#FF97FF",
           "#FECB52"
          ],
          "font": {
           "color": "#2a3f5f"
          },
          "geo": {
           "bgcolor": "white",
           "lakecolor": "white",
           "landcolor": "#E5ECF6",
           "showlakes": true,
           "showland": true,
           "subunitcolor": "white"
          },
          "hoverlabel": {
           "align": "left"
          },
          "hovermode": "closest",
          "mapbox": {
           "style": "light"
          },
          "paper_bgcolor": "white",
          "plot_bgcolor": "#E5ECF6",
          "polar": {
           "angularaxis": {
            "gridcolor": "white",
            "linecolor": "white",
            "ticks": ""
           },
           "bgcolor": "#E5ECF6",
           "radialaxis": {
            "gridcolor": "white",
            "linecolor": "white",
            "ticks": ""
           }
          },
          "scene": {
           "xaxis": {
            "backgroundcolor": "#E5ECF6",
            "gridcolor": "white",
            "gridwidth": 2,
            "linecolor": "white",
            "showbackground": true,
            "ticks": "",
            "zerolinecolor": "white"
           },
           "yaxis": {
            "backgroundcolor": "#E5ECF6",
            "gridcolor": "white",
            "gridwidth": 2,
            "linecolor": "white",
            "showbackground": true,
            "ticks": "",
            "zerolinecolor": "white"
           },
           "zaxis": {
            "backgroundcolor": "#E5ECF6",
            "gridcolor": "white",
            "gridwidth": 2,
            "linecolor": "white",
            "showbackground": true,
            "ticks": "",
            "zerolinecolor": "white"
           }
          },
          "shapedefaults": {
           "line": {
            "color": "#2a3f5f"
           }
          },
          "ternary": {
           "aaxis": {
            "gridcolor": "white",
            "linecolor": "white",
            "ticks": ""
           },
           "baxis": {
            "gridcolor": "white",
            "linecolor": "white",
            "ticks": ""
           },
           "bgcolor": "#E5ECF6",
           "caxis": {
            "gridcolor": "white",
            "linecolor": "white",
            "ticks": ""
           }
          },
          "title": {
           "x": 0.05
          },
          "xaxis": {
           "automargin": true,
           "gridcolor": "white",
           "linecolor": "white",
           "ticks": "",
           "title": {
            "standoff": 15
           },
           "zerolinecolor": "white",
           "zerolinewidth": 2
          },
          "yaxis": {
           "automargin": true,
           "gridcolor": "white",
           "linecolor": "white",
           "ticks": "",
           "title": {
            "standoff": 15
           },
           "zerolinecolor": "white",
           "zerolinewidth": 2
          }
         }
        },
        "title": {
         "font": {
          "color": "#4D5663"
         }
        },
        "xaxis": {
         "gridcolor": "#E1E5ED",
         "showgrid": true,
         "tickfont": {
          "color": "#4D5663"
         },
         "title": {
          "font": {
           "color": "#4D5663"
          },
          "text": ""
         },
         "zerolinecolor": "#E1E5ED"
        },
        "yaxis": {
         "gridcolor": "#E1E5ED",
         "showgrid": true,
         "tickfont": {
          "color": "#4D5663"
         },
         "title": {
          "font": {
           "color": "#4D5663"
          },
          "text": ""
         },
         "zerolinecolor": "#E1E5ED"
        }
       }
      },
      "text/html": [
       "<div>\n",
       "        \n",
       "        \n",
       "            <div id=\"11c97573-ccaf-44b5-b22e-35f7af757a42\" class=\"plotly-graph-div\" style=\"height:525px; width:100%;\"></div>\n",
       "            <script type=\"text/javascript\">\n",
       "                require([\"plotly\"], function(Plotly) {\n",
       "                    window.PLOTLYENV=window.PLOTLYENV || {};\n",
       "                    window.PLOTLYENV.BASE_URL='https://plot.ly';\n",
       "                    \n",
       "                if (document.getElementById(\"11c97573-ccaf-44b5-b22e-35f7af757a42\")) {\n",
       "                    Plotly.newPlot(\n",
       "                        '11c97573-ccaf-44b5-b22e-35f7af757a42',\n",
       "                        [{\"boxpoints\": false, \"line\": {\"width\": 1.3}, \"marker\": {\"color\": \"rgba(255, 153, 51, 1.0)\"}, \"name\": \"A\", \"orientation\": \"v\", \"type\": \"box\", \"y\": [-1.149882228543045, 1.5362385410467798, 0.3932379374579331, -2.059996463523254, 0.09562991677781363, -0.1844539287632311, 2.3418220729645576, -0.43975047658280936, 0.6288630050374875, -0.030326212811700944, -1.702156021656865, -1.517666528581438, 1.19528182618035, -0.9288515943816018, 0.2672440911504483, -0.4002975415796906, -1.2173180116996651, 0.9662247412467714, -1.9290761726699661, 1.249919408423394, -0.6783813256393709, -0.7888541279691633, -2.7701270507949274, -0.4570081697608714, -1.5754577270896186, 1.7040742114772185, -1.323623647403465, -1.0710918640009173, 0.2187213850037935, -0.07078716233479242, -1.303646959301516, 2.1897266317892035, 0.13093518856030348, -0.9903480467852114, 0.33671892236565953, -1.1556963538417262, -0.2773860242357469, 1.9377494811247495, 0.1423953006490988, 0.6731945716487792, -0.46541278669836533, -0.714379146180877, 1.0651922056412366, 0.3114333896682094, -0.29224469547465676, -0.6358918139816263, -0.06286318467275165, 0.07858067675403434, -0.02010629030746235, 0.9735632755624417, 0.3806941990300737, 0.9555634570784103, -0.38220496895255784, -0.22327324528616546, -1.8998284305790532, -0.24424740920339258, -0.02526692348391983, -0.1382620224959738, 1.395861014773399, -0.3604338840902675, 0.3563945466276664, -0.07645210423467486, 1.058060157864064, 0.03543017928138459, 0.32199934259140944, 0.7294917431182483, 0.16221584077406218, 0.44579793102551135, -0.06772507530824512, 0.39109205187050505, -0.7385195761252955, -1.2023650450948926, -1.3018179686182045, -0.7588769767804764, 0.8540615931350239, 0.7937811845169089, -0.11330210909059032, 0.9786046847077196, 0.1026403652012129, -0.6973082302186342, -0.7309060647842065, -0.3824059171264001, 0.5322395624685383, 0.5520881490592399, 0.7893147543534774, 0.9593248351973666, 0.08953894702720594, -0.10201225506825605, -0.112709501292115, -0.6104114734459825, 0.4274545255274656, 0.3232725058320922, 0.14213070118669957, -0.7675916048632497, -0.15544652729455274, -0.6522117023376075, 1.7648913777096549, -1.0343556208880231, 0.6291210941714808, -0.2714321671685072]}, {\"boxpoints\": false, \"line\": {\"width\": 1.3}, \"marker\": {\"color\": \"rgba(55, 128, 191, 1.0)\"}, \"name\": \"B\", \"orientation\": \"v\", \"type\": \"box\", \"y\": [-0.821596800402655, 0.5664394505597601, 0.5089641346070292, -0.2592635248813433, 1.1425648848092516, 0.1303293725182424, -0.7452599453081017, 0.6807839819422564, -0.03025028909446263, -0.7216948550717397, 0.012099971974348565, -1.9328018674909626, 0.2940669437690773, -0.6425845565868856, -1.274457701503331, -0.31820163749691893, -0.9201990535926323, -1.3082244088756303, 0.9672470890932595, 0.5604202824371384, -0.7169037558756315, 0.5214208294070508, 0.005276194451701883, 1.34131395639202, 0.862730069774194, 0.444210324881266, 0.7166122997543846, 0.5905621985926649, -0.6123356568653066, -0.526925454627251, 0.3566581207234709, -0.7958593703435825, 0.4820928557493119, 2.082313812263963, 1.2477493754732194, 0.4347371625321479, -0.5524659931146368, -0.8005632090645551, -0.49586200765958227, 0.7363425104966456, -0.5004712861884172, 1.0482761927570294, -0.6137346570027824, -0.03968309123000246, -0.3226370483232409, -0.9003242820526284, -0.4726691235269847, 1.468411024145207, -0.45566617797248504, 0.07953301178126826, 0.5357369360643719, -0.08765107497054818, -1.426308343534027, 0.819068484709911, 1.8086881553071021, 0.40025853155354885, -0.8893840863646113, 0.9387138657020594, 0.6986426191038498, 0.43740462673617786, 0.6644892611484586, 0.0311752431301281, -0.8240084892443692, 1.5178420616192276, 0.014463322301807217, -0.07506796365150185, 0.25267110665442416, 0.9536021445007004, -0.021310183431371237, -1.3114035432534275, 0.8592510660239445, -1.2507752033737798, 1.4246620884121426, 1.1027173115312447, 0.6118120227281758, -0.7975020166108695, -1.462540048851282, 0.6827294493991927, 0.5334301271174584, 0.7294526884023559, -0.04388537975766861, -0.789556783280647, 0.3392864194491249, 0.790166279806434, 1.0259494794903965, 0.27094021554193, 1.4829223336581099, -0.23293511983863718, 0.6859245229420942, 0.5874723324937035, 0.48557210628845787, -0.12662879963201118, 0.9212668798284969, -1.2223765090701693, -0.029869681236115303, -1.8045036109927406, -1.9155662026040001, -0.536847880512402, 0.34557732447025485, -0.3892917688322118]}, {\"boxpoints\": false, \"line\": {\"width\": 1.3}, \"marker\": {\"color\": \"rgba(50, 171, 96, 1.0)\"}, \"name\": \"C\", \"orientation\": \"v\", \"type\": \"box\", \"y\": [-0.05043432899368031, 0.6383985377849963, -0.5552104688070715, 0.8733894761659502, -0.27973637356455144, 0.3099198456823666, -0.88279025720947, 1.5867347920708614, -1.1682939504435819, -0.5398035790255533, 2.6047288884328945, -0.28450355075339073, -0.18411605199644634, -0.7087374298548398, 1.6390687626183504, -0.5433847348255266, -0.29102616128048525, 0.3867966969243918, -0.5738198681006161, -0.8467916453984707, 0.5297032633356104, 0.34987822330080387, 0.6945634517303589, 0.7468221924352632, 1.900151098890552, -0.621938312162858, -0.16362440785066615, 0.3584161327870031, 0.6084762558026675, -0.9318463866260959, -1.7149056880168532, -0.10128499226000447, 0.19637626627572874, 0.2969997402467644, -0.5831229998849408, -0.6053470808434863, -0.519200620192376, 1.132014562741578, 2.14583857085064, 1.1082670904027203, 0.9915436083465138, 0.35064782627575036, -0.8718624044359158, -0.7711209904670029, 1.8434894167073075, -0.881682946775223, 2.2198785443767775, -0.9020703454223811, -2.0310072709609477, 0.0859417760441214, -0.5497913464560333, -0.8896792267662379, 0.0501728664565584, -1.4144078755079297, -1.2547969891058721, 0.4244866684966232, 0.5746324117859202, 0.23125449383760513, 0.6734505472376046, 0.9481492334735947, -0.15602051696246882, -0.27681846353088535, 0.6879641900610127, -0.5650179988527602, -0.6727447321566563, 0.8055284608391798, -0.07814871647186178, 0.5983513117146525, 0.39409971719175724, 0.2652492847240678, -1.1594253536181287, 1.5322943352645402, 0.29524129053229714, -0.21092943984307086, 0.7241385453207122, -0.5075445506409986, -1.0399223896721543, -2.6981299945993604, 0.444443913026689, -0.2080299799409404, -0.48655055177461065, -0.24397033164856838, -0.1394653239772895, 0.8566379732556342, -0.40928402997218166, -0.8146622155618218, -0.12037812400398963, -0.0004340621273201351, 2.4020992968620263, 0.8084817681546183, 0.3342529934430462, 0.21356656246612182, -0.7660769594747029, -0.1688787331661423, -0.8175685865248625, 1.1337186472505991, -0.8818864274262241, -0.6262697386361157, -1.587580606392134, 1.3878120685001782]}, {\"boxpoints\": false, \"line\": {\"width\": 1.3}, \"marker\": {\"color\": \"rgba(128, 0, 128, 1.0)\"}, \"name\": \"D\", \"orientation\": \"v\", \"type\": \"box\", \"y\": [0.5453066085348863, 0.6297272301796784, -0.9401461784548403, -0.9847733132602441, 1.509088854044453, -1.7000718360475824, -1.2225246766948081, 1.3568654711368602, 0.22949621448467727, 2.1801712492246623, 0.5837170028026545, 0.24891769712044948, 0.10317662432857874, -1.4088141062786053, 3.114453696537187, 0.5834183604615801, -0.5741527118434024, -1.1152938765819431, -0.32064879042738254, -0.0028248826754078134, -1.0740947558270184, -1.145910377161432, -1.622254906735283, 0.0849850233504138, 0.48170159146795744, 0.1577755528307472, -0.504127259110801, -0.42063541220074924, 0.7892685553129059, 0.5268042161431765, 1.2662485409933102, 1.2956511293072994, -1.9576037803587114, 0.5811261923984811, 1.8785462043575325, -0.08774836819701964, 0.9936591690188294, 0.20979789911097893, 0.9783870564757947, -0.4828364341183934, 0.7638656251918456, -0.10031401419564683, 0.6256444425530976, 1.474091024374885, -1.8210439918869357, -0.6306310693510034, -1.249298484344971, -1.999155382645612, 0.46224949849096975, -0.34470294101095705, 1.038300340305395, -0.884885731263254, -0.6201625925282921, 0.5184519198587142, 0.43543105924330205, -0.7227359721398886, -0.7755191591579904, -1.0755675808765595, 0.8544324240378218, 2.076530741297135, 0.43393973919277723, -0.4690057057030747, 1.6062580004266929, 1.3388694692214416, 0.3555205791346771, 0.13372868023617268, -1.274558124113613, 0.007648624125840822, -1.1725752578112267, -0.4476181800792881, 1.025402172731115, -0.9778778830870949, -1.9127435863256657, 0.7662278656128317, 1.7013257856725703, 1.227232519758253, -0.07606912837548144, 0.5952707419086611, 0.18385146042710004, -0.6123272648027931, -0.3200931051252156, 0.6388727081193947, 0.5438565635317469, 0.4985924271650018, 1.582456123753077, 0.00900868556309942, -0.3661353184511324, -0.5282883669256038, 0.1620926442176821, 1.5666749409075835, 0.3472465771172096, 0.2287517566522857, 0.8253230381114772, -1.3204961957638008, 1.2104316254647076, -0.8837493643965285, 1.5207769567087257, -1.8632609220655565, 0.3257742103009992, 0.6961644380276888]}],\n",
       "                        {\"legend\": {\"bgcolor\": \"#F5F6F9\", \"font\": {\"color\": \"#4D5663\"}}, \"paper_bgcolor\": \"#F5F6F9\", \"plot_bgcolor\": \"#F5F6F9\", \"template\": {\"data\": {\"bar\": [{\"error_x\": {\"color\": \"#2a3f5f\"}, \"error_y\": {\"color\": \"#2a3f5f\"}, \"marker\": {\"line\": {\"color\": \"#E5ECF6\", \"width\": 0.5}}, \"type\": \"bar\"}], \"barpolar\": [{\"marker\": {\"line\": {\"color\": \"#E5ECF6\", \"width\": 0.5}}, \"type\": \"barpolar\"}], \"carpet\": [{\"aaxis\": {\"endlinecolor\": \"#2a3f5f\", \"gridcolor\": \"white\", \"linecolor\": \"white\", \"minorgridcolor\": \"white\", \"startlinecolor\": \"#2a3f5f\"}, \"baxis\": {\"endlinecolor\": \"#2a3f5f\", \"gridcolor\": \"white\", \"linecolor\": \"white\", \"minorgridcolor\": \"white\", \"startlinecolor\": \"#2a3f5f\"}, \"type\": \"carpet\"}], \"choropleth\": [{\"colorbar\": {\"outlinewidth\": 0, \"ticks\": \"\"}, \"type\": \"choropleth\"}], \"contour\": [{\"colorbar\": {\"outlinewidth\": 0, \"ticks\": \"\"}, \"colorscale\": [[0.0, \"#0d0887\"], [0.1111111111111111, \"#46039f\"], [0.2222222222222222, \"#7201a8\"], [0.3333333333333333, \"#9c179e\"], [0.4444444444444444, \"#bd3786\"], [0.5555555555555556, \"#d8576b\"], [0.6666666666666666, \"#ed7953\"], [0.7777777777777778, \"#fb9f3a\"], [0.8888888888888888, \"#fdca26\"], [1.0, \"#f0f921\"]], \"type\": \"contour\"}], \"contourcarpet\": [{\"colorbar\": {\"outlinewidth\": 0, \"ticks\": \"\"}, \"type\": \"contourcarpet\"}], \"heatmap\": [{\"colorbar\": {\"outlinewidth\": 0, \"ticks\": \"\"}, \"colorscale\": [[0.0, \"#0d0887\"], [0.1111111111111111, \"#46039f\"], [0.2222222222222222, \"#7201a8\"], [0.3333333333333333, \"#9c179e\"], [0.4444444444444444, \"#bd3786\"], [0.5555555555555556, \"#d8576b\"], [0.6666666666666666, \"#ed7953\"], [0.7777777777777778, \"#fb9f3a\"], [0.8888888888888888, \"#fdca26\"], [1.0, \"#f0f921\"]], \"type\": \"heatmap\"}], \"heatmapgl\": [{\"colorbar\": {\"outlinewidth\": 0, \"ticks\": \"\"}, \"colorscale\": [[0.0, \"#0d0887\"], [0.1111111111111111, \"#46039f\"], [0.2222222222222222, \"#7201a8\"], [0.3333333333333333, \"#9c179e\"], [0.4444444444444444, \"#bd3786\"], [0.5555555555555556, \"#d8576b\"], [0.6666666666666666, \"#ed7953\"], [0.7777777777777778, \"#fb9f3a\"], [0.8888888888888888, \"#fdca26\"], [1.0, \"#f0f921\"]], \"type\": \"heatmapgl\"}], \"histogram\": [{\"marker\": {\"colorbar\": {\"outlinewidth\": 0, \"ticks\": \"\"}}, \"type\": \"histogram\"}], \"histogram2d\": [{\"colorbar\": {\"outlinewidth\": 0, \"ticks\": \"\"}, \"colorscale\": [[0.0, \"#0d0887\"], [0.1111111111111111, \"#46039f\"], [0.2222222222222222, \"#7201a8\"], [0.3333333333333333, \"#9c179e\"], [0.4444444444444444, \"#bd3786\"], [0.5555555555555556, \"#d8576b\"], [0.6666666666666666, \"#ed7953\"], [0.7777777777777778, \"#fb9f3a\"], [0.8888888888888888, \"#fdca26\"], [1.0, \"#f0f921\"]], \"type\": \"histogram2d\"}], \"histogram2dcontour\": [{\"colorbar\": {\"outlinewidth\": 0, \"ticks\": \"\"}, \"colorscale\": [[0.0, \"#0d0887\"], [0.1111111111111111, \"#46039f\"], [0.2222222222222222, \"#7201a8\"], [0.3333333333333333, \"#9c179e\"], [0.4444444444444444, \"#bd3786\"], [0.5555555555555556, \"#d8576b\"], [0.6666666666666666, \"#ed7953\"], [0.7777777777777778, \"#fb9f3a\"], [0.8888888888888888, \"#fdca26\"], [1.0, \"#f0f921\"]], \"type\": \"histogram2dcontour\"}], \"mesh3d\": [{\"colorbar\": {\"outlinewidth\": 0, \"ticks\": \"\"}, \"type\": \"mesh3d\"}], \"parcoords\": [{\"line\": {\"colorbar\": {\"outlinewidth\": 0, \"ticks\": \"\"}}, \"type\": \"parcoords\"}], \"pie\": [{\"automargin\": true, \"type\": \"pie\"}], \"scatter\": [{\"marker\": {\"colorbar\": {\"outlinewidth\": 0, \"ticks\": \"\"}}, \"type\": \"scatter\"}], \"scatter3d\": [{\"line\": {\"colorbar\": {\"outlinewidth\": 0, \"ticks\": \"\"}}, \"marker\": {\"colorbar\": {\"outlinewidth\": 0, \"ticks\": \"\"}}, \"type\": \"scatter3d\"}], \"scattercarpet\": [{\"marker\": {\"colorbar\": {\"outlinewidth\": 0, \"ticks\": \"\"}}, \"type\": \"scattercarpet\"}], \"scattergeo\": [{\"marker\": {\"colorbar\": {\"outlinewidth\": 0, \"ticks\": \"\"}}, \"type\": \"scattergeo\"}], \"scattergl\": [{\"marker\": {\"colorbar\": {\"outlinewidth\": 0, \"ticks\": \"\"}}, \"type\": \"scattergl\"}], \"scattermapbox\": [{\"marker\": {\"colorbar\": {\"outlinewidth\": 0, \"ticks\": \"\"}}, \"type\": \"scattermapbox\"}], \"scatterpolar\": [{\"marker\": {\"colorbar\": {\"outlinewidth\": 0, \"ticks\": \"\"}}, \"type\": \"scatterpolar\"}], \"scatterpolargl\": [{\"marker\": {\"colorbar\": {\"outlinewidth\": 0, \"ticks\": \"\"}}, \"type\": \"scatterpolargl\"}], \"scatterternary\": [{\"marker\": {\"colorbar\": {\"outlinewidth\": 0, \"ticks\": \"\"}}, \"type\": \"scatterternary\"}], \"surface\": [{\"colorbar\": {\"outlinewidth\": 0, \"ticks\": \"\"}, \"colorscale\": [[0.0, \"#0d0887\"], [0.1111111111111111, \"#46039f\"], [0.2222222222222222, \"#7201a8\"], [0.3333333333333333, \"#9c179e\"], [0.4444444444444444, \"#bd3786\"], [0.5555555555555556, \"#d8576b\"], [0.6666666666666666, \"#ed7953\"], [0.7777777777777778, \"#fb9f3a\"], [0.8888888888888888, \"#fdca26\"], [1.0, \"#f0f921\"]], \"type\": \"surface\"}], \"table\": [{\"cells\": {\"fill\": {\"color\": \"#EBF0F8\"}, \"line\": {\"color\": \"white\"}}, \"header\": {\"fill\": {\"color\": \"#C8D4E3\"}, \"line\": {\"color\": \"white\"}}, \"type\": \"table\"}]}, \"layout\": {\"annotationdefaults\": {\"arrowcolor\": \"#2a3f5f\", \"arrowhead\": 0, \"arrowwidth\": 1}, \"coloraxis\": {\"colorbar\": {\"outlinewidth\": 0, \"ticks\": \"\"}}, \"colorscale\": {\"diverging\": [[0, \"#8e0152\"], [0.1, \"#c51b7d\"], [0.2, \"#de77ae\"], [0.3, \"#f1b6da\"], [0.4, \"#fde0ef\"], [0.5, \"#f7f7f7\"], [0.6, \"#e6f5d0\"], [0.7, \"#b8e186\"], [0.8, \"#7fbc41\"], [0.9, \"#4d9221\"], [1, \"#276419\"]], \"sequential\": [[0.0, \"#0d0887\"], [0.1111111111111111, \"#46039f\"], [0.2222222222222222, \"#7201a8\"], [0.3333333333333333, \"#9c179e\"], [0.4444444444444444, \"#bd3786\"], [0.5555555555555556, \"#d8576b\"], [0.6666666666666666, \"#ed7953\"], [0.7777777777777778, \"#fb9f3a\"], [0.8888888888888888, \"#fdca26\"], [1.0, \"#f0f921\"]], \"sequentialminus\": [[0.0, \"#0d0887\"], [0.1111111111111111, \"#46039f\"], [0.2222222222222222, \"#7201a8\"], [0.3333333333333333, \"#9c179e\"], [0.4444444444444444, \"#bd3786\"], [0.5555555555555556, \"#d8576b\"], [0.6666666666666666, \"#ed7953\"], [0.7777777777777778, \"#fb9f3a\"], [0.8888888888888888, \"#fdca26\"], [1.0, \"#f0f921\"]]}, \"colorway\": [\"#636efa\", \"#EF553B\", \"#00cc96\", \"#ab63fa\", \"#FFA15A\", \"#19d3f3\", \"#FF6692\", \"#B6E880\", \"#FF97FF\", \"#FECB52\"], \"font\": {\"color\": \"#2a3f5f\"}, \"geo\": {\"bgcolor\": \"white\", \"lakecolor\": \"white\", \"landcolor\": \"#E5ECF6\", \"showlakes\": true, \"showland\": true, \"subunitcolor\": \"white\"}, \"hoverlabel\": {\"align\": \"left\"}, \"hovermode\": \"closest\", \"mapbox\": {\"style\": \"light\"}, \"paper_bgcolor\": \"white\", \"plot_bgcolor\": \"#E5ECF6\", \"polar\": {\"angularaxis\": {\"gridcolor\": \"white\", \"linecolor\": \"white\", \"ticks\": \"\"}, \"bgcolor\": \"#E5ECF6\", \"radialaxis\": {\"gridcolor\": \"white\", \"linecolor\": \"white\", \"ticks\": \"\"}}, \"scene\": {\"xaxis\": {\"backgroundcolor\": \"#E5ECF6\", \"gridcolor\": \"white\", \"gridwidth\": 2, \"linecolor\": \"white\", \"showbackground\": true, \"ticks\": \"\", \"zerolinecolor\": \"white\"}, \"yaxis\": {\"backgroundcolor\": \"#E5ECF6\", \"gridcolor\": \"white\", \"gridwidth\": 2, \"linecolor\": \"white\", \"showbackground\": true, \"ticks\": \"\", \"zerolinecolor\": \"white\"}, \"zaxis\": {\"backgroundcolor\": \"#E5ECF6\", \"gridcolor\": \"white\", \"gridwidth\": 2, \"linecolor\": \"white\", \"showbackground\": true, \"ticks\": \"\", \"zerolinecolor\": \"white\"}}, \"shapedefaults\": {\"line\": {\"color\": \"#2a3f5f\"}}, \"ternary\": {\"aaxis\": {\"gridcolor\": \"white\", \"linecolor\": \"white\", \"ticks\": \"\"}, \"baxis\": {\"gridcolor\": \"white\", \"linecolor\": \"white\", \"ticks\": \"\"}, \"bgcolor\": \"#E5ECF6\", \"caxis\": {\"gridcolor\": \"white\", \"linecolor\": \"white\", \"ticks\": \"\"}}, \"title\": {\"x\": 0.05}, \"xaxis\": {\"automargin\": true, \"gridcolor\": \"white\", \"linecolor\": \"white\", \"ticks\": \"\", \"title\": {\"standoff\": 15}, \"zerolinecolor\": \"white\", \"zerolinewidth\": 2}, \"yaxis\": {\"automargin\": true, \"gridcolor\": \"white\", \"linecolor\": \"white\", \"ticks\": \"\", \"title\": {\"standoff\": 15}, \"zerolinecolor\": \"white\", \"zerolinewidth\": 2}}}, \"title\": {\"font\": {\"color\": \"#4D5663\"}}, \"xaxis\": {\"gridcolor\": \"#E1E5ED\", \"showgrid\": true, \"tickfont\": {\"color\": \"#4D5663\"}, \"title\": {\"font\": {\"color\": \"#4D5663\"}, \"text\": \"\"}, \"zerolinecolor\": \"#E1E5ED\"}, \"yaxis\": {\"gridcolor\": \"#E1E5ED\", \"showgrid\": true, \"tickfont\": {\"color\": \"#4D5663\"}, \"title\": {\"font\": {\"color\": \"#4D5663\"}, \"text\": \"\"}, \"zerolinecolor\": \"#E1E5ED\"}},\n",
       "                        {\"showLink\": true, \"linkText\": \"Export to plot.ly\", \"plotlyServerURL\": \"https://plot.ly\", \"responsive\": true}\n",
       "                    ).then(function(){\n",
       "                            \n",
       "var gd = document.getElementById('11c97573-ccaf-44b5-b22e-35f7af757a42');\n",
       "var x = new MutationObserver(function (mutations, observer) {{\n",
       "        var display = window.getComputedStyle(gd).display;\n",
       "        if (!display || display === 'none') {{\n",
       "            console.log([gd, 'removed!']);\n",
       "            Plotly.purge(gd);\n",
       "            observer.disconnect();\n",
       "        }}\n",
       "}});\n",
       "\n",
       "// Listen for the removal of the full notebook cells\n",
       "var notebookContainer = gd.closest('#notebook-container');\n",
       "if (notebookContainer) {{\n",
       "    x.observe(notebookContainer, {childList: true});\n",
       "}}\n",
       "\n",
       "// Listen for the clearing of the current output cell\n",
       "var outputEl = gd.closest('.output');\n",
       "if (outputEl) {{\n",
       "    x.observe(outputEl, {childList: true});\n",
       "}}\n",
       "\n",
       "                        })\n",
       "                };\n",
       "                });\n",
       "            </script>\n",
       "        </div>"
      ]
     },
     "metadata": {},
     "output_type": "display_data"
    }
   ],
   "source": [
    "df.iplot(kind='box')"
   ]
  },
  {
   "cell_type": "code",
   "execution_count": null,
   "metadata": {},
   "outputs": [],
   "source": []
  },
  {
   "cell_type": "markdown",
   "metadata": {},
   "source": [
    "## 3d Surface"
   ]
  },
  {
   "cell_type": "code",
   "execution_count": 32,
   "metadata": {},
   "outputs": [
    {
     "data": {
      "application/vnd.plotly.v1+json": {
       "config": {
        "linkText": "Export to plot.ly",
        "plotlyServerURL": "https://plot.ly",
        "showLink": true
       },
       "data": [
        {
         "colorscale": [
          [
           0,
           "rgb(165,0,38)"
          ],
          [
           0.1,
           "rgb(215,48,39)"
          ],
          [
           0.2,
           "rgb(244,109,67)"
          ],
          [
           0.3,
           "rgb(253,174,97)"
          ],
          [
           0.4,
           "rgb(254,224,144)"
          ],
          [
           0.5,
           "rgb(255,255,191)"
          ],
          [
           0.6,
           "rgb(224,243,248)"
          ],
          [
           0.7,
           "rgb(171,217,233)"
          ],
          [
           0.8,
           "rgb(116,173,209)"
          ],
          [
           0.9,
           "rgb(69,117,180)"
          ],
          [
           1,
           "rgb(49,54,149)"
          ]
         ],
         "type": "surface",
         "x": [
          0,
          1,
          2,
          3,
          4
         ],
         "y": [
          "x",
          "y",
          "z"
         ],
         "z": [
          [
           1,
           2,
           3,
           4,
           5
          ],
          [
           10,
           20,
           30,
           20,
           10
          ],
          [
           5,
           4,
           3,
           2,
           1
          ]
         ]
        }
       ],
       "layout": {
        "legend": {
         "bgcolor": "#F5F6F9",
         "font": {
          "color": "#4D5663"
         }
        },
        "paper_bgcolor": "#F5F6F9",
        "plot_bgcolor": "#F5F6F9",
        "template": {
         "data": {
          "bar": [
           {
            "error_x": {
             "color": "#2a3f5f"
            },
            "error_y": {
             "color": "#2a3f5f"
            },
            "marker": {
             "line": {
              "color": "#E5ECF6",
              "width": 0.5
             }
            },
            "type": "bar"
           }
          ],
          "barpolar": [
           {
            "marker": {
             "line": {
              "color": "#E5ECF6",
              "width": 0.5
             }
            },
            "type": "barpolar"
           }
          ],
          "carpet": [
           {
            "aaxis": {
             "endlinecolor": "#2a3f5f",
             "gridcolor": "white",
             "linecolor": "white",
             "minorgridcolor": "white",
             "startlinecolor": "#2a3f5f"
            },
            "baxis": {
             "endlinecolor": "#2a3f5f",
             "gridcolor": "white",
             "linecolor": "white",
             "minorgridcolor": "white",
             "startlinecolor": "#2a3f5f"
            },
            "type": "carpet"
           }
          ],
          "choropleth": [
           {
            "colorbar": {
             "outlinewidth": 0,
             "ticks": ""
            },
            "type": "choropleth"
           }
          ],
          "contour": [
           {
            "colorbar": {
             "outlinewidth": 0,
             "ticks": ""
            },
            "colorscale": [
             [
              0,
              "#0d0887"
             ],
             [
              0.1111111111111111,
              "#46039f"
             ],
             [
              0.2222222222222222,
              "#7201a8"
             ],
             [
              0.3333333333333333,
              "#9c179e"
             ],
             [
              0.4444444444444444,
              "#bd3786"
             ],
             [
              0.5555555555555556,
              "#d8576b"
             ],
             [
              0.6666666666666666,
              "#ed7953"
             ],
             [
              0.7777777777777778,
              "#fb9f3a"
             ],
             [
              0.8888888888888888,
              "#fdca26"
             ],
             [
              1,
              "#f0f921"
             ]
            ],
            "type": "contour"
           }
          ],
          "contourcarpet": [
           {
            "colorbar": {
             "outlinewidth": 0,
             "ticks": ""
            },
            "type": "contourcarpet"
           }
          ],
          "heatmap": [
           {
            "colorbar": {
             "outlinewidth": 0,
             "ticks": ""
            },
            "colorscale": [
             [
              0,
              "#0d0887"
             ],
             [
              0.1111111111111111,
              "#46039f"
             ],
             [
              0.2222222222222222,
              "#7201a8"
             ],
             [
              0.3333333333333333,
              "#9c179e"
             ],
             [
              0.4444444444444444,
              "#bd3786"
             ],
             [
              0.5555555555555556,
              "#d8576b"
             ],
             [
              0.6666666666666666,
              "#ed7953"
             ],
             [
              0.7777777777777778,
              "#fb9f3a"
             ],
             [
              0.8888888888888888,
              "#fdca26"
             ],
             [
              1,
              "#f0f921"
             ]
            ],
            "type": "heatmap"
           }
          ],
          "heatmapgl": [
           {
            "colorbar": {
             "outlinewidth": 0,
             "ticks": ""
            },
            "colorscale": [
             [
              0,
              "#0d0887"
             ],
             [
              0.1111111111111111,
              "#46039f"
             ],
             [
              0.2222222222222222,
              "#7201a8"
             ],
             [
              0.3333333333333333,
              "#9c179e"
             ],
             [
              0.4444444444444444,
              "#bd3786"
             ],
             [
              0.5555555555555556,
              "#d8576b"
             ],
             [
              0.6666666666666666,
              "#ed7953"
             ],
             [
              0.7777777777777778,
              "#fb9f3a"
             ],
             [
              0.8888888888888888,
              "#fdca26"
             ],
             [
              1,
              "#f0f921"
             ]
            ],
            "type": "heatmapgl"
           }
          ],
          "histogram": [
           {
            "marker": {
             "colorbar": {
              "outlinewidth": 0,
              "ticks": ""
             }
            },
            "type": "histogram"
           }
          ],
          "histogram2d": [
           {
            "colorbar": {
             "outlinewidth": 0,
             "ticks": ""
            },
            "colorscale": [
             [
              0,
              "#0d0887"
             ],
             [
              0.1111111111111111,
              "#46039f"
             ],
             [
              0.2222222222222222,
              "#7201a8"
             ],
             [
              0.3333333333333333,
              "#9c179e"
             ],
             [
              0.4444444444444444,
              "#bd3786"
             ],
             [
              0.5555555555555556,
              "#d8576b"
             ],
             [
              0.6666666666666666,
              "#ed7953"
             ],
             [
              0.7777777777777778,
              "#fb9f3a"
             ],
             [
              0.8888888888888888,
              "#fdca26"
             ],
             [
              1,
              "#f0f921"
             ]
            ],
            "type": "histogram2d"
           }
          ],
          "histogram2dcontour": [
           {
            "colorbar": {
             "outlinewidth": 0,
             "ticks": ""
            },
            "colorscale": [
             [
              0,
              "#0d0887"
             ],
             [
              0.1111111111111111,
              "#46039f"
             ],
             [
              0.2222222222222222,
              "#7201a8"
             ],
             [
              0.3333333333333333,
              "#9c179e"
             ],
             [
              0.4444444444444444,
              "#bd3786"
             ],
             [
              0.5555555555555556,
              "#d8576b"
             ],
             [
              0.6666666666666666,
              "#ed7953"
             ],
             [
              0.7777777777777778,
              "#fb9f3a"
             ],
             [
              0.8888888888888888,
              "#fdca26"
             ],
             [
              1,
              "#f0f921"
             ]
            ],
            "type": "histogram2dcontour"
           }
          ],
          "mesh3d": [
           {
            "colorbar": {
             "outlinewidth": 0,
             "ticks": ""
            },
            "type": "mesh3d"
           }
          ],
          "parcoords": [
           {
            "line": {
             "colorbar": {
              "outlinewidth": 0,
              "ticks": ""
             }
            },
            "type": "parcoords"
           }
          ],
          "pie": [
           {
            "automargin": true,
            "type": "pie"
           }
          ],
          "scatter": [
           {
            "marker": {
             "colorbar": {
              "outlinewidth": 0,
              "ticks": ""
             }
            },
            "type": "scatter"
           }
          ],
          "scatter3d": [
           {
            "line": {
             "colorbar": {
              "outlinewidth": 0,
              "ticks": ""
             }
            },
            "marker": {
             "colorbar": {
              "outlinewidth": 0,
              "ticks": ""
             }
            },
            "type": "scatter3d"
           }
          ],
          "scattercarpet": [
           {
            "marker": {
             "colorbar": {
              "outlinewidth": 0,
              "ticks": ""
             }
            },
            "type": "scattercarpet"
           }
          ],
          "scattergeo": [
           {
            "marker": {
             "colorbar": {
              "outlinewidth": 0,
              "ticks": ""
             }
            },
            "type": "scattergeo"
           }
          ],
          "scattergl": [
           {
            "marker": {
             "colorbar": {
              "outlinewidth": 0,
              "ticks": ""
             }
            },
            "type": "scattergl"
           }
          ],
          "scattermapbox": [
           {
            "marker": {
             "colorbar": {
              "outlinewidth": 0,
              "ticks": ""
             }
            },
            "type": "scattermapbox"
           }
          ],
          "scatterpolar": [
           {
            "marker": {
             "colorbar": {
              "outlinewidth": 0,
              "ticks": ""
             }
            },
            "type": "scatterpolar"
           }
          ],
          "scatterpolargl": [
           {
            "marker": {
             "colorbar": {
              "outlinewidth": 0,
              "ticks": ""
             }
            },
            "type": "scatterpolargl"
           }
          ],
          "scatterternary": [
           {
            "marker": {
             "colorbar": {
              "outlinewidth": 0,
              "ticks": ""
             }
            },
            "type": "scatterternary"
           }
          ],
          "surface": [
           {
            "colorbar": {
             "outlinewidth": 0,
             "ticks": ""
            },
            "colorscale": [
             [
              0,
              "#0d0887"
             ],
             [
              0.1111111111111111,
              "#46039f"
             ],
             [
              0.2222222222222222,
              "#7201a8"
             ],
             [
              0.3333333333333333,
              "#9c179e"
             ],
             [
              0.4444444444444444,
              "#bd3786"
             ],
             [
              0.5555555555555556,
              "#d8576b"
             ],
             [
              0.6666666666666666,
              "#ed7953"
             ],
             [
              0.7777777777777778,
              "#fb9f3a"
             ],
             [
              0.8888888888888888,
              "#fdca26"
             ],
             [
              1,
              "#f0f921"
             ]
            ],
            "type": "surface"
           }
          ],
          "table": [
           {
            "cells": {
             "fill": {
              "color": "#EBF0F8"
             },
             "line": {
              "color": "white"
             }
            },
            "header": {
             "fill": {
              "color": "#C8D4E3"
             },
             "line": {
              "color": "white"
             }
            },
            "type": "table"
           }
          ]
         },
         "layout": {
          "annotationdefaults": {
           "arrowcolor": "#2a3f5f",
           "arrowhead": 0,
           "arrowwidth": 1
          },
          "coloraxis": {
           "colorbar": {
            "outlinewidth": 0,
            "ticks": ""
           }
          },
          "colorscale": {
           "diverging": [
            [
             0,
             "#8e0152"
            ],
            [
             0.1,
             "#c51b7d"
            ],
            [
             0.2,
             "#de77ae"
            ],
            [
             0.3,
             "#f1b6da"
            ],
            [
             0.4,
             "#fde0ef"
            ],
            [
             0.5,
             "#f7f7f7"
            ],
            [
             0.6,
             "#e6f5d0"
            ],
            [
             0.7,
             "#b8e186"
            ],
            [
             0.8,
             "#7fbc41"
            ],
            [
             0.9,
             "#4d9221"
            ],
            [
             1,
             "#276419"
            ]
           ],
           "sequential": [
            [
             0,
             "#0d0887"
            ],
            [
             0.1111111111111111,
             "#46039f"
            ],
            [
             0.2222222222222222,
             "#7201a8"
            ],
            [
             0.3333333333333333,
             "#9c179e"
            ],
            [
             0.4444444444444444,
             "#bd3786"
            ],
            [
             0.5555555555555556,
             "#d8576b"
            ],
            [
             0.6666666666666666,
             "#ed7953"
            ],
            [
             0.7777777777777778,
             "#fb9f3a"
            ],
            [
             0.8888888888888888,
             "#fdca26"
            ],
            [
             1,
             "#f0f921"
            ]
           ],
           "sequentialminus": [
            [
             0,
             "#0d0887"
            ],
            [
             0.1111111111111111,
             "#46039f"
            ],
            [
             0.2222222222222222,
             "#7201a8"
            ],
            [
             0.3333333333333333,
             "#9c179e"
            ],
            [
             0.4444444444444444,
             "#bd3786"
            ],
            [
             0.5555555555555556,
             "#d8576b"
            ],
            [
             0.6666666666666666,
             "#ed7953"
            ],
            [
             0.7777777777777778,
             "#fb9f3a"
            ],
            [
             0.8888888888888888,
             "#fdca26"
            ],
            [
             1,
             "#f0f921"
            ]
           ]
          },
          "colorway": [
           "#636efa",
           "#EF553B",
           "#00cc96",
           "#ab63fa",
           "#FFA15A",
           "#19d3f3",
           "#FF6692",
           "#B6E880",
           "#FF97FF",
           "#FECB52"
          ],
          "font": {
           "color": "#2a3f5f"
          },
          "geo": {
           "bgcolor": "white",
           "lakecolor": "white",
           "landcolor": "#E5ECF6",
           "showlakes": true,
           "showland": true,
           "subunitcolor": "white"
          },
          "hoverlabel": {
           "align": "left"
          },
          "hovermode": "closest",
          "mapbox": {
           "style": "light"
          },
          "paper_bgcolor": "white",
          "plot_bgcolor": "#E5ECF6",
          "polar": {
           "angularaxis": {
            "gridcolor": "white",
            "linecolor": "white",
            "ticks": ""
           },
           "bgcolor": "#E5ECF6",
           "radialaxis": {
            "gridcolor": "white",
            "linecolor": "white",
            "ticks": ""
           }
          },
          "scene": {
           "xaxis": {
            "backgroundcolor": "#E5ECF6",
            "gridcolor": "white",
            "gridwidth": 2,
            "linecolor": "white",
            "showbackground": true,
            "ticks": "",
            "zerolinecolor": "white"
           },
           "yaxis": {
            "backgroundcolor": "#E5ECF6",
            "gridcolor": "white",
            "gridwidth": 2,
            "linecolor": "white",
            "showbackground": true,
            "ticks": "",
            "zerolinecolor": "white"
           },
           "zaxis": {
            "backgroundcolor": "#E5ECF6",
            "gridcolor": "white",
            "gridwidth": 2,
            "linecolor": "white",
            "showbackground": true,
            "ticks": "",
            "zerolinecolor": "white"
           }
          },
          "shapedefaults": {
           "line": {
            "color": "#2a3f5f"
           }
          },
          "ternary": {
           "aaxis": {
            "gridcolor": "white",
            "linecolor": "white",
            "ticks": ""
           },
           "baxis": {
            "gridcolor": "white",
            "linecolor": "white",
            "ticks": ""
           },
           "bgcolor": "#E5ECF6",
           "caxis": {
            "gridcolor": "white",
            "linecolor": "white",
            "ticks": ""
           }
          },
          "title": {
           "x": 0.05
          },
          "xaxis": {
           "automargin": true,
           "gridcolor": "white",
           "linecolor": "white",
           "ticks": "",
           "title": {
            "standoff": 15
           },
           "zerolinecolor": "white",
           "zerolinewidth": 2
          },
          "yaxis": {
           "automargin": true,
           "gridcolor": "white",
           "linecolor": "white",
           "ticks": "",
           "title": {
            "standoff": 15
           },
           "zerolinecolor": "white",
           "zerolinewidth": 2
          }
         }
        },
        "title": {
         "font": {
          "color": "#4D5663"
         }
        },
        "xaxis": {
         "gridcolor": "#E1E5ED",
         "showgrid": true,
         "tickfont": {
          "color": "#4D5663"
         },
         "title": {
          "font": {
           "color": "#4D5663"
          },
          "text": ""
         },
         "zerolinecolor": "#E1E5ED"
        },
        "yaxis": {
         "gridcolor": "#E1E5ED",
         "showgrid": true,
         "tickfont": {
          "color": "#4D5663"
         },
         "title": {
          "font": {
           "color": "#4D5663"
          },
          "text": ""
         },
         "zerolinecolor": "#E1E5ED"
        }
       }
      },
      "text/html": [
       "<div>\n",
       "        \n",
       "        \n",
       "            <div id=\"90824701-046e-44f2-a1fd-3d2eb0b4ac4c\" class=\"plotly-graph-div\" style=\"height:525px; width:100%;\"></div>\n",
       "            <script type=\"text/javascript\">\n",
       "                require([\"plotly\"], function(Plotly) {\n",
       "                    window.PLOTLYENV=window.PLOTLYENV || {};\n",
       "                    window.PLOTLYENV.BASE_URL='https://plot.ly';\n",
       "                    \n",
       "                if (document.getElementById(\"90824701-046e-44f2-a1fd-3d2eb0b4ac4c\")) {\n",
       "                    Plotly.newPlot(\n",
       "                        '90824701-046e-44f2-a1fd-3d2eb0b4ac4c',\n",
       "                        [{\"colorscale\": [[0.0, \"rgb(165,0,38)\"], [0.1, \"rgb(215,48,39)\"], [0.2, \"rgb(244,109,67)\"], [0.3, \"rgb(253,174,97)\"], [0.4, \"rgb(254,224,144)\"], [0.5, \"rgb(255,255,191)\"], [0.6, \"rgb(224,243,248)\"], [0.7, \"rgb(171,217,233)\"], [0.8, \"rgb(116,173,209)\"], [0.9, \"rgb(69,117,180)\"], [1.0, \"rgb(49,54,149)\"]], \"type\": \"surface\", \"x\": [0, 1, 2, 3, 4], \"y\": [\"x\", \"y\", \"z\"], \"z\": [[1, 2, 3, 4, 5], [10, 20, 30, 20, 10], [5, 4, 3, 2, 1]]}],\n",
       "                        {\"legend\": {\"bgcolor\": \"#F5F6F9\", \"font\": {\"color\": \"#4D5663\"}}, \"paper_bgcolor\": \"#F5F6F9\", \"plot_bgcolor\": \"#F5F6F9\", \"template\": {\"data\": {\"bar\": [{\"error_x\": {\"color\": \"#2a3f5f\"}, \"error_y\": {\"color\": \"#2a3f5f\"}, \"marker\": {\"line\": {\"color\": \"#E5ECF6\", \"width\": 0.5}}, \"type\": \"bar\"}], \"barpolar\": [{\"marker\": {\"line\": {\"color\": \"#E5ECF6\", \"width\": 0.5}}, \"type\": \"barpolar\"}], \"carpet\": [{\"aaxis\": {\"endlinecolor\": \"#2a3f5f\", \"gridcolor\": \"white\", \"linecolor\": \"white\", \"minorgridcolor\": \"white\", \"startlinecolor\": \"#2a3f5f\"}, \"baxis\": {\"endlinecolor\": \"#2a3f5f\", \"gridcolor\": \"white\", \"linecolor\": \"white\", \"minorgridcolor\": \"white\", \"startlinecolor\": \"#2a3f5f\"}, \"type\": \"carpet\"}], \"choropleth\": [{\"colorbar\": {\"outlinewidth\": 0, \"ticks\": \"\"}, \"type\": \"choropleth\"}], \"contour\": [{\"colorbar\": {\"outlinewidth\": 0, \"ticks\": \"\"}, \"colorscale\": [[0.0, \"#0d0887\"], [0.1111111111111111, \"#46039f\"], [0.2222222222222222, \"#7201a8\"], [0.3333333333333333, \"#9c179e\"], [0.4444444444444444, \"#bd3786\"], [0.5555555555555556, \"#d8576b\"], [0.6666666666666666, \"#ed7953\"], [0.7777777777777778, \"#fb9f3a\"], [0.8888888888888888, \"#fdca26\"], [1.0, \"#f0f921\"]], \"type\": \"contour\"}], \"contourcarpet\": [{\"colorbar\": {\"outlinewidth\": 0, \"ticks\": \"\"}, \"type\": \"contourcarpet\"}], \"heatmap\": [{\"colorbar\": {\"outlinewidth\": 0, \"ticks\": \"\"}, \"colorscale\": [[0.0, \"#0d0887\"], [0.1111111111111111, \"#46039f\"], [0.2222222222222222, \"#7201a8\"], [0.3333333333333333, \"#9c179e\"], [0.4444444444444444, \"#bd3786\"], [0.5555555555555556, \"#d8576b\"], [0.6666666666666666, \"#ed7953\"], [0.7777777777777778, \"#fb9f3a\"], [0.8888888888888888, \"#fdca26\"], [1.0, \"#f0f921\"]], \"type\": \"heatmap\"}], \"heatmapgl\": [{\"colorbar\": {\"outlinewidth\": 0, \"ticks\": \"\"}, \"colorscale\": [[0.0, \"#0d0887\"], [0.1111111111111111, \"#46039f\"], [0.2222222222222222, \"#7201a8\"], [0.3333333333333333, \"#9c179e\"], [0.4444444444444444, \"#bd3786\"], [0.5555555555555556, \"#d8576b\"], [0.6666666666666666, \"#ed7953\"], [0.7777777777777778, \"#fb9f3a\"], [0.8888888888888888, \"#fdca26\"], [1.0, \"#f0f921\"]], \"type\": \"heatmapgl\"}], \"histogram\": [{\"marker\": {\"colorbar\": {\"outlinewidth\": 0, \"ticks\": \"\"}}, \"type\": \"histogram\"}], \"histogram2d\": [{\"colorbar\": {\"outlinewidth\": 0, \"ticks\": \"\"}, \"colorscale\": [[0.0, \"#0d0887\"], [0.1111111111111111, \"#46039f\"], [0.2222222222222222, \"#7201a8\"], [0.3333333333333333, \"#9c179e\"], [0.4444444444444444, \"#bd3786\"], [0.5555555555555556, \"#d8576b\"], [0.6666666666666666, \"#ed7953\"], [0.7777777777777778, \"#fb9f3a\"], [0.8888888888888888, \"#fdca26\"], [1.0, \"#f0f921\"]], \"type\": \"histogram2d\"}], \"histogram2dcontour\": [{\"colorbar\": {\"outlinewidth\": 0, \"ticks\": \"\"}, \"colorscale\": [[0.0, \"#0d0887\"], [0.1111111111111111, \"#46039f\"], [0.2222222222222222, \"#7201a8\"], [0.3333333333333333, \"#9c179e\"], [0.4444444444444444, \"#bd3786\"], [0.5555555555555556, \"#d8576b\"], [0.6666666666666666, \"#ed7953\"], [0.7777777777777778, \"#fb9f3a\"], [0.8888888888888888, \"#fdca26\"], [1.0, \"#f0f921\"]], \"type\": \"histogram2dcontour\"}], \"mesh3d\": [{\"colorbar\": {\"outlinewidth\": 0, \"ticks\": \"\"}, \"type\": \"mesh3d\"}], \"parcoords\": [{\"line\": {\"colorbar\": {\"outlinewidth\": 0, \"ticks\": \"\"}}, \"type\": \"parcoords\"}], \"pie\": [{\"automargin\": true, \"type\": \"pie\"}], \"scatter\": [{\"marker\": {\"colorbar\": {\"outlinewidth\": 0, \"ticks\": \"\"}}, \"type\": \"scatter\"}], \"scatter3d\": [{\"line\": {\"colorbar\": {\"outlinewidth\": 0, \"ticks\": \"\"}}, \"marker\": {\"colorbar\": {\"outlinewidth\": 0, \"ticks\": \"\"}}, \"type\": \"scatter3d\"}], \"scattercarpet\": [{\"marker\": {\"colorbar\": {\"outlinewidth\": 0, \"ticks\": \"\"}}, \"type\": \"scattercarpet\"}], \"scattergeo\": [{\"marker\": {\"colorbar\": {\"outlinewidth\": 0, \"ticks\": \"\"}}, \"type\": \"scattergeo\"}], \"scattergl\": [{\"marker\": {\"colorbar\": {\"outlinewidth\": 0, \"ticks\": \"\"}}, \"type\": \"scattergl\"}], \"scattermapbox\": [{\"marker\": {\"colorbar\": {\"outlinewidth\": 0, \"ticks\": \"\"}}, \"type\": \"scattermapbox\"}], \"scatterpolar\": [{\"marker\": {\"colorbar\": {\"outlinewidth\": 0, \"ticks\": \"\"}}, \"type\": \"scatterpolar\"}], \"scatterpolargl\": [{\"marker\": {\"colorbar\": {\"outlinewidth\": 0, \"ticks\": \"\"}}, \"type\": \"scatterpolargl\"}], \"scatterternary\": [{\"marker\": {\"colorbar\": {\"outlinewidth\": 0, \"ticks\": \"\"}}, \"type\": \"scatterternary\"}], \"surface\": [{\"colorbar\": {\"outlinewidth\": 0, \"ticks\": \"\"}, \"colorscale\": [[0.0, \"#0d0887\"], [0.1111111111111111, \"#46039f\"], [0.2222222222222222, \"#7201a8\"], [0.3333333333333333, \"#9c179e\"], [0.4444444444444444, \"#bd3786\"], [0.5555555555555556, \"#d8576b\"], [0.6666666666666666, \"#ed7953\"], [0.7777777777777778, \"#fb9f3a\"], [0.8888888888888888, \"#fdca26\"], [1.0, \"#f0f921\"]], \"type\": \"surface\"}], \"table\": [{\"cells\": {\"fill\": {\"color\": \"#EBF0F8\"}, \"line\": {\"color\": \"white\"}}, \"header\": {\"fill\": {\"color\": \"#C8D4E3\"}, \"line\": {\"color\": \"white\"}}, \"type\": \"table\"}]}, \"layout\": {\"annotationdefaults\": {\"arrowcolor\": \"#2a3f5f\", \"arrowhead\": 0, \"arrowwidth\": 1}, \"coloraxis\": {\"colorbar\": {\"outlinewidth\": 0, \"ticks\": \"\"}}, \"colorscale\": {\"diverging\": [[0, \"#8e0152\"], [0.1, \"#c51b7d\"], [0.2, \"#de77ae\"], [0.3, \"#f1b6da\"], [0.4, \"#fde0ef\"], [0.5, \"#f7f7f7\"], [0.6, \"#e6f5d0\"], [0.7, \"#b8e186\"], [0.8, \"#7fbc41\"], [0.9, \"#4d9221\"], [1, \"#276419\"]], \"sequential\": [[0.0, \"#0d0887\"], [0.1111111111111111, \"#46039f\"], [0.2222222222222222, \"#7201a8\"], [0.3333333333333333, \"#9c179e\"], [0.4444444444444444, \"#bd3786\"], [0.5555555555555556, \"#d8576b\"], [0.6666666666666666, \"#ed7953\"], [0.7777777777777778, \"#fb9f3a\"], [0.8888888888888888, \"#fdca26\"], [1.0, \"#f0f921\"]], \"sequentialminus\": [[0.0, \"#0d0887\"], [0.1111111111111111, \"#46039f\"], [0.2222222222222222, \"#7201a8\"], [0.3333333333333333, \"#9c179e\"], [0.4444444444444444, \"#bd3786\"], [0.5555555555555556, \"#d8576b\"], [0.6666666666666666, \"#ed7953\"], [0.7777777777777778, \"#fb9f3a\"], [0.8888888888888888, \"#fdca26\"], [1.0, \"#f0f921\"]]}, \"colorway\": [\"#636efa\", \"#EF553B\", \"#00cc96\", \"#ab63fa\", \"#FFA15A\", \"#19d3f3\", \"#FF6692\", \"#B6E880\", \"#FF97FF\", \"#FECB52\"], \"font\": {\"color\": \"#2a3f5f\"}, \"geo\": {\"bgcolor\": \"white\", \"lakecolor\": \"white\", \"landcolor\": \"#E5ECF6\", \"showlakes\": true, \"showland\": true, \"subunitcolor\": \"white\"}, \"hoverlabel\": {\"align\": \"left\"}, \"hovermode\": \"closest\", \"mapbox\": {\"style\": \"light\"}, \"paper_bgcolor\": \"white\", \"plot_bgcolor\": \"#E5ECF6\", \"polar\": {\"angularaxis\": {\"gridcolor\": \"white\", \"linecolor\": \"white\", \"ticks\": \"\"}, \"bgcolor\": \"#E5ECF6\", \"radialaxis\": {\"gridcolor\": \"white\", \"linecolor\": \"white\", \"ticks\": \"\"}}, \"scene\": {\"xaxis\": {\"backgroundcolor\": \"#E5ECF6\", \"gridcolor\": \"white\", \"gridwidth\": 2, \"linecolor\": \"white\", \"showbackground\": true, \"ticks\": \"\", \"zerolinecolor\": \"white\"}, \"yaxis\": {\"backgroundcolor\": \"#E5ECF6\", \"gridcolor\": \"white\", \"gridwidth\": 2, \"linecolor\": \"white\", \"showbackground\": true, \"ticks\": \"\", \"zerolinecolor\": \"white\"}, \"zaxis\": {\"backgroundcolor\": \"#E5ECF6\", \"gridcolor\": \"white\", \"gridwidth\": 2, \"linecolor\": \"white\", \"showbackground\": true, \"ticks\": \"\", \"zerolinecolor\": \"white\"}}, \"shapedefaults\": {\"line\": {\"color\": \"#2a3f5f\"}}, \"ternary\": {\"aaxis\": {\"gridcolor\": \"white\", \"linecolor\": \"white\", \"ticks\": \"\"}, \"baxis\": {\"gridcolor\": \"white\", \"linecolor\": \"white\", \"ticks\": \"\"}, \"bgcolor\": \"#E5ECF6\", \"caxis\": {\"gridcolor\": \"white\", \"linecolor\": \"white\", \"ticks\": \"\"}}, \"title\": {\"x\": 0.05}, \"xaxis\": {\"automargin\": true, \"gridcolor\": \"white\", \"linecolor\": \"white\", \"ticks\": \"\", \"title\": {\"standoff\": 15}, \"zerolinecolor\": \"white\", \"zerolinewidth\": 2}, \"yaxis\": {\"automargin\": true, \"gridcolor\": \"white\", \"linecolor\": \"white\", \"ticks\": \"\", \"title\": {\"standoff\": 15}, \"zerolinecolor\": \"white\", \"zerolinewidth\": 2}}}, \"title\": {\"font\": {\"color\": \"#4D5663\"}}, \"xaxis\": {\"gridcolor\": \"#E1E5ED\", \"showgrid\": true, \"tickfont\": {\"color\": \"#4D5663\"}, \"title\": {\"font\": {\"color\": \"#4D5663\"}, \"text\": \"\"}, \"zerolinecolor\": \"#E1E5ED\"}, \"yaxis\": {\"gridcolor\": \"#E1E5ED\", \"showgrid\": true, \"tickfont\": {\"color\": \"#4D5663\"}, \"title\": {\"font\": {\"color\": \"#4D5663\"}, \"text\": \"\"}, \"zerolinecolor\": \"#E1E5ED\"}},\n",
       "                        {\"showLink\": true, \"linkText\": \"Export to plot.ly\", \"plotlyServerURL\": \"https://plot.ly\", \"responsive\": true}\n",
       "                    ).then(function(){\n",
       "                            \n",
       "var gd = document.getElementById('90824701-046e-44f2-a1fd-3d2eb0b4ac4c');\n",
       "var x = new MutationObserver(function (mutations, observer) {{\n",
       "        var display = window.getComputedStyle(gd).display;\n",
       "        if (!display || display === 'none') {{\n",
       "            console.log([gd, 'removed!']);\n",
       "            Plotly.purge(gd);\n",
       "            observer.disconnect();\n",
       "        }}\n",
       "}});\n",
       "\n",
       "// Listen for the removal of the full notebook cells\n",
       "var notebookContainer = gd.closest('#notebook-container');\n",
       "if (notebookContainer) {{\n",
       "    x.observe(notebookContainer, {childList: true});\n",
       "}}\n",
       "\n",
       "// Listen for the clearing of the current output cell\n",
       "var outputEl = gd.closest('.output');\n",
       "if (outputEl) {{\n",
       "    x.observe(outputEl, {childList: true});\n",
       "}}\n",
       "\n",
       "                        })\n",
       "                };\n",
       "                });\n",
       "            </script>\n",
       "        </div>"
      ]
     },
     "metadata": {},
     "output_type": "display_data"
    }
   ],
   "source": [
    "df3 = pd.DataFrame({'x':[1,2,3,4,5],'y':[10,20,30,20,10],'z':[5,4,3,2,1]})\n",
    "df3.iplot(kind='surface',colorscale='rdylbu')"
   ]
  },
  {
   "cell_type": "code",
   "execution_count": 33,
   "metadata": {},
   "outputs": [
    {
     "data": {
      "text/html": [
       "<div>\n",
       "<style scoped>\n",
       "    .dataframe tbody tr th:only-of-type {\n",
       "        vertical-align: middle;\n",
       "    }\n",
       "\n",
       "    .dataframe tbody tr th {\n",
       "        vertical-align: top;\n",
       "    }\n",
       "\n",
       "    .dataframe thead th {\n",
       "        text-align: right;\n",
       "    }\n",
       "</style>\n",
       "<table border=\"1\" class=\"dataframe\">\n",
       "  <thead>\n",
       "    <tr style=\"text-align: right;\">\n",
       "      <th></th>\n",
       "      <th>x</th>\n",
       "      <th>y</th>\n",
       "      <th>z</th>\n",
       "    </tr>\n",
       "  </thead>\n",
       "  <tbody>\n",
       "    <tr>\n",
       "      <th>0</th>\n",
       "      <td>1</td>\n",
       "      <td>10</td>\n",
       "      <td>5</td>\n",
       "    </tr>\n",
       "    <tr>\n",
       "      <th>1</th>\n",
       "      <td>2</td>\n",
       "      <td>20</td>\n",
       "      <td>4</td>\n",
       "    </tr>\n",
       "    <tr>\n",
       "      <th>2</th>\n",
       "      <td>3</td>\n",
       "      <td>30</td>\n",
       "      <td>3</td>\n",
       "    </tr>\n",
       "    <tr>\n",
       "      <th>3</th>\n",
       "      <td>4</td>\n",
       "      <td>20</td>\n",
       "      <td>2</td>\n",
       "    </tr>\n",
       "    <tr>\n",
       "      <th>4</th>\n",
       "      <td>5</td>\n",
       "      <td>10</td>\n",
       "      <td>1</td>\n",
       "    </tr>\n",
       "  </tbody>\n",
       "</table>\n",
       "</div>"
      ],
      "text/plain": [
       "   x   y  z\n",
       "0  1  10  5\n",
       "1  2  20  4\n",
       "2  3  30  3\n",
       "3  4  20  2\n",
       "4  5  10  1"
      ]
     },
     "execution_count": 33,
     "metadata": {},
     "output_type": "execute_result"
    }
   ],
   "source": [
    "df3"
   ]
  },
  {
   "cell_type": "code",
   "execution_count": null,
   "metadata": {},
   "outputs": [],
   "source": []
  },
  {
   "cell_type": "markdown",
   "metadata": {},
   "source": [
    "## Spread"
   ]
  },
  {
   "cell_type": "code",
   "execution_count": 38,
   "metadata": {},
   "outputs": [
    {
     "data": {
      "application/vnd.plotly.v1+json": {
       "config": {
        "linkText": "Export to plot.ly",
        "plotlyServerURL": "https://plot.ly",
        "showLink": true
       },
       "data": [
        {
         "line": {
          "color": "rgba(255, 153, 51, 1.0)",
          "dash": "solid",
          "shape": "linear",
          "width": 1.3
         },
         "mode": "lines",
         "name": "A",
         "text": "",
         "type": "scatter",
         "x": [
          0,
          1,
          2,
          3,
          4,
          5,
          6,
          7,
          8,
          9,
          10,
          11,
          12,
          13,
          14,
          15,
          16,
          17,
          18,
          19,
          20,
          21,
          22,
          23,
          24,
          25,
          26,
          27,
          28,
          29,
          30,
          31,
          32,
          33,
          34,
          35,
          36,
          37,
          38,
          39,
          40,
          41,
          42,
          43,
          44,
          45,
          46,
          47,
          48,
          49,
          50,
          51,
          52,
          53,
          54,
          55,
          56,
          57,
          58,
          59,
          60,
          61,
          62,
          63,
          64,
          65,
          66,
          67,
          68,
          69,
          70,
          71,
          72,
          73,
          74,
          75,
          76,
          77,
          78,
          79,
          80,
          81,
          82,
          83,
          84,
          85,
          86,
          87,
          88,
          89,
          90,
          91,
          92,
          93,
          94,
          95,
          96,
          97,
          98,
          99
         ],
         "y": [
          -1.149882228543045,
          1.5362385410467798,
          0.3932379374579331,
          -2.059996463523254,
          0.09562991677781363,
          -0.1844539287632311,
          2.3418220729645576,
          -0.43975047658280936,
          0.6288630050374875,
          -0.030326212811700944,
          -1.702156021656865,
          -1.517666528581438,
          1.19528182618035,
          -0.9288515943816018,
          0.2672440911504483,
          -0.4002975415796906,
          -1.2173180116996651,
          0.9662247412467714,
          -1.9290761726699661,
          1.249919408423394,
          -0.6783813256393709,
          -0.7888541279691633,
          -2.7701270507949274,
          -0.4570081697608714,
          -1.5754577270896186,
          1.7040742114772185,
          -1.323623647403465,
          -1.0710918640009173,
          0.2187213850037935,
          -0.07078716233479242,
          -1.303646959301516,
          2.1897266317892035,
          0.13093518856030348,
          -0.9903480467852114,
          0.33671892236565953,
          -1.1556963538417262,
          -0.2773860242357469,
          1.9377494811247495,
          0.1423953006490988,
          0.6731945716487792,
          -0.46541278669836533,
          -0.714379146180877,
          1.0651922056412366,
          0.3114333896682094,
          -0.29224469547465676,
          -0.6358918139816263,
          -0.06286318467275165,
          0.07858067675403434,
          -0.02010629030746235,
          0.9735632755624417,
          0.3806941990300737,
          0.9555634570784103,
          -0.38220496895255784,
          -0.22327324528616546,
          -1.8998284305790532,
          -0.24424740920339258,
          -0.02526692348391983,
          -0.1382620224959738,
          1.395861014773399,
          -0.3604338840902675,
          0.3563945466276664,
          -0.07645210423467486,
          1.058060157864064,
          0.03543017928138459,
          0.32199934259140944,
          0.7294917431182483,
          0.16221584077406218,
          0.44579793102551135,
          -0.06772507530824512,
          0.39109205187050505,
          -0.7385195761252955,
          -1.2023650450948926,
          -1.3018179686182045,
          -0.7588769767804764,
          0.8540615931350239,
          0.7937811845169089,
          -0.11330210909059032,
          0.9786046847077196,
          0.1026403652012129,
          -0.6973082302186342,
          -0.7309060647842065,
          -0.3824059171264001,
          0.5322395624685383,
          0.5520881490592399,
          0.7893147543534774,
          0.9593248351973666,
          0.08953894702720594,
          -0.10201225506825605,
          -0.112709501292115,
          -0.6104114734459825,
          0.4274545255274656,
          0.3232725058320922,
          0.14213070118669957,
          -0.7675916048632497,
          -0.15544652729455274,
          -0.6522117023376075,
          1.7648913777096549,
          -1.0343556208880231,
          0.6291210941714808,
          -0.2714321671685072
         ]
        },
        {
         "line": {
          "color": "rgba(55, 128, 191, 1.0)",
          "dash": "solid",
          "shape": "linear",
          "width": 1.3
         },
         "mode": "lines",
         "name": "B",
         "text": "",
         "type": "scatter",
         "x": [
          0,
          1,
          2,
          3,
          4,
          5,
          6,
          7,
          8,
          9,
          10,
          11,
          12,
          13,
          14,
          15,
          16,
          17,
          18,
          19,
          20,
          21,
          22,
          23,
          24,
          25,
          26,
          27,
          28,
          29,
          30,
          31,
          32,
          33,
          34,
          35,
          36,
          37,
          38,
          39,
          40,
          41,
          42,
          43,
          44,
          45,
          46,
          47,
          48,
          49,
          50,
          51,
          52,
          53,
          54,
          55,
          56,
          57,
          58,
          59,
          60,
          61,
          62,
          63,
          64,
          65,
          66,
          67,
          68,
          69,
          70,
          71,
          72,
          73,
          74,
          75,
          76,
          77,
          78,
          79,
          80,
          81,
          82,
          83,
          84,
          85,
          86,
          87,
          88,
          89,
          90,
          91,
          92,
          93,
          94,
          95,
          96,
          97,
          98,
          99
         ],
         "y": [
          -0.821596800402655,
          0.5664394505597601,
          0.5089641346070292,
          -0.2592635248813433,
          1.1425648848092516,
          0.1303293725182424,
          -0.7452599453081017,
          0.6807839819422564,
          -0.03025028909446263,
          -0.7216948550717397,
          0.012099971974348565,
          -1.9328018674909626,
          0.2940669437690773,
          -0.6425845565868856,
          -1.274457701503331,
          -0.31820163749691893,
          -0.9201990535926323,
          -1.3082244088756303,
          0.9672470890932595,
          0.5604202824371384,
          -0.7169037558756315,
          0.5214208294070508,
          0.005276194451701883,
          1.34131395639202,
          0.862730069774194,
          0.444210324881266,
          0.7166122997543846,
          0.5905621985926649,
          -0.6123356568653066,
          -0.526925454627251,
          0.3566581207234709,
          -0.7958593703435825,
          0.4820928557493119,
          2.082313812263963,
          1.2477493754732194,
          0.4347371625321479,
          -0.5524659931146368,
          -0.8005632090645551,
          -0.49586200765958227,
          0.7363425104966456,
          -0.5004712861884172,
          1.0482761927570294,
          -0.6137346570027824,
          -0.03968309123000246,
          -0.3226370483232409,
          -0.9003242820526284,
          -0.4726691235269847,
          1.468411024145207,
          -0.45566617797248504,
          0.07953301178126826,
          0.5357369360643719,
          -0.08765107497054818,
          -1.426308343534027,
          0.819068484709911,
          1.8086881553071021,
          0.40025853155354885,
          -0.8893840863646113,
          0.9387138657020594,
          0.6986426191038498,
          0.43740462673617786,
          0.6644892611484586,
          0.0311752431301281,
          -0.8240084892443692,
          1.5178420616192276,
          0.014463322301807217,
          -0.07506796365150185,
          0.25267110665442416,
          0.9536021445007004,
          -0.021310183431371237,
          -1.3114035432534275,
          0.8592510660239445,
          -1.2507752033737798,
          1.4246620884121426,
          1.1027173115312447,
          0.6118120227281758,
          -0.7975020166108695,
          -1.462540048851282,
          0.6827294493991927,
          0.5334301271174584,
          0.7294526884023559,
          -0.04388537975766861,
          -0.789556783280647,
          0.3392864194491249,
          0.790166279806434,
          1.0259494794903965,
          0.27094021554193,
          1.4829223336581099,
          -0.23293511983863718,
          0.6859245229420942,
          0.5874723324937035,
          0.48557210628845787,
          -0.12662879963201118,
          0.9212668798284969,
          -1.2223765090701693,
          -0.029869681236115303,
          -1.8045036109927406,
          -1.9155662026040001,
          -0.536847880512402,
          0.34557732447025485,
          -0.3892917688322118
         ]
        },
        {
         "connectgaps": false,
         "fill": "tozeroy",
         "line": {
          "color": "green",
          "dash": "solid",
          "shape": "linear",
          "width": 0.5
         },
         "mode": "lines",
         "name": "Spread",
         "showlegend": false,
         "type": "scatter",
         "x": [
          0,
          1,
          2,
          3,
          4,
          5,
          6,
          7,
          8,
          9,
          10,
          11,
          12,
          13,
          14,
          15,
          16,
          17,
          18,
          19,
          20,
          21,
          22,
          23,
          24,
          25,
          26,
          27,
          28,
          29,
          30,
          31,
          32,
          33,
          34,
          35,
          36,
          37,
          38,
          39,
          40,
          41,
          42,
          43,
          44,
          45,
          46,
          47,
          48,
          49,
          50,
          51,
          52,
          53,
          54,
          55,
          56,
          57,
          58,
          59,
          60,
          61,
          62,
          63,
          64,
          65,
          66,
          67,
          68,
          69,
          70,
          71,
          72,
          73,
          74,
          75,
          76,
          77,
          78,
          79,
          80,
          81,
          82,
          83,
          84,
          85,
          86,
          87,
          88,
          89,
          90,
          91,
          92,
          93,
          94,
          95,
          96,
          97,
          98,
          99
         ],
         "xaxis": "x2",
         "y": [
          "",
          0.9697990904870197,
          "",
          "",
          "",
          "",
          3.0870820182726595,
          "",
          0.6591132941319501,
          0.6913686422600388,
          "",
          0.4151353389095247,
          0.9012148824112727,
          "",
          1.5417017926537793,
          "",
          "",
          2.274449150122402,
          "",
          0.6894991259862556,
          0.03852243023626056,
          "",
          "",
          "",
          "",
          1.2598638865959524,
          "",
          "",
          0.8310570418691001,
          0.4561382922924586,
          "",
          2.985586002132786,
          "",
          "",
          "",
          "",
          0.27507996887888997,
          2.7383126901893045,
          0.6382573083086811,
          "",
          0.03505849949005185,
          "",
          1.678926862644019,
          0.35111648089821185,
          0.03039235284858416,
          0.26443246807100207,
          0.40980593885423305,
          "",
          0.4355598876650227,
          0.8940302637811735,
          "",
          1.0432145320489585,
          1.0441033745814692,
          "",
          "",
          "",
          0.8641171628806915,
          "",
          0.6972183956695491,
          "",
          "",
          "",
          1.8820686471084334,
          "",
          0.30753602028960225,
          0.8045597067697501,
          "",
          "",
          "",
          1.7024955951239324,
          "",
          0.04841015827888717,
          "",
          "",
          0.24224957040684814,
          1.5912832011277784,
          1.3492379397606917,
          0.2958752353085269,
          "",
          "",
          "",
          0.40715086615424695,
          0.1929531430194134,
          "",
          "",
          0.6883846196554366,
          "",
          0.13092286477038112,
          "",
          "",
          "",
          0.4499013054641034,
          "",
          0.4547849042069195,
          "",
          1.152291908655133,
          3.680457580313655,
          "",
          0.2835437697012259,
          0.11785960166370457
         ],
         "yaxis": "y2"
        },
        {
         "connectgaps": false,
         "fill": "tozeroy",
         "line": {
          "color": "red",
          "dash": "solid",
          "shape": "linear",
          "width": 0.5
         },
         "mode": "lines",
         "name": "Spread",
         "showlegend": false,
         "type": "scatter",
         "x": [
          0,
          1,
          2,
          3,
          4,
          5,
          6,
          7,
          8,
          9,
          10,
          11,
          12,
          13,
          14,
          15,
          16,
          17,
          18,
          19,
          20,
          21,
          22,
          23,
          24,
          25,
          26,
          27,
          28,
          29,
          30,
          31,
          32,
          33,
          34,
          35,
          36,
          37,
          38,
          39,
          40,
          41,
          42,
          43,
          44,
          45,
          46,
          47,
          48,
          49,
          50,
          51,
          52,
          53,
          54,
          55,
          56,
          57,
          58,
          59,
          60,
          61,
          62,
          63,
          64,
          65,
          66,
          67,
          68,
          69,
          70,
          71,
          72,
          73,
          74,
          75,
          76,
          77,
          78,
          79,
          80,
          81,
          82,
          83,
          84,
          85,
          86,
          87,
          88,
          89,
          90,
          91,
          92,
          93,
          94,
          95,
          96,
          97,
          98,
          99
         ],
         "xaxis": "x2",
         "y": [
          -0.32828542814038997,
          "",
          -0.11572619714909604,
          -1.8007329386419106,
          -1.046934968031438,
          -0.31478330128147347,
          "",
          -1.1205344585250658,
          "",
          "",
          -1.7142559936312136,
          "",
          "",
          -0.2862670377947162,
          "",
          -0.08209590408277168,
          -0.2971189581070328,
          "",
          -2.8963232617632255,
          "",
          "",
          -1.310274957376214,
          -2.775403245246629,
          -1.7983221261528914,
          -2.4381877968638124,
          "",
          -2.0402359471578495,
          -1.6616540625935823,
          "",
          "",
          -1.660305080024987,
          "",
          -0.3511576671890084,
          -3.072661859049174,
          -0.9110304531075599,
          -1.590433516373874,
          "",
          "",
          "",
          -0.0631479388478664,
          "",
          -1.7626553389379063,
          "",
          "",
          "",
          "",
          "",
          -1.3898303473911728,
          "",
          "",
          -0.15504273703429822,
          "",
          "",
          -1.0423417299960764,
          -3.708516585886155,
          -0.6445059407569415,
          "",
          -1.0769758881980331,
          "",
          -0.7978385108264454,
          -0.30809471452079223,
          -0.10762734736480295,
          "",
          -1.4824118823378432,
          "",
          "",
          -0.09045526588036198,
          -0.507804213475189,
          -0.04641489187687388,
          "",
          -1.5977706421492401,
          "",
          -2.726480057030347,
          -1.8615942883117211,
          "",
          "",
          "",
          "",
          -0.4307897619162455,
          -1.4267609186209902,
          -0.6870206850265379,
          "",
          "",
          -0.23807813074719408,
          -0.23663472513691908,
          "",
          -1.393383386630904,
          "",
          -0.7986340242342091,
          -1.197883805939686,
          -0.05811758076099227,
          "",
          -0.7791361786417973,
          "",
          -0.12557684605843744,
          "",
          "",
          -0.4975077403756212,
          "",
          ""
         ],
         "yaxis": "y2"
        }
       ],
       "layout": {
        "hovermode": "x",
        "legend": {
         "bgcolor": "#F5F6F9",
         "font": {
          "color": "#4D5663"
         }
        },
        "paper_bgcolor": "#F5F6F9",
        "plot_bgcolor": "#F5F6F9",
        "template": {
         "data": {
          "bar": [
           {
            "error_x": {
             "color": "#2a3f5f"
            },
            "error_y": {
             "color": "#2a3f5f"
            },
            "marker": {
             "line": {
              "color": "#E5ECF6",
              "width": 0.5
             }
            },
            "type": "bar"
           }
          ],
          "barpolar": [
           {
            "marker": {
             "line": {
              "color": "#E5ECF6",
              "width": 0.5
             }
            },
            "type": "barpolar"
           }
          ],
          "carpet": [
           {
            "aaxis": {
             "endlinecolor": "#2a3f5f",
             "gridcolor": "white",
             "linecolor": "white",
             "minorgridcolor": "white",
             "startlinecolor": "#2a3f5f"
            },
            "baxis": {
             "endlinecolor": "#2a3f5f",
             "gridcolor": "white",
             "linecolor": "white",
             "minorgridcolor": "white",
             "startlinecolor": "#2a3f5f"
            },
            "type": "carpet"
           }
          ],
          "choropleth": [
           {
            "colorbar": {
             "outlinewidth": 0,
             "ticks": ""
            },
            "type": "choropleth"
           }
          ],
          "contour": [
           {
            "colorbar": {
             "outlinewidth": 0,
             "ticks": ""
            },
            "colorscale": [
             [
              0,
              "#0d0887"
             ],
             [
              0.1111111111111111,
              "#46039f"
             ],
             [
              0.2222222222222222,
              "#7201a8"
             ],
             [
              0.3333333333333333,
              "#9c179e"
             ],
             [
              0.4444444444444444,
              "#bd3786"
             ],
             [
              0.5555555555555556,
              "#d8576b"
             ],
             [
              0.6666666666666666,
              "#ed7953"
             ],
             [
              0.7777777777777778,
              "#fb9f3a"
             ],
             [
              0.8888888888888888,
              "#fdca26"
             ],
             [
              1,
              "#f0f921"
             ]
            ],
            "type": "contour"
           }
          ],
          "contourcarpet": [
           {
            "colorbar": {
             "outlinewidth": 0,
             "ticks": ""
            },
            "type": "contourcarpet"
           }
          ],
          "heatmap": [
           {
            "colorbar": {
             "outlinewidth": 0,
             "ticks": ""
            },
            "colorscale": [
             [
              0,
              "#0d0887"
             ],
             [
              0.1111111111111111,
              "#46039f"
             ],
             [
              0.2222222222222222,
              "#7201a8"
             ],
             [
              0.3333333333333333,
              "#9c179e"
             ],
             [
              0.4444444444444444,
              "#bd3786"
             ],
             [
              0.5555555555555556,
              "#d8576b"
             ],
             [
              0.6666666666666666,
              "#ed7953"
             ],
             [
              0.7777777777777778,
              "#fb9f3a"
             ],
             [
              0.8888888888888888,
              "#fdca26"
             ],
             [
              1,
              "#f0f921"
             ]
            ],
            "type": "heatmap"
           }
          ],
          "heatmapgl": [
           {
            "colorbar": {
             "outlinewidth": 0,
             "ticks": ""
            },
            "colorscale": [
             [
              0,
              "#0d0887"
             ],
             [
              0.1111111111111111,
              "#46039f"
             ],
             [
              0.2222222222222222,
              "#7201a8"
             ],
             [
              0.3333333333333333,
              "#9c179e"
             ],
             [
              0.4444444444444444,
              "#bd3786"
             ],
             [
              0.5555555555555556,
              "#d8576b"
             ],
             [
              0.6666666666666666,
              "#ed7953"
             ],
             [
              0.7777777777777778,
              "#fb9f3a"
             ],
             [
              0.8888888888888888,
              "#fdca26"
             ],
             [
              1,
              "#f0f921"
             ]
            ],
            "type": "heatmapgl"
           }
          ],
          "histogram": [
           {
            "marker": {
             "colorbar": {
              "outlinewidth": 0,
              "ticks": ""
             }
            },
            "type": "histogram"
           }
          ],
          "histogram2d": [
           {
            "colorbar": {
             "outlinewidth": 0,
             "ticks": ""
            },
            "colorscale": [
             [
              0,
              "#0d0887"
             ],
             [
              0.1111111111111111,
              "#46039f"
             ],
             [
              0.2222222222222222,
              "#7201a8"
             ],
             [
              0.3333333333333333,
              "#9c179e"
             ],
             [
              0.4444444444444444,
              "#bd3786"
             ],
             [
              0.5555555555555556,
              "#d8576b"
             ],
             [
              0.6666666666666666,
              "#ed7953"
             ],
             [
              0.7777777777777778,
              "#fb9f3a"
             ],
             [
              0.8888888888888888,
              "#fdca26"
             ],
             [
              1,
              "#f0f921"
             ]
            ],
            "type": "histogram2d"
           }
          ],
          "histogram2dcontour": [
           {
            "colorbar": {
             "outlinewidth": 0,
             "ticks": ""
            },
            "colorscale": [
             [
              0,
              "#0d0887"
             ],
             [
              0.1111111111111111,
              "#46039f"
             ],
             [
              0.2222222222222222,
              "#7201a8"
             ],
             [
              0.3333333333333333,
              "#9c179e"
             ],
             [
              0.4444444444444444,
              "#bd3786"
             ],
             [
              0.5555555555555556,
              "#d8576b"
             ],
             [
              0.6666666666666666,
              "#ed7953"
             ],
             [
              0.7777777777777778,
              "#fb9f3a"
             ],
             [
              0.8888888888888888,
              "#fdca26"
             ],
             [
              1,
              "#f0f921"
             ]
            ],
            "type": "histogram2dcontour"
           }
          ],
          "mesh3d": [
           {
            "colorbar": {
             "outlinewidth": 0,
             "ticks": ""
            },
            "type": "mesh3d"
           }
          ],
          "parcoords": [
           {
            "line": {
             "colorbar": {
              "outlinewidth": 0,
              "ticks": ""
             }
            },
            "type": "parcoords"
           }
          ],
          "pie": [
           {
            "automargin": true,
            "type": "pie"
           }
          ],
          "scatter": [
           {
            "marker": {
             "colorbar": {
              "outlinewidth": 0,
              "ticks": ""
             }
            },
            "type": "scatter"
           }
          ],
          "scatter3d": [
           {
            "line": {
             "colorbar": {
              "outlinewidth": 0,
              "ticks": ""
             }
            },
            "marker": {
             "colorbar": {
              "outlinewidth": 0,
              "ticks": ""
             }
            },
            "type": "scatter3d"
           }
          ],
          "scattercarpet": [
           {
            "marker": {
             "colorbar": {
              "outlinewidth": 0,
              "ticks": ""
             }
            },
            "type": "scattercarpet"
           }
          ],
          "scattergeo": [
           {
            "marker": {
             "colorbar": {
              "outlinewidth": 0,
              "ticks": ""
             }
            },
            "type": "scattergeo"
           }
          ],
          "scattergl": [
           {
            "marker": {
             "colorbar": {
              "outlinewidth": 0,
              "ticks": ""
             }
            },
            "type": "scattergl"
           }
          ],
          "scattermapbox": [
           {
            "marker": {
             "colorbar": {
              "outlinewidth": 0,
              "ticks": ""
             }
            },
            "type": "scattermapbox"
           }
          ],
          "scatterpolar": [
           {
            "marker": {
             "colorbar": {
              "outlinewidth": 0,
              "ticks": ""
             }
            },
            "type": "scatterpolar"
           }
          ],
          "scatterpolargl": [
           {
            "marker": {
             "colorbar": {
              "outlinewidth": 0,
              "ticks": ""
             }
            },
            "type": "scatterpolargl"
           }
          ],
          "scatterternary": [
           {
            "marker": {
             "colorbar": {
              "outlinewidth": 0,
              "ticks": ""
             }
            },
            "type": "scatterternary"
           }
          ],
          "surface": [
           {
            "colorbar": {
             "outlinewidth": 0,
             "ticks": ""
            },
            "colorscale": [
             [
              0,
              "#0d0887"
             ],
             [
              0.1111111111111111,
              "#46039f"
             ],
             [
              0.2222222222222222,
              "#7201a8"
             ],
             [
              0.3333333333333333,
              "#9c179e"
             ],
             [
              0.4444444444444444,
              "#bd3786"
             ],
             [
              0.5555555555555556,
              "#d8576b"
             ],
             [
              0.6666666666666666,
              "#ed7953"
             ],
             [
              0.7777777777777778,
              "#fb9f3a"
             ],
             [
              0.8888888888888888,
              "#fdca26"
             ],
             [
              1,
              "#f0f921"
             ]
            ],
            "type": "surface"
           }
          ],
          "table": [
           {
            "cells": {
             "fill": {
              "color": "#EBF0F8"
             },
             "line": {
              "color": "white"
             }
            },
            "header": {
             "fill": {
              "color": "#C8D4E3"
             },
             "line": {
              "color": "white"
             }
            },
            "type": "table"
           }
          ]
         },
         "layout": {
          "annotationdefaults": {
           "arrowcolor": "#2a3f5f",
           "arrowhead": 0,
           "arrowwidth": 1
          },
          "coloraxis": {
           "colorbar": {
            "outlinewidth": 0,
            "ticks": ""
           }
          },
          "colorscale": {
           "diverging": [
            [
             0,
             "#8e0152"
            ],
            [
             0.1,
             "#c51b7d"
            ],
            [
             0.2,
             "#de77ae"
            ],
            [
             0.3,
             "#f1b6da"
            ],
            [
             0.4,
             "#fde0ef"
            ],
            [
             0.5,
             "#f7f7f7"
            ],
            [
             0.6,
             "#e6f5d0"
            ],
            [
             0.7,
             "#b8e186"
            ],
            [
             0.8,
             "#7fbc41"
            ],
            [
             0.9,
             "#4d9221"
            ],
            [
             1,
             "#276419"
            ]
           ],
           "sequential": [
            [
             0,
             "#0d0887"
            ],
            [
             0.1111111111111111,
             "#46039f"
            ],
            [
             0.2222222222222222,
             "#7201a8"
            ],
            [
             0.3333333333333333,
             "#9c179e"
            ],
            [
             0.4444444444444444,
             "#bd3786"
            ],
            [
             0.5555555555555556,
             "#d8576b"
            ],
            [
             0.6666666666666666,
             "#ed7953"
            ],
            [
             0.7777777777777778,
             "#fb9f3a"
            ],
            [
             0.8888888888888888,
             "#fdca26"
            ],
            [
             1,
             "#f0f921"
            ]
           ],
           "sequentialminus": [
            [
             0,
             "#0d0887"
            ],
            [
             0.1111111111111111,
             "#46039f"
            ],
            [
             0.2222222222222222,
             "#7201a8"
            ],
            [
             0.3333333333333333,
             "#9c179e"
            ],
            [
             0.4444444444444444,
             "#bd3786"
            ],
            [
             0.5555555555555556,
             "#d8576b"
            ],
            [
             0.6666666666666666,
             "#ed7953"
            ],
            [
             0.7777777777777778,
             "#fb9f3a"
            ],
            [
             0.8888888888888888,
             "#fdca26"
            ],
            [
             1,
             "#f0f921"
            ]
           ]
          },
          "colorway": [
           "#636efa",
           "#EF553B",
           "#00cc96",
           "#ab63fa",
           "#FFA15A",
           "#19d3f3",
           "#FF6692",
           "#B6E880",
           "#FF97FF",
           "#FECB52"
          ],
          "font": {
           "color": "#2a3f5f"
          },
          "geo": {
           "bgcolor": "white",
           "lakecolor": "white",
           "landcolor": "#E5ECF6",
           "showlakes": true,
           "showland": true,
           "subunitcolor": "white"
          },
          "hoverlabel": {
           "align": "left"
          },
          "hovermode": "closest",
          "mapbox": {
           "style": "light"
          },
          "paper_bgcolor": "white",
          "plot_bgcolor": "#E5ECF6",
          "polar": {
           "angularaxis": {
            "gridcolor": "white",
            "linecolor": "white",
            "ticks": ""
           },
           "bgcolor": "#E5ECF6",
           "radialaxis": {
            "gridcolor": "white",
            "linecolor": "white",
            "ticks": ""
           }
          },
          "scene": {
           "xaxis": {
            "backgroundcolor": "#E5ECF6",
            "gridcolor": "white",
            "gridwidth": 2,
            "linecolor": "white",
            "showbackground": true,
            "ticks": "",
            "zerolinecolor": "white"
           },
           "yaxis": {
            "backgroundcolor": "#E5ECF6",
            "gridcolor": "white",
            "gridwidth": 2,
            "linecolor": "white",
            "showbackground": true,
            "ticks": "",
            "zerolinecolor": "white"
           },
           "zaxis": {
            "backgroundcolor": "#E5ECF6",
            "gridcolor": "white",
            "gridwidth": 2,
            "linecolor": "white",
            "showbackground": true,
            "ticks": "",
            "zerolinecolor": "white"
           }
          },
          "shapedefaults": {
           "line": {
            "color": "#2a3f5f"
           }
          },
          "ternary": {
           "aaxis": {
            "gridcolor": "white",
            "linecolor": "white",
            "ticks": ""
           },
           "baxis": {
            "gridcolor": "white",
            "linecolor": "white",
            "ticks": ""
           },
           "bgcolor": "#E5ECF6",
           "caxis": {
            "gridcolor": "white",
            "linecolor": "white",
            "ticks": ""
           }
          },
          "title": {
           "x": 0.05
          },
          "xaxis": {
           "automargin": true,
           "gridcolor": "white",
           "linecolor": "white",
           "ticks": "",
           "title": {
            "standoff": 15
           },
           "zerolinecolor": "white",
           "zerolinewidth": 2
          },
          "yaxis": {
           "automargin": true,
           "gridcolor": "white",
           "linecolor": "white",
           "ticks": "",
           "title": {
            "standoff": 15
           },
           "zerolinecolor": "white",
           "zerolinewidth": 2
          }
         }
        },
        "title": {
         "font": {
          "color": "#4D5663"
         }
        },
        "xaxis": {
         "gridcolor": "#E1E5ED",
         "showgrid": true,
         "tickfont": {
          "color": "#4D5663"
         },
         "title": {
          "font": {
           "color": "#4D5663"
          },
          "text": ""
         },
         "zerolinecolor": "#E1E5ED"
        },
        "xaxis2": {
         "anchor": "y2",
         "gridcolor": "#E1E5ED",
         "showgrid": true,
         "showticklabels": false,
         "tickfont": {
          "color": "#4D5663"
         },
         "title": {
          "font": {
           "color": "#4D5663"
          },
          "text": ""
         },
         "zerolinecolor": "#E1E5ED"
        },
        "yaxis": {
         "domain": [
          0.3,
          1
         ],
         "gridcolor": "#E1E5ED",
         "showgrid": true,
         "tickfont": {
          "color": "#4D5663"
         },
         "title": {
          "font": {
           "color": "#4D5663"
          },
          "text": ""
         },
         "zerolinecolor": "#E1E5ED"
        },
        "yaxis2": {
         "domain": [
          0,
          0.25
         ],
         "gridcolor": "#E1E5ED",
         "showgrid": true,
         "tickfont": {
          "color": "#4D5663"
         },
         "title": {
          "font": {
           "color": "#4D5663"
          },
          "text": "Spread"
         },
         "zerolinecolor": "#E1E5ED"
        }
       }
      },
      "text/html": [
       "<div>\n",
       "        \n",
       "        \n",
       "            <div id=\"571b5b01-468f-4c22-8525-bc49f70b70d1\" class=\"plotly-graph-div\" style=\"height:525px; width:100%;\"></div>\n",
       "            <script type=\"text/javascript\">\n",
       "                require([\"plotly\"], function(Plotly) {\n",
       "                    window.PLOTLYENV=window.PLOTLYENV || {};\n",
       "                    window.PLOTLYENV.BASE_URL='https://plot.ly';\n",
       "                    \n",
       "                if (document.getElementById(\"571b5b01-468f-4c22-8525-bc49f70b70d1\")) {\n",
       "                    Plotly.newPlot(\n",
       "                        '571b5b01-468f-4c22-8525-bc49f70b70d1',\n",
       "                        [{\"line\": {\"color\": \"rgba(255, 153, 51, 1.0)\", \"dash\": \"solid\", \"shape\": \"linear\", \"width\": 1.3}, \"mode\": \"lines\", \"name\": \"A\", \"text\": \"\", \"type\": \"scatter\", \"x\": [0, 1, 2, 3, 4, 5, 6, 7, 8, 9, 10, 11, 12, 13, 14, 15, 16, 17, 18, 19, 20, 21, 22, 23, 24, 25, 26, 27, 28, 29, 30, 31, 32, 33, 34, 35, 36, 37, 38, 39, 40, 41, 42, 43, 44, 45, 46, 47, 48, 49, 50, 51, 52, 53, 54, 55, 56, 57, 58, 59, 60, 61, 62, 63, 64, 65, 66, 67, 68, 69, 70, 71, 72, 73, 74, 75, 76, 77, 78, 79, 80, 81, 82, 83, 84, 85, 86, 87, 88, 89, 90, 91, 92, 93, 94, 95, 96, 97, 98, 99], \"y\": [-1.149882228543045, 1.5362385410467798, 0.3932379374579331, -2.059996463523254, 0.09562991677781363, -0.1844539287632311, 2.3418220729645576, -0.43975047658280936, 0.6288630050374875, -0.030326212811700944, -1.702156021656865, -1.517666528581438, 1.19528182618035, -0.9288515943816018, 0.2672440911504483, -0.4002975415796906, -1.2173180116996651, 0.9662247412467714, -1.9290761726699661, 1.249919408423394, -0.6783813256393709, -0.7888541279691633, -2.7701270507949274, -0.4570081697608714, -1.5754577270896186, 1.7040742114772185, -1.323623647403465, -1.0710918640009173, 0.2187213850037935, -0.07078716233479242, -1.303646959301516, 2.1897266317892035, 0.13093518856030348, -0.9903480467852114, 0.33671892236565953, -1.1556963538417262, -0.2773860242357469, 1.9377494811247495, 0.1423953006490988, 0.6731945716487792, -0.46541278669836533, -0.714379146180877, 1.0651922056412366, 0.3114333896682094, -0.29224469547465676, -0.6358918139816263, -0.06286318467275165, 0.07858067675403434, -0.02010629030746235, 0.9735632755624417, 0.3806941990300737, 0.9555634570784103, -0.38220496895255784, -0.22327324528616546, -1.8998284305790532, -0.24424740920339258, -0.02526692348391983, -0.1382620224959738, 1.395861014773399, -0.3604338840902675, 0.3563945466276664, -0.07645210423467486, 1.058060157864064, 0.03543017928138459, 0.32199934259140944, 0.7294917431182483, 0.16221584077406218, 0.44579793102551135, -0.06772507530824512, 0.39109205187050505, -0.7385195761252955, -1.2023650450948926, -1.3018179686182045, -0.7588769767804764, 0.8540615931350239, 0.7937811845169089, -0.11330210909059032, 0.9786046847077196, 0.1026403652012129, -0.6973082302186342, -0.7309060647842065, -0.3824059171264001, 0.5322395624685383, 0.5520881490592399, 0.7893147543534774, 0.9593248351973666, 0.08953894702720594, -0.10201225506825605, -0.112709501292115, -0.6104114734459825, 0.4274545255274656, 0.3232725058320922, 0.14213070118669957, -0.7675916048632497, -0.15544652729455274, -0.6522117023376075, 1.7648913777096549, -1.0343556208880231, 0.6291210941714808, -0.2714321671685072]}, {\"line\": {\"color\": \"rgba(55, 128, 191, 1.0)\", \"dash\": \"solid\", \"shape\": \"linear\", \"width\": 1.3}, \"mode\": \"lines\", \"name\": \"B\", \"text\": \"\", \"type\": \"scatter\", \"x\": [0, 1, 2, 3, 4, 5, 6, 7, 8, 9, 10, 11, 12, 13, 14, 15, 16, 17, 18, 19, 20, 21, 22, 23, 24, 25, 26, 27, 28, 29, 30, 31, 32, 33, 34, 35, 36, 37, 38, 39, 40, 41, 42, 43, 44, 45, 46, 47, 48, 49, 50, 51, 52, 53, 54, 55, 56, 57, 58, 59, 60, 61, 62, 63, 64, 65, 66, 67, 68, 69, 70, 71, 72, 73, 74, 75, 76, 77, 78, 79, 80, 81, 82, 83, 84, 85, 86, 87, 88, 89, 90, 91, 92, 93, 94, 95, 96, 97, 98, 99], \"y\": [-0.821596800402655, 0.5664394505597601, 0.5089641346070292, -0.2592635248813433, 1.1425648848092516, 0.1303293725182424, -0.7452599453081017, 0.6807839819422564, -0.03025028909446263, -0.7216948550717397, 0.012099971974348565, -1.9328018674909626, 0.2940669437690773, -0.6425845565868856, -1.274457701503331, -0.31820163749691893, -0.9201990535926323, -1.3082244088756303, 0.9672470890932595, 0.5604202824371384, -0.7169037558756315, 0.5214208294070508, 0.005276194451701883, 1.34131395639202, 0.862730069774194, 0.444210324881266, 0.7166122997543846, 0.5905621985926649, -0.6123356568653066, -0.526925454627251, 0.3566581207234709, -0.7958593703435825, 0.4820928557493119, 2.082313812263963, 1.2477493754732194, 0.4347371625321479, -0.5524659931146368, -0.8005632090645551, -0.49586200765958227, 0.7363425104966456, -0.5004712861884172, 1.0482761927570294, -0.6137346570027824, -0.03968309123000246, -0.3226370483232409, -0.9003242820526284, -0.4726691235269847, 1.468411024145207, -0.45566617797248504, 0.07953301178126826, 0.5357369360643719, -0.08765107497054818, -1.426308343534027, 0.819068484709911, 1.8086881553071021, 0.40025853155354885, -0.8893840863646113, 0.9387138657020594, 0.6986426191038498, 0.43740462673617786, 0.6644892611484586, 0.0311752431301281, -0.8240084892443692, 1.5178420616192276, 0.014463322301807217, -0.07506796365150185, 0.25267110665442416, 0.9536021445007004, -0.021310183431371237, -1.3114035432534275, 0.8592510660239445, -1.2507752033737798, 1.4246620884121426, 1.1027173115312447, 0.6118120227281758, -0.7975020166108695, -1.462540048851282, 0.6827294493991927, 0.5334301271174584, 0.7294526884023559, -0.04388537975766861, -0.789556783280647, 0.3392864194491249, 0.790166279806434, 1.0259494794903965, 0.27094021554193, 1.4829223336581099, -0.23293511983863718, 0.6859245229420942, 0.5874723324937035, 0.48557210628845787, -0.12662879963201118, 0.9212668798284969, -1.2223765090701693, -0.029869681236115303, -1.8045036109927406, -1.9155662026040001, -0.536847880512402, 0.34557732447025485, -0.3892917688322118]}, {\"connectgaps\": false, \"fill\": \"tozeroy\", \"line\": {\"color\": \"green\", \"dash\": \"solid\", \"shape\": \"linear\", \"width\": 0.5}, \"mode\": \"lines\", \"name\": \"Spread\", \"showlegend\": false, \"type\": \"scatter\", \"x\": [0, 1, 2, 3, 4, 5, 6, 7, 8, 9, 10, 11, 12, 13, 14, 15, 16, 17, 18, 19, 20, 21, 22, 23, 24, 25, 26, 27, 28, 29, 30, 31, 32, 33, 34, 35, 36, 37, 38, 39, 40, 41, 42, 43, 44, 45, 46, 47, 48, 49, 50, 51, 52, 53, 54, 55, 56, 57, 58, 59, 60, 61, 62, 63, 64, 65, 66, 67, 68, 69, 70, 71, 72, 73, 74, 75, 76, 77, 78, 79, 80, 81, 82, 83, 84, 85, 86, 87, 88, 89, 90, 91, 92, 93, 94, 95, 96, 97, 98, 99], \"xaxis\": \"x2\", \"y\": [\"\", 0.9697990904870197, \"\", \"\", \"\", \"\", 3.0870820182726595, \"\", 0.6591132941319501, 0.6913686422600388, \"\", 0.4151353389095247, 0.9012148824112727, \"\", 1.5417017926537793, \"\", \"\", 2.274449150122402, \"\", 0.6894991259862556, 0.03852243023626056, \"\", \"\", \"\", \"\", 1.2598638865959524, \"\", \"\", 0.8310570418691001, 0.4561382922924586, \"\", 2.985586002132786, \"\", \"\", \"\", \"\", 0.27507996887888997, 2.7383126901893045, 0.6382573083086811, \"\", 0.03505849949005185, \"\", 1.678926862644019, 0.35111648089821185, 0.03039235284858416, 0.26443246807100207, 0.40980593885423305, \"\", 0.4355598876650227, 0.8940302637811735, \"\", 1.0432145320489585, 1.0441033745814692, \"\", \"\", \"\", 0.8641171628806915, \"\", 0.6972183956695491, \"\", \"\", \"\", 1.8820686471084334, \"\", 0.30753602028960225, 0.8045597067697501, \"\", \"\", \"\", 1.7024955951239324, \"\", 0.04841015827888717, \"\", \"\", 0.24224957040684814, 1.5912832011277784, 1.3492379397606917, 0.2958752353085269, \"\", \"\", \"\", 0.40715086615424695, 0.1929531430194134, \"\", \"\", 0.6883846196554366, \"\", 0.13092286477038112, \"\", \"\", \"\", 0.4499013054641034, \"\", 0.4547849042069195, \"\", 1.152291908655133, 3.680457580313655, \"\", 0.2835437697012259, 0.11785960166370457], \"yaxis\": \"y2\"}, {\"connectgaps\": false, \"fill\": \"tozeroy\", \"line\": {\"color\": \"red\", \"dash\": \"solid\", \"shape\": \"linear\", \"width\": 0.5}, \"mode\": \"lines\", \"name\": \"Spread\", \"showlegend\": false, \"type\": \"scatter\", \"x\": [0, 1, 2, 3, 4, 5, 6, 7, 8, 9, 10, 11, 12, 13, 14, 15, 16, 17, 18, 19, 20, 21, 22, 23, 24, 25, 26, 27, 28, 29, 30, 31, 32, 33, 34, 35, 36, 37, 38, 39, 40, 41, 42, 43, 44, 45, 46, 47, 48, 49, 50, 51, 52, 53, 54, 55, 56, 57, 58, 59, 60, 61, 62, 63, 64, 65, 66, 67, 68, 69, 70, 71, 72, 73, 74, 75, 76, 77, 78, 79, 80, 81, 82, 83, 84, 85, 86, 87, 88, 89, 90, 91, 92, 93, 94, 95, 96, 97, 98, 99], \"xaxis\": \"x2\", \"y\": [-0.32828542814038997, \"\", -0.11572619714909604, -1.8007329386419106, -1.046934968031438, -0.31478330128147347, \"\", -1.1205344585250658, \"\", \"\", -1.7142559936312136, \"\", \"\", -0.2862670377947162, \"\", -0.08209590408277168, -0.2971189581070328, \"\", -2.8963232617632255, \"\", \"\", -1.310274957376214, -2.775403245246629, -1.7983221261528914, -2.4381877968638124, \"\", -2.0402359471578495, -1.6616540625935823, \"\", \"\", -1.660305080024987, \"\", -0.3511576671890084, -3.072661859049174, -0.9110304531075599, -1.590433516373874, \"\", \"\", \"\", -0.0631479388478664, \"\", -1.7626553389379063, \"\", \"\", \"\", \"\", \"\", -1.3898303473911728, \"\", \"\", -0.15504273703429822, \"\", \"\", -1.0423417299960764, -3.708516585886155, -0.6445059407569415, \"\", -1.0769758881980331, \"\", -0.7978385108264454, -0.30809471452079223, -0.10762734736480295, \"\", -1.4824118823378432, \"\", \"\", -0.09045526588036198, -0.507804213475189, -0.04641489187687388, \"\", -1.5977706421492401, \"\", -2.726480057030347, -1.8615942883117211, \"\", \"\", \"\", \"\", -0.4307897619162455, -1.4267609186209902, -0.6870206850265379, \"\", \"\", -0.23807813074719408, -0.23663472513691908, \"\", -1.393383386630904, \"\", -0.7986340242342091, -1.197883805939686, -0.05811758076099227, \"\", -0.7791361786417973, \"\", -0.12557684605843744, \"\", \"\", -0.4975077403756212, \"\", \"\"], \"yaxis\": \"y2\"}],\n",
       "                        {\"hovermode\": \"x\", \"legend\": {\"bgcolor\": \"#F5F6F9\", \"font\": {\"color\": \"#4D5663\"}}, \"paper_bgcolor\": \"#F5F6F9\", \"plot_bgcolor\": \"#F5F6F9\", \"template\": {\"data\": {\"bar\": [{\"error_x\": {\"color\": \"#2a3f5f\"}, \"error_y\": {\"color\": \"#2a3f5f\"}, \"marker\": {\"line\": {\"color\": \"#E5ECF6\", \"width\": 0.5}}, \"type\": \"bar\"}], \"barpolar\": [{\"marker\": {\"line\": {\"color\": \"#E5ECF6\", \"width\": 0.5}}, \"type\": \"barpolar\"}], \"carpet\": [{\"aaxis\": {\"endlinecolor\": \"#2a3f5f\", \"gridcolor\": \"white\", \"linecolor\": \"white\", \"minorgridcolor\": \"white\", \"startlinecolor\": \"#2a3f5f\"}, \"baxis\": {\"endlinecolor\": \"#2a3f5f\", \"gridcolor\": \"white\", \"linecolor\": \"white\", \"minorgridcolor\": \"white\", \"startlinecolor\": \"#2a3f5f\"}, \"type\": \"carpet\"}], \"choropleth\": [{\"colorbar\": {\"outlinewidth\": 0, \"ticks\": \"\"}, \"type\": \"choropleth\"}], \"contour\": [{\"colorbar\": {\"outlinewidth\": 0, \"ticks\": \"\"}, \"colorscale\": [[0.0, \"#0d0887\"], [0.1111111111111111, \"#46039f\"], [0.2222222222222222, \"#7201a8\"], [0.3333333333333333, \"#9c179e\"], [0.4444444444444444, \"#bd3786\"], [0.5555555555555556, \"#d8576b\"], [0.6666666666666666, \"#ed7953\"], [0.7777777777777778, \"#fb9f3a\"], [0.8888888888888888, \"#fdca26\"], [1.0, \"#f0f921\"]], \"type\": \"contour\"}], \"contourcarpet\": [{\"colorbar\": {\"outlinewidth\": 0, \"ticks\": \"\"}, \"type\": \"contourcarpet\"}], \"heatmap\": [{\"colorbar\": {\"outlinewidth\": 0, \"ticks\": \"\"}, \"colorscale\": [[0.0, \"#0d0887\"], [0.1111111111111111, \"#46039f\"], [0.2222222222222222, \"#7201a8\"], [0.3333333333333333, \"#9c179e\"], [0.4444444444444444, \"#bd3786\"], [0.5555555555555556, \"#d8576b\"], [0.6666666666666666, \"#ed7953\"], [0.7777777777777778, \"#fb9f3a\"], [0.8888888888888888, \"#fdca26\"], [1.0, \"#f0f921\"]], \"type\": \"heatmap\"}], \"heatmapgl\": [{\"colorbar\": {\"outlinewidth\": 0, \"ticks\": \"\"}, \"colorscale\": [[0.0, \"#0d0887\"], [0.1111111111111111, \"#46039f\"], [0.2222222222222222, \"#7201a8\"], [0.3333333333333333, \"#9c179e\"], [0.4444444444444444, \"#bd3786\"], [0.5555555555555556, \"#d8576b\"], [0.6666666666666666, \"#ed7953\"], [0.7777777777777778, \"#fb9f3a\"], [0.8888888888888888, \"#fdca26\"], [1.0, \"#f0f921\"]], \"type\": \"heatmapgl\"}], \"histogram\": [{\"marker\": {\"colorbar\": {\"outlinewidth\": 0, \"ticks\": \"\"}}, \"type\": \"histogram\"}], \"histogram2d\": [{\"colorbar\": {\"outlinewidth\": 0, \"ticks\": \"\"}, \"colorscale\": [[0.0, \"#0d0887\"], [0.1111111111111111, \"#46039f\"], [0.2222222222222222, \"#7201a8\"], [0.3333333333333333, \"#9c179e\"], [0.4444444444444444, \"#bd3786\"], [0.5555555555555556, \"#d8576b\"], [0.6666666666666666, \"#ed7953\"], [0.7777777777777778, \"#fb9f3a\"], [0.8888888888888888, \"#fdca26\"], [1.0, \"#f0f921\"]], \"type\": \"histogram2d\"}], \"histogram2dcontour\": [{\"colorbar\": {\"outlinewidth\": 0, \"ticks\": \"\"}, \"colorscale\": [[0.0, \"#0d0887\"], [0.1111111111111111, \"#46039f\"], [0.2222222222222222, \"#7201a8\"], [0.3333333333333333, \"#9c179e\"], [0.4444444444444444, \"#bd3786\"], [0.5555555555555556, \"#d8576b\"], [0.6666666666666666, \"#ed7953\"], [0.7777777777777778, \"#fb9f3a\"], [0.8888888888888888, \"#fdca26\"], [1.0, \"#f0f921\"]], \"type\": \"histogram2dcontour\"}], \"mesh3d\": [{\"colorbar\": {\"outlinewidth\": 0, \"ticks\": \"\"}, \"type\": \"mesh3d\"}], \"parcoords\": [{\"line\": {\"colorbar\": {\"outlinewidth\": 0, \"ticks\": \"\"}}, \"type\": \"parcoords\"}], \"pie\": [{\"automargin\": true, \"type\": \"pie\"}], \"scatter\": [{\"marker\": {\"colorbar\": {\"outlinewidth\": 0, \"ticks\": \"\"}}, \"type\": \"scatter\"}], \"scatter3d\": [{\"line\": {\"colorbar\": {\"outlinewidth\": 0, \"ticks\": \"\"}}, \"marker\": {\"colorbar\": {\"outlinewidth\": 0, \"ticks\": \"\"}}, \"type\": \"scatter3d\"}], \"scattercarpet\": [{\"marker\": {\"colorbar\": {\"outlinewidth\": 0, \"ticks\": \"\"}}, \"type\": \"scattercarpet\"}], \"scattergeo\": [{\"marker\": {\"colorbar\": {\"outlinewidth\": 0, \"ticks\": \"\"}}, \"type\": \"scattergeo\"}], \"scattergl\": [{\"marker\": {\"colorbar\": {\"outlinewidth\": 0, \"ticks\": \"\"}}, \"type\": \"scattergl\"}], \"scattermapbox\": [{\"marker\": {\"colorbar\": {\"outlinewidth\": 0, \"ticks\": \"\"}}, \"type\": \"scattermapbox\"}], \"scatterpolar\": [{\"marker\": {\"colorbar\": {\"outlinewidth\": 0, \"ticks\": \"\"}}, \"type\": \"scatterpolar\"}], \"scatterpolargl\": [{\"marker\": {\"colorbar\": {\"outlinewidth\": 0, \"ticks\": \"\"}}, \"type\": \"scatterpolargl\"}], \"scatterternary\": [{\"marker\": {\"colorbar\": {\"outlinewidth\": 0, \"ticks\": \"\"}}, \"type\": \"scatterternary\"}], \"surface\": [{\"colorbar\": {\"outlinewidth\": 0, \"ticks\": \"\"}, \"colorscale\": [[0.0, \"#0d0887\"], [0.1111111111111111, \"#46039f\"], [0.2222222222222222, \"#7201a8\"], [0.3333333333333333, \"#9c179e\"], [0.4444444444444444, \"#bd3786\"], [0.5555555555555556, \"#d8576b\"], [0.6666666666666666, \"#ed7953\"], [0.7777777777777778, \"#fb9f3a\"], [0.8888888888888888, \"#fdca26\"], [1.0, \"#f0f921\"]], \"type\": \"surface\"}], \"table\": [{\"cells\": {\"fill\": {\"color\": \"#EBF0F8\"}, \"line\": {\"color\": \"white\"}}, \"header\": {\"fill\": {\"color\": \"#C8D4E3\"}, \"line\": {\"color\": \"white\"}}, \"type\": \"table\"}]}, \"layout\": {\"annotationdefaults\": {\"arrowcolor\": \"#2a3f5f\", \"arrowhead\": 0, \"arrowwidth\": 1}, \"coloraxis\": {\"colorbar\": {\"outlinewidth\": 0, \"ticks\": \"\"}}, \"colorscale\": {\"diverging\": [[0, \"#8e0152\"], [0.1, \"#c51b7d\"], [0.2, \"#de77ae\"], [0.3, \"#f1b6da\"], [0.4, \"#fde0ef\"], [0.5, \"#f7f7f7\"], [0.6, \"#e6f5d0\"], [0.7, \"#b8e186\"], [0.8, \"#7fbc41\"], [0.9, \"#4d9221\"], [1, \"#276419\"]], \"sequential\": [[0.0, \"#0d0887\"], [0.1111111111111111, \"#46039f\"], [0.2222222222222222, \"#7201a8\"], [0.3333333333333333, \"#9c179e\"], [0.4444444444444444, \"#bd3786\"], [0.5555555555555556, \"#d8576b\"], [0.6666666666666666, \"#ed7953\"], [0.7777777777777778, \"#fb9f3a\"], [0.8888888888888888, \"#fdca26\"], [1.0, \"#f0f921\"]], \"sequentialminus\": [[0.0, \"#0d0887\"], [0.1111111111111111, \"#46039f\"], [0.2222222222222222, \"#7201a8\"], [0.3333333333333333, \"#9c179e\"], [0.4444444444444444, \"#bd3786\"], [0.5555555555555556, \"#d8576b\"], [0.6666666666666666, \"#ed7953\"], [0.7777777777777778, \"#fb9f3a\"], [0.8888888888888888, \"#fdca26\"], [1.0, \"#f0f921\"]]}, \"colorway\": [\"#636efa\", \"#EF553B\", \"#00cc96\", \"#ab63fa\", \"#FFA15A\", \"#19d3f3\", \"#FF6692\", \"#B6E880\", \"#FF97FF\", \"#FECB52\"], \"font\": {\"color\": \"#2a3f5f\"}, \"geo\": {\"bgcolor\": \"white\", \"lakecolor\": \"white\", \"landcolor\": \"#E5ECF6\", \"showlakes\": true, \"showland\": true, \"subunitcolor\": \"white\"}, \"hoverlabel\": {\"align\": \"left\"}, \"hovermode\": \"closest\", \"mapbox\": {\"style\": \"light\"}, \"paper_bgcolor\": \"white\", \"plot_bgcolor\": \"#E5ECF6\", \"polar\": {\"angularaxis\": {\"gridcolor\": \"white\", \"linecolor\": \"white\", \"ticks\": \"\"}, \"bgcolor\": \"#E5ECF6\", \"radialaxis\": {\"gridcolor\": \"white\", \"linecolor\": \"white\", \"ticks\": \"\"}}, \"scene\": {\"xaxis\": {\"backgroundcolor\": \"#E5ECF6\", \"gridcolor\": \"white\", \"gridwidth\": 2, \"linecolor\": \"white\", \"showbackground\": true, \"ticks\": \"\", \"zerolinecolor\": \"white\"}, \"yaxis\": {\"backgroundcolor\": \"#E5ECF6\", \"gridcolor\": \"white\", \"gridwidth\": 2, \"linecolor\": \"white\", \"showbackground\": true, \"ticks\": \"\", \"zerolinecolor\": \"white\"}, \"zaxis\": {\"backgroundcolor\": \"#E5ECF6\", \"gridcolor\": \"white\", \"gridwidth\": 2, \"linecolor\": \"white\", \"showbackground\": true, \"ticks\": \"\", \"zerolinecolor\": \"white\"}}, \"shapedefaults\": {\"line\": {\"color\": \"#2a3f5f\"}}, \"ternary\": {\"aaxis\": {\"gridcolor\": \"white\", \"linecolor\": \"white\", \"ticks\": \"\"}, \"baxis\": {\"gridcolor\": \"white\", \"linecolor\": \"white\", \"ticks\": \"\"}, \"bgcolor\": \"#E5ECF6\", \"caxis\": {\"gridcolor\": \"white\", \"linecolor\": \"white\", \"ticks\": \"\"}}, \"title\": {\"x\": 0.05}, \"xaxis\": {\"automargin\": true, \"gridcolor\": \"white\", \"linecolor\": \"white\", \"ticks\": \"\", \"title\": {\"standoff\": 15}, \"zerolinecolor\": \"white\", \"zerolinewidth\": 2}, \"yaxis\": {\"automargin\": true, \"gridcolor\": \"white\", \"linecolor\": \"white\", \"ticks\": \"\", \"title\": {\"standoff\": 15}, \"zerolinecolor\": \"white\", \"zerolinewidth\": 2}}}, \"title\": {\"font\": {\"color\": \"#4D5663\"}}, \"xaxis\": {\"gridcolor\": \"#E1E5ED\", \"showgrid\": true, \"tickfont\": {\"color\": \"#4D5663\"}, \"title\": {\"font\": {\"color\": \"#4D5663\"}, \"text\": \"\"}, \"zerolinecolor\": \"#E1E5ED\"}, \"xaxis2\": {\"anchor\": \"y2\", \"gridcolor\": \"#E1E5ED\", \"showgrid\": true, \"showticklabels\": false, \"tickfont\": {\"color\": \"#4D5663\"}, \"title\": {\"font\": {\"color\": \"#4D5663\"}, \"text\": \"\"}, \"zerolinecolor\": \"#E1E5ED\"}, \"yaxis\": {\"domain\": [0.3, 1], \"gridcolor\": \"#E1E5ED\", \"showgrid\": true, \"tickfont\": {\"color\": \"#4D5663\"}, \"title\": {\"font\": {\"color\": \"#4D5663\"}, \"text\": \"\"}, \"zerolinecolor\": \"#E1E5ED\"}, \"yaxis2\": {\"domain\": [0, 0.25], \"gridcolor\": \"#E1E5ED\", \"showgrid\": true, \"tickfont\": {\"color\": \"#4D5663\"}, \"title\": {\"font\": {\"color\": \"#4D5663\"}, \"text\": \"Spread\"}, \"zerolinecolor\": \"#E1E5ED\"}},\n",
       "                        {\"showLink\": true, \"linkText\": \"Export to plot.ly\", \"plotlyServerURL\": \"https://plot.ly\", \"responsive\": true}\n",
       "                    ).then(function(){\n",
       "                            \n",
       "var gd = document.getElementById('571b5b01-468f-4c22-8525-bc49f70b70d1');\n",
       "var x = new MutationObserver(function (mutations, observer) {{\n",
       "        var display = window.getComputedStyle(gd).display;\n",
       "        if (!display || display === 'none') {{\n",
       "            console.log([gd, 'removed!']);\n",
       "            Plotly.purge(gd);\n",
       "            observer.disconnect();\n",
       "        }}\n",
       "}});\n",
       "\n",
       "// Listen for the removal of the full notebook cells\n",
       "var notebookContainer = gd.closest('#notebook-container');\n",
       "if (notebookContainer) {{\n",
       "    x.observe(notebookContainer, {childList: true});\n",
       "}}\n",
       "\n",
       "// Listen for the clearing of the current output cell\n",
       "var outputEl = gd.closest('.output');\n",
       "if (outputEl) {{\n",
       "    x.observe(outputEl, {childList: true});\n",
       "}}\n",
       "\n",
       "                        })\n",
       "                };\n",
       "                });\n",
       "            </script>\n",
       "        </div>"
      ]
     },
     "metadata": {},
     "output_type": "display_data"
    }
   ],
   "source": [
    "df[['A','B']].iplot(kind='spread') #stocks data for example"
   ]
  },
  {
   "cell_type": "code",
   "execution_count": null,
   "metadata": {},
   "outputs": [],
   "source": []
  },
  {
   "cell_type": "markdown",
   "metadata": {},
   "source": [
    "## histogram"
   ]
  },
  {
   "cell_type": "code",
   "execution_count": 36,
   "metadata": {},
   "outputs": [
    {
     "data": {
      "application/vnd.plotly.v1+json": {
       "config": {
        "linkText": "Export to plot.ly",
        "plotlyServerURL": "https://plot.ly",
        "showLink": true
       },
       "data": [
        {
         "histfunc": "count",
         "histnorm": "",
         "marker": {
          "color": "rgba(255, 153, 51, 1.0)",
          "line": {
           "color": "#4D5663",
           "width": 1.3
          }
         },
         "name": "A",
         "nbinsx": 25,
         "opacity": 0.8,
         "orientation": "v",
         "type": "histogram",
         "x": [
          -1.149882228543045,
          1.5362385410467798,
          0.3932379374579331,
          -2.059996463523254,
          0.09562991677781363,
          -0.1844539287632311,
          2.3418220729645576,
          -0.43975047658280936,
          0.6288630050374875,
          -0.030326212811700944,
          -1.702156021656865,
          -1.517666528581438,
          1.19528182618035,
          -0.9288515943816018,
          0.2672440911504483,
          -0.4002975415796906,
          -1.2173180116996651,
          0.9662247412467714,
          -1.9290761726699661,
          1.249919408423394,
          -0.6783813256393709,
          -0.7888541279691633,
          -2.7701270507949274,
          -0.4570081697608714,
          -1.5754577270896186,
          1.7040742114772185,
          -1.323623647403465,
          -1.0710918640009173,
          0.2187213850037935,
          -0.07078716233479242,
          -1.303646959301516,
          2.1897266317892035,
          0.13093518856030348,
          -0.9903480467852114,
          0.33671892236565953,
          -1.1556963538417262,
          -0.2773860242357469,
          1.9377494811247495,
          0.1423953006490988,
          0.6731945716487792,
          -0.46541278669836533,
          -0.714379146180877,
          1.0651922056412366,
          0.3114333896682094,
          -0.29224469547465676,
          -0.6358918139816263,
          -0.06286318467275165,
          0.07858067675403434,
          -0.02010629030746235,
          0.9735632755624417,
          0.3806941990300737,
          0.9555634570784103,
          -0.38220496895255784,
          -0.22327324528616546,
          -1.8998284305790532,
          -0.24424740920339258,
          -0.02526692348391983,
          -0.1382620224959738,
          1.395861014773399,
          -0.3604338840902675,
          0.3563945466276664,
          -0.07645210423467486,
          1.058060157864064,
          0.03543017928138459,
          0.32199934259140944,
          0.7294917431182483,
          0.16221584077406218,
          0.44579793102551135,
          -0.06772507530824512,
          0.39109205187050505,
          -0.7385195761252955,
          -1.2023650450948926,
          -1.3018179686182045,
          -0.7588769767804764,
          0.8540615931350239,
          0.7937811845169089,
          -0.11330210909059032,
          0.9786046847077196,
          0.1026403652012129,
          -0.6973082302186342,
          -0.7309060647842065,
          -0.3824059171264001,
          0.5322395624685383,
          0.5520881490592399,
          0.7893147543534774,
          0.9593248351973666,
          0.08953894702720594,
          -0.10201225506825605,
          -0.112709501292115,
          -0.6104114734459825,
          0.4274545255274656,
          0.3232725058320922,
          0.14213070118669957,
          -0.7675916048632497,
          -0.15544652729455274,
          -0.6522117023376075,
          1.7648913777096549,
          -1.0343556208880231,
          0.6291210941714808,
          -0.2714321671685072
         ]
        }
       ],
       "layout": {
        "barmode": "overlay",
        "legend": {
         "bgcolor": "#F5F6F9",
         "font": {
          "color": "#4D5663"
         }
        },
        "paper_bgcolor": "#F5F6F9",
        "plot_bgcolor": "#F5F6F9",
        "template": {
         "data": {
          "bar": [
           {
            "error_x": {
             "color": "#2a3f5f"
            },
            "error_y": {
             "color": "#2a3f5f"
            },
            "marker": {
             "line": {
              "color": "#E5ECF6",
              "width": 0.5
             }
            },
            "type": "bar"
           }
          ],
          "barpolar": [
           {
            "marker": {
             "line": {
              "color": "#E5ECF6",
              "width": 0.5
             }
            },
            "type": "barpolar"
           }
          ],
          "carpet": [
           {
            "aaxis": {
             "endlinecolor": "#2a3f5f",
             "gridcolor": "white",
             "linecolor": "white",
             "minorgridcolor": "white",
             "startlinecolor": "#2a3f5f"
            },
            "baxis": {
             "endlinecolor": "#2a3f5f",
             "gridcolor": "white",
             "linecolor": "white",
             "minorgridcolor": "white",
             "startlinecolor": "#2a3f5f"
            },
            "type": "carpet"
           }
          ],
          "choropleth": [
           {
            "colorbar": {
             "outlinewidth": 0,
             "ticks": ""
            },
            "type": "choropleth"
           }
          ],
          "contour": [
           {
            "colorbar": {
             "outlinewidth": 0,
             "ticks": ""
            },
            "colorscale": [
             [
              0,
              "#0d0887"
             ],
             [
              0.1111111111111111,
              "#46039f"
             ],
             [
              0.2222222222222222,
              "#7201a8"
             ],
             [
              0.3333333333333333,
              "#9c179e"
             ],
             [
              0.4444444444444444,
              "#bd3786"
             ],
             [
              0.5555555555555556,
              "#d8576b"
             ],
             [
              0.6666666666666666,
              "#ed7953"
             ],
             [
              0.7777777777777778,
              "#fb9f3a"
             ],
             [
              0.8888888888888888,
              "#fdca26"
             ],
             [
              1,
              "#f0f921"
             ]
            ],
            "type": "contour"
           }
          ],
          "contourcarpet": [
           {
            "colorbar": {
             "outlinewidth": 0,
             "ticks": ""
            },
            "type": "contourcarpet"
           }
          ],
          "heatmap": [
           {
            "colorbar": {
             "outlinewidth": 0,
             "ticks": ""
            },
            "colorscale": [
             [
              0,
              "#0d0887"
             ],
             [
              0.1111111111111111,
              "#46039f"
             ],
             [
              0.2222222222222222,
              "#7201a8"
             ],
             [
              0.3333333333333333,
              "#9c179e"
             ],
             [
              0.4444444444444444,
              "#bd3786"
             ],
             [
              0.5555555555555556,
              "#d8576b"
             ],
             [
              0.6666666666666666,
              "#ed7953"
             ],
             [
              0.7777777777777778,
              "#fb9f3a"
             ],
             [
              0.8888888888888888,
              "#fdca26"
             ],
             [
              1,
              "#f0f921"
             ]
            ],
            "type": "heatmap"
           }
          ],
          "heatmapgl": [
           {
            "colorbar": {
             "outlinewidth": 0,
             "ticks": ""
            },
            "colorscale": [
             [
              0,
              "#0d0887"
             ],
             [
              0.1111111111111111,
              "#46039f"
             ],
             [
              0.2222222222222222,
              "#7201a8"
             ],
             [
              0.3333333333333333,
              "#9c179e"
             ],
             [
              0.4444444444444444,
              "#bd3786"
             ],
             [
              0.5555555555555556,
              "#d8576b"
             ],
             [
              0.6666666666666666,
              "#ed7953"
             ],
             [
              0.7777777777777778,
              "#fb9f3a"
             ],
             [
              0.8888888888888888,
              "#fdca26"
             ],
             [
              1,
              "#f0f921"
             ]
            ],
            "type": "heatmapgl"
           }
          ],
          "histogram": [
           {
            "marker": {
             "colorbar": {
              "outlinewidth": 0,
              "ticks": ""
             }
            },
            "type": "histogram"
           }
          ],
          "histogram2d": [
           {
            "colorbar": {
             "outlinewidth": 0,
             "ticks": ""
            },
            "colorscale": [
             [
              0,
              "#0d0887"
             ],
             [
              0.1111111111111111,
              "#46039f"
             ],
             [
              0.2222222222222222,
              "#7201a8"
             ],
             [
              0.3333333333333333,
              "#9c179e"
             ],
             [
              0.4444444444444444,
              "#bd3786"
             ],
             [
              0.5555555555555556,
              "#d8576b"
             ],
             [
              0.6666666666666666,
              "#ed7953"
             ],
             [
              0.7777777777777778,
              "#fb9f3a"
             ],
             [
              0.8888888888888888,
              "#fdca26"
             ],
             [
              1,
              "#f0f921"
             ]
            ],
            "type": "histogram2d"
           }
          ],
          "histogram2dcontour": [
           {
            "colorbar": {
             "outlinewidth": 0,
             "ticks": ""
            },
            "colorscale": [
             [
              0,
              "#0d0887"
             ],
             [
              0.1111111111111111,
              "#46039f"
             ],
             [
              0.2222222222222222,
              "#7201a8"
             ],
             [
              0.3333333333333333,
              "#9c179e"
             ],
             [
              0.4444444444444444,
              "#bd3786"
             ],
             [
              0.5555555555555556,
              "#d8576b"
             ],
             [
              0.6666666666666666,
              "#ed7953"
             ],
             [
              0.7777777777777778,
              "#fb9f3a"
             ],
             [
              0.8888888888888888,
              "#fdca26"
             ],
             [
              1,
              "#f0f921"
             ]
            ],
            "type": "histogram2dcontour"
           }
          ],
          "mesh3d": [
           {
            "colorbar": {
             "outlinewidth": 0,
             "ticks": ""
            },
            "type": "mesh3d"
           }
          ],
          "parcoords": [
           {
            "line": {
             "colorbar": {
              "outlinewidth": 0,
              "ticks": ""
             }
            },
            "type": "parcoords"
           }
          ],
          "pie": [
           {
            "automargin": true,
            "type": "pie"
           }
          ],
          "scatter": [
           {
            "marker": {
             "colorbar": {
              "outlinewidth": 0,
              "ticks": ""
             }
            },
            "type": "scatter"
           }
          ],
          "scatter3d": [
           {
            "line": {
             "colorbar": {
              "outlinewidth": 0,
              "ticks": ""
             }
            },
            "marker": {
             "colorbar": {
              "outlinewidth": 0,
              "ticks": ""
             }
            },
            "type": "scatter3d"
           }
          ],
          "scattercarpet": [
           {
            "marker": {
             "colorbar": {
              "outlinewidth": 0,
              "ticks": ""
             }
            },
            "type": "scattercarpet"
           }
          ],
          "scattergeo": [
           {
            "marker": {
             "colorbar": {
              "outlinewidth": 0,
              "ticks": ""
             }
            },
            "type": "scattergeo"
           }
          ],
          "scattergl": [
           {
            "marker": {
             "colorbar": {
              "outlinewidth": 0,
              "ticks": ""
             }
            },
            "type": "scattergl"
           }
          ],
          "scattermapbox": [
           {
            "marker": {
             "colorbar": {
              "outlinewidth": 0,
              "ticks": ""
             }
            },
            "type": "scattermapbox"
           }
          ],
          "scatterpolar": [
           {
            "marker": {
             "colorbar": {
              "outlinewidth": 0,
              "ticks": ""
             }
            },
            "type": "scatterpolar"
           }
          ],
          "scatterpolargl": [
           {
            "marker": {
             "colorbar": {
              "outlinewidth": 0,
              "ticks": ""
             }
            },
            "type": "scatterpolargl"
           }
          ],
          "scatterternary": [
           {
            "marker": {
             "colorbar": {
              "outlinewidth": 0,
              "ticks": ""
             }
            },
            "type": "scatterternary"
           }
          ],
          "surface": [
           {
            "colorbar": {
             "outlinewidth": 0,
             "ticks": ""
            },
            "colorscale": [
             [
              0,
              "#0d0887"
             ],
             [
              0.1111111111111111,
              "#46039f"
             ],
             [
              0.2222222222222222,
              "#7201a8"
             ],
             [
              0.3333333333333333,
              "#9c179e"
             ],
             [
              0.4444444444444444,
              "#bd3786"
             ],
             [
              0.5555555555555556,
              "#d8576b"
             ],
             [
              0.6666666666666666,
              "#ed7953"
             ],
             [
              0.7777777777777778,
              "#fb9f3a"
             ],
             [
              0.8888888888888888,
              "#fdca26"
             ],
             [
              1,
              "#f0f921"
             ]
            ],
            "type": "surface"
           }
          ],
          "table": [
           {
            "cells": {
             "fill": {
              "color": "#EBF0F8"
             },
             "line": {
              "color": "white"
             }
            },
            "header": {
             "fill": {
              "color": "#C8D4E3"
             },
             "line": {
              "color": "white"
             }
            },
            "type": "table"
           }
          ]
         },
         "layout": {
          "annotationdefaults": {
           "arrowcolor": "#2a3f5f",
           "arrowhead": 0,
           "arrowwidth": 1
          },
          "coloraxis": {
           "colorbar": {
            "outlinewidth": 0,
            "ticks": ""
           }
          },
          "colorscale": {
           "diverging": [
            [
             0,
             "#8e0152"
            ],
            [
             0.1,
             "#c51b7d"
            ],
            [
             0.2,
             "#de77ae"
            ],
            [
             0.3,
             "#f1b6da"
            ],
            [
             0.4,
             "#fde0ef"
            ],
            [
             0.5,
             "#f7f7f7"
            ],
            [
             0.6,
             "#e6f5d0"
            ],
            [
             0.7,
             "#b8e186"
            ],
            [
             0.8,
             "#7fbc41"
            ],
            [
             0.9,
             "#4d9221"
            ],
            [
             1,
             "#276419"
            ]
           ],
           "sequential": [
            [
             0,
             "#0d0887"
            ],
            [
             0.1111111111111111,
             "#46039f"
            ],
            [
             0.2222222222222222,
             "#7201a8"
            ],
            [
             0.3333333333333333,
             "#9c179e"
            ],
            [
             0.4444444444444444,
             "#bd3786"
            ],
            [
             0.5555555555555556,
             "#d8576b"
            ],
            [
             0.6666666666666666,
             "#ed7953"
            ],
            [
             0.7777777777777778,
             "#fb9f3a"
            ],
            [
             0.8888888888888888,
             "#fdca26"
            ],
            [
             1,
             "#f0f921"
            ]
           ],
           "sequentialminus": [
            [
             0,
             "#0d0887"
            ],
            [
             0.1111111111111111,
             "#46039f"
            ],
            [
             0.2222222222222222,
             "#7201a8"
            ],
            [
             0.3333333333333333,
             "#9c179e"
            ],
            [
             0.4444444444444444,
             "#bd3786"
            ],
            [
             0.5555555555555556,
             "#d8576b"
            ],
            [
             0.6666666666666666,
             "#ed7953"
            ],
            [
             0.7777777777777778,
             "#fb9f3a"
            ],
            [
             0.8888888888888888,
             "#fdca26"
            ],
            [
             1,
             "#f0f921"
            ]
           ]
          },
          "colorway": [
           "#636efa",
           "#EF553B",
           "#00cc96",
           "#ab63fa",
           "#FFA15A",
           "#19d3f3",
           "#FF6692",
           "#B6E880",
           "#FF97FF",
           "#FECB52"
          ],
          "font": {
           "color": "#2a3f5f"
          },
          "geo": {
           "bgcolor": "white",
           "lakecolor": "white",
           "landcolor": "#E5ECF6",
           "showlakes": true,
           "showland": true,
           "subunitcolor": "white"
          },
          "hoverlabel": {
           "align": "left"
          },
          "hovermode": "closest",
          "mapbox": {
           "style": "light"
          },
          "paper_bgcolor": "white",
          "plot_bgcolor": "#E5ECF6",
          "polar": {
           "angularaxis": {
            "gridcolor": "white",
            "linecolor": "white",
            "ticks": ""
           },
           "bgcolor": "#E5ECF6",
           "radialaxis": {
            "gridcolor": "white",
            "linecolor": "white",
            "ticks": ""
           }
          },
          "scene": {
           "xaxis": {
            "backgroundcolor": "#E5ECF6",
            "gridcolor": "white",
            "gridwidth": 2,
            "linecolor": "white",
            "showbackground": true,
            "ticks": "",
            "zerolinecolor": "white"
           },
           "yaxis": {
            "backgroundcolor": "#E5ECF6",
            "gridcolor": "white",
            "gridwidth": 2,
            "linecolor": "white",
            "showbackground": true,
            "ticks": "",
            "zerolinecolor": "white"
           },
           "zaxis": {
            "backgroundcolor": "#E5ECF6",
            "gridcolor": "white",
            "gridwidth": 2,
            "linecolor": "white",
            "showbackground": true,
            "ticks": "",
            "zerolinecolor": "white"
           }
          },
          "shapedefaults": {
           "line": {
            "color": "#2a3f5f"
           }
          },
          "ternary": {
           "aaxis": {
            "gridcolor": "white",
            "linecolor": "white",
            "ticks": ""
           },
           "baxis": {
            "gridcolor": "white",
            "linecolor": "white",
            "ticks": ""
           },
           "bgcolor": "#E5ECF6",
           "caxis": {
            "gridcolor": "white",
            "linecolor": "white",
            "ticks": ""
           }
          },
          "title": {
           "x": 0.05
          },
          "xaxis": {
           "automargin": true,
           "gridcolor": "white",
           "linecolor": "white",
           "ticks": "",
           "title": {
            "standoff": 15
           },
           "zerolinecolor": "white",
           "zerolinewidth": 2
          },
          "yaxis": {
           "automargin": true,
           "gridcolor": "white",
           "linecolor": "white",
           "ticks": "",
           "title": {
            "standoff": 15
           },
           "zerolinecolor": "white",
           "zerolinewidth": 2
          }
         }
        },
        "title": {
         "font": {
          "color": "#4D5663"
         }
        },
        "xaxis": {
         "gridcolor": "#E1E5ED",
         "showgrid": true,
         "tickfont": {
          "color": "#4D5663"
         },
         "title": {
          "font": {
           "color": "#4D5663"
          },
          "text": ""
         },
         "zerolinecolor": "#E1E5ED"
        },
        "yaxis": {
         "gridcolor": "#E1E5ED",
         "showgrid": true,
         "tickfont": {
          "color": "#4D5663"
         },
         "title": {
          "font": {
           "color": "#4D5663"
          },
          "text": ""
         },
         "zerolinecolor": "#E1E5ED"
        }
       }
      },
      "text/html": [
       "<div>\n",
       "        \n",
       "        \n",
       "            <div id=\"24dbda56-8217-4aae-97be-f7c80935a1aa\" class=\"plotly-graph-div\" style=\"height:525px; width:100%;\"></div>\n",
       "            <script type=\"text/javascript\">\n",
       "                require([\"plotly\"], function(Plotly) {\n",
       "                    window.PLOTLYENV=window.PLOTLYENV || {};\n",
       "                    window.PLOTLYENV.BASE_URL='https://plot.ly';\n",
       "                    \n",
       "                if (document.getElementById(\"24dbda56-8217-4aae-97be-f7c80935a1aa\")) {\n",
       "                    Plotly.newPlot(\n",
       "                        '24dbda56-8217-4aae-97be-f7c80935a1aa',\n",
       "                        [{\"histfunc\": \"count\", \"histnorm\": \"\", \"marker\": {\"color\": \"rgba(255, 153, 51, 1.0)\", \"line\": {\"color\": \"#4D5663\", \"width\": 1.3}}, \"name\": \"A\", \"nbinsx\": 25, \"opacity\": 0.8, \"orientation\": \"v\", \"type\": \"histogram\", \"x\": [-1.149882228543045, 1.5362385410467798, 0.3932379374579331, -2.059996463523254, 0.09562991677781363, -0.1844539287632311, 2.3418220729645576, -0.43975047658280936, 0.6288630050374875, -0.030326212811700944, -1.702156021656865, -1.517666528581438, 1.19528182618035, -0.9288515943816018, 0.2672440911504483, -0.4002975415796906, -1.2173180116996651, 0.9662247412467714, -1.9290761726699661, 1.249919408423394, -0.6783813256393709, -0.7888541279691633, -2.7701270507949274, -0.4570081697608714, -1.5754577270896186, 1.7040742114772185, -1.323623647403465, -1.0710918640009173, 0.2187213850037935, -0.07078716233479242, -1.303646959301516, 2.1897266317892035, 0.13093518856030348, -0.9903480467852114, 0.33671892236565953, -1.1556963538417262, -0.2773860242357469, 1.9377494811247495, 0.1423953006490988, 0.6731945716487792, -0.46541278669836533, -0.714379146180877, 1.0651922056412366, 0.3114333896682094, -0.29224469547465676, -0.6358918139816263, -0.06286318467275165, 0.07858067675403434, -0.02010629030746235, 0.9735632755624417, 0.3806941990300737, 0.9555634570784103, -0.38220496895255784, -0.22327324528616546, -1.8998284305790532, -0.24424740920339258, -0.02526692348391983, -0.1382620224959738, 1.395861014773399, -0.3604338840902675, 0.3563945466276664, -0.07645210423467486, 1.058060157864064, 0.03543017928138459, 0.32199934259140944, 0.7294917431182483, 0.16221584077406218, 0.44579793102551135, -0.06772507530824512, 0.39109205187050505, -0.7385195761252955, -1.2023650450948926, -1.3018179686182045, -0.7588769767804764, 0.8540615931350239, 0.7937811845169089, -0.11330210909059032, 0.9786046847077196, 0.1026403652012129, -0.6973082302186342, -0.7309060647842065, -0.3824059171264001, 0.5322395624685383, 0.5520881490592399, 0.7893147543534774, 0.9593248351973666, 0.08953894702720594, -0.10201225506825605, -0.112709501292115, -0.6104114734459825, 0.4274545255274656, 0.3232725058320922, 0.14213070118669957, -0.7675916048632497, -0.15544652729455274, -0.6522117023376075, 1.7648913777096549, -1.0343556208880231, 0.6291210941714808, -0.2714321671685072]}],\n",
       "                        {\"barmode\": \"overlay\", \"legend\": {\"bgcolor\": \"#F5F6F9\", \"font\": {\"color\": \"#4D5663\"}}, \"paper_bgcolor\": \"#F5F6F9\", \"plot_bgcolor\": \"#F5F6F9\", \"template\": {\"data\": {\"bar\": [{\"error_x\": {\"color\": \"#2a3f5f\"}, \"error_y\": {\"color\": \"#2a3f5f\"}, \"marker\": {\"line\": {\"color\": \"#E5ECF6\", \"width\": 0.5}}, \"type\": \"bar\"}], \"barpolar\": [{\"marker\": {\"line\": {\"color\": \"#E5ECF6\", \"width\": 0.5}}, \"type\": \"barpolar\"}], \"carpet\": [{\"aaxis\": {\"endlinecolor\": \"#2a3f5f\", \"gridcolor\": \"white\", \"linecolor\": \"white\", \"minorgridcolor\": \"white\", \"startlinecolor\": \"#2a3f5f\"}, \"baxis\": {\"endlinecolor\": \"#2a3f5f\", \"gridcolor\": \"white\", \"linecolor\": \"white\", \"minorgridcolor\": \"white\", \"startlinecolor\": \"#2a3f5f\"}, \"type\": \"carpet\"}], \"choropleth\": [{\"colorbar\": {\"outlinewidth\": 0, \"ticks\": \"\"}, \"type\": \"choropleth\"}], \"contour\": [{\"colorbar\": {\"outlinewidth\": 0, \"ticks\": \"\"}, \"colorscale\": [[0.0, \"#0d0887\"], [0.1111111111111111, \"#46039f\"], [0.2222222222222222, \"#7201a8\"], [0.3333333333333333, \"#9c179e\"], [0.4444444444444444, \"#bd3786\"], [0.5555555555555556, \"#d8576b\"], [0.6666666666666666, \"#ed7953\"], [0.7777777777777778, \"#fb9f3a\"], [0.8888888888888888, \"#fdca26\"], [1.0, \"#f0f921\"]], \"type\": \"contour\"}], \"contourcarpet\": [{\"colorbar\": {\"outlinewidth\": 0, \"ticks\": \"\"}, \"type\": \"contourcarpet\"}], \"heatmap\": [{\"colorbar\": {\"outlinewidth\": 0, \"ticks\": \"\"}, \"colorscale\": [[0.0, \"#0d0887\"], [0.1111111111111111, \"#46039f\"], [0.2222222222222222, \"#7201a8\"], [0.3333333333333333, \"#9c179e\"], [0.4444444444444444, \"#bd3786\"], [0.5555555555555556, \"#d8576b\"], [0.6666666666666666, \"#ed7953\"], [0.7777777777777778, \"#fb9f3a\"], [0.8888888888888888, \"#fdca26\"], [1.0, \"#f0f921\"]], \"type\": \"heatmap\"}], \"heatmapgl\": [{\"colorbar\": {\"outlinewidth\": 0, \"ticks\": \"\"}, \"colorscale\": [[0.0, \"#0d0887\"], [0.1111111111111111, \"#46039f\"], [0.2222222222222222, \"#7201a8\"], [0.3333333333333333, \"#9c179e\"], [0.4444444444444444, \"#bd3786\"], [0.5555555555555556, \"#d8576b\"], [0.6666666666666666, \"#ed7953\"], [0.7777777777777778, \"#fb9f3a\"], [0.8888888888888888, \"#fdca26\"], [1.0, \"#f0f921\"]], \"type\": \"heatmapgl\"}], \"histogram\": [{\"marker\": {\"colorbar\": {\"outlinewidth\": 0, \"ticks\": \"\"}}, \"type\": \"histogram\"}], \"histogram2d\": [{\"colorbar\": {\"outlinewidth\": 0, \"ticks\": \"\"}, \"colorscale\": [[0.0, \"#0d0887\"], [0.1111111111111111, \"#46039f\"], [0.2222222222222222, \"#7201a8\"], [0.3333333333333333, \"#9c179e\"], [0.4444444444444444, \"#bd3786\"], [0.5555555555555556, \"#d8576b\"], [0.6666666666666666, \"#ed7953\"], [0.7777777777777778, \"#fb9f3a\"], [0.8888888888888888, \"#fdca26\"], [1.0, \"#f0f921\"]], \"type\": \"histogram2d\"}], \"histogram2dcontour\": [{\"colorbar\": {\"outlinewidth\": 0, \"ticks\": \"\"}, \"colorscale\": [[0.0, \"#0d0887\"], [0.1111111111111111, \"#46039f\"], [0.2222222222222222, \"#7201a8\"], [0.3333333333333333, \"#9c179e\"], [0.4444444444444444, \"#bd3786\"], [0.5555555555555556, \"#d8576b\"], [0.6666666666666666, \"#ed7953\"], [0.7777777777777778, \"#fb9f3a\"], [0.8888888888888888, \"#fdca26\"], [1.0, \"#f0f921\"]], \"type\": \"histogram2dcontour\"}], \"mesh3d\": [{\"colorbar\": {\"outlinewidth\": 0, \"ticks\": \"\"}, \"type\": \"mesh3d\"}], \"parcoords\": [{\"line\": {\"colorbar\": {\"outlinewidth\": 0, \"ticks\": \"\"}}, \"type\": \"parcoords\"}], \"pie\": [{\"automargin\": true, \"type\": \"pie\"}], \"scatter\": [{\"marker\": {\"colorbar\": {\"outlinewidth\": 0, \"ticks\": \"\"}}, \"type\": \"scatter\"}], \"scatter3d\": [{\"line\": {\"colorbar\": {\"outlinewidth\": 0, \"ticks\": \"\"}}, \"marker\": {\"colorbar\": {\"outlinewidth\": 0, \"ticks\": \"\"}}, \"type\": \"scatter3d\"}], \"scattercarpet\": [{\"marker\": {\"colorbar\": {\"outlinewidth\": 0, \"ticks\": \"\"}}, \"type\": \"scattercarpet\"}], \"scattergeo\": [{\"marker\": {\"colorbar\": {\"outlinewidth\": 0, \"ticks\": \"\"}}, \"type\": \"scattergeo\"}], \"scattergl\": [{\"marker\": {\"colorbar\": {\"outlinewidth\": 0, \"ticks\": \"\"}}, \"type\": \"scattergl\"}], \"scattermapbox\": [{\"marker\": {\"colorbar\": {\"outlinewidth\": 0, \"ticks\": \"\"}}, \"type\": \"scattermapbox\"}], \"scatterpolar\": [{\"marker\": {\"colorbar\": {\"outlinewidth\": 0, \"ticks\": \"\"}}, \"type\": \"scatterpolar\"}], \"scatterpolargl\": [{\"marker\": {\"colorbar\": {\"outlinewidth\": 0, \"ticks\": \"\"}}, \"type\": \"scatterpolargl\"}], \"scatterternary\": [{\"marker\": {\"colorbar\": {\"outlinewidth\": 0, \"ticks\": \"\"}}, \"type\": \"scatterternary\"}], \"surface\": [{\"colorbar\": {\"outlinewidth\": 0, \"ticks\": \"\"}, \"colorscale\": [[0.0, \"#0d0887\"], [0.1111111111111111, \"#46039f\"], [0.2222222222222222, \"#7201a8\"], [0.3333333333333333, \"#9c179e\"], [0.4444444444444444, \"#bd3786\"], [0.5555555555555556, \"#d8576b\"], [0.6666666666666666, \"#ed7953\"], [0.7777777777777778, \"#fb9f3a\"], [0.8888888888888888, \"#fdca26\"], [1.0, \"#f0f921\"]], \"type\": \"surface\"}], \"table\": [{\"cells\": {\"fill\": {\"color\": \"#EBF0F8\"}, \"line\": {\"color\": \"white\"}}, \"header\": {\"fill\": {\"color\": \"#C8D4E3\"}, \"line\": {\"color\": \"white\"}}, \"type\": \"table\"}]}, \"layout\": {\"annotationdefaults\": {\"arrowcolor\": \"#2a3f5f\", \"arrowhead\": 0, \"arrowwidth\": 1}, \"coloraxis\": {\"colorbar\": {\"outlinewidth\": 0, \"ticks\": \"\"}}, \"colorscale\": {\"diverging\": [[0, \"#8e0152\"], [0.1, \"#c51b7d\"], [0.2, \"#de77ae\"], [0.3, \"#f1b6da\"], [0.4, \"#fde0ef\"], [0.5, \"#f7f7f7\"], [0.6, \"#e6f5d0\"], [0.7, \"#b8e186\"], [0.8, \"#7fbc41\"], [0.9, \"#4d9221\"], [1, \"#276419\"]], \"sequential\": [[0.0, \"#0d0887\"], [0.1111111111111111, \"#46039f\"], [0.2222222222222222, \"#7201a8\"], [0.3333333333333333, \"#9c179e\"], [0.4444444444444444, \"#bd3786\"], [0.5555555555555556, \"#d8576b\"], [0.6666666666666666, \"#ed7953\"], [0.7777777777777778, \"#fb9f3a\"], [0.8888888888888888, \"#fdca26\"], [1.0, \"#f0f921\"]], \"sequentialminus\": [[0.0, \"#0d0887\"], [0.1111111111111111, \"#46039f\"], [0.2222222222222222, \"#7201a8\"], [0.3333333333333333, \"#9c179e\"], [0.4444444444444444, \"#bd3786\"], [0.5555555555555556, \"#d8576b\"], [0.6666666666666666, \"#ed7953\"], [0.7777777777777778, \"#fb9f3a\"], [0.8888888888888888, \"#fdca26\"], [1.0, \"#f0f921\"]]}, \"colorway\": [\"#636efa\", \"#EF553B\", \"#00cc96\", \"#ab63fa\", \"#FFA15A\", \"#19d3f3\", \"#FF6692\", \"#B6E880\", \"#FF97FF\", \"#FECB52\"], \"font\": {\"color\": \"#2a3f5f\"}, \"geo\": {\"bgcolor\": \"white\", \"lakecolor\": \"white\", \"landcolor\": \"#E5ECF6\", \"showlakes\": true, \"showland\": true, \"subunitcolor\": \"white\"}, \"hoverlabel\": {\"align\": \"left\"}, \"hovermode\": \"closest\", \"mapbox\": {\"style\": \"light\"}, \"paper_bgcolor\": \"white\", \"plot_bgcolor\": \"#E5ECF6\", \"polar\": {\"angularaxis\": {\"gridcolor\": \"white\", \"linecolor\": \"white\", \"ticks\": \"\"}, \"bgcolor\": \"#E5ECF6\", \"radialaxis\": {\"gridcolor\": \"white\", \"linecolor\": \"white\", \"ticks\": \"\"}}, \"scene\": {\"xaxis\": {\"backgroundcolor\": \"#E5ECF6\", \"gridcolor\": \"white\", \"gridwidth\": 2, \"linecolor\": \"white\", \"showbackground\": true, \"ticks\": \"\", \"zerolinecolor\": \"white\"}, \"yaxis\": {\"backgroundcolor\": \"#E5ECF6\", \"gridcolor\": \"white\", \"gridwidth\": 2, \"linecolor\": \"white\", \"showbackground\": true, \"ticks\": \"\", \"zerolinecolor\": \"white\"}, \"zaxis\": {\"backgroundcolor\": \"#E5ECF6\", \"gridcolor\": \"white\", \"gridwidth\": 2, \"linecolor\": \"white\", \"showbackground\": true, \"ticks\": \"\", \"zerolinecolor\": \"white\"}}, \"shapedefaults\": {\"line\": {\"color\": \"#2a3f5f\"}}, \"ternary\": {\"aaxis\": {\"gridcolor\": \"white\", \"linecolor\": \"white\", \"ticks\": \"\"}, \"baxis\": {\"gridcolor\": \"white\", \"linecolor\": \"white\", \"ticks\": \"\"}, \"bgcolor\": \"#E5ECF6\", \"caxis\": {\"gridcolor\": \"white\", \"linecolor\": \"white\", \"ticks\": \"\"}}, \"title\": {\"x\": 0.05}, \"xaxis\": {\"automargin\": true, \"gridcolor\": \"white\", \"linecolor\": \"white\", \"ticks\": \"\", \"title\": {\"standoff\": 15}, \"zerolinecolor\": \"white\", \"zerolinewidth\": 2}, \"yaxis\": {\"automargin\": true, \"gridcolor\": \"white\", \"linecolor\": \"white\", \"ticks\": \"\", \"title\": {\"standoff\": 15}, \"zerolinecolor\": \"white\", \"zerolinewidth\": 2}}}, \"title\": {\"font\": {\"color\": \"#4D5663\"}}, \"xaxis\": {\"gridcolor\": \"#E1E5ED\", \"showgrid\": true, \"tickfont\": {\"color\": \"#4D5663\"}, \"title\": {\"font\": {\"color\": \"#4D5663\"}, \"text\": \"\"}, \"zerolinecolor\": \"#E1E5ED\"}, \"yaxis\": {\"gridcolor\": \"#E1E5ED\", \"showgrid\": true, \"tickfont\": {\"color\": \"#4D5663\"}, \"title\": {\"font\": {\"color\": \"#4D5663\"}, \"text\": \"\"}, \"zerolinecolor\": \"#E1E5ED\"}},\n",
       "                        {\"showLink\": true, \"linkText\": \"Export to plot.ly\", \"plotlyServerURL\": \"https://plot.ly\", \"responsive\": true}\n",
       "                    ).then(function(){\n",
       "                            \n",
       "var gd = document.getElementById('24dbda56-8217-4aae-97be-f7c80935a1aa');\n",
       "var x = new MutationObserver(function (mutations, observer) {{\n",
       "        var display = window.getComputedStyle(gd).display;\n",
       "        if (!display || display === 'none') {{\n",
       "            console.log([gd, 'removed!']);\n",
       "            Plotly.purge(gd);\n",
       "            observer.disconnect();\n",
       "        }}\n",
       "}});\n",
       "\n",
       "// Listen for the removal of the full notebook cells\n",
       "var notebookContainer = gd.closest('#notebook-container');\n",
       "if (notebookContainer) {{\n",
       "    x.observe(notebookContainer, {childList: true});\n",
       "}}\n",
       "\n",
       "// Listen for the clearing of the current output cell\n",
       "var outputEl = gd.closest('.output');\n",
       "if (outputEl) {{\n",
       "    x.observe(outputEl, {childList: true});\n",
       "}}\n",
       "\n",
       "                        })\n",
       "                };\n",
       "                });\n",
       "            </script>\n",
       "        </div>"
      ]
     },
     "metadata": {},
     "output_type": "display_data"
    }
   ],
   "source": [
    "df['A'].iplot(kind='hist',bins=25)"
   ]
  },
  {
   "cell_type": "code",
   "execution_count": 37,
   "metadata": {},
   "outputs": [
    {
     "data": {
      "application/vnd.plotly.v1+json": {
       "config": {
        "linkText": "Export to plot.ly",
        "plotlyServerURL": "https://plot.ly",
        "showLink": true
       },
       "data": [
        {
         "histfunc": "count",
         "histnorm": "",
         "marker": {
          "color": "rgba(255, 153, 51, 1.0)",
          "line": {
           "color": "#4D5663",
           "width": 1.3
          }
         },
         "name": "A",
         "nbinsx": 25,
         "opacity": 0.8,
         "orientation": "v",
         "type": "histogram",
         "x": [
          -1.149882228543045,
          1.5362385410467798,
          0.3932379374579331,
          -2.059996463523254,
          0.09562991677781363,
          -0.1844539287632311,
          2.3418220729645576,
          -0.43975047658280936,
          0.6288630050374875,
          -0.030326212811700944,
          -1.702156021656865,
          -1.517666528581438,
          1.19528182618035,
          -0.9288515943816018,
          0.2672440911504483,
          -0.4002975415796906,
          -1.2173180116996651,
          0.9662247412467714,
          -1.9290761726699661,
          1.249919408423394,
          -0.6783813256393709,
          -0.7888541279691633,
          -2.7701270507949274,
          -0.4570081697608714,
          -1.5754577270896186,
          1.7040742114772185,
          -1.323623647403465,
          -1.0710918640009173,
          0.2187213850037935,
          -0.07078716233479242,
          -1.303646959301516,
          2.1897266317892035,
          0.13093518856030348,
          -0.9903480467852114,
          0.33671892236565953,
          -1.1556963538417262,
          -0.2773860242357469,
          1.9377494811247495,
          0.1423953006490988,
          0.6731945716487792,
          -0.46541278669836533,
          -0.714379146180877,
          1.0651922056412366,
          0.3114333896682094,
          -0.29224469547465676,
          -0.6358918139816263,
          -0.06286318467275165,
          0.07858067675403434,
          -0.02010629030746235,
          0.9735632755624417,
          0.3806941990300737,
          0.9555634570784103,
          -0.38220496895255784,
          -0.22327324528616546,
          -1.8998284305790532,
          -0.24424740920339258,
          -0.02526692348391983,
          -0.1382620224959738,
          1.395861014773399,
          -0.3604338840902675,
          0.3563945466276664,
          -0.07645210423467486,
          1.058060157864064,
          0.03543017928138459,
          0.32199934259140944,
          0.7294917431182483,
          0.16221584077406218,
          0.44579793102551135,
          -0.06772507530824512,
          0.39109205187050505,
          -0.7385195761252955,
          -1.2023650450948926,
          -1.3018179686182045,
          -0.7588769767804764,
          0.8540615931350239,
          0.7937811845169089,
          -0.11330210909059032,
          0.9786046847077196,
          0.1026403652012129,
          -0.6973082302186342,
          -0.7309060647842065,
          -0.3824059171264001,
          0.5322395624685383,
          0.5520881490592399,
          0.7893147543534774,
          0.9593248351973666,
          0.08953894702720594,
          -0.10201225506825605,
          -0.112709501292115,
          -0.6104114734459825,
          0.4274545255274656,
          0.3232725058320922,
          0.14213070118669957,
          -0.7675916048632497,
          -0.15544652729455274,
          -0.6522117023376075,
          1.7648913777096549,
          -1.0343556208880231,
          0.6291210941714808,
          -0.2714321671685072
         ]
        },
        {
         "histfunc": "count",
         "histnorm": "",
         "marker": {
          "color": "rgba(55, 128, 191, 1.0)",
          "line": {
           "color": "#4D5663",
           "width": 1.3
          }
         },
         "name": "B",
         "nbinsx": 25,
         "opacity": 0.8,
         "orientation": "v",
         "type": "histogram",
         "x": [
          -0.821596800402655,
          0.5664394505597601,
          0.5089641346070292,
          -0.2592635248813433,
          1.1425648848092516,
          0.1303293725182424,
          -0.7452599453081017,
          0.6807839819422564,
          -0.03025028909446263,
          -0.7216948550717397,
          0.012099971974348565,
          -1.9328018674909626,
          0.2940669437690773,
          -0.6425845565868856,
          -1.274457701503331,
          -0.31820163749691893,
          -0.9201990535926323,
          -1.3082244088756303,
          0.9672470890932595,
          0.5604202824371384,
          -0.7169037558756315,
          0.5214208294070508,
          0.005276194451701883,
          1.34131395639202,
          0.862730069774194,
          0.444210324881266,
          0.7166122997543846,
          0.5905621985926649,
          -0.6123356568653066,
          -0.526925454627251,
          0.3566581207234709,
          -0.7958593703435825,
          0.4820928557493119,
          2.082313812263963,
          1.2477493754732194,
          0.4347371625321479,
          -0.5524659931146368,
          -0.8005632090645551,
          -0.49586200765958227,
          0.7363425104966456,
          -0.5004712861884172,
          1.0482761927570294,
          -0.6137346570027824,
          -0.03968309123000246,
          -0.3226370483232409,
          -0.9003242820526284,
          -0.4726691235269847,
          1.468411024145207,
          -0.45566617797248504,
          0.07953301178126826,
          0.5357369360643719,
          -0.08765107497054818,
          -1.426308343534027,
          0.819068484709911,
          1.8086881553071021,
          0.40025853155354885,
          -0.8893840863646113,
          0.9387138657020594,
          0.6986426191038498,
          0.43740462673617786,
          0.6644892611484586,
          0.0311752431301281,
          -0.8240084892443692,
          1.5178420616192276,
          0.014463322301807217,
          -0.07506796365150185,
          0.25267110665442416,
          0.9536021445007004,
          -0.021310183431371237,
          -1.3114035432534275,
          0.8592510660239445,
          -1.2507752033737798,
          1.4246620884121426,
          1.1027173115312447,
          0.6118120227281758,
          -0.7975020166108695,
          -1.462540048851282,
          0.6827294493991927,
          0.5334301271174584,
          0.7294526884023559,
          -0.04388537975766861,
          -0.789556783280647,
          0.3392864194491249,
          0.790166279806434,
          1.0259494794903965,
          0.27094021554193,
          1.4829223336581099,
          -0.23293511983863718,
          0.6859245229420942,
          0.5874723324937035,
          0.48557210628845787,
          -0.12662879963201118,
          0.9212668798284969,
          -1.2223765090701693,
          -0.029869681236115303,
          -1.8045036109927406,
          -1.9155662026040001,
          -0.536847880512402,
          0.34557732447025485,
          -0.3892917688322118
         ]
        },
        {
         "histfunc": "count",
         "histnorm": "",
         "marker": {
          "color": "rgba(50, 171, 96, 1.0)",
          "line": {
           "color": "#4D5663",
           "width": 1.3
          }
         },
         "name": "C",
         "nbinsx": 25,
         "opacity": 0.8,
         "orientation": "v",
         "type": "histogram",
         "x": [
          -0.05043432899368031,
          0.6383985377849963,
          -0.5552104688070715,
          0.8733894761659502,
          -0.27973637356455144,
          0.3099198456823666,
          -0.88279025720947,
          1.5867347920708614,
          -1.1682939504435819,
          -0.5398035790255533,
          2.6047288884328945,
          -0.28450355075339073,
          -0.18411605199644634,
          -0.7087374298548398,
          1.6390687626183504,
          -0.5433847348255266,
          -0.29102616128048525,
          0.3867966969243918,
          -0.5738198681006161,
          -0.8467916453984707,
          0.5297032633356104,
          0.34987822330080387,
          0.6945634517303589,
          0.7468221924352632,
          1.900151098890552,
          -0.621938312162858,
          -0.16362440785066615,
          0.3584161327870031,
          0.6084762558026675,
          -0.9318463866260959,
          -1.7149056880168532,
          -0.10128499226000447,
          0.19637626627572874,
          0.2969997402467644,
          -0.5831229998849408,
          -0.6053470808434863,
          -0.519200620192376,
          1.132014562741578,
          2.14583857085064,
          1.1082670904027203,
          0.9915436083465138,
          0.35064782627575036,
          -0.8718624044359158,
          -0.7711209904670029,
          1.8434894167073075,
          -0.881682946775223,
          2.2198785443767775,
          -0.9020703454223811,
          -2.0310072709609477,
          0.0859417760441214,
          -0.5497913464560333,
          -0.8896792267662379,
          0.0501728664565584,
          -1.4144078755079297,
          -1.2547969891058721,
          0.4244866684966232,
          0.5746324117859202,
          0.23125449383760513,
          0.6734505472376046,
          0.9481492334735947,
          -0.15602051696246882,
          -0.27681846353088535,
          0.6879641900610127,
          -0.5650179988527602,
          -0.6727447321566563,
          0.8055284608391798,
          -0.07814871647186178,
          0.5983513117146525,
          0.39409971719175724,
          0.2652492847240678,
          -1.1594253536181287,
          1.5322943352645402,
          0.29524129053229714,
          -0.21092943984307086,
          0.7241385453207122,
          -0.5075445506409986,
          -1.0399223896721543,
          -2.6981299945993604,
          0.444443913026689,
          -0.2080299799409404,
          -0.48655055177461065,
          -0.24397033164856838,
          -0.1394653239772895,
          0.8566379732556342,
          -0.40928402997218166,
          -0.8146622155618218,
          -0.12037812400398963,
          -0.0004340621273201351,
          2.4020992968620263,
          0.8084817681546183,
          0.3342529934430462,
          0.21356656246612182,
          -0.7660769594747029,
          -0.1688787331661423,
          -0.8175685865248625,
          1.1337186472505991,
          -0.8818864274262241,
          -0.6262697386361157,
          -1.587580606392134,
          1.3878120685001782
         ]
        },
        {
         "histfunc": "count",
         "histnorm": "",
         "marker": {
          "color": "rgba(128, 0, 128, 1.0)",
          "line": {
           "color": "#4D5663",
           "width": 1.3
          }
         },
         "name": "D",
         "nbinsx": 25,
         "opacity": 0.8,
         "orientation": "v",
         "type": "histogram",
         "x": [
          0.5453066085348863,
          0.6297272301796784,
          -0.9401461784548403,
          -0.9847733132602441,
          1.509088854044453,
          -1.7000718360475824,
          -1.2225246766948081,
          1.3568654711368602,
          0.22949621448467727,
          2.1801712492246623,
          0.5837170028026545,
          0.24891769712044948,
          0.10317662432857874,
          -1.4088141062786053,
          3.114453696537187,
          0.5834183604615801,
          -0.5741527118434024,
          -1.1152938765819431,
          -0.32064879042738254,
          -0.0028248826754078134,
          -1.0740947558270184,
          -1.145910377161432,
          -1.622254906735283,
          0.0849850233504138,
          0.48170159146795744,
          0.1577755528307472,
          -0.504127259110801,
          -0.42063541220074924,
          0.7892685553129059,
          0.5268042161431765,
          1.2662485409933102,
          1.2956511293072994,
          -1.9576037803587114,
          0.5811261923984811,
          1.8785462043575325,
          -0.08774836819701964,
          0.9936591690188294,
          0.20979789911097893,
          0.9783870564757947,
          -0.4828364341183934,
          0.7638656251918456,
          -0.10031401419564683,
          0.6256444425530976,
          1.474091024374885,
          -1.8210439918869357,
          -0.6306310693510034,
          -1.249298484344971,
          -1.999155382645612,
          0.46224949849096975,
          -0.34470294101095705,
          1.038300340305395,
          -0.884885731263254,
          -0.6201625925282921,
          0.5184519198587142,
          0.43543105924330205,
          -0.7227359721398886,
          -0.7755191591579904,
          -1.0755675808765595,
          0.8544324240378218,
          2.076530741297135,
          0.43393973919277723,
          -0.4690057057030747,
          1.6062580004266929,
          1.3388694692214416,
          0.3555205791346771,
          0.13372868023617268,
          -1.274558124113613,
          0.007648624125840822,
          -1.1725752578112267,
          -0.4476181800792881,
          1.025402172731115,
          -0.9778778830870949,
          -1.9127435863256657,
          0.7662278656128317,
          1.7013257856725703,
          1.227232519758253,
          -0.07606912837548144,
          0.5952707419086611,
          0.18385146042710004,
          -0.6123272648027931,
          -0.3200931051252156,
          0.6388727081193947,
          0.5438565635317469,
          0.4985924271650018,
          1.582456123753077,
          0.00900868556309942,
          -0.3661353184511324,
          -0.5282883669256038,
          0.1620926442176821,
          1.5666749409075835,
          0.3472465771172096,
          0.2287517566522857,
          0.8253230381114772,
          -1.3204961957638008,
          1.2104316254647076,
          -0.8837493643965285,
          1.5207769567087257,
          -1.8632609220655565,
          0.3257742103009992,
          0.6961644380276888
         ]
        }
       ],
       "layout": {
        "barmode": "overlay",
        "legend": {
         "bgcolor": "#F5F6F9",
         "font": {
          "color": "#4D5663"
         }
        },
        "paper_bgcolor": "#F5F6F9",
        "plot_bgcolor": "#F5F6F9",
        "template": {
         "data": {
          "bar": [
           {
            "error_x": {
             "color": "#2a3f5f"
            },
            "error_y": {
             "color": "#2a3f5f"
            },
            "marker": {
             "line": {
              "color": "#E5ECF6",
              "width": 0.5
             }
            },
            "type": "bar"
           }
          ],
          "barpolar": [
           {
            "marker": {
             "line": {
              "color": "#E5ECF6",
              "width": 0.5
             }
            },
            "type": "barpolar"
           }
          ],
          "carpet": [
           {
            "aaxis": {
             "endlinecolor": "#2a3f5f",
             "gridcolor": "white",
             "linecolor": "white",
             "minorgridcolor": "white",
             "startlinecolor": "#2a3f5f"
            },
            "baxis": {
             "endlinecolor": "#2a3f5f",
             "gridcolor": "white",
             "linecolor": "white",
             "minorgridcolor": "white",
             "startlinecolor": "#2a3f5f"
            },
            "type": "carpet"
           }
          ],
          "choropleth": [
           {
            "colorbar": {
             "outlinewidth": 0,
             "ticks": ""
            },
            "type": "choropleth"
           }
          ],
          "contour": [
           {
            "colorbar": {
             "outlinewidth": 0,
             "ticks": ""
            },
            "colorscale": [
             [
              0,
              "#0d0887"
             ],
             [
              0.1111111111111111,
              "#46039f"
             ],
             [
              0.2222222222222222,
              "#7201a8"
             ],
             [
              0.3333333333333333,
              "#9c179e"
             ],
             [
              0.4444444444444444,
              "#bd3786"
             ],
             [
              0.5555555555555556,
              "#d8576b"
             ],
             [
              0.6666666666666666,
              "#ed7953"
             ],
             [
              0.7777777777777778,
              "#fb9f3a"
             ],
             [
              0.8888888888888888,
              "#fdca26"
             ],
             [
              1,
              "#f0f921"
             ]
            ],
            "type": "contour"
           }
          ],
          "contourcarpet": [
           {
            "colorbar": {
             "outlinewidth": 0,
             "ticks": ""
            },
            "type": "contourcarpet"
           }
          ],
          "heatmap": [
           {
            "colorbar": {
             "outlinewidth": 0,
             "ticks": ""
            },
            "colorscale": [
             [
              0,
              "#0d0887"
             ],
             [
              0.1111111111111111,
              "#46039f"
             ],
             [
              0.2222222222222222,
              "#7201a8"
             ],
             [
              0.3333333333333333,
              "#9c179e"
             ],
             [
              0.4444444444444444,
              "#bd3786"
             ],
             [
              0.5555555555555556,
              "#d8576b"
             ],
             [
              0.6666666666666666,
              "#ed7953"
             ],
             [
              0.7777777777777778,
              "#fb9f3a"
             ],
             [
              0.8888888888888888,
              "#fdca26"
             ],
             [
              1,
              "#f0f921"
             ]
            ],
            "type": "heatmap"
           }
          ],
          "heatmapgl": [
           {
            "colorbar": {
             "outlinewidth": 0,
             "ticks": ""
            },
            "colorscale": [
             [
              0,
              "#0d0887"
             ],
             [
              0.1111111111111111,
              "#46039f"
             ],
             [
              0.2222222222222222,
              "#7201a8"
             ],
             [
              0.3333333333333333,
              "#9c179e"
             ],
             [
              0.4444444444444444,
              "#bd3786"
             ],
             [
              0.5555555555555556,
              "#d8576b"
             ],
             [
              0.6666666666666666,
              "#ed7953"
             ],
             [
              0.7777777777777778,
              "#fb9f3a"
             ],
             [
              0.8888888888888888,
              "#fdca26"
             ],
             [
              1,
              "#f0f921"
             ]
            ],
            "type": "heatmapgl"
           }
          ],
          "histogram": [
           {
            "marker": {
             "colorbar": {
              "outlinewidth": 0,
              "ticks": ""
             }
            },
            "type": "histogram"
           }
          ],
          "histogram2d": [
           {
            "colorbar": {
             "outlinewidth": 0,
             "ticks": ""
            },
            "colorscale": [
             [
              0,
              "#0d0887"
             ],
             [
              0.1111111111111111,
              "#46039f"
             ],
             [
              0.2222222222222222,
              "#7201a8"
             ],
             [
              0.3333333333333333,
              "#9c179e"
             ],
             [
              0.4444444444444444,
              "#bd3786"
             ],
             [
              0.5555555555555556,
              "#d8576b"
             ],
             [
              0.6666666666666666,
              "#ed7953"
             ],
             [
              0.7777777777777778,
              "#fb9f3a"
             ],
             [
              0.8888888888888888,
              "#fdca26"
             ],
             [
              1,
              "#f0f921"
             ]
            ],
            "type": "histogram2d"
           }
          ],
          "histogram2dcontour": [
           {
            "colorbar": {
             "outlinewidth": 0,
             "ticks": ""
            },
            "colorscale": [
             [
              0,
              "#0d0887"
             ],
             [
              0.1111111111111111,
              "#46039f"
             ],
             [
              0.2222222222222222,
              "#7201a8"
             ],
             [
              0.3333333333333333,
              "#9c179e"
             ],
             [
              0.4444444444444444,
              "#bd3786"
             ],
             [
              0.5555555555555556,
              "#d8576b"
             ],
             [
              0.6666666666666666,
              "#ed7953"
             ],
             [
              0.7777777777777778,
              "#fb9f3a"
             ],
             [
              0.8888888888888888,
              "#fdca26"
             ],
             [
              1,
              "#f0f921"
             ]
            ],
            "type": "histogram2dcontour"
           }
          ],
          "mesh3d": [
           {
            "colorbar": {
             "outlinewidth": 0,
             "ticks": ""
            },
            "type": "mesh3d"
           }
          ],
          "parcoords": [
           {
            "line": {
             "colorbar": {
              "outlinewidth": 0,
              "ticks": ""
             }
            },
            "type": "parcoords"
           }
          ],
          "pie": [
           {
            "automargin": true,
            "type": "pie"
           }
          ],
          "scatter": [
           {
            "marker": {
             "colorbar": {
              "outlinewidth": 0,
              "ticks": ""
             }
            },
            "type": "scatter"
           }
          ],
          "scatter3d": [
           {
            "line": {
             "colorbar": {
              "outlinewidth": 0,
              "ticks": ""
             }
            },
            "marker": {
             "colorbar": {
              "outlinewidth": 0,
              "ticks": ""
             }
            },
            "type": "scatter3d"
           }
          ],
          "scattercarpet": [
           {
            "marker": {
             "colorbar": {
              "outlinewidth": 0,
              "ticks": ""
             }
            },
            "type": "scattercarpet"
           }
          ],
          "scattergeo": [
           {
            "marker": {
             "colorbar": {
              "outlinewidth": 0,
              "ticks": ""
             }
            },
            "type": "scattergeo"
           }
          ],
          "scattergl": [
           {
            "marker": {
             "colorbar": {
              "outlinewidth": 0,
              "ticks": ""
             }
            },
            "type": "scattergl"
           }
          ],
          "scattermapbox": [
           {
            "marker": {
             "colorbar": {
              "outlinewidth": 0,
              "ticks": ""
             }
            },
            "type": "scattermapbox"
           }
          ],
          "scatterpolar": [
           {
            "marker": {
             "colorbar": {
              "outlinewidth": 0,
              "ticks": ""
             }
            },
            "type": "scatterpolar"
           }
          ],
          "scatterpolargl": [
           {
            "marker": {
             "colorbar": {
              "outlinewidth": 0,
              "ticks": ""
             }
            },
            "type": "scatterpolargl"
           }
          ],
          "scatterternary": [
           {
            "marker": {
             "colorbar": {
              "outlinewidth": 0,
              "ticks": ""
             }
            },
            "type": "scatterternary"
           }
          ],
          "surface": [
           {
            "colorbar": {
             "outlinewidth": 0,
             "ticks": ""
            },
            "colorscale": [
             [
              0,
              "#0d0887"
             ],
             [
              0.1111111111111111,
              "#46039f"
             ],
             [
              0.2222222222222222,
              "#7201a8"
             ],
             [
              0.3333333333333333,
              "#9c179e"
             ],
             [
              0.4444444444444444,
              "#bd3786"
             ],
             [
              0.5555555555555556,
              "#d8576b"
             ],
             [
              0.6666666666666666,
              "#ed7953"
             ],
             [
              0.7777777777777778,
              "#fb9f3a"
             ],
             [
              0.8888888888888888,
              "#fdca26"
             ],
             [
              1,
              "#f0f921"
             ]
            ],
            "type": "surface"
           }
          ],
          "table": [
           {
            "cells": {
             "fill": {
              "color": "#EBF0F8"
             },
             "line": {
              "color": "white"
             }
            },
            "header": {
             "fill": {
              "color": "#C8D4E3"
             },
             "line": {
              "color": "white"
             }
            },
            "type": "table"
           }
          ]
         },
         "layout": {
          "annotationdefaults": {
           "arrowcolor": "#2a3f5f",
           "arrowhead": 0,
           "arrowwidth": 1
          },
          "coloraxis": {
           "colorbar": {
            "outlinewidth": 0,
            "ticks": ""
           }
          },
          "colorscale": {
           "diverging": [
            [
             0,
             "#8e0152"
            ],
            [
             0.1,
             "#c51b7d"
            ],
            [
             0.2,
             "#de77ae"
            ],
            [
             0.3,
             "#f1b6da"
            ],
            [
             0.4,
             "#fde0ef"
            ],
            [
             0.5,
             "#f7f7f7"
            ],
            [
             0.6,
             "#e6f5d0"
            ],
            [
             0.7,
             "#b8e186"
            ],
            [
             0.8,
             "#7fbc41"
            ],
            [
             0.9,
             "#4d9221"
            ],
            [
             1,
             "#276419"
            ]
           ],
           "sequential": [
            [
             0,
             "#0d0887"
            ],
            [
             0.1111111111111111,
             "#46039f"
            ],
            [
             0.2222222222222222,
             "#7201a8"
            ],
            [
             0.3333333333333333,
             "#9c179e"
            ],
            [
             0.4444444444444444,
             "#bd3786"
            ],
            [
             0.5555555555555556,
             "#d8576b"
            ],
            [
             0.6666666666666666,
             "#ed7953"
            ],
            [
             0.7777777777777778,
             "#fb9f3a"
            ],
            [
             0.8888888888888888,
             "#fdca26"
            ],
            [
             1,
             "#f0f921"
            ]
           ],
           "sequentialminus": [
            [
             0,
             "#0d0887"
            ],
            [
             0.1111111111111111,
             "#46039f"
            ],
            [
             0.2222222222222222,
             "#7201a8"
            ],
            [
             0.3333333333333333,
             "#9c179e"
            ],
            [
             0.4444444444444444,
             "#bd3786"
            ],
            [
             0.5555555555555556,
             "#d8576b"
            ],
            [
             0.6666666666666666,
             "#ed7953"
            ],
            [
             0.7777777777777778,
             "#fb9f3a"
            ],
            [
             0.8888888888888888,
             "#fdca26"
            ],
            [
             1,
             "#f0f921"
            ]
           ]
          },
          "colorway": [
           "#636efa",
           "#EF553B",
           "#00cc96",
           "#ab63fa",
           "#FFA15A",
           "#19d3f3",
           "#FF6692",
           "#B6E880",
           "#FF97FF",
           "#FECB52"
          ],
          "font": {
           "color": "#2a3f5f"
          },
          "geo": {
           "bgcolor": "white",
           "lakecolor": "white",
           "landcolor": "#E5ECF6",
           "showlakes": true,
           "showland": true,
           "subunitcolor": "white"
          },
          "hoverlabel": {
           "align": "left"
          },
          "hovermode": "closest",
          "mapbox": {
           "style": "light"
          },
          "paper_bgcolor": "white",
          "plot_bgcolor": "#E5ECF6",
          "polar": {
           "angularaxis": {
            "gridcolor": "white",
            "linecolor": "white",
            "ticks": ""
           },
           "bgcolor": "#E5ECF6",
           "radialaxis": {
            "gridcolor": "white",
            "linecolor": "white",
            "ticks": ""
           }
          },
          "scene": {
           "xaxis": {
            "backgroundcolor": "#E5ECF6",
            "gridcolor": "white",
            "gridwidth": 2,
            "linecolor": "white",
            "showbackground": true,
            "ticks": "",
            "zerolinecolor": "white"
           },
           "yaxis": {
            "backgroundcolor": "#E5ECF6",
            "gridcolor": "white",
            "gridwidth": 2,
            "linecolor": "white",
            "showbackground": true,
            "ticks": "",
            "zerolinecolor": "white"
           },
           "zaxis": {
            "backgroundcolor": "#E5ECF6",
            "gridcolor": "white",
            "gridwidth": 2,
            "linecolor": "white",
            "showbackground": true,
            "ticks": "",
            "zerolinecolor": "white"
           }
          },
          "shapedefaults": {
           "line": {
            "color": "#2a3f5f"
           }
          },
          "ternary": {
           "aaxis": {
            "gridcolor": "white",
            "linecolor": "white",
            "ticks": ""
           },
           "baxis": {
            "gridcolor": "white",
            "linecolor": "white",
            "ticks": ""
           },
           "bgcolor": "#E5ECF6",
           "caxis": {
            "gridcolor": "white",
            "linecolor": "white",
            "ticks": ""
           }
          },
          "title": {
           "x": 0.05
          },
          "xaxis": {
           "automargin": true,
           "gridcolor": "white",
           "linecolor": "white",
           "ticks": "",
           "title": {
            "standoff": 15
           },
           "zerolinecolor": "white",
           "zerolinewidth": 2
          },
          "yaxis": {
           "automargin": true,
           "gridcolor": "white",
           "linecolor": "white",
           "ticks": "",
           "title": {
            "standoff": 15
           },
           "zerolinecolor": "white",
           "zerolinewidth": 2
          }
         }
        },
        "title": {
         "font": {
          "color": "#4D5663"
         }
        },
        "xaxis": {
         "gridcolor": "#E1E5ED",
         "showgrid": true,
         "tickfont": {
          "color": "#4D5663"
         },
         "title": {
          "font": {
           "color": "#4D5663"
          },
          "text": ""
         },
         "zerolinecolor": "#E1E5ED"
        },
        "yaxis": {
         "gridcolor": "#E1E5ED",
         "showgrid": true,
         "tickfont": {
          "color": "#4D5663"
         },
         "title": {
          "font": {
           "color": "#4D5663"
          },
          "text": ""
         },
         "zerolinecolor": "#E1E5ED"
        }
       }
      },
      "text/html": [
       "<div>\n",
       "        \n",
       "        \n",
       "            <div id=\"a941bb62-c698-4092-b2ac-3382108ea10e\" class=\"plotly-graph-div\" style=\"height:525px; width:100%;\"></div>\n",
       "            <script type=\"text/javascript\">\n",
       "                require([\"plotly\"], function(Plotly) {\n",
       "                    window.PLOTLYENV=window.PLOTLYENV || {};\n",
       "                    window.PLOTLYENV.BASE_URL='https://plot.ly';\n",
       "                    \n",
       "                if (document.getElementById(\"a941bb62-c698-4092-b2ac-3382108ea10e\")) {\n",
       "                    Plotly.newPlot(\n",
       "                        'a941bb62-c698-4092-b2ac-3382108ea10e',\n",
       "                        [{\"histfunc\": \"count\", \"histnorm\": \"\", \"marker\": {\"color\": \"rgba(255, 153, 51, 1.0)\", \"line\": {\"color\": \"#4D5663\", \"width\": 1.3}}, \"name\": \"A\", \"nbinsx\": 25, \"opacity\": 0.8, \"orientation\": \"v\", \"type\": \"histogram\", \"x\": [-1.149882228543045, 1.5362385410467798, 0.3932379374579331, -2.059996463523254, 0.09562991677781363, -0.1844539287632311, 2.3418220729645576, -0.43975047658280936, 0.6288630050374875, -0.030326212811700944, -1.702156021656865, -1.517666528581438, 1.19528182618035, -0.9288515943816018, 0.2672440911504483, -0.4002975415796906, -1.2173180116996651, 0.9662247412467714, -1.9290761726699661, 1.249919408423394, -0.6783813256393709, -0.7888541279691633, -2.7701270507949274, -0.4570081697608714, -1.5754577270896186, 1.7040742114772185, -1.323623647403465, -1.0710918640009173, 0.2187213850037935, -0.07078716233479242, -1.303646959301516, 2.1897266317892035, 0.13093518856030348, -0.9903480467852114, 0.33671892236565953, -1.1556963538417262, -0.2773860242357469, 1.9377494811247495, 0.1423953006490988, 0.6731945716487792, -0.46541278669836533, -0.714379146180877, 1.0651922056412366, 0.3114333896682094, -0.29224469547465676, -0.6358918139816263, -0.06286318467275165, 0.07858067675403434, -0.02010629030746235, 0.9735632755624417, 0.3806941990300737, 0.9555634570784103, -0.38220496895255784, -0.22327324528616546, -1.8998284305790532, -0.24424740920339258, -0.02526692348391983, -0.1382620224959738, 1.395861014773399, -0.3604338840902675, 0.3563945466276664, -0.07645210423467486, 1.058060157864064, 0.03543017928138459, 0.32199934259140944, 0.7294917431182483, 0.16221584077406218, 0.44579793102551135, -0.06772507530824512, 0.39109205187050505, -0.7385195761252955, -1.2023650450948926, -1.3018179686182045, -0.7588769767804764, 0.8540615931350239, 0.7937811845169089, -0.11330210909059032, 0.9786046847077196, 0.1026403652012129, -0.6973082302186342, -0.7309060647842065, -0.3824059171264001, 0.5322395624685383, 0.5520881490592399, 0.7893147543534774, 0.9593248351973666, 0.08953894702720594, -0.10201225506825605, -0.112709501292115, -0.6104114734459825, 0.4274545255274656, 0.3232725058320922, 0.14213070118669957, -0.7675916048632497, -0.15544652729455274, -0.6522117023376075, 1.7648913777096549, -1.0343556208880231, 0.6291210941714808, -0.2714321671685072]}, {\"histfunc\": \"count\", \"histnorm\": \"\", \"marker\": {\"color\": \"rgba(55, 128, 191, 1.0)\", \"line\": {\"color\": \"#4D5663\", \"width\": 1.3}}, \"name\": \"B\", \"nbinsx\": 25, \"opacity\": 0.8, \"orientation\": \"v\", \"type\": \"histogram\", \"x\": [-0.821596800402655, 0.5664394505597601, 0.5089641346070292, -0.2592635248813433, 1.1425648848092516, 0.1303293725182424, -0.7452599453081017, 0.6807839819422564, -0.03025028909446263, -0.7216948550717397, 0.012099971974348565, -1.9328018674909626, 0.2940669437690773, -0.6425845565868856, -1.274457701503331, -0.31820163749691893, -0.9201990535926323, -1.3082244088756303, 0.9672470890932595, 0.5604202824371384, -0.7169037558756315, 0.5214208294070508, 0.005276194451701883, 1.34131395639202, 0.862730069774194, 0.444210324881266, 0.7166122997543846, 0.5905621985926649, -0.6123356568653066, -0.526925454627251, 0.3566581207234709, -0.7958593703435825, 0.4820928557493119, 2.082313812263963, 1.2477493754732194, 0.4347371625321479, -0.5524659931146368, -0.8005632090645551, -0.49586200765958227, 0.7363425104966456, -0.5004712861884172, 1.0482761927570294, -0.6137346570027824, -0.03968309123000246, -0.3226370483232409, -0.9003242820526284, -0.4726691235269847, 1.468411024145207, -0.45566617797248504, 0.07953301178126826, 0.5357369360643719, -0.08765107497054818, -1.426308343534027, 0.819068484709911, 1.8086881553071021, 0.40025853155354885, -0.8893840863646113, 0.9387138657020594, 0.6986426191038498, 0.43740462673617786, 0.6644892611484586, 0.0311752431301281, -0.8240084892443692, 1.5178420616192276, 0.014463322301807217, -0.07506796365150185, 0.25267110665442416, 0.9536021445007004, -0.021310183431371237, -1.3114035432534275, 0.8592510660239445, -1.2507752033737798, 1.4246620884121426, 1.1027173115312447, 0.6118120227281758, -0.7975020166108695, -1.462540048851282, 0.6827294493991927, 0.5334301271174584, 0.7294526884023559, -0.04388537975766861, -0.789556783280647, 0.3392864194491249, 0.790166279806434, 1.0259494794903965, 0.27094021554193, 1.4829223336581099, -0.23293511983863718, 0.6859245229420942, 0.5874723324937035, 0.48557210628845787, -0.12662879963201118, 0.9212668798284969, -1.2223765090701693, -0.029869681236115303, -1.8045036109927406, -1.9155662026040001, -0.536847880512402, 0.34557732447025485, -0.3892917688322118]}, {\"histfunc\": \"count\", \"histnorm\": \"\", \"marker\": {\"color\": \"rgba(50, 171, 96, 1.0)\", \"line\": {\"color\": \"#4D5663\", \"width\": 1.3}}, \"name\": \"C\", \"nbinsx\": 25, \"opacity\": 0.8, \"orientation\": \"v\", \"type\": \"histogram\", \"x\": [-0.05043432899368031, 0.6383985377849963, -0.5552104688070715, 0.8733894761659502, -0.27973637356455144, 0.3099198456823666, -0.88279025720947, 1.5867347920708614, -1.1682939504435819, -0.5398035790255533, 2.6047288884328945, -0.28450355075339073, -0.18411605199644634, -0.7087374298548398, 1.6390687626183504, -0.5433847348255266, -0.29102616128048525, 0.3867966969243918, -0.5738198681006161, -0.8467916453984707, 0.5297032633356104, 0.34987822330080387, 0.6945634517303589, 0.7468221924352632, 1.900151098890552, -0.621938312162858, -0.16362440785066615, 0.3584161327870031, 0.6084762558026675, -0.9318463866260959, -1.7149056880168532, -0.10128499226000447, 0.19637626627572874, 0.2969997402467644, -0.5831229998849408, -0.6053470808434863, -0.519200620192376, 1.132014562741578, 2.14583857085064, 1.1082670904027203, 0.9915436083465138, 0.35064782627575036, -0.8718624044359158, -0.7711209904670029, 1.8434894167073075, -0.881682946775223, 2.2198785443767775, -0.9020703454223811, -2.0310072709609477, 0.0859417760441214, -0.5497913464560333, -0.8896792267662379, 0.0501728664565584, -1.4144078755079297, -1.2547969891058721, 0.4244866684966232, 0.5746324117859202, 0.23125449383760513, 0.6734505472376046, 0.9481492334735947, -0.15602051696246882, -0.27681846353088535, 0.6879641900610127, -0.5650179988527602, -0.6727447321566563, 0.8055284608391798, -0.07814871647186178, 0.5983513117146525, 0.39409971719175724, 0.2652492847240678, -1.1594253536181287, 1.5322943352645402, 0.29524129053229714, -0.21092943984307086, 0.7241385453207122, -0.5075445506409986, -1.0399223896721543, -2.6981299945993604, 0.444443913026689, -0.2080299799409404, -0.48655055177461065, -0.24397033164856838, -0.1394653239772895, 0.8566379732556342, -0.40928402997218166, -0.8146622155618218, -0.12037812400398963, -0.0004340621273201351, 2.4020992968620263, 0.8084817681546183, 0.3342529934430462, 0.21356656246612182, -0.7660769594747029, -0.1688787331661423, -0.8175685865248625, 1.1337186472505991, -0.8818864274262241, -0.6262697386361157, -1.587580606392134, 1.3878120685001782]}, {\"histfunc\": \"count\", \"histnorm\": \"\", \"marker\": {\"color\": \"rgba(128, 0, 128, 1.0)\", \"line\": {\"color\": \"#4D5663\", \"width\": 1.3}}, \"name\": \"D\", \"nbinsx\": 25, \"opacity\": 0.8, \"orientation\": \"v\", \"type\": \"histogram\", \"x\": [0.5453066085348863, 0.6297272301796784, -0.9401461784548403, -0.9847733132602441, 1.509088854044453, -1.7000718360475824, -1.2225246766948081, 1.3568654711368602, 0.22949621448467727, 2.1801712492246623, 0.5837170028026545, 0.24891769712044948, 0.10317662432857874, -1.4088141062786053, 3.114453696537187, 0.5834183604615801, -0.5741527118434024, -1.1152938765819431, -0.32064879042738254, -0.0028248826754078134, -1.0740947558270184, -1.145910377161432, -1.622254906735283, 0.0849850233504138, 0.48170159146795744, 0.1577755528307472, -0.504127259110801, -0.42063541220074924, 0.7892685553129059, 0.5268042161431765, 1.2662485409933102, 1.2956511293072994, -1.9576037803587114, 0.5811261923984811, 1.8785462043575325, -0.08774836819701964, 0.9936591690188294, 0.20979789911097893, 0.9783870564757947, -0.4828364341183934, 0.7638656251918456, -0.10031401419564683, 0.6256444425530976, 1.474091024374885, -1.8210439918869357, -0.6306310693510034, -1.249298484344971, -1.999155382645612, 0.46224949849096975, -0.34470294101095705, 1.038300340305395, -0.884885731263254, -0.6201625925282921, 0.5184519198587142, 0.43543105924330205, -0.7227359721398886, -0.7755191591579904, -1.0755675808765595, 0.8544324240378218, 2.076530741297135, 0.43393973919277723, -0.4690057057030747, 1.6062580004266929, 1.3388694692214416, 0.3555205791346771, 0.13372868023617268, -1.274558124113613, 0.007648624125840822, -1.1725752578112267, -0.4476181800792881, 1.025402172731115, -0.9778778830870949, -1.9127435863256657, 0.7662278656128317, 1.7013257856725703, 1.227232519758253, -0.07606912837548144, 0.5952707419086611, 0.18385146042710004, -0.6123272648027931, -0.3200931051252156, 0.6388727081193947, 0.5438565635317469, 0.4985924271650018, 1.582456123753077, 0.00900868556309942, -0.3661353184511324, -0.5282883669256038, 0.1620926442176821, 1.5666749409075835, 0.3472465771172096, 0.2287517566522857, 0.8253230381114772, -1.3204961957638008, 1.2104316254647076, -0.8837493643965285, 1.5207769567087257, -1.8632609220655565, 0.3257742103009992, 0.6961644380276888]}],\n",
       "                        {\"barmode\": \"overlay\", \"legend\": {\"bgcolor\": \"#F5F6F9\", \"font\": {\"color\": \"#4D5663\"}}, \"paper_bgcolor\": \"#F5F6F9\", \"plot_bgcolor\": \"#F5F6F9\", \"template\": {\"data\": {\"bar\": [{\"error_x\": {\"color\": \"#2a3f5f\"}, \"error_y\": {\"color\": \"#2a3f5f\"}, \"marker\": {\"line\": {\"color\": \"#E5ECF6\", \"width\": 0.5}}, \"type\": \"bar\"}], \"barpolar\": [{\"marker\": {\"line\": {\"color\": \"#E5ECF6\", \"width\": 0.5}}, \"type\": \"barpolar\"}], \"carpet\": [{\"aaxis\": {\"endlinecolor\": \"#2a3f5f\", \"gridcolor\": \"white\", \"linecolor\": \"white\", \"minorgridcolor\": \"white\", \"startlinecolor\": \"#2a3f5f\"}, \"baxis\": {\"endlinecolor\": \"#2a3f5f\", \"gridcolor\": \"white\", \"linecolor\": \"white\", \"minorgridcolor\": \"white\", \"startlinecolor\": \"#2a3f5f\"}, \"type\": \"carpet\"}], \"choropleth\": [{\"colorbar\": {\"outlinewidth\": 0, \"ticks\": \"\"}, \"type\": \"choropleth\"}], \"contour\": [{\"colorbar\": {\"outlinewidth\": 0, \"ticks\": \"\"}, \"colorscale\": [[0.0, \"#0d0887\"], [0.1111111111111111, \"#46039f\"], [0.2222222222222222, \"#7201a8\"], [0.3333333333333333, \"#9c179e\"], [0.4444444444444444, \"#bd3786\"], [0.5555555555555556, \"#d8576b\"], [0.6666666666666666, \"#ed7953\"], [0.7777777777777778, \"#fb9f3a\"], [0.8888888888888888, \"#fdca26\"], [1.0, \"#f0f921\"]], \"type\": \"contour\"}], \"contourcarpet\": [{\"colorbar\": {\"outlinewidth\": 0, \"ticks\": \"\"}, \"type\": \"contourcarpet\"}], \"heatmap\": [{\"colorbar\": {\"outlinewidth\": 0, \"ticks\": \"\"}, \"colorscale\": [[0.0, \"#0d0887\"], [0.1111111111111111, \"#46039f\"], [0.2222222222222222, \"#7201a8\"], [0.3333333333333333, \"#9c179e\"], [0.4444444444444444, \"#bd3786\"], [0.5555555555555556, \"#d8576b\"], [0.6666666666666666, \"#ed7953\"], [0.7777777777777778, \"#fb9f3a\"], [0.8888888888888888, \"#fdca26\"], [1.0, \"#f0f921\"]], \"type\": \"heatmap\"}], \"heatmapgl\": [{\"colorbar\": {\"outlinewidth\": 0, \"ticks\": \"\"}, \"colorscale\": [[0.0, \"#0d0887\"], [0.1111111111111111, \"#46039f\"], [0.2222222222222222, \"#7201a8\"], [0.3333333333333333, \"#9c179e\"], [0.4444444444444444, \"#bd3786\"], [0.5555555555555556, \"#d8576b\"], [0.6666666666666666, \"#ed7953\"], [0.7777777777777778, \"#fb9f3a\"], [0.8888888888888888, \"#fdca26\"], [1.0, \"#f0f921\"]], \"type\": \"heatmapgl\"}], \"histogram\": [{\"marker\": {\"colorbar\": {\"outlinewidth\": 0, \"ticks\": \"\"}}, \"type\": \"histogram\"}], \"histogram2d\": [{\"colorbar\": {\"outlinewidth\": 0, \"ticks\": \"\"}, \"colorscale\": [[0.0, \"#0d0887\"], [0.1111111111111111, \"#46039f\"], [0.2222222222222222, \"#7201a8\"], [0.3333333333333333, \"#9c179e\"], [0.4444444444444444, \"#bd3786\"], [0.5555555555555556, \"#d8576b\"], [0.6666666666666666, \"#ed7953\"], [0.7777777777777778, \"#fb9f3a\"], [0.8888888888888888, \"#fdca26\"], [1.0, \"#f0f921\"]], \"type\": \"histogram2d\"}], \"histogram2dcontour\": [{\"colorbar\": {\"outlinewidth\": 0, \"ticks\": \"\"}, \"colorscale\": [[0.0, \"#0d0887\"], [0.1111111111111111, \"#46039f\"], [0.2222222222222222, \"#7201a8\"], [0.3333333333333333, \"#9c179e\"], [0.4444444444444444, \"#bd3786\"], [0.5555555555555556, \"#d8576b\"], [0.6666666666666666, \"#ed7953\"], [0.7777777777777778, \"#fb9f3a\"], [0.8888888888888888, \"#fdca26\"], [1.0, \"#f0f921\"]], \"type\": \"histogram2dcontour\"}], \"mesh3d\": [{\"colorbar\": {\"outlinewidth\": 0, \"ticks\": \"\"}, \"type\": \"mesh3d\"}], \"parcoords\": [{\"line\": {\"colorbar\": {\"outlinewidth\": 0, \"ticks\": \"\"}}, \"type\": \"parcoords\"}], \"pie\": [{\"automargin\": true, \"type\": \"pie\"}], \"scatter\": [{\"marker\": {\"colorbar\": {\"outlinewidth\": 0, \"ticks\": \"\"}}, \"type\": \"scatter\"}], \"scatter3d\": [{\"line\": {\"colorbar\": {\"outlinewidth\": 0, \"ticks\": \"\"}}, \"marker\": {\"colorbar\": {\"outlinewidth\": 0, \"ticks\": \"\"}}, \"type\": \"scatter3d\"}], \"scattercarpet\": [{\"marker\": {\"colorbar\": {\"outlinewidth\": 0, \"ticks\": \"\"}}, \"type\": \"scattercarpet\"}], \"scattergeo\": [{\"marker\": {\"colorbar\": {\"outlinewidth\": 0, \"ticks\": \"\"}}, \"type\": \"scattergeo\"}], \"scattergl\": [{\"marker\": {\"colorbar\": {\"outlinewidth\": 0, \"ticks\": \"\"}}, \"type\": \"scattergl\"}], \"scattermapbox\": [{\"marker\": {\"colorbar\": {\"outlinewidth\": 0, \"ticks\": \"\"}}, \"type\": \"scattermapbox\"}], \"scatterpolar\": [{\"marker\": {\"colorbar\": {\"outlinewidth\": 0, \"ticks\": \"\"}}, \"type\": \"scatterpolar\"}], \"scatterpolargl\": [{\"marker\": {\"colorbar\": {\"outlinewidth\": 0, \"ticks\": \"\"}}, \"type\": \"scatterpolargl\"}], \"scatterternary\": [{\"marker\": {\"colorbar\": {\"outlinewidth\": 0, \"ticks\": \"\"}}, \"type\": \"scatterternary\"}], \"surface\": [{\"colorbar\": {\"outlinewidth\": 0, \"ticks\": \"\"}, \"colorscale\": [[0.0, \"#0d0887\"], [0.1111111111111111, \"#46039f\"], [0.2222222222222222, \"#7201a8\"], [0.3333333333333333, \"#9c179e\"], [0.4444444444444444, \"#bd3786\"], [0.5555555555555556, \"#d8576b\"], [0.6666666666666666, \"#ed7953\"], [0.7777777777777778, \"#fb9f3a\"], [0.8888888888888888, \"#fdca26\"], [1.0, \"#f0f921\"]], \"type\": \"surface\"}], \"table\": [{\"cells\": {\"fill\": {\"color\": \"#EBF0F8\"}, \"line\": {\"color\": \"white\"}}, \"header\": {\"fill\": {\"color\": \"#C8D4E3\"}, \"line\": {\"color\": \"white\"}}, \"type\": \"table\"}]}, \"layout\": {\"annotationdefaults\": {\"arrowcolor\": \"#2a3f5f\", \"arrowhead\": 0, \"arrowwidth\": 1}, \"coloraxis\": {\"colorbar\": {\"outlinewidth\": 0, \"ticks\": \"\"}}, \"colorscale\": {\"diverging\": [[0, \"#8e0152\"], [0.1, \"#c51b7d\"], [0.2, \"#de77ae\"], [0.3, \"#f1b6da\"], [0.4, \"#fde0ef\"], [0.5, \"#f7f7f7\"], [0.6, \"#e6f5d0\"], [0.7, \"#b8e186\"], [0.8, \"#7fbc41\"], [0.9, \"#4d9221\"], [1, \"#276419\"]], \"sequential\": [[0.0, \"#0d0887\"], [0.1111111111111111, \"#46039f\"], [0.2222222222222222, \"#7201a8\"], [0.3333333333333333, \"#9c179e\"], [0.4444444444444444, \"#bd3786\"], [0.5555555555555556, \"#d8576b\"], [0.6666666666666666, \"#ed7953\"], [0.7777777777777778, \"#fb9f3a\"], [0.8888888888888888, \"#fdca26\"], [1.0, \"#f0f921\"]], \"sequentialminus\": [[0.0, \"#0d0887\"], [0.1111111111111111, \"#46039f\"], [0.2222222222222222, \"#7201a8\"], [0.3333333333333333, \"#9c179e\"], [0.4444444444444444, \"#bd3786\"], [0.5555555555555556, \"#d8576b\"], [0.6666666666666666, \"#ed7953\"], [0.7777777777777778, \"#fb9f3a\"], [0.8888888888888888, \"#fdca26\"], [1.0, \"#f0f921\"]]}, \"colorway\": [\"#636efa\", \"#EF553B\", \"#00cc96\", \"#ab63fa\", \"#FFA15A\", \"#19d3f3\", \"#FF6692\", \"#B6E880\", \"#FF97FF\", \"#FECB52\"], \"font\": {\"color\": \"#2a3f5f\"}, \"geo\": {\"bgcolor\": \"white\", \"lakecolor\": \"white\", \"landcolor\": \"#E5ECF6\", \"showlakes\": true, \"showland\": true, \"subunitcolor\": \"white\"}, \"hoverlabel\": {\"align\": \"left\"}, \"hovermode\": \"closest\", \"mapbox\": {\"style\": \"light\"}, \"paper_bgcolor\": \"white\", \"plot_bgcolor\": \"#E5ECF6\", \"polar\": {\"angularaxis\": {\"gridcolor\": \"white\", \"linecolor\": \"white\", \"ticks\": \"\"}, \"bgcolor\": \"#E5ECF6\", \"radialaxis\": {\"gridcolor\": \"white\", \"linecolor\": \"white\", \"ticks\": \"\"}}, \"scene\": {\"xaxis\": {\"backgroundcolor\": \"#E5ECF6\", \"gridcolor\": \"white\", \"gridwidth\": 2, \"linecolor\": \"white\", \"showbackground\": true, \"ticks\": \"\", \"zerolinecolor\": \"white\"}, \"yaxis\": {\"backgroundcolor\": \"#E5ECF6\", \"gridcolor\": \"white\", \"gridwidth\": 2, \"linecolor\": \"white\", \"showbackground\": true, \"ticks\": \"\", \"zerolinecolor\": \"white\"}, \"zaxis\": {\"backgroundcolor\": \"#E5ECF6\", \"gridcolor\": \"white\", \"gridwidth\": 2, \"linecolor\": \"white\", \"showbackground\": true, \"ticks\": \"\", \"zerolinecolor\": \"white\"}}, \"shapedefaults\": {\"line\": {\"color\": \"#2a3f5f\"}}, \"ternary\": {\"aaxis\": {\"gridcolor\": \"white\", \"linecolor\": \"white\", \"ticks\": \"\"}, \"baxis\": {\"gridcolor\": \"white\", \"linecolor\": \"white\", \"ticks\": \"\"}, \"bgcolor\": \"#E5ECF6\", \"caxis\": {\"gridcolor\": \"white\", \"linecolor\": \"white\", \"ticks\": \"\"}}, \"title\": {\"x\": 0.05}, \"xaxis\": {\"automargin\": true, \"gridcolor\": \"white\", \"linecolor\": \"white\", \"ticks\": \"\", \"title\": {\"standoff\": 15}, \"zerolinecolor\": \"white\", \"zerolinewidth\": 2}, \"yaxis\": {\"automargin\": true, \"gridcolor\": \"white\", \"linecolor\": \"white\", \"ticks\": \"\", \"title\": {\"standoff\": 15}, \"zerolinecolor\": \"white\", \"zerolinewidth\": 2}}}, \"title\": {\"font\": {\"color\": \"#4D5663\"}}, \"xaxis\": {\"gridcolor\": \"#E1E5ED\", \"showgrid\": true, \"tickfont\": {\"color\": \"#4D5663\"}, \"title\": {\"font\": {\"color\": \"#4D5663\"}, \"text\": \"\"}, \"zerolinecolor\": \"#E1E5ED\"}, \"yaxis\": {\"gridcolor\": \"#E1E5ED\", \"showgrid\": true, \"tickfont\": {\"color\": \"#4D5663\"}, \"title\": {\"font\": {\"color\": \"#4D5663\"}, \"text\": \"\"}, \"zerolinecolor\": \"#E1E5ED\"}},\n",
       "                        {\"showLink\": true, \"linkText\": \"Export to plot.ly\", \"plotlyServerURL\": \"https://plot.ly\", \"responsive\": true}\n",
       "                    ).then(function(){\n",
       "                            \n",
       "var gd = document.getElementById('a941bb62-c698-4092-b2ac-3382108ea10e');\n",
       "var x = new MutationObserver(function (mutations, observer) {{\n",
       "        var display = window.getComputedStyle(gd).display;\n",
       "        if (!display || display === 'none') {{\n",
       "            console.log([gd, 'removed!']);\n",
       "            Plotly.purge(gd);\n",
       "            observer.disconnect();\n",
       "        }}\n",
       "}});\n",
       "\n",
       "// Listen for the removal of the full notebook cells\n",
       "var notebookContainer = gd.closest('#notebook-container');\n",
       "if (notebookContainer) {{\n",
       "    x.observe(notebookContainer, {childList: true});\n",
       "}}\n",
       "\n",
       "// Listen for the clearing of the current output cell\n",
       "var outputEl = gd.closest('.output');\n",
       "if (outputEl) {{\n",
       "    x.observe(outputEl, {childList: true});\n",
       "}}\n",
       "\n",
       "                        })\n",
       "                };\n",
       "                });\n",
       "            </script>\n",
       "        </div>"
      ]
     },
     "metadata": {},
     "output_type": "display_data"
    }
   ],
   "source": [
    "df.iplot(kind='hist',bins=25) #all columns"
   ]
  },
  {
   "cell_type": "code",
   "execution_count": null,
   "metadata": {},
   "outputs": [],
   "source": []
  },
  {
   "cell_type": "code",
   "execution_count": 39,
   "metadata": {},
   "outputs": [
    {
     "data": {
      "application/vnd.plotly.v1+json": {
       "config": {
        "linkText": "Export to plot.ly",
        "plotlyServerURL": "https://plot.ly",
        "showLink": true
       },
       "data": [
        {
         "marker": {
          "color": [
           "rgb(255, 153, 51)",
           "rgb(55, 128, 191)",
           "rgb(50, 171, 96)",
           "rgb(128, 0, 128)",
           "rgb(219, 64, 82)",
           "rgb(0, 128, 128)",
           "rgb(255, 255, 51)",
           "rgb(128, 128, 0)",
           "rgb(251, 128, 114)",
           "rgb(128, 177, 211)"
          ],
          "line": {
           "width": 1.3
          },
          "size": [
           61,
           74,
           52,
           79,
           57,
           68,
           46,
           92,
           40,
           52,
           112,
           57,
           59,
           49,
           93,
           52,
           57,
           70,
           52,
           46,
           72,
           69,
           75,
           76,
           98,
           51,
           59,
           69,
           74,
           45,
           30,
           60,
           66,
           68,
           51,
           51,
           53,
           84,
           103,
           83,
           81,
           69,
           46,
           48,
           97,
           46,
           104,
           45,
           24,
           64,
           52,
           46,
           63,
           36,
           39,
           70,
           73,
           67,
           75,
           80,
           59,
           57,
           75,
           52,
           50,
           78,
           61,
           74,
           70,
           67,
           41,
           91,
           68,
           58,
           76,
           53,
           43,
           12,
           71,
           58,
           53,
           58,
           60,
           79,
           55,
           47,
           60,
           62,
           108,
           78,
           69,
           66,
           48,
           59,
           47,
           84,
           46,
           51,
           32,
           89
          ],
          "symbol": "circle"
         },
         "mode": "markers",
         "text": "",
         "type": "scatter",
         "x": [
          -1.149882228543045,
          1.5362385410467798,
          0.3932379374579331,
          -2.059996463523254,
          0.09562991677781363,
          -0.1844539287632311,
          2.3418220729645576,
          -0.43975047658280936,
          0.6288630050374875,
          -0.030326212811700944,
          -1.702156021656865,
          -1.517666528581438,
          1.19528182618035,
          -0.9288515943816018,
          0.2672440911504483,
          -0.4002975415796906,
          -1.2173180116996651,
          0.9662247412467714,
          -1.9290761726699661,
          1.249919408423394,
          -0.6783813256393709,
          -0.7888541279691633,
          -2.7701270507949274,
          -0.4570081697608714,
          -1.5754577270896186,
          1.7040742114772185,
          -1.323623647403465,
          -1.0710918640009173,
          0.2187213850037935,
          -0.07078716233479242,
          -1.303646959301516,
          2.1897266317892035,
          0.13093518856030348,
          -0.9903480467852114,
          0.33671892236565953,
          -1.1556963538417262,
          -0.2773860242357469,
          1.9377494811247495,
          0.1423953006490988,
          0.6731945716487792,
          -0.46541278669836533,
          -0.714379146180877,
          1.0651922056412366,
          0.3114333896682094,
          -0.29224469547465676,
          -0.6358918139816263,
          -0.06286318467275165,
          0.07858067675403434,
          -0.02010629030746235,
          0.9735632755624417,
          0.3806941990300737,
          0.9555634570784103,
          -0.38220496895255784,
          -0.22327324528616546,
          -1.8998284305790532,
          -0.24424740920339258,
          -0.02526692348391983,
          -0.1382620224959738,
          1.395861014773399,
          -0.3604338840902675,
          0.3563945466276664,
          -0.07645210423467486,
          1.058060157864064,
          0.03543017928138459,
          0.32199934259140944,
          0.7294917431182483,
          0.16221584077406218,
          0.44579793102551135,
          -0.06772507530824512,
          0.39109205187050505,
          -0.7385195761252955,
          -1.2023650450948926,
          -1.3018179686182045,
          -0.7588769767804764,
          0.8540615931350239,
          0.7937811845169089,
          -0.11330210909059032,
          0.9786046847077196,
          0.1026403652012129,
          -0.6973082302186342,
          -0.7309060647842065,
          -0.3824059171264001,
          0.5322395624685383,
          0.5520881490592399,
          0.7893147543534774,
          0.9593248351973666,
          0.08953894702720594,
          -0.10201225506825605,
          -0.112709501292115,
          -0.6104114734459825,
          0.4274545255274656,
          0.3232725058320922,
          0.14213070118669957,
          -0.7675916048632497,
          -0.15544652729455274,
          -0.6522117023376075,
          1.7648913777096549,
          -1.0343556208880231,
          0.6291210941714808,
          -0.2714321671685072
         ],
         "y": [
          -0.821596800402655,
          0.5664394505597601,
          0.5089641346070292,
          -0.2592635248813433,
          1.1425648848092516,
          0.1303293725182424,
          -0.7452599453081017,
          0.6807839819422564,
          -0.03025028909446263,
          -0.7216948550717397,
          0.012099971974348565,
          -1.9328018674909626,
          0.2940669437690773,
          -0.6425845565868856,
          -1.274457701503331,
          -0.31820163749691893,
          -0.9201990535926323,
          -1.3082244088756303,
          0.9672470890932595,
          0.5604202824371384,
          -0.7169037558756315,
          0.5214208294070508,
          0.005276194451701883,
          1.34131395639202,
          0.862730069774194,
          0.444210324881266,
          0.7166122997543846,
          0.5905621985926649,
          -0.6123356568653066,
          -0.526925454627251,
          0.3566581207234709,
          -0.7958593703435825,
          0.4820928557493119,
          2.082313812263963,
          1.2477493754732194,
          0.4347371625321479,
          -0.5524659931146368,
          -0.8005632090645551,
          -0.49586200765958227,
          0.7363425104966456,
          -0.5004712861884172,
          1.0482761927570294,
          -0.6137346570027824,
          -0.03968309123000246,
          -0.3226370483232409,
          -0.9003242820526284,
          -0.4726691235269847,
          1.468411024145207,
          -0.45566617797248504,
          0.07953301178126826,
          0.5357369360643719,
          -0.08765107497054818,
          -1.426308343534027,
          0.819068484709911,
          1.8086881553071021,
          0.40025853155354885,
          -0.8893840863646113,
          0.9387138657020594,
          0.6986426191038498,
          0.43740462673617786,
          0.6644892611484586,
          0.0311752431301281,
          -0.8240084892443692,
          1.5178420616192276,
          0.014463322301807217,
          -0.07506796365150185,
          0.25267110665442416,
          0.9536021445007004,
          -0.021310183431371237,
          -1.3114035432534275,
          0.8592510660239445,
          -1.2507752033737798,
          1.4246620884121426,
          1.1027173115312447,
          0.6118120227281758,
          -0.7975020166108695,
          -1.462540048851282,
          0.6827294493991927,
          0.5334301271174584,
          0.7294526884023559,
          -0.04388537975766861,
          -0.789556783280647,
          0.3392864194491249,
          0.790166279806434,
          1.0259494794903965,
          0.27094021554193,
          1.4829223336581099,
          -0.23293511983863718,
          0.6859245229420942,
          0.5874723324937035,
          0.48557210628845787,
          -0.12662879963201118,
          0.9212668798284969,
          -1.2223765090701693,
          -0.029869681236115303,
          -1.8045036109927406,
          -1.9155662026040001,
          -0.536847880512402,
          0.34557732447025485,
          -0.3892917688322118
         ]
        }
       ],
       "layout": {
        "legend": {
         "bgcolor": "#F5F6F9",
         "font": {
          "color": "#4D5663"
         }
        },
        "paper_bgcolor": "#F5F6F9",
        "plot_bgcolor": "#F5F6F9",
        "template": {
         "data": {
          "bar": [
           {
            "error_x": {
             "color": "#2a3f5f"
            },
            "error_y": {
             "color": "#2a3f5f"
            },
            "marker": {
             "line": {
              "color": "#E5ECF6",
              "width": 0.5
             }
            },
            "type": "bar"
           }
          ],
          "barpolar": [
           {
            "marker": {
             "line": {
              "color": "#E5ECF6",
              "width": 0.5
             }
            },
            "type": "barpolar"
           }
          ],
          "carpet": [
           {
            "aaxis": {
             "endlinecolor": "#2a3f5f",
             "gridcolor": "white",
             "linecolor": "white",
             "minorgridcolor": "white",
             "startlinecolor": "#2a3f5f"
            },
            "baxis": {
             "endlinecolor": "#2a3f5f",
             "gridcolor": "white",
             "linecolor": "white",
             "minorgridcolor": "white",
             "startlinecolor": "#2a3f5f"
            },
            "type": "carpet"
           }
          ],
          "choropleth": [
           {
            "colorbar": {
             "outlinewidth": 0,
             "ticks": ""
            },
            "type": "choropleth"
           }
          ],
          "contour": [
           {
            "colorbar": {
             "outlinewidth": 0,
             "ticks": ""
            },
            "colorscale": [
             [
              0,
              "#0d0887"
             ],
             [
              0.1111111111111111,
              "#46039f"
             ],
             [
              0.2222222222222222,
              "#7201a8"
             ],
             [
              0.3333333333333333,
              "#9c179e"
             ],
             [
              0.4444444444444444,
              "#bd3786"
             ],
             [
              0.5555555555555556,
              "#d8576b"
             ],
             [
              0.6666666666666666,
              "#ed7953"
             ],
             [
              0.7777777777777778,
              "#fb9f3a"
             ],
             [
              0.8888888888888888,
              "#fdca26"
             ],
             [
              1,
              "#f0f921"
             ]
            ],
            "type": "contour"
           }
          ],
          "contourcarpet": [
           {
            "colorbar": {
             "outlinewidth": 0,
             "ticks": ""
            },
            "type": "contourcarpet"
           }
          ],
          "heatmap": [
           {
            "colorbar": {
             "outlinewidth": 0,
             "ticks": ""
            },
            "colorscale": [
             [
              0,
              "#0d0887"
             ],
             [
              0.1111111111111111,
              "#46039f"
             ],
             [
              0.2222222222222222,
              "#7201a8"
             ],
             [
              0.3333333333333333,
              "#9c179e"
             ],
             [
              0.4444444444444444,
              "#bd3786"
             ],
             [
              0.5555555555555556,
              "#d8576b"
             ],
             [
              0.6666666666666666,
              "#ed7953"
             ],
             [
              0.7777777777777778,
              "#fb9f3a"
             ],
             [
              0.8888888888888888,
              "#fdca26"
             ],
             [
              1,
              "#f0f921"
             ]
            ],
            "type": "heatmap"
           }
          ],
          "heatmapgl": [
           {
            "colorbar": {
             "outlinewidth": 0,
             "ticks": ""
            },
            "colorscale": [
             [
              0,
              "#0d0887"
             ],
             [
              0.1111111111111111,
              "#46039f"
             ],
             [
              0.2222222222222222,
              "#7201a8"
             ],
             [
              0.3333333333333333,
              "#9c179e"
             ],
             [
              0.4444444444444444,
              "#bd3786"
             ],
             [
              0.5555555555555556,
              "#d8576b"
             ],
             [
              0.6666666666666666,
              "#ed7953"
             ],
             [
              0.7777777777777778,
              "#fb9f3a"
             ],
             [
              0.8888888888888888,
              "#fdca26"
             ],
             [
              1,
              "#f0f921"
             ]
            ],
            "type": "heatmapgl"
           }
          ],
          "histogram": [
           {
            "marker": {
             "colorbar": {
              "outlinewidth": 0,
              "ticks": ""
             }
            },
            "type": "histogram"
           }
          ],
          "histogram2d": [
           {
            "colorbar": {
             "outlinewidth": 0,
             "ticks": ""
            },
            "colorscale": [
             [
              0,
              "#0d0887"
             ],
             [
              0.1111111111111111,
              "#46039f"
             ],
             [
              0.2222222222222222,
              "#7201a8"
             ],
             [
              0.3333333333333333,
              "#9c179e"
             ],
             [
              0.4444444444444444,
              "#bd3786"
             ],
             [
              0.5555555555555556,
              "#d8576b"
             ],
             [
              0.6666666666666666,
              "#ed7953"
             ],
             [
              0.7777777777777778,
              "#fb9f3a"
             ],
             [
              0.8888888888888888,
              "#fdca26"
             ],
             [
              1,
              "#f0f921"
             ]
            ],
            "type": "histogram2d"
           }
          ],
          "histogram2dcontour": [
           {
            "colorbar": {
             "outlinewidth": 0,
             "ticks": ""
            },
            "colorscale": [
             [
              0,
              "#0d0887"
             ],
             [
              0.1111111111111111,
              "#46039f"
             ],
             [
              0.2222222222222222,
              "#7201a8"
             ],
             [
              0.3333333333333333,
              "#9c179e"
             ],
             [
              0.4444444444444444,
              "#bd3786"
             ],
             [
              0.5555555555555556,
              "#d8576b"
             ],
             [
              0.6666666666666666,
              "#ed7953"
             ],
             [
              0.7777777777777778,
              "#fb9f3a"
             ],
             [
              0.8888888888888888,
              "#fdca26"
             ],
             [
              1,
              "#f0f921"
             ]
            ],
            "type": "histogram2dcontour"
           }
          ],
          "mesh3d": [
           {
            "colorbar": {
             "outlinewidth": 0,
             "ticks": ""
            },
            "type": "mesh3d"
           }
          ],
          "parcoords": [
           {
            "line": {
             "colorbar": {
              "outlinewidth": 0,
              "ticks": ""
             }
            },
            "type": "parcoords"
           }
          ],
          "pie": [
           {
            "automargin": true,
            "type": "pie"
           }
          ],
          "scatter": [
           {
            "marker": {
             "colorbar": {
              "outlinewidth": 0,
              "ticks": ""
             }
            },
            "type": "scatter"
           }
          ],
          "scatter3d": [
           {
            "line": {
             "colorbar": {
              "outlinewidth": 0,
              "ticks": ""
             }
            },
            "marker": {
             "colorbar": {
              "outlinewidth": 0,
              "ticks": ""
             }
            },
            "type": "scatter3d"
           }
          ],
          "scattercarpet": [
           {
            "marker": {
             "colorbar": {
              "outlinewidth": 0,
              "ticks": ""
             }
            },
            "type": "scattercarpet"
           }
          ],
          "scattergeo": [
           {
            "marker": {
             "colorbar": {
              "outlinewidth": 0,
              "ticks": ""
             }
            },
            "type": "scattergeo"
           }
          ],
          "scattergl": [
           {
            "marker": {
             "colorbar": {
              "outlinewidth": 0,
              "ticks": ""
             }
            },
            "type": "scattergl"
           }
          ],
          "scattermapbox": [
           {
            "marker": {
             "colorbar": {
              "outlinewidth": 0,
              "ticks": ""
             }
            },
            "type": "scattermapbox"
           }
          ],
          "scatterpolar": [
           {
            "marker": {
             "colorbar": {
              "outlinewidth": 0,
              "ticks": ""
             }
            },
            "type": "scatterpolar"
           }
          ],
          "scatterpolargl": [
           {
            "marker": {
             "colorbar": {
              "outlinewidth": 0,
              "ticks": ""
             }
            },
            "type": "scatterpolargl"
           }
          ],
          "scatterternary": [
           {
            "marker": {
             "colorbar": {
              "outlinewidth": 0,
              "ticks": ""
             }
            },
            "type": "scatterternary"
           }
          ],
          "surface": [
           {
            "colorbar": {
             "outlinewidth": 0,
             "ticks": ""
            },
            "colorscale": [
             [
              0,
              "#0d0887"
             ],
             [
              0.1111111111111111,
              "#46039f"
             ],
             [
              0.2222222222222222,
              "#7201a8"
             ],
             [
              0.3333333333333333,
              "#9c179e"
             ],
             [
              0.4444444444444444,
              "#bd3786"
             ],
             [
              0.5555555555555556,
              "#d8576b"
             ],
             [
              0.6666666666666666,
              "#ed7953"
             ],
             [
              0.7777777777777778,
              "#fb9f3a"
             ],
             [
              0.8888888888888888,
              "#fdca26"
             ],
             [
              1,
              "#f0f921"
             ]
            ],
            "type": "surface"
           }
          ],
          "table": [
           {
            "cells": {
             "fill": {
              "color": "#EBF0F8"
             },
             "line": {
              "color": "white"
             }
            },
            "header": {
             "fill": {
              "color": "#C8D4E3"
             },
             "line": {
              "color": "white"
             }
            },
            "type": "table"
           }
          ]
         },
         "layout": {
          "annotationdefaults": {
           "arrowcolor": "#2a3f5f",
           "arrowhead": 0,
           "arrowwidth": 1
          },
          "coloraxis": {
           "colorbar": {
            "outlinewidth": 0,
            "ticks": ""
           }
          },
          "colorscale": {
           "diverging": [
            [
             0,
             "#8e0152"
            ],
            [
             0.1,
             "#c51b7d"
            ],
            [
             0.2,
             "#de77ae"
            ],
            [
             0.3,
             "#f1b6da"
            ],
            [
             0.4,
             "#fde0ef"
            ],
            [
             0.5,
             "#f7f7f7"
            ],
            [
             0.6,
             "#e6f5d0"
            ],
            [
             0.7,
             "#b8e186"
            ],
            [
             0.8,
             "#7fbc41"
            ],
            [
             0.9,
             "#4d9221"
            ],
            [
             1,
             "#276419"
            ]
           ],
           "sequential": [
            [
             0,
             "#0d0887"
            ],
            [
             0.1111111111111111,
             "#46039f"
            ],
            [
             0.2222222222222222,
             "#7201a8"
            ],
            [
             0.3333333333333333,
             "#9c179e"
            ],
            [
             0.4444444444444444,
             "#bd3786"
            ],
            [
             0.5555555555555556,
             "#d8576b"
            ],
            [
             0.6666666666666666,
             "#ed7953"
            ],
            [
             0.7777777777777778,
             "#fb9f3a"
            ],
            [
             0.8888888888888888,
             "#fdca26"
            ],
            [
             1,
             "#f0f921"
            ]
           ],
           "sequentialminus": [
            [
             0,
             "#0d0887"
            ],
            [
             0.1111111111111111,
             "#46039f"
            ],
            [
             0.2222222222222222,
             "#7201a8"
            ],
            [
             0.3333333333333333,
             "#9c179e"
            ],
            [
             0.4444444444444444,
             "#bd3786"
            ],
            [
             0.5555555555555556,
             "#d8576b"
            ],
            [
             0.6666666666666666,
             "#ed7953"
            ],
            [
             0.7777777777777778,
             "#fb9f3a"
            ],
            [
             0.8888888888888888,
             "#fdca26"
            ],
            [
             1,
             "#f0f921"
            ]
           ]
          },
          "colorway": [
           "#636efa",
           "#EF553B",
           "#00cc96",
           "#ab63fa",
           "#FFA15A",
           "#19d3f3",
           "#FF6692",
           "#B6E880",
           "#FF97FF",
           "#FECB52"
          ],
          "font": {
           "color": "#2a3f5f"
          },
          "geo": {
           "bgcolor": "white",
           "lakecolor": "white",
           "landcolor": "#E5ECF6",
           "showlakes": true,
           "showland": true,
           "subunitcolor": "white"
          },
          "hoverlabel": {
           "align": "left"
          },
          "hovermode": "closest",
          "mapbox": {
           "style": "light"
          },
          "paper_bgcolor": "white",
          "plot_bgcolor": "#E5ECF6",
          "polar": {
           "angularaxis": {
            "gridcolor": "white",
            "linecolor": "white",
            "ticks": ""
           },
           "bgcolor": "#E5ECF6",
           "radialaxis": {
            "gridcolor": "white",
            "linecolor": "white",
            "ticks": ""
           }
          },
          "scene": {
           "xaxis": {
            "backgroundcolor": "#E5ECF6",
            "gridcolor": "white",
            "gridwidth": 2,
            "linecolor": "white",
            "showbackground": true,
            "ticks": "",
            "zerolinecolor": "white"
           },
           "yaxis": {
            "backgroundcolor": "#E5ECF6",
            "gridcolor": "white",
            "gridwidth": 2,
            "linecolor": "white",
            "showbackground": true,
            "ticks": "",
            "zerolinecolor": "white"
           },
           "zaxis": {
            "backgroundcolor": "#E5ECF6",
            "gridcolor": "white",
            "gridwidth": 2,
            "linecolor": "white",
            "showbackground": true,
            "ticks": "",
            "zerolinecolor": "white"
           }
          },
          "shapedefaults": {
           "line": {
            "color": "#2a3f5f"
           }
          },
          "ternary": {
           "aaxis": {
            "gridcolor": "white",
            "linecolor": "white",
            "ticks": ""
           },
           "baxis": {
            "gridcolor": "white",
            "linecolor": "white",
            "ticks": ""
           },
           "bgcolor": "#E5ECF6",
           "caxis": {
            "gridcolor": "white",
            "linecolor": "white",
            "ticks": ""
           }
          },
          "title": {
           "x": 0.05
          },
          "xaxis": {
           "automargin": true,
           "gridcolor": "white",
           "linecolor": "white",
           "ticks": "",
           "title": {
            "standoff": 15
           },
           "zerolinecolor": "white",
           "zerolinewidth": 2
          },
          "yaxis": {
           "automargin": true,
           "gridcolor": "white",
           "linecolor": "white",
           "ticks": "",
           "title": {
            "standoff": 15
           },
           "zerolinecolor": "white",
           "zerolinewidth": 2
          }
         }
        },
        "title": {
         "font": {
          "color": "#4D5663"
         }
        },
        "xaxis": {
         "gridcolor": "#E1E5ED",
         "showgrid": true,
         "tickfont": {
          "color": "#4D5663"
         },
         "title": {
          "font": {
           "color": "#4D5663"
          },
          "text": ""
         },
         "zerolinecolor": "#E1E5ED"
        },
        "yaxis": {
         "gridcolor": "#E1E5ED",
         "showgrid": true,
         "tickfont": {
          "color": "#4D5663"
         },
         "title": {
          "font": {
           "color": "#4D5663"
          },
          "text": ""
         },
         "zerolinecolor": "#E1E5ED"
        }
       }
      },
      "text/html": [
       "<div>\n",
       "        \n",
       "        \n",
       "            <div id=\"2fd3c472-bf0c-4bac-87e7-55921a7f23b6\" class=\"plotly-graph-div\" style=\"height:525px; width:100%;\"></div>\n",
       "            <script type=\"text/javascript\">\n",
       "                require([\"plotly\"], function(Plotly) {\n",
       "                    window.PLOTLYENV=window.PLOTLYENV || {};\n",
       "                    window.PLOTLYENV.BASE_URL='https://plot.ly';\n",
       "                    \n",
       "                if (document.getElementById(\"2fd3c472-bf0c-4bac-87e7-55921a7f23b6\")) {\n",
       "                    Plotly.newPlot(\n",
       "                        '2fd3c472-bf0c-4bac-87e7-55921a7f23b6',\n",
       "                        [{\"marker\": {\"color\": [\"rgb(255, 153, 51)\", \"rgb(55, 128, 191)\", \"rgb(50, 171, 96)\", \"rgb(128, 0, 128)\", \"rgb(219, 64, 82)\", \"rgb(0, 128, 128)\", \"rgb(255, 255, 51)\", \"rgb(128, 128, 0)\", \"rgb(251, 128, 114)\", \"rgb(128, 177, 211)\"], \"line\": {\"width\": 1.3}, \"size\": [61, 74, 52, 79, 57, 68, 46, 92, 40, 52, 112, 57, 59, 49, 93, 52, 57, 70, 52, 46, 72, 69, 75, 76, 98, 51, 59, 69, 74, 45, 30, 60, 66, 68, 51, 51, 53, 84, 103, 83, 81, 69, 46, 48, 97, 46, 104, 45, 24, 64, 52, 46, 63, 36, 39, 70, 73, 67, 75, 80, 59, 57, 75, 52, 50, 78, 61, 74, 70, 67, 41, 91, 68, 58, 76, 53, 43, 12, 71, 58, 53, 58, 60, 79, 55, 47, 60, 62, 108, 78, 69, 66, 48, 59, 47, 84, 46, 51, 32, 89], \"symbol\": \"circle\"}, \"mode\": \"markers\", \"text\": \"\", \"type\": \"scatter\", \"x\": [-1.149882228543045, 1.5362385410467798, 0.3932379374579331, -2.059996463523254, 0.09562991677781363, -0.1844539287632311, 2.3418220729645576, -0.43975047658280936, 0.6288630050374875, -0.030326212811700944, -1.702156021656865, -1.517666528581438, 1.19528182618035, -0.9288515943816018, 0.2672440911504483, -0.4002975415796906, -1.2173180116996651, 0.9662247412467714, -1.9290761726699661, 1.249919408423394, -0.6783813256393709, -0.7888541279691633, -2.7701270507949274, -0.4570081697608714, -1.5754577270896186, 1.7040742114772185, -1.323623647403465, -1.0710918640009173, 0.2187213850037935, -0.07078716233479242, -1.303646959301516, 2.1897266317892035, 0.13093518856030348, -0.9903480467852114, 0.33671892236565953, -1.1556963538417262, -0.2773860242357469, 1.9377494811247495, 0.1423953006490988, 0.6731945716487792, -0.46541278669836533, -0.714379146180877, 1.0651922056412366, 0.3114333896682094, -0.29224469547465676, -0.6358918139816263, -0.06286318467275165, 0.07858067675403434, -0.02010629030746235, 0.9735632755624417, 0.3806941990300737, 0.9555634570784103, -0.38220496895255784, -0.22327324528616546, -1.8998284305790532, -0.24424740920339258, -0.02526692348391983, -0.1382620224959738, 1.395861014773399, -0.3604338840902675, 0.3563945466276664, -0.07645210423467486, 1.058060157864064, 0.03543017928138459, 0.32199934259140944, 0.7294917431182483, 0.16221584077406218, 0.44579793102551135, -0.06772507530824512, 0.39109205187050505, -0.7385195761252955, -1.2023650450948926, -1.3018179686182045, -0.7588769767804764, 0.8540615931350239, 0.7937811845169089, -0.11330210909059032, 0.9786046847077196, 0.1026403652012129, -0.6973082302186342, -0.7309060647842065, -0.3824059171264001, 0.5322395624685383, 0.5520881490592399, 0.7893147543534774, 0.9593248351973666, 0.08953894702720594, -0.10201225506825605, -0.112709501292115, -0.6104114734459825, 0.4274545255274656, 0.3232725058320922, 0.14213070118669957, -0.7675916048632497, -0.15544652729455274, -0.6522117023376075, 1.7648913777096549, -1.0343556208880231, 0.6291210941714808, -0.2714321671685072], \"y\": [-0.821596800402655, 0.5664394505597601, 0.5089641346070292, -0.2592635248813433, 1.1425648848092516, 0.1303293725182424, -0.7452599453081017, 0.6807839819422564, -0.03025028909446263, -0.7216948550717397, 0.012099971974348565, -1.9328018674909626, 0.2940669437690773, -0.6425845565868856, -1.274457701503331, -0.31820163749691893, -0.9201990535926323, -1.3082244088756303, 0.9672470890932595, 0.5604202824371384, -0.7169037558756315, 0.5214208294070508, 0.005276194451701883, 1.34131395639202, 0.862730069774194, 0.444210324881266, 0.7166122997543846, 0.5905621985926649, -0.6123356568653066, -0.526925454627251, 0.3566581207234709, -0.7958593703435825, 0.4820928557493119, 2.082313812263963, 1.2477493754732194, 0.4347371625321479, -0.5524659931146368, -0.8005632090645551, -0.49586200765958227, 0.7363425104966456, -0.5004712861884172, 1.0482761927570294, -0.6137346570027824, -0.03968309123000246, -0.3226370483232409, -0.9003242820526284, -0.4726691235269847, 1.468411024145207, -0.45566617797248504, 0.07953301178126826, 0.5357369360643719, -0.08765107497054818, -1.426308343534027, 0.819068484709911, 1.8086881553071021, 0.40025853155354885, -0.8893840863646113, 0.9387138657020594, 0.6986426191038498, 0.43740462673617786, 0.6644892611484586, 0.0311752431301281, -0.8240084892443692, 1.5178420616192276, 0.014463322301807217, -0.07506796365150185, 0.25267110665442416, 0.9536021445007004, -0.021310183431371237, -1.3114035432534275, 0.8592510660239445, -1.2507752033737798, 1.4246620884121426, 1.1027173115312447, 0.6118120227281758, -0.7975020166108695, -1.462540048851282, 0.6827294493991927, 0.5334301271174584, 0.7294526884023559, -0.04388537975766861, -0.789556783280647, 0.3392864194491249, 0.790166279806434, 1.0259494794903965, 0.27094021554193, 1.4829223336581099, -0.23293511983863718, 0.6859245229420942, 0.5874723324937035, 0.48557210628845787, -0.12662879963201118, 0.9212668798284969, -1.2223765090701693, -0.029869681236115303, -1.8045036109927406, -1.9155662026040001, -0.536847880512402, 0.34557732447025485, -0.3892917688322118]}],\n",
       "                        {\"legend\": {\"bgcolor\": \"#F5F6F9\", \"font\": {\"color\": \"#4D5663\"}}, \"paper_bgcolor\": \"#F5F6F9\", \"plot_bgcolor\": \"#F5F6F9\", \"template\": {\"data\": {\"bar\": [{\"error_x\": {\"color\": \"#2a3f5f\"}, \"error_y\": {\"color\": \"#2a3f5f\"}, \"marker\": {\"line\": {\"color\": \"#E5ECF6\", \"width\": 0.5}}, \"type\": \"bar\"}], \"barpolar\": [{\"marker\": {\"line\": {\"color\": \"#E5ECF6\", \"width\": 0.5}}, \"type\": \"barpolar\"}], \"carpet\": [{\"aaxis\": {\"endlinecolor\": \"#2a3f5f\", \"gridcolor\": \"white\", \"linecolor\": \"white\", \"minorgridcolor\": \"white\", \"startlinecolor\": \"#2a3f5f\"}, \"baxis\": {\"endlinecolor\": \"#2a3f5f\", \"gridcolor\": \"white\", \"linecolor\": \"white\", \"minorgridcolor\": \"white\", \"startlinecolor\": \"#2a3f5f\"}, \"type\": \"carpet\"}], \"choropleth\": [{\"colorbar\": {\"outlinewidth\": 0, \"ticks\": \"\"}, \"type\": \"choropleth\"}], \"contour\": [{\"colorbar\": {\"outlinewidth\": 0, \"ticks\": \"\"}, \"colorscale\": [[0.0, \"#0d0887\"], [0.1111111111111111, \"#46039f\"], [0.2222222222222222, \"#7201a8\"], [0.3333333333333333, \"#9c179e\"], [0.4444444444444444, \"#bd3786\"], [0.5555555555555556, \"#d8576b\"], [0.6666666666666666, \"#ed7953\"], [0.7777777777777778, \"#fb9f3a\"], [0.8888888888888888, \"#fdca26\"], [1.0, \"#f0f921\"]], \"type\": \"contour\"}], \"contourcarpet\": [{\"colorbar\": {\"outlinewidth\": 0, \"ticks\": \"\"}, \"type\": \"contourcarpet\"}], \"heatmap\": [{\"colorbar\": {\"outlinewidth\": 0, \"ticks\": \"\"}, \"colorscale\": [[0.0, \"#0d0887\"], [0.1111111111111111, \"#46039f\"], [0.2222222222222222, \"#7201a8\"], [0.3333333333333333, \"#9c179e\"], [0.4444444444444444, \"#bd3786\"], [0.5555555555555556, \"#d8576b\"], [0.6666666666666666, \"#ed7953\"], [0.7777777777777778, \"#fb9f3a\"], [0.8888888888888888, \"#fdca26\"], [1.0, \"#f0f921\"]], \"type\": \"heatmap\"}], \"heatmapgl\": [{\"colorbar\": {\"outlinewidth\": 0, \"ticks\": \"\"}, \"colorscale\": [[0.0, \"#0d0887\"], [0.1111111111111111, \"#46039f\"], [0.2222222222222222, \"#7201a8\"], [0.3333333333333333, \"#9c179e\"], [0.4444444444444444, \"#bd3786\"], [0.5555555555555556, \"#d8576b\"], [0.6666666666666666, \"#ed7953\"], [0.7777777777777778, \"#fb9f3a\"], [0.8888888888888888, \"#fdca26\"], [1.0, \"#f0f921\"]], \"type\": \"heatmapgl\"}], \"histogram\": [{\"marker\": {\"colorbar\": {\"outlinewidth\": 0, \"ticks\": \"\"}}, \"type\": \"histogram\"}], \"histogram2d\": [{\"colorbar\": {\"outlinewidth\": 0, \"ticks\": \"\"}, \"colorscale\": [[0.0, \"#0d0887\"], [0.1111111111111111, \"#46039f\"], [0.2222222222222222, \"#7201a8\"], [0.3333333333333333, \"#9c179e\"], [0.4444444444444444, \"#bd3786\"], [0.5555555555555556, \"#d8576b\"], [0.6666666666666666, \"#ed7953\"], [0.7777777777777778, \"#fb9f3a\"], [0.8888888888888888, \"#fdca26\"], [1.0, \"#f0f921\"]], \"type\": \"histogram2d\"}], \"histogram2dcontour\": [{\"colorbar\": {\"outlinewidth\": 0, \"ticks\": \"\"}, \"colorscale\": [[0.0, \"#0d0887\"], [0.1111111111111111, \"#46039f\"], [0.2222222222222222, \"#7201a8\"], [0.3333333333333333, \"#9c179e\"], [0.4444444444444444, \"#bd3786\"], [0.5555555555555556, \"#d8576b\"], [0.6666666666666666, \"#ed7953\"], [0.7777777777777778, \"#fb9f3a\"], [0.8888888888888888, \"#fdca26\"], [1.0, \"#f0f921\"]], \"type\": \"histogram2dcontour\"}], \"mesh3d\": [{\"colorbar\": {\"outlinewidth\": 0, \"ticks\": \"\"}, \"type\": \"mesh3d\"}], \"parcoords\": [{\"line\": {\"colorbar\": {\"outlinewidth\": 0, \"ticks\": \"\"}}, \"type\": \"parcoords\"}], \"pie\": [{\"automargin\": true, \"type\": \"pie\"}], \"scatter\": [{\"marker\": {\"colorbar\": {\"outlinewidth\": 0, \"ticks\": \"\"}}, \"type\": \"scatter\"}], \"scatter3d\": [{\"line\": {\"colorbar\": {\"outlinewidth\": 0, \"ticks\": \"\"}}, \"marker\": {\"colorbar\": {\"outlinewidth\": 0, \"ticks\": \"\"}}, \"type\": \"scatter3d\"}], \"scattercarpet\": [{\"marker\": {\"colorbar\": {\"outlinewidth\": 0, \"ticks\": \"\"}}, \"type\": \"scattercarpet\"}], \"scattergeo\": [{\"marker\": {\"colorbar\": {\"outlinewidth\": 0, \"ticks\": \"\"}}, \"type\": \"scattergeo\"}], \"scattergl\": [{\"marker\": {\"colorbar\": {\"outlinewidth\": 0, \"ticks\": \"\"}}, \"type\": \"scattergl\"}], \"scattermapbox\": [{\"marker\": {\"colorbar\": {\"outlinewidth\": 0, \"ticks\": \"\"}}, \"type\": \"scattermapbox\"}], \"scatterpolar\": [{\"marker\": {\"colorbar\": {\"outlinewidth\": 0, \"ticks\": \"\"}}, \"type\": \"scatterpolar\"}], \"scatterpolargl\": [{\"marker\": {\"colorbar\": {\"outlinewidth\": 0, \"ticks\": \"\"}}, \"type\": \"scatterpolargl\"}], \"scatterternary\": [{\"marker\": {\"colorbar\": {\"outlinewidth\": 0, \"ticks\": \"\"}}, \"type\": \"scatterternary\"}], \"surface\": [{\"colorbar\": {\"outlinewidth\": 0, \"ticks\": \"\"}, \"colorscale\": [[0.0, \"#0d0887\"], [0.1111111111111111, \"#46039f\"], [0.2222222222222222, \"#7201a8\"], [0.3333333333333333, \"#9c179e\"], [0.4444444444444444, \"#bd3786\"], [0.5555555555555556, \"#d8576b\"], [0.6666666666666666, \"#ed7953\"], [0.7777777777777778, \"#fb9f3a\"], [0.8888888888888888, \"#fdca26\"], [1.0, \"#f0f921\"]], \"type\": \"surface\"}], \"table\": [{\"cells\": {\"fill\": {\"color\": \"#EBF0F8\"}, \"line\": {\"color\": \"white\"}}, \"header\": {\"fill\": {\"color\": \"#C8D4E3\"}, \"line\": {\"color\": \"white\"}}, \"type\": \"table\"}]}, \"layout\": {\"annotationdefaults\": {\"arrowcolor\": \"#2a3f5f\", \"arrowhead\": 0, \"arrowwidth\": 1}, \"coloraxis\": {\"colorbar\": {\"outlinewidth\": 0, \"ticks\": \"\"}}, \"colorscale\": {\"diverging\": [[0, \"#8e0152\"], [0.1, \"#c51b7d\"], [0.2, \"#de77ae\"], [0.3, \"#f1b6da\"], [0.4, \"#fde0ef\"], [0.5, \"#f7f7f7\"], [0.6, \"#e6f5d0\"], [0.7, \"#b8e186\"], [0.8, \"#7fbc41\"], [0.9, \"#4d9221\"], [1, \"#276419\"]], \"sequential\": [[0.0, \"#0d0887\"], [0.1111111111111111, \"#46039f\"], [0.2222222222222222, \"#7201a8\"], [0.3333333333333333, \"#9c179e\"], [0.4444444444444444, \"#bd3786\"], [0.5555555555555556, \"#d8576b\"], [0.6666666666666666, \"#ed7953\"], [0.7777777777777778, \"#fb9f3a\"], [0.8888888888888888, \"#fdca26\"], [1.0, \"#f0f921\"]], \"sequentialminus\": [[0.0, \"#0d0887\"], [0.1111111111111111, \"#46039f\"], [0.2222222222222222, \"#7201a8\"], [0.3333333333333333, \"#9c179e\"], [0.4444444444444444, \"#bd3786\"], [0.5555555555555556, \"#d8576b\"], [0.6666666666666666, \"#ed7953\"], [0.7777777777777778, \"#fb9f3a\"], [0.8888888888888888, \"#fdca26\"], [1.0, \"#f0f921\"]]}, \"colorway\": [\"#636efa\", \"#EF553B\", \"#00cc96\", \"#ab63fa\", \"#FFA15A\", \"#19d3f3\", \"#FF6692\", \"#B6E880\", \"#FF97FF\", \"#FECB52\"], \"font\": {\"color\": \"#2a3f5f\"}, \"geo\": {\"bgcolor\": \"white\", \"lakecolor\": \"white\", \"landcolor\": \"#E5ECF6\", \"showlakes\": true, \"showland\": true, \"subunitcolor\": \"white\"}, \"hoverlabel\": {\"align\": \"left\"}, \"hovermode\": \"closest\", \"mapbox\": {\"style\": \"light\"}, \"paper_bgcolor\": \"white\", \"plot_bgcolor\": \"#E5ECF6\", \"polar\": {\"angularaxis\": {\"gridcolor\": \"white\", \"linecolor\": \"white\", \"ticks\": \"\"}, \"bgcolor\": \"#E5ECF6\", \"radialaxis\": {\"gridcolor\": \"white\", \"linecolor\": \"white\", \"ticks\": \"\"}}, \"scene\": {\"xaxis\": {\"backgroundcolor\": \"#E5ECF6\", \"gridcolor\": \"white\", \"gridwidth\": 2, \"linecolor\": \"white\", \"showbackground\": true, \"ticks\": \"\", \"zerolinecolor\": \"white\"}, \"yaxis\": {\"backgroundcolor\": \"#E5ECF6\", \"gridcolor\": \"white\", \"gridwidth\": 2, \"linecolor\": \"white\", \"showbackground\": true, \"ticks\": \"\", \"zerolinecolor\": \"white\"}, \"zaxis\": {\"backgroundcolor\": \"#E5ECF6\", \"gridcolor\": \"white\", \"gridwidth\": 2, \"linecolor\": \"white\", \"showbackground\": true, \"ticks\": \"\", \"zerolinecolor\": \"white\"}}, \"shapedefaults\": {\"line\": {\"color\": \"#2a3f5f\"}}, \"ternary\": {\"aaxis\": {\"gridcolor\": \"white\", \"linecolor\": \"white\", \"ticks\": \"\"}, \"baxis\": {\"gridcolor\": \"white\", \"linecolor\": \"white\", \"ticks\": \"\"}, \"bgcolor\": \"#E5ECF6\", \"caxis\": {\"gridcolor\": \"white\", \"linecolor\": \"white\", \"ticks\": \"\"}}, \"title\": {\"x\": 0.05}, \"xaxis\": {\"automargin\": true, \"gridcolor\": \"white\", \"linecolor\": \"white\", \"ticks\": \"\", \"title\": {\"standoff\": 15}, \"zerolinecolor\": \"white\", \"zerolinewidth\": 2}, \"yaxis\": {\"automargin\": true, \"gridcolor\": \"white\", \"linecolor\": \"white\", \"ticks\": \"\", \"title\": {\"standoff\": 15}, \"zerolinecolor\": \"white\", \"zerolinewidth\": 2}}}, \"title\": {\"font\": {\"color\": \"#4D5663\"}}, \"xaxis\": {\"gridcolor\": \"#E1E5ED\", \"showgrid\": true, \"tickfont\": {\"color\": \"#4D5663\"}, \"title\": {\"font\": {\"color\": \"#4D5663\"}, \"text\": \"\"}, \"zerolinecolor\": \"#E1E5ED\"}, \"yaxis\": {\"gridcolor\": \"#E1E5ED\", \"showgrid\": true, \"tickfont\": {\"color\": \"#4D5663\"}, \"title\": {\"font\": {\"color\": \"#4D5663\"}, \"text\": \"\"}, \"zerolinecolor\": \"#E1E5ED\"}},\n",
       "                        {\"showLink\": true, \"linkText\": \"Export to plot.ly\", \"plotlyServerURL\": \"https://plot.ly\", \"responsive\": true}\n",
       "                    ).then(function(){\n",
       "                            \n",
       "var gd = document.getElementById('2fd3c472-bf0c-4bac-87e7-55921a7f23b6');\n",
       "var x = new MutationObserver(function (mutations, observer) {{\n",
       "        var display = window.getComputedStyle(gd).display;\n",
       "        if (!display || display === 'none') {{\n",
       "            console.log([gd, 'removed!']);\n",
       "            Plotly.purge(gd);\n",
       "            observer.disconnect();\n",
       "        }}\n",
       "}});\n",
       "\n",
       "// Listen for the removal of the full notebook cells\n",
       "var notebookContainer = gd.closest('#notebook-container');\n",
       "if (notebookContainer) {{\n",
       "    x.observe(notebookContainer, {childList: true});\n",
       "}}\n",
       "\n",
       "// Listen for the clearing of the current output cell\n",
       "var outputEl = gd.closest('.output');\n",
       "if (outputEl) {{\n",
       "    x.observe(outputEl, {childList: true});\n",
       "}}\n",
       "\n",
       "                        })\n",
       "                };\n",
       "                });\n",
       "            </script>\n",
       "        </div>"
      ]
     },
     "metadata": {},
     "output_type": "display_data"
    }
   ],
   "source": [
    "df.iplot(kind='bubble',x='A',y='B',size='C') #world GDP, Population, Happiness factors, UN reports"
   ]
  },
  {
   "cell_type": "markdown",
   "metadata": {},
   "source": [
    "## scatter_matrix()\n",
    "\n",
    "Similar to sns.pairplot()"
   ]
  },
  {
   "cell_type": "code",
   "execution_count": 40,
   "metadata": {},
   "outputs": [
    {
     "data": {
      "application/vnd.plotly.v1+json": {
       "config": {
        "linkText": "Export to plot.ly",
        "plotlyServerURL": "https://plot.ly",
        "showLink": true
       },
       "data": [
        {
         "histfunc": "count",
         "histnorm": "",
         "marker": {
          "color": "rgba(255, 153, 51, 1.0)",
          "line": {
           "color": "#4D5663",
           "width": 1.3
          }
         },
         "name": "A",
         "nbinsx": 10,
         "opacity": 0.8,
         "orientation": "v",
         "type": "histogram",
         "x": [
          -1.149882228543045,
          1.5362385410467798,
          0.3932379374579331,
          -2.059996463523254,
          0.09562991677781363,
          -0.1844539287632311,
          2.3418220729645576,
          -0.43975047658280936,
          0.6288630050374875,
          -0.030326212811700944,
          -1.702156021656865,
          -1.517666528581438,
          1.19528182618035,
          -0.9288515943816018,
          0.2672440911504483,
          -0.4002975415796906,
          -1.2173180116996651,
          0.9662247412467714,
          -1.9290761726699661,
          1.249919408423394,
          -0.6783813256393709,
          -0.7888541279691633,
          -2.7701270507949274,
          -0.4570081697608714,
          -1.5754577270896186,
          1.7040742114772185,
          -1.323623647403465,
          -1.0710918640009173,
          0.2187213850037935,
          -0.07078716233479242,
          -1.303646959301516,
          2.1897266317892035,
          0.13093518856030348,
          -0.9903480467852114,
          0.33671892236565953,
          -1.1556963538417262,
          -0.2773860242357469,
          1.9377494811247495,
          0.1423953006490988,
          0.6731945716487792,
          -0.46541278669836533,
          -0.714379146180877,
          1.0651922056412366,
          0.3114333896682094,
          -0.29224469547465676,
          -0.6358918139816263,
          -0.06286318467275165,
          0.07858067675403434,
          -0.02010629030746235,
          0.9735632755624417,
          0.3806941990300737,
          0.9555634570784103,
          -0.38220496895255784,
          -0.22327324528616546,
          -1.8998284305790532,
          -0.24424740920339258,
          -0.02526692348391983,
          -0.1382620224959738,
          1.395861014773399,
          -0.3604338840902675,
          0.3563945466276664,
          -0.07645210423467486,
          1.058060157864064,
          0.03543017928138459,
          0.32199934259140944,
          0.7294917431182483,
          0.16221584077406218,
          0.44579793102551135,
          -0.06772507530824512,
          0.39109205187050505,
          -0.7385195761252955,
          -1.2023650450948926,
          -1.3018179686182045,
          -0.7588769767804764,
          0.8540615931350239,
          0.7937811845169089,
          -0.11330210909059032,
          0.9786046847077196,
          0.1026403652012129,
          -0.6973082302186342,
          -0.7309060647842065,
          -0.3824059171264001,
          0.5322395624685383,
          0.5520881490592399,
          0.7893147543534774,
          0.9593248351973666,
          0.08953894702720594,
          -0.10201225506825605,
          -0.112709501292115,
          -0.6104114734459825,
          0.4274545255274656,
          0.3232725058320922,
          0.14213070118669957,
          -0.7675916048632497,
          -0.15544652729455274,
          -0.6522117023376075,
          1.7648913777096549,
          -1.0343556208880231,
          0.6291210941714808,
          -0.2714321671685072
         ],
         "xaxis": "x",
         "yaxis": "y"
        },
        {
         "line": {
          "color": "rgba(128, 128, 128, 1.0)",
          "dash": "solid",
          "shape": "linear",
          "width": 1.3
         },
         "marker": {
          "size": 2,
          "symbol": "circle"
         },
         "mode": "markers",
         "name": "A",
         "text": "",
         "type": "scatter",
         "x": [
          -0.821596800402655,
          0.5664394505597601,
          0.5089641346070292,
          -0.2592635248813433,
          1.1425648848092516,
          0.1303293725182424,
          -0.7452599453081017,
          0.6807839819422564,
          -0.03025028909446263,
          -0.7216948550717397,
          0.012099971974348565,
          -1.9328018674909626,
          0.2940669437690773,
          -0.6425845565868856,
          -1.274457701503331,
          -0.31820163749691893,
          -0.9201990535926323,
          -1.3082244088756303,
          0.9672470890932595,
          0.5604202824371384,
          -0.7169037558756315,
          0.5214208294070508,
          0.005276194451701883,
          1.34131395639202,
          0.862730069774194,
          0.444210324881266,
          0.7166122997543846,
          0.5905621985926649,
          -0.6123356568653066,
          -0.526925454627251,
          0.3566581207234709,
          -0.7958593703435825,
          0.4820928557493119,
          2.082313812263963,
          1.2477493754732194,
          0.4347371625321479,
          -0.5524659931146368,
          -0.8005632090645551,
          -0.49586200765958227,
          0.7363425104966456,
          -0.5004712861884172,
          1.0482761927570294,
          -0.6137346570027824,
          -0.03968309123000246,
          -0.3226370483232409,
          -0.9003242820526284,
          -0.4726691235269847,
          1.468411024145207,
          -0.45566617797248504,
          0.07953301178126826,
          0.5357369360643719,
          -0.08765107497054818,
          -1.426308343534027,
          0.819068484709911,
          1.8086881553071021,
          0.40025853155354885,
          -0.8893840863646113,
          0.9387138657020594,
          0.6986426191038498,
          0.43740462673617786,
          0.6644892611484586,
          0.0311752431301281,
          -0.8240084892443692,
          1.5178420616192276,
          0.014463322301807217,
          -0.07506796365150185,
          0.25267110665442416,
          0.9536021445007004,
          -0.021310183431371237,
          -1.3114035432534275,
          0.8592510660239445,
          -1.2507752033737798,
          1.4246620884121426,
          1.1027173115312447,
          0.6118120227281758,
          -0.7975020166108695,
          -1.462540048851282,
          0.6827294493991927,
          0.5334301271174584,
          0.7294526884023559,
          -0.04388537975766861,
          -0.789556783280647,
          0.3392864194491249,
          0.790166279806434,
          1.0259494794903965,
          0.27094021554193,
          1.4829223336581099,
          -0.23293511983863718,
          0.6859245229420942,
          0.5874723324937035,
          0.48557210628845787,
          -0.12662879963201118,
          0.9212668798284969,
          -1.2223765090701693,
          -0.029869681236115303,
          -1.8045036109927406,
          -1.9155662026040001,
          -0.536847880512402,
          0.34557732447025485,
          -0.3892917688322118
         ],
         "xaxis": "x2",
         "y": [
          -1.149882228543045,
          1.5362385410467798,
          0.3932379374579331,
          -2.059996463523254,
          0.09562991677781363,
          -0.1844539287632311,
          2.3418220729645576,
          -0.43975047658280936,
          0.6288630050374875,
          -0.030326212811700944,
          -1.702156021656865,
          -1.517666528581438,
          1.19528182618035,
          -0.9288515943816018,
          0.2672440911504483,
          -0.4002975415796906,
          -1.2173180116996651,
          0.9662247412467714,
          -1.9290761726699661,
          1.249919408423394,
          -0.6783813256393709,
          -0.7888541279691633,
          -2.7701270507949274,
          -0.4570081697608714,
          -1.5754577270896186,
          1.7040742114772185,
          -1.323623647403465,
          -1.0710918640009173,
          0.2187213850037935,
          -0.07078716233479242,
          -1.303646959301516,
          2.1897266317892035,
          0.13093518856030348,
          -0.9903480467852114,
          0.33671892236565953,
          -1.1556963538417262,
          -0.2773860242357469,
          1.9377494811247495,
          0.1423953006490988,
          0.6731945716487792,
          -0.46541278669836533,
          -0.714379146180877,
          1.0651922056412366,
          0.3114333896682094,
          -0.29224469547465676,
          -0.6358918139816263,
          -0.06286318467275165,
          0.07858067675403434,
          -0.02010629030746235,
          0.9735632755624417,
          0.3806941990300737,
          0.9555634570784103,
          -0.38220496895255784,
          -0.22327324528616546,
          -1.8998284305790532,
          -0.24424740920339258,
          -0.02526692348391983,
          -0.1382620224959738,
          1.395861014773399,
          -0.3604338840902675,
          0.3563945466276664,
          -0.07645210423467486,
          1.058060157864064,
          0.03543017928138459,
          0.32199934259140944,
          0.7294917431182483,
          0.16221584077406218,
          0.44579793102551135,
          -0.06772507530824512,
          0.39109205187050505,
          -0.7385195761252955,
          -1.2023650450948926,
          -1.3018179686182045,
          -0.7588769767804764,
          0.8540615931350239,
          0.7937811845169089,
          -0.11330210909059032,
          0.9786046847077196,
          0.1026403652012129,
          -0.6973082302186342,
          -0.7309060647842065,
          -0.3824059171264001,
          0.5322395624685383,
          0.5520881490592399,
          0.7893147543534774,
          0.9593248351973666,
          0.08953894702720594,
          -0.10201225506825605,
          -0.112709501292115,
          -0.6104114734459825,
          0.4274545255274656,
          0.3232725058320922,
          0.14213070118669957,
          -0.7675916048632497,
          -0.15544652729455274,
          -0.6522117023376075,
          1.7648913777096549,
          -1.0343556208880231,
          0.6291210941714808,
          -0.2714321671685072
         ],
         "yaxis": "y2"
        },
        {
         "line": {
          "color": "rgba(128, 128, 128, 1.0)",
          "dash": "solid",
          "shape": "linear",
          "width": 1.3
         },
         "marker": {
          "size": 2,
          "symbol": "circle"
         },
         "mode": "markers",
         "name": "A",
         "text": "",
         "type": "scatter",
         "x": [
          -0.05043432899368031,
          0.6383985377849963,
          -0.5552104688070715,
          0.8733894761659502,
          -0.27973637356455144,
          0.3099198456823666,
          -0.88279025720947,
          1.5867347920708614,
          -1.1682939504435819,
          -0.5398035790255533,
          2.6047288884328945,
          -0.28450355075339073,
          -0.18411605199644634,
          -0.7087374298548398,
          1.6390687626183504,
          -0.5433847348255266,
          -0.29102616128048525,
          0.3867966969243918,
          -0.5738198681006161,
          -0.8467916453984707,
          0.5297032633356104,
          0.34987822330080387,
          0.6945634517303589,
          0.7468221924352632,
          1.900151098890552,
          -0.621938312162858,
          -0.16362440785066615,
          0.3584161327870031,
          0.6084762558026675,
          -0.9318463866260959,
          -1.7149056880168532,
          -0.10128499226000447,
          0.19637626627572874,
          0.2969997402467644,
          -0.5831229998849408,
          -0.6053470808434863,
          -0.519200620192376,
          1.132014562741578,
          2.14583857085064,
          1.1082670904027203,
          0.9915436083465138,
          0.35064782627575036,
          -0.8718624044359158,
          -0.7711209904670029,
          1.8434894167073075,
          -0.881682946775223,
          2.2198785443767775,
          -0.9020703454223811,
          -2.0310072709609477,
          0.0859417760441214,
          -0.5497913464560333,
          -0.8896792267662379,
          0.0501728664565584,
          -1.4144078755079297,
          -1.2547969891058721,
          0.4244866684966232,
          0.5746324117859202,
          0.23125449383760513,
          0.6734505472376046,
          0.9481492334735947,
          -0.15602051696246882,
          -0.27681846353088535,
          0.6879641900610127,
          -0.5650179988527602,
          -0.6727447321566563,
          0.8055284608391798,
          -0.07814871647186178,
          0.5983513117146525,
          0.39409971719175724,
          0.2652492847240678,
          -1.1594253536181287,
          1.5322943352645402,
          0.29524129053229714,
          -0.21092943984307086,
          0.7241385453207122,
          -0.5075445506409986,
          -1.0399223896721543,
          -2.6981299945993604,
          0.444443913026689,
          -0.2080299799409404,
          -0.48655055177461065,
          -0.24397033164856838,
          -0.1394653239772895,
          0.8566379732556342,
          -0.40928402997218166,
          -0.8146622155618218,
          -0.12037812400398963,
          -0.0004340621273201351,
          2.4020992968620263,
          0.8084817681546183,
          0.3342529934430462,
          0.21356656246612182,
          -0.7660769594747029,
          -0.1688787331661423,
          -0.8175685865248625,
          1.1337186472505991,
          -0.8818864274262241,
          -0.6262697386361157,
          -1.587580606392134,
          1.3878120685001782
         ],
         "xaxis": "x3",
         "y": [
          -1.149882228543045,
          1.5362385410467798,
          0.3932379374579331,
          -2.059996463523254,
          0.09562991677781363,
          -0.1844539287632311,
          2.3418220729645576,
          -0.43975047658280936,
          0.6288630050374875,
          -0.030326212811700944,
          -1.702156021656865,
          -1.517666528581438,
          1.19528182618035,
          -0.9288515943816018,
          0.2672440911504483,
          -0.4002975415796906,
          -1.2173180116996651,
          0.9662247412467714,
          -1.9290761726699661,
          1.249919408423394,
          -0.6783813256393709,
          -0.7888541279691633,
          -2.7701270507949274,
          -0.4570081697608714,
          -1.5754577270896186,
          1.7040742114772185,
          -1.323623647403465,
          -1.0710918640009173,
          0.2187213850037935,
          -0.07078716233479242,
          -1.303646959301516,
          2.1897266317892035,
          0.13093518856030348,
          -0.9903480467852114,
          0.33671892236565953,
          -1.1556963538417262,
          -0.2773860242357469,
          1.9377494811247495,
          0.1423953006490988,
          0.6731945716487792,
          -0.46541278669836533,
          -0.714379146180877,
          1.0651922056412366,
          0.3114333896682094,
          -0.29224469547465676,
          -0.6358918139816263,
          -0.06286318467275165,
          0.07858067675403434,
          -0.02010629030746235,
          0.9735632755624417,
          0.3806941990300737,
          0.9555634570784103,
          -0.38220496895255784,
          -0.22327324528616546,
          -1.8998284305790532,
          -0.24424740920339258,
          -0.02526692348391983,
          -0.1382620224959738,
          1.395861014773399,
          -0.3604338840902675,
          0.3563945466276664,
          -0.07645210423467486,
          1.058060157864064,
          0.03543017928138459,
          0.32199934259140944,
          0.7294917431182483,
          0.16221584077406218,
          0.44579793102551135,
          -0.06772507530824512,
          0.39109205187050505,
          -0.7385195761252955,
          -1.2023650450948926,
          -1.3018179686182045,
          -0.7588769767804764,
          0.8540615931350239,
          0.7937811845169089,
          -0.11330210909059032,
          0.9786046847077196,
          0.1026403652012129,
          -0.6973082302186342,
          -0.7309060647842065,
          -0.3824059171264001,
          0.5322395624685383,
          0.5520881490592399,
          0.7893147543534774,
          0.9593248351973666,
          0.08953894702720594,
          -0.10201225506825605,
          -0.112709501292115,
          -0.6104114734459825,
          0.4274545255274656,
          0.3232725058320922,
          0.14213070118669957,
          -0.7675916048632497,
          -0.15544652729455274,
          -0.6522117023376075,
          1.7648913777096549,
          -1.0343556208880231,
          0.6291210941714808,
          -0.2714321671685072
         ],
         "yaxis": "y3"
        },
        {
         "line": {
          "color": "rgba(128, 128, 128, 1.0)",
          "dash": "solid",
          "shape": "linear",
          "width": 1.3
         },
         "marker": {
          "size": 2,
          "symbol": "circle"
         },
         "mode": "markers",
         "name": "A",
         "text": "",
         "type": "scatter",
         "x": [
          0.5453066085348863,
          0.6297272301796784,
          -0.9401461784548403,
          -0.9847733132602441,
          1.509088854044453,
          -1.7000718360475824,
          -1.2225246766948081,
          1.3568654711368602,
          0.22949621448467727,
          2.1801712492246623,
          0.5837170028026545,
          0.24891769712044948,
          0.10317662432857874,
          -1.4088141062786053,
          3.114453696537187,
          0.5834183604615801,
          -0.5741527118434024,
          -1.1152938765819431,
          -0.32064879042738254,
          -0.0028248826754078134,
          -1.0740947558270184,
          -1.145910377161432,
          -1.622254906735283,
          0.0849850233504138,
          0.48170159146795744,
          0.1577755528307472,
          -0.504127259110801,
          -0.42063541220074924,
          0.7892685553129059,
          0.5268042161431765,
          1.2662485409933102,
          1.2956511293072994,
          -1.9576037803587114,
          0.5811261923984811,
          1.8785462043575325,
          -0.08774836819701964,
          0.9936591690188294,
          0.20979789911097893,
          0.9783870564757947,
          -0.4828364341183934,
          0.7638656251918456,
          -0.10031401419564683,
          0.6256444425530976,
          1.474091024374885,
          -1.8210439918869357,
          -0.6306310693510034,
          -1.249298484344971,
          -1.999155382645612,
          0.46224949849096975,
          -0.34470294101095705,
          1.038300340305395,
          -0.884885731263254,
          -0.6201625925282921,
          0.5184519198587142,
          0.43543105924330205,
          -0.7227359721398886,
          -0.7755191591579904,
          -1.0755675808765595,
          0.8544324240378218,
          2.076530741297135,
          0.43393973919277723,
          -0.4690057057030747,
          1.6062580004266929,
          1.3388694692214416,
          0.3555205791346771,
          0.13372868023617268,
          -1.274558124113613,
          0.007648624125840822,
          -1.1725752578112267,
          -0.4476181800792881,
          1.025402172731115,
          -0.9778778830870949,
          -1.9127435863256657,
          0.7662278656128317,
          1.7013257856725703,
          1.227232519758253,
          -0.07606912837548144,
          0.5952707419086611,
          0.18385146042710004,
          -0.6123272648027931,
          -0.3200931051252156,
          0.6388727081193947,
          0.5438565635317469,
          0.4985924271650018,
          1.582456123753077,
          0.00900868556309942,
          -0.3661353184511324,
          -0.5282883669256038,
          0.1620926442176821,
          1.5666749409075835,
          0.3472465771172096,
          0.2287517566522857,
          0.8253230381114772,
          -1.3204961957638008,
          1.2104316254647076,
          -0.8837493643965285,
          1.5207769567087257,
          -1.8632609220655565,
          0.3257742103009992,
          0.6961644380276888
         ],
         "xaxis": "x4",
         "y": [
          -1.149882228543045,
          1.5362385410467798,
          0.3932379374579331,
          -2.059996463523254,
          0.09562991677781363,
          -0.1844539287632311,
          2.3418220729645576,
          -0.43975047658280936,
          0.6288630050374875,
          -0.030326212811700944,
          -1.702156021656865,
          -1.517666528581438,
          1.19528182618035,
          -0.9288515943816018,
          0.2672440911504483,
          -0.4002975415796906,
          -1.2173180116996651,
          0.9662247412467714,
          -1.9290761726699661,
          1.249919408423394,
          -0.6783813256393709,
          -0.7888541279691633,
          -2.7701270507949274,
          -0.4570081697608714,
          -1.5754577270896186,
          1.7040742114772185,
          -1.323623647403465,
          -1.0710918640009173,
          0.2187213850037935,
          -0.07078716233479242,
          -1.303646959301516,
          2.1897266317892035,
          0.13093518856030348,
          -0.9903480467852114,
          0.33671892236565953,
          -1.1556963538417262,
          -0.2773860242357469,
          1.9377494811247495,
          0.1423953006490988,
          0.6731945716487792,
          -0.46541278669836533,
          -0.714379146180877,
          1.0651922056412366,
          0.3114333896682094,
          -0.29224469547465676,
          -0.6358918139816263,
          -0.06286318467275165,
          0.07858067675403434,
          -0.02010629030746235,
          0.9735632755624417,
          0.3806941990300737,
          0.9555634570784103,
          -0.38220496895255784,
          -0.22327324528616546,
          -1.8998284305790532,
          -0.24424740920339258,
          -0.02526692348391983,
          -0.1382620224959738,
          1.395861014773399,
          -0.3604338840902675,
          0.3563945466276664,
          -0.07645210423467486,
          1.058060157864064,
          0.03543017928138459,
          0.32199934259140944,
          0.7294917431182483,
          0.16221584077406218,
          0.44579793102551135,
          -0.06772507530824512,
          0.39109205187050505,
          -0.7385195761252955,
          -1.2023650450948926,
          -1.3018179686182045,
          -0.7588769767804764,
          0.8540615931350239,
          0.7937811845169089,
          -0.11330210909059032,
          0.9786046847077196,
          0.1026403652012129,
          -0.6973082302186342,
          -0.7309060647842065,
          -0.3824059171264001,
          0.5322395624685383,
          0.5520881490592399,
          0.7893147543534774,
          0.9593248351973666,
          0.08953894702720594,
          -0.10201225506825605,
          -0.112709501292115,
          -0.6104114734459825,
          0.4274545255274656,
          0.3232725058320922,
          0.14213070118669957,
          -0.7675916048632497,
          -0.15544652729455274,
          -0.6522117023376075,
          1.7648913777096549,
          -1.0343556208880231,
          0.6291210941714808,
          -0.2714321671685072
         ],
         "yaxis": "y4"
        },
        {
         "line": {
          "color": "rgba(128, 128, 128, 1.0)",
          "dash": "solid",
          "shape": "linear",
          "width": 1.3
         },
         "marker": {
          "size": 2,
          "symbol": "circle"
         },
         "mode": "markers",
         "name": "B",
         "text": "",
         "type": "scatter",
         "x": [
          -1.149882228543045,
          1.5362385410467798,
          0.3932379374579331,
          -2.059996463523254,
          0.09562991677781363,
          -0.1844539287632311,
          2.3418220729645576,
          -0.43975047658280936,
          0.6288630050374875,
          -0.030326212811700944,
          -1.702156021656865,
          -1.517666528581438,
          1.19528182618035,
          -0.9288515943816018,
          0.2672440911504483,
          -0.4002975415796906,
          -1.2173180116996651,
          0.9662247412467714,
          -1.9290761726699661,
          1.249919408423394,
          -0.6783813256393709,
          -0.7888541279691633,
          -2.7701270507949274,
          -0.4570081697608714,
          -1.5754577270896186,
          1.7040742114772185,
          -1.323623647403465,
          -1.0710918640009173,
          0.2187213850037935,
          -0.07078716233479242,
          -1.303646959301516,
          2.1897266317892035,
          0.13093518856030348,
          -0.9903480467852114,
          0.33671892236565953,
          -1.1556963538417262,
          -0.2773860242357469,
          1.9377494811247495,
          0.1423953006490988,
          0.6731945716487792,
          -0.46541278669836533,
          -0.714379146180877,
          1.0651922056412366,
          0.3114333896682094,
          -0.29224469547465676,
          -0.6358918139816263,
          -0.06286318467275165,
          0.07858067675403434,
          -0.02010629030746235,
          0.9735632755624417,
          0.3806941990300737,
          0.9555634570784103,
          -0.38220496895255784,
          -0.22327324528616546,
          -1.8998284305790532,
          -0.24424740920339258,
          -0.02526692348391983,
          -0.1382620224959738,
          1.395861014773399,
          -0.3604338840902675,
          0.3563945466276664,
          -0.07645210423467486,
          1.058060157864064,
          0.03543017928138459,
          0.32199934259140944,
          0.7294917431182483,
          0.16221584077406218,
          0.44579793102551135,
          -0.06772507530824512,
          0.39109205187050505,
          -0.7385195761252955,
          -1.2023650450948926,
          -1.3018179686182045,
          -0.7588769767804764,
          0.8540615931350239,
          0.7937811845169089,
          -0.11330210909059032,
          0.9786046847077196,
          0.1026403652012129,
          -0.6973082302186342,
          -0.7309060647842065,
          -0.3824059171264001,
          0.5322395624685383,
          0.5520881490592399,
          0.7893147543534774,
          0.9593248351973666,
          0.08953894702720594,
          -0.10201225506825605,
          -0.112709501292115,
          -0.6104114734459825,
          0.4274545255274656,
          0.3232725058320922,
          0.14213070118669957,
          -0.7675916048632497,
          -0.15544652729455274,
          -0.6522117023376075,
          1.7648913777096549,
          -1.0343556208880231,
          0.6291210941714808,
          -0.2714321671685072
         ],
         "xaxis": "x5",
         "y": [
          -0.821596800402655,
          0.5664394505597601,
          0.5089641346070292,
          -0.2592635248813433,
          1.1425648848092516,
          0.1303293725182424,
          -0.7452599453081017,
          0.6807839819422564,
          -0.03025028909446263,
          -0.7216948550717397,
          0.012099971974348565,
          -1.9328018674909626,
          0.2940669437690773,
          -0.6425845565868856,
          -1.274457701503331,
          -0.31820163749691893,
          -0.9201990535926323,
          -1.3082244088756303,
          0.9672470890932595,
          0.5604202824371384,
          -0.7169037558756315,
          0.5214208294070508,
          0.005276194451701883,
          1.34131395639202,
          0.862730069774194,
          0.444210324881266,
          0.7166122997543846,
          0.5905621985926649,
          -0.6123356568653066,
          -0.526925454627251,
          0.3566581207234709,
          -0.7958593703435825,
          0.4820928557493119,
          2.082313812263963,
          1.2477493754732194,
          0.4347371625321479,
          -0.5524659931146368,
          -0.8005632090645551,
          -0.49586200765958227,
          0.7363425104966456,
          -0.5004712861884172,
          1.0482761927570294,
          -0.6137346570027824,
          -0.03968309123000246,
          -0.3226370483232409,
          -0.9003242820526284,
          -0.4726691235269847,
          1.468411024145207,
          -0.45566617797248504,
          0.07953301178126826,
          0.5357369360643719,
          -0.08765107497054818,
          -1.426308343534027,
          0.819068484709911,
          1.8086881553071021,
          0.40025853155354885,
          -0.8893840863646113,
          0.9387138657020594,
          0.6986426191038498,
          0.43740462673617786,
          0.6644892611484586,
          0.0311752431301281,
          -0.8240084892443692,
          1.5178420616192276,
          0.014463322301807217,
          -0.07506796365150185,
          0.25267110665442416,
          0.9536021445007004,
          -0.021310183431371237,
          -1.3114035432534275,
          0.8592510660239445,
          -1.2507752033737798,
          1.4246620884121426,
          1.1027173115312447,
          0.6118120227281758,
          -0.7975020166108695,
          -1.462540048851282,
          0.6827294493991927,
          0.5334301271174584,
          0.7294526884023559,
          -0.04388537975766861,
          -0.789556783280647,
          0.3392864194491249,
          0.790166279806434,
          1.0259494794903965,
          0.27094021554193,
          1.4829223336581099,
          -0.23293511983863718,
          0.6859245229420942,
          0.5874723324937035,
          0.48557210628845787,
          -0.12662879963201118,
          0.9212668798284969,
          -1.2223765090701693,
          -0.029869681236115303,
          -1.8045036109927406,
          -1.9155662026040001,
          -0.536847880512402,
          0.34557732447025485,
          -0.3892917688322118
         ],
         "yaxis": "y5"
        },
        {
         "histfunc": "count",
         "histnorm": "",
         "marker": {
          "color": "rgba(55, 128, 191, 1.0)",
          "line": {
           "color": "#4D5663",
           "width": 1.3
          }
         },
         "name": "B",
         "nbinsx": 10,
         "opacity": 0.8,
         "orientation": "v",
         "type": "histogram",
         "x": [
          -0.821596800402655,
          0.5664394505597601,
          0.5089641346070292,
          -0.2592635248813433,
          1.1425648848092516,
          0.1303293725182424,
          -0.7452599453081017,
          0.6807839819422564,
          -0.03025028909446263,
          -0.7216948550717397,
          0.012099971974348565,
          -1.9328018674909626,
          0.2940669437690773,
          -0.6425845565868856,
          -1.274457701503331,
          -0.31820163749691893,
          -0.9201990535926323,
          -1.3082244088756303,
          0.9672470890932595,
          0.5604202824371384,
          -0.7169037558756315,
          0.5214208294070508,
          0.005276194451701883,
          1.34131395639202,
          0.862730069774194,
          0.444210324881266,
          0.7166122997543846,
          0.5905621985926649,
          -0.6123356568653066,
          -0.526925454627251,
          0.3566581207234709,
          -0.7958593703435825,
          0.4820928557493119,
          2.082313812263963,
          1.2477493754732194,
          0.4347371625321479,
          -0.5524659931146368,
          -0.8005632090645551,
          -0.49586200765958227,
          0.7363425104966456,
          -0.5004712861884172,
          1.0482761927570294,
          -0.6137346570027824,
          -0.03968309123000246,
          -0.3226370483232409,
          -0.9003242820526284,
          -0.4726691235269847,
          1.468411024145207,
          -0.45566617797248504,
          0.07953301178126826,
          0.5357369360643719,
          -0.08765107497054818,
          -1.426308343534027,
          0.819068484709911,
          1.8086881553071021,
          0.40025853155354885,
          -0.8893840863646113,
          0.9387138657020594,
          0.6986426191038498,
          0.43740462673617786,
          0.6644892611484586,
          0.0311752431301281,
          -0.8240084892443692,
          1.5178420616192276,
          0.014463322301807217,
          -0.07506796365150185,
          0.25267110665442416,
          0.9536021445007004,
          -0.021310183431371237,
          -1.3114035432534275,
          0.8592510660239445,
          -1.2507752033737798,
          1.4246620884121426,
          1.1027173115312447,
          0.6118120227281758,
          -0.7975020166108695,
          -1.462540048851282,
          0.6827294493991927,
          0.5334301271174584,
          0.7294526884023559,
          -0.04388537975766861,
          -0.789556783280647,
          0.3392864194491249,
          0.790166279806434,
          1.0259494794903965,
          0.27094021554193,
          1.4829223336581099,
          -0.23293511983863718,
          0.6859245229420942,
          0.5874723324937035,
          0.48557210628845787,
          -0.12662879963201118,
          0.9212668798284969,
          -1.2223765090701693,
          -0.029869681236115303,
          -1.8045036109927406,
          -1.9155662026040001,
          -0.536847880512402,
          0.34557732447025485,
          -0.3892917688322118
         ],
         "xaxis": "x6",
         "yaxis": "y6"
        },
        {
         "line": {
          "color": "rgba(128, 128, 128, 1.0)",
          "dash": "solid",
          "shape": "linear",
          "width": 1.3
         },
         "marker": {
          "size": 2,
          "symbol": "circle"
         },
         "mode": "markers",
         "name": "B",
         "text": "",
         "type": "scatter",
         "x": [
          -0.05043432899368031,
          0.6383985377849963,
          -0.5552104688070715,
          0.8733894761659502,
          -0.27973637356455144,
          0.3099198456823666,
          -0.88279025720947,
          1.5867347920708614,
          -1.1682939504435819,
          -0.5398035790255533,
          2.6047288884328945,
          -0.28450355075339073,
          -0.18411605199644634,
          -0.7087374298548398,
          1.6390687626183504,
          -0.5433847348255266,
          -0.29102616128048525,
          0.3867966969243918,
          -0.5738198681006161,
          -0.8467916453984707,
          0.5297032633356104,
          0.34987822330080387,
          0.6945634517303589,
          0.7468221924352632,
          1.900151098890552,
          -0.621938312162858,
          -0.16362440785066615,
          0.3584161327870031,
          0.6084762558026675,
          -0.9318463866260959,
          -1.7149056880168532,
          -0.10128499226000447,
          0.19637626627572874,
          0.2969997402467644,
          -0.5831229998849408,
          -0.6053470808434863,
          -0.519200620192376,
          1.132014562741578,
          2.14583857085064,
          1.1082670904027203,
          0.9915436083465138,
          0.35064782627575036,
          -0.8718624044359158,
          -0.7711209904670029,
          1.8434894167073075,
          -0.881682946775223,
          2.2198785443767775,
          -0.9020703454223811,
          -2.0310072709609477,
          0.0859417760441214,
          -0.5497913464560333,
          -0.8896792267662379,
          0.0501728664565584,
          -1.4144078755079297,
          -1.2547969891058721,
          0.4244866684966232,
          0.5746324117859202,
          0.23125449383760513,
          0.6734505472376046,
          0.9481492334735947,
          -0.15602051696246882,
          -0.27681846353088535,
          0.6879641900610127,
          -0.5650179988527602,
          -0.6727447321566563,
          0.8055284608391798,
          -0.07814871647186178,
          0.5983513117146525,
          0.39409971719175724,
          0.2652492847240678,
          -1.1594253536181287,
          1.5322943352645402,
          0.29524129053229714,
          -0.21092943984307086,
          0.7241385453207122,
          -0.5075445506409986,
          -1.0399223896721543,
          -2.6981299945993604,
          0.444443913026689,
          -0.2080299799409404,
          -0.48655055177461065,
          -0.24397033164856838,
          -0.1394653239772895,
          0.8566379732556342,
          -0.40928402997218166,
          -0.8146622155618218,
          -0.12037812400398963,
          -0.0004340621273201351,
          2.4020992968620263,
          0.8084817681546183,
          0.3342529934430462,
          0.21356656246612182,
          -0.7660769594747029,
          -0.1688787331661423,
          -0.8175685865248625,
          1.1337186472505991,
          -0.8818864274262241,
          -0.6262697386361157,
          -1.587580606392134,
          1.3878120685001782
         ],
         "xaxis": "x7",
         "y": [
          -0.821596800402655,
          0.5664394505597601,
          0.5089641346070292,
          -0.2592635248813433,
          1.1425648848092516,
          0.1303293725182424,
          -0.7452599453081017,
          0.6807839819422564,
          -0.03025028909446263,
          -0.7216948550717397,
          0.012099971974348565,
          -1.9328018674909626,
          0.2940669437690773,
          -0.6425845565868856,
          -1.274457701503331,
          -0.31820163749691893,
          -0.9201990535926323,
          -1.3082244088756303,
          0.9672470890932595,
          0.5604202824371384,
          -0.7169037558756315,
          0.5214208294070508,
          0.005276194451701883,
          1.34131395639202,
          0.862730069774194,
          0.444210324881266,
          0.7166122997543846,
          0.5905621985926649,
          -0.6123356568653066,
          -0.526925454627251,
          0.3566581207234709,
          -0.7958593703435825,
          0.4820928557493119,
          2.082313812263963,
          1.2477493754732194,
          0.4347371625321479,
          -0.5524659931146368,
          -0.8005632090645551,
          -0.49586200765958227,
          0.7363425104966456,
          -0.5004712861884172,
          1.0482761927570294,
          -0.6137346570027824,
          -0.03968309123000246,
          -0.3226370483232409,
          -0.9003242820526284,
          -0.4726691235269847,
          1.468411024145207,
          -0.45566617797248504,
          0.07953301178126826,
          0.5357369360643719,
          -0.08765107497054818,
          -1.426308343534027,
          0.819068484709911,
          1.8086881553071021,
          0.40025853155354885,
          -0.8893840863646113,
          0.9387138657020594,
          0.6986426191038498,
          0.43740462673617786,
          0.6644892611484586,
          0.0311752431301281,
          -0.8240084892443692,
          1.5178420616192276,
          0.014463322301807217,
          -0.07506796365150185,
          0.25267110665442416,
          0.9536021445007004,
          -0.021310183431371237,
          -1.3114035432534275,
          0.8592510660239445,
          -1.2507752033737798,
          1.4246620884121426,
          1.1027173115312447,
          0.6118120227281758,
          -0.7975020166108695,
          -1.462540048851282,
          0.6827294493991927,
          0.5334301271174584,
          0.7294526884023559,
          -0.04388537975766861,
          -0.789556783280647,
          0.3392864194491249,
          0.790166279806434,
          1.0259494794903965,
          0.27094021554193,
          1.4829223336581099,
          -0.23293511983863718,
          0.6859245229420942,
          0.5874723324937035,
          0.48557210628845787,
          -0.12662879963201118,
          0.9212668798284969,
          -1.2223765090701693,
          -0.029869681236115303,
          -1.8045036109927406,
          -1.9155662026040001,
          -0.536847880512402,
          0.34557732447025485,
          -0.3892917688322118
         ],
         "yaxis": "y7"
        },
        {
         "line": {
          "color": "rgba(128, 128, 128, 1.0)",
          "dash": "solid",
          "shape": "linear",
          "width": 1.3
         },
         "marker": {
          "size": 2,
          "symbol": "circle"
         },
         "mode": "markers",
         "name": "B",
         "text": "",
         "type": "scatter",
         "x": [
          0.5453066085348863,
          0.6297272301796784,
          -0.9401461784548403,
          -0.9847733132602441,
          1.509088854044453,
          -1.7000718360475824,
          -1.2225246766948081,
          1.3568654711368602,
          0.22949621448467727,
          2.1801712492246623,
          0.5837170028026545,
          0.24891769712044948,
          0.10317662432857874,
          -1.4088141062786053,
          3.114453696537187,
          0.5834183604615801,
          -0.5741527118434024,
          -1.1152938765819431,
          -0.32064879042738254,
          -0.0028248826754078134,
          -1.0740947558270184,
          -1.145910377161432,
          -1.622254906735283,
          0.0849850233504138,
          0.48170159146795744,
          0.1577755528307472,
          -0.504127259110801,
          -0.42063541220074924,
          0.7892685553129059,
          0.5268042161431765,
          1.2662485409933102,
          1.2956511293072994,
          -1.9576037803587114,
          0.5811261923984811,
          1.8785462043575325,
          -0.08774836819701964,
          0.9936591690188294,
          0.20979789911097893,
          0.9783870564757947,
          -0.4828364341183934,
          0.7638656251918456,
          -0.10031401419564683,
          0.6256444425530976,
          1.474091024374885,
          -1.8210439918869357,
          -0.6306310693510034,
          -1.249298484344971,
          -1.999155382645612,
          0.46224949849096975,
          -0.34470294101095705,
          1.038300340305395,
          -0.884885731263254,
          -0.6201625925282921,
          0.5184519198587142,
          0.43543105924330205,
          -0.7227359721398886,
          -0.7755191591579904,
          -1.0755675808765595,
          0.8544324240378218,
          2.076530741297135,
          0.43393973919277723,
          -0.4690057057030747,
          1.6062580004266929,
          1.3388694692214416,
          0.3555205791346771,
          0.13372868023617268,
          -1.274558124113613,
          0.007648624125840822,
          -1.1725752578112267,
          -0.4476181800792881,
          1.025402172731115,
          -0.9778778830870949,
          -1.9127435863256657,
          0.7662278656128317,
          1.7013257856725703,
          1.227232519758253,
          -0.07606912837548144,
          0.5952707419086611,
          0.18385146042710004,
          -0.6123272648027931,
          -0.3200931051252156,
          0.6388727081193947,
          0.5438565635317469,
          0.4985924271650018,
          1.582456123753077,
          0.00900868556309942,
          -0.3661353184511324,
          -0.5282883669256038,
          0.1620926442176821,
          1.5666749409075835,
          0.3472465771172096,
          0.2287517566522857,
          0.8253230381114772,
          -1.3204961957638008,
          1.2104316254647076,
          -0.8837493643965285,
          1.5207769567087257,
          -1.8632609220655565,
          0.3257742103009992,
          0.6961644380276888
         ],
         "xaxis": "x8",
         "y": [
          -0.821596800402655,
          0.5664394505597601,
          0.5089641346070292,
          -0.2592635248813433,
          1.1425648848092516,
          0.1303293725182424,
          -0.7452599453081017,
          0.6807839819422564,
          -0.03025028909446263,
          -0.7216948550717397,
          0.012099971974348565,
          -1.9328018674909626,
          0.2940669437690773,
          -0.6425845565868856,
          -1.274457701503331,
          -0.31820163749691893,
          -0.9201990535926323,
          -1.3082244088756303,
          0.9672470890932595,
          0.5604202824371384,
          -0.7169037558756315,
          0.5214208294070508,
          0.005276194451701883,
          1.34131395639202,
          0.862730069774194,
          0.444210324881266,
          0.7166122997543846,
          0.5905621985926649,
          -0.6123356568653066,
          -0.526925454627251,
          0.3566581207234709,
          -0.7958593703435825,
          0.4820928557493119,
          2.082313812263963,
          1.2477493754732194,
          0.4347371625321479,
          -0.5524659931146368,
          -0.8005632090645551,
          -0.49586200765958227,
          0.7363425104966456,
          -0.5004712861884172,
          1.0482761927570294,
          -0.6137346570027824,
          -0.03968309123000246,
          -0.3226370483232409,
          -0.9003242820526284,
          -0.4726691235269847,
          1.468411024145207,
          -0.45566617797248504,
          0.07953301178126826,
          0.5357369360643719,
          -0.08765107497054818,
          -1.426308343534027,
          0.819068484709911,
          1.8086881553071021,
          0.40025853155354885,
          -0.8893840863646113,
          0.9387138657020594,
          0.6986426191038498,
          0.43740462673617786,
          0.6644892611484586,
          0.0311752431301281,
          -0.8240084892443692,
          1.5178420616192276,
          0.014463322301807217,
          -0.07506796365150185,
          0.25267110665442416,
          0.9536021445007004,
          -0.021310183431371237,
          -1.3114035432534275,
          0.8592510660239445,
          -1.2507752033737798,
          1.4246620884121426,
          1.1027173115312447,
          0.6118120227281758,
          -0.7975020166108695,
          -1.462540048851282,
          0.6827294493991927,
          0.5334301271174584,
          0.7294526884023559,
          -0.04388537975766861,
          -0.789556783280647,
          0.3392864194491249,
          0.790166279806434,
          1.0259494794903965,
          0.27094021554193,
          1.4829223336581099,
          -0.23293511983863718,
          0.6859245229420942,
          0.5874723324937035,
          0.48557210628845787,
          -0.12662879963201118,
          0.9212668798284969,
          -1.2223765090701693,
          -0.029869681236115303,
          -1.8045036109927406,
          -1.9155662026040001,
          -0.536847880512402,
          0.34557732447025485,
          -0.3892917688322118
         ],
         "yaxis": "y8"
        },
        {
         "line": {
          "color": "rgba(128, 128, 128, 1.0)",
          "dash": "solid",
          "shape": "linear",
          "width": 1.3
         },
         "marker": {
          "size": 2,
          "symbol": "circle"
         },
         "mode": "markers",
         "name": "C",
         "text": "",
         "type": "scatter",
         "x": [
          -1.149882228543045,
          1.5362385410467798,
          0.3932379374579331,
          -2.059996463523254,
          0.09562991677781363,
          -0.1844539287632311,
          2.3418220729645576,
          -0.43975047658280936,
          0.6288630050374875,
          -0.030326212811700944,
          -1.702156021656865,
          -1.517666528581438,
          1.19528182618035,
          -0.9288515943816018,
          0.2672440911504483,
          -0.4002975415796906,
          -1.2173180116996651,
          0.9662247412467714,
          -1.9290761726699661,
          1.249919408423394,
          -0.6783813256393709,
          -0.7888541279691633,
          -2.7701270507949274,
          -0.4570081697608714,
          -1.5754577270896186,
          1.7040742114772185,
          -1.323623647403465,
          -1.0710918640009173,
          0.2187213850037935,
          -0.07078716233479242,
          -1.303646959301516,
          2.1897266317892035,
          0.13093518856030348,
          -0.9903480467852114,
          0.33671892236565953,
          -1.1556963538417262,
          -0.2773860242357469,
          1.9377494811247495,
          0.1423953006490988,
          0.6731945716487792,
          -0.46541278669836533,
          -0.714379146180877,
          1.0651922056412366,
          0.3114333896682094,
          -0.29224469547465676,
          -0.6358918139816263,
          -0.06286318467275165,
          0.07858067675403434,
          -0.02010629030746235,
          0.9735632755624417,
          0.3806941990300737,
          0.9555634570784103,
          -0.38220496895255784,
          -0.22327324528616546,
          -1.8998284305790532,
          -0.24424740920339258,
          -0.02526692348391983,
          -0.1382620224959738,
          1.395861014773399,
          -0.3604338840902675,
          0.3563945466276664,
          -0.07645210423467486,
          1.058060157864064,
          0.03543017928138459,
          0.32199934259140944,
          0.7294917431182483,
          0.16221584077406218,
          0.44579793102551135,
          -0.06772507530824512,
          0.39109205187050505,
          -0.7385195761252955,
          -1.2023650450948926,
          -1.3018179686182045,
          -0.7588769767804764,
          0.8540615931350239,
          0.7937811845169089,
          -0.11330210909059032,
          0.9786046847077196,
          0.1026403652012129,
          -0.6973082302186342,
          -0.7309060647842065,
          -0.3824059171264001,
          0.5322395624685383,
          0.5520881490592399,
          0.7893147543534774,
          0.9593248351973666,
          0.08953894702720594,
          -0.10201225506825605,
          -0.112709501292115,
          -0.6104114734459825,
          0.4274545255274656,
          0.3232725058320922,
          0.14213070118669957,
          -0.7675916048632497,
          -0.15544652729455274,
          -0.6522117023376075,
          1.7648913777096549,
          -1.0343556208880231,
          0.6291210941714808,
          -0.2714321671685072
         ],
         "xaxis": "x9",
         "y": [
          -0.05043432899368031,
          0.6383985377849963,
          -0.5552104688070715,
          0.8733894761659502,
          -0.27973637356455144,
          0.3099198456823666,
          -0.88279025720947,
          1.5867347920708614,
          -1.1682939504435819,
          -0.5398035790255533,
          2.6047288884328945,
          -0.28450355075339073,
          -0.18411605199644634,
          -0.7087374298548398,
          1.6390687626183504,
          -0.5433847348255266,
          -0.29102616128048525,
          0.3867966969243918,
          -0.5738198681006161,
          -0.8467916453984707,
          0.5297032633356104,
          0.34987822330080387,
          0.6945634517303589,
          0.7468221924352632,
          1.900151098890552,
          -0.621938312162858,
          -0.16362440785066615,
          0.3584161327870031,
          0.6084762558026675,
          -0.9318463866260959,
          -1.7149056880168532,
          -0.10128499226000447,
          0.19637626627572874,
          0.2969997402467644,
          -0.5831229998849408,
          -0.6053470808434863,
          -0.519200620192376,
          1.132014562741578,
          2.14583857085064,
          1.1082670904027203,
          0.9915436083465138,
          0.35064782627575036,
          -0.8718624044359158,
          -0.7711209904670029,
          1.8434894167073075,
          -0.881682946775223,
          2.2198785443767775,
          -0.9020703454223811,
          -2.0310072709609477,
          0.0859417760441214,
          -0.5497913464560333,
          -0.8896792267662379,
          0.0501728664565584,
          -1.4144078755079297,
          -1.2547969891058721,
          0.4244866684966232,
          0.5746324117859202,
          0.23125449383760513,
          0.6734505472376046,
          0.9481492334735947,
          -0.15602051696246882,
          -0.27681846353088535,
          0.6879641900610127,
          -0.5650179988527602,
          -0.6727447321566563,
          0.8055284608391798,
          -0.07814871647186178,
          0.5983513117146525,
          0.39409971719175724,
          0.2652492847240678,
          -1.1594253536181287,
          1.5322943352645402,
          0.29524129053229714,
          -0.21092943984307086,
          0.7241385453207122,
          -0.5075445506409986,
          -1.0399223896721543,
          -2.6981299945993604,
          0.444443913026689,
          -0.2080299799409404,
          -0.48655055177461065,
          -0.24397033164856838,
          -0.1394653239772895,
          0.8566379732556342,
          -0.40928402997218166,
          -0.8146622155618218,
          -0.12037812400398963,
          -0.0004340621273201351,
          2.4020992968620263,
          0.8084817681546183,
          0.3342529934430462,
          0.21356656246612182,
          -0.7660769594747029,
          -0.1688787331661423,
          -0.8175685865248625,
          1.1337186472505991,
          -0.8818864274262241,
          -0.6262697386361157,
          -1.587580606392134,
          1.3878120685001782
         ],
         "yaxis": "y9"
        },
        {
         "line": {
          "color": "rgba(128, 128, 128, 1.0)",
          "dash": "solid",
          "shape": "linear",
          "width": 1.3
         },
         "marker": {
          "size": 2,
          "symbol": "circle"
         },
         "mode": "markers",
         "name": "C",
         "text": "",
         "type": "scatter",
         "x": [
          -0.821596800402655,
          0.5664394505597601,
          0.5089641346070292,
          -0.2592635248813433,
          1.1425648848092516,
          0.1303293725182424,
          -0.7452599453081017,
          0.6807839819422564,
          -0.03025028909446263,
          -0.7216948550717397,
          0.012099971974348565,
          -1.9328018674909626,
          0.2940669437690773,
          -0.6425845565868856,
          -1.274457701503331,
          -0.31820163749691893,
          -0.9201990535926323,
          -1.3082244088756303,
          0.9672470890932595,
          0.5604202824371384,
          -0.7169037558756315,
          0.5214208294070508,
          0.005276194451701883,
          1.34131395639202,
          0.862730069774194,
          0.444210324881266,
          0.7166122997543846,
          0.5905621985926649,
          -0.6123356568653066,
          -0.526925454627251,
          0.3566581207234709,
          -0.7958593703435825,
          0.4820928557493119,
          2.082313812263963,
          1.2477493754732194,
          0.4347371625321479,
          -0.5524659931146368,
          -0.8005632090645551,
          -0.49586200765958227,
          0.7363425104966456,
          -0.5004712861884172,
          1.0482761927570294,
          -0.6137346570027824,
          -0.03968309123000246,
          -0.3226370483232409,
          -0.9003242820526284,
          -0.4726691235269847,
          1.468411024145207,
          -0.45566617797248504,
          0.07953301178126826,
          0.5357369360643719,
          -0.08765107497054818,
          -1.426308343534027,
          0.819068484709911,
          1.8086881553071021,
          0.40025853155354885,
          -0.8893840863646113,
          0.9387138657020594,
          0.6986426191038498,
          0.43740462673617786,
          0.6644892611484586,
          0.0311752431301281,
          -0.8240084892443692,
          1.5178420616192276,
          0.014463322301807217,
          -0.07506796365150185,
          0.25267110665442416,
          0.9536021445007004,
          -0.021310183431371237,
          -1.3114035432534275,
          0.8592510660239445,
          -1.2507752033737798,
          1.4246620884121426,
          1.1027173115312447,
          0.6118120227281758,
          -0.7975020166108695,
          -1.462540048851282,
          0.6827294493991927,
          0.5334301271174584,
          0.7294526884023559,
          -0.04388537975766861,
          -0.789556783280647,
          0.3392864194491249,
          0.790166279806434,
          1.0259494794903965,
          0.27094021554193,
          1.4829223336581099,
          -0.23293511983863718,
          0.6859245229420942,
          0.5874723324937035,
          0.48557210628845787,
          -0.12662879963201118,
          0.9212668798284969,
          -1.2223765090701693,
          -0.029869681236115303,
          -1.8045036109927406,
          -1.9155662026040001,
          -0.536847880512402,
          0.34557732447025485,
          -0.3892917688322118
         ],
         "xaxis": "x10",
         "y": [
          -0.05043432899368031,
          0.6383985377849963,
          -0.5552104688070715,
          0.8733894761659502,
          -0.27973637356455144,
          0.3099198456823666,
          -0.88279025720947,
          1.5867347920708614,
          -1.1682939504435819,
          -0.5398035790255533,
          2.6047288884328945,
          -0.28450355075339073,
          -0.18411605199644634,
          -0.7087374298548398,
          1.6390687626183504,
          -0.5433847348255266,
          -0.29102616128048525,
          0.3867966969243918,
          -0.5738198681006161,
          -0.8467916453984707,
          0.5297032633356104,
          0.34987822330080387,
          0.6945634517303589,
          0.7468221924352632,
          1.900151098890552,
          -0.621938312162858,
          -0.16362440785066615,
          0.3584161327870031,
          0.6084762558026675,
          -0.9318463866260959,
          -1.7149056880168532,
          -0.10128499226000447,
          0.19637626627572874,
          0.2969997402467644,
          -0.5831229998849408,
          -0.6053470808434863,
          -0.519200620192376,
          1.132014562741578,
          2.14583857085064,
          1.1082670904027203,
          0.9915436083465138,
          0.35064782627575036,
          -0.8718624044359158,
          -0.7711209904670029,
          1.8434894167073075,
          -0.881682946775223,
          2.2198785443767775,
          -0.9020703454223811,
          -2.0310072709609477,
          0.0859417760441214,
          -0.5497913464560333,
          -0.8896792267662379,
          0.0501728664565584,
          -1.4144078755079297,
          -1.2547969891058721,
          0.4244866684966232,
          0.5746324117859202,
          0.23125449383760513,
          0.6734505472376046,
          0.9481492334735947,
          -0.15602051696246882,
          -0.27681846353088535,
          0.6879641900610127,
          -0.5650179988527602,
          -0.6727447321566563,
          0.8055284608391798,
          -0.07814871647186178,
          0.5983513117146525,
          0.39409971719175724,
          0.2652492847240678,
          -1.1594253536181287,
          1.5322943352645402,
          0.29524129053229714,
          -0.21092943984307086,
          0.7241385453207122,
          -0.5075445506409986,
          -1.0399223896721543,
          -2.6981299945993604,
          0.444443913026689,
          -0.2080299799409404,
          -0.48655055177461065,
          -0.24397033164856838,
          -0.1394653239772895,
          0.8566379732556342,
          -0.40928402997218166,
          -0.8146622155618218,
          -0.12037812400398963,
          -0.0004340621273201351,
          2.4020992968620263,
          0.8084817681546183,
          0.3342529934430462,
          0.21356656246612182,
          -0.7660769594747029,
          -0.1688787331661423,
          -0.8175685865248625,
          1.1337186472505991,
          -0.8818864274262241,
          -0.6262697386361157,
          -1.587580606392134,
          1.3878120685001782
         ],
         "yaxis": "y10"
        },
        {
         "histfunc": "count",
         "histnorm": "",
         "marker": {
          "color": "rgba(50, 171, 96, 1.0)",
          "line": {
           "color": "#4D5663",
           "width": 1.3
          }
         },
         "name": "C",
         "nbinsx": 10,
         "opacity": 0.8,
         "orientation": "v",
         "type": "histogram",
         "x": [
          -0.05043432899368031,
          0.6383985377849963,
          -0.5552104688070715,
          0.8733894761659502,
          -0.27973637356455144,
          0.3099198456823666,
          -0.88279025720947,
          1.5867347920708614,
          -1.1682939504435819,
          -0.5398035790255533,
          2.6047288884328945,
          -0.28450355075339073,
          -0.18411605199644634,
          -0.7087374298548398,
          1.6390687626183504,
          -0.5433847348255266,
          -0.29102616128048525,
          0.3867966969243918,
          -0.5738198681006161,
          -0.8467916453984707,
          0.5297032633356104,
          0.34987822330080387,
          0.6945634517303589,
          0.7468221924352632,
          1.900151098890552,
          -0.621938312162858,
          -0.16362440785066615,
          0.3584161327870031,
          0.6084762558026675,
          -0.9318463866260959,
          -1.7149056880168532,
          -0.10128499226000447,
          0.19637626627572874,
          0.2969997402467644,
          -0.5831229998849408,
          -0.6053470808434863,
          -0.519200620192376,
          1.132014562741578,
          2.14583857085064,
          1.1082670904027203,
          0.9915436083465138,
          0.35064782627575036,
          -0.8718624044359158,
          -0.7711209904670029,
          1.8434894167073075,
          -0.881682946775223,
          2.2198785443767775,
          -0.9020703454223811,
          -2.0310072709609477,
          0.0859417760441214,
          -0.5497913464560333,
          -0.8896792267662379,
          0.0501728664565584,
          -1.4144078755079297,
          -1.2547969891058721,
          0.4244866684966232,
          0.5746324117859202,
          0.23125449383760513,
          0.6734505472376046,
          0.9481492334735947,
          -0.15602051696246882,
          -0.27681846353088535,
          0.6879641900610127,
          -0.5650179988527602,
          -0.6727447321566563,
          0.8055284608391798,
          -0.07814871647186178,
          0.5983513117146525,
          0.39409971719175724,
          0.2652492847240678,
          -1.1594253536181287,
          1.5322943352645402,
          0.29524129053229714,
          -0.21092943984307086,
          0.7241385453207122,
          -0.5075445506409986,
          -1.0399223896721543,
          -2.6981299945993604,
          0.444443913026689,
          -0.2080299799409404,
          -0.48655055177461065,
          -0.24397033164856838,
          -0.1394653239772895,
          0.8566379732556342,
          -0.40928402997218166,
          -0.8146622155618218,
          -0.12037812400398963,
          -0.0004340621273201351,
          2.4020992968620263,
          0.8084817681546183,
          0.3342529934430462,
          0.21356656246612182,
          -0.7660769594747029,
          -0.1688787331661423,
          -0.8175685865248625,
          1.1337186472505991,
          -0.8818864274262241,
          -0.6262697386361157,
          -1.587580606392134,
          1.3878120685001782
         ],
         "xaxis": "x11",
         "yaxis": "y11"
        },
        {
         "line": {
          "color": "rgba(128, 128, 128, 1.0)",
          "dash": "solid",
          "shape": "linear",
          "width": 1.3
         },
         "marker": {
          "size": 2,
          "symbol": "circle"
         },
         "mode": "markers",
         "name": "C",
         "text": "",
         "type": "scatter",
         "x": [
          0.5453066085348863,
          0.6297272301796784,
          -0.9401461784548403,
          -0.9847733132602441,
          1.509088854044453,
          -1.7000718360475824,
          -1.2225246766948081,
          1.3568654711368602,
          0.22949621448467727,
          2.1801712492246623,
          0.5837170028026545,
          0.24891769712044948,
          0.10317662432857874,
          -1.4088141062786053,
          3.114453696537187,
          0.5834183604615801,
          -0.5741527118434024,
          -1.1152938765819431,
          -0.32064879042738254,
          -0.0028248826754078134,
          -1.0740947558270184,
          -1.145910377161432,
          -1.622254906735283,
          0.0849850233504138,
          0.48170159146795744,
          0.1577755528307472,
          -0.504127259110801,
          -0.42063541220074924,
          0.7892685553129059,
          0.5268042161431765,
          1.2662485409933102,
          1.2956511293072994,
          -1.9576037803587114,
          0.5811261923984811,
          1.8785462043575325,
          -0.08774836819701964,
          0.9936591690188294,
          0.20979789911097893,
          0.9783870564757947,
          -0.4828364341183934,
          0.7638656251918456,
          -0.10031401419564683,
          0.6256444425530976,
          1.474091024374885,
          -1.8210439918869357,
          -0.6306310693510034,
          -1.249298484344971,
          -1.999155382645612,
          0.46224949849096975,
          -0.34470294101095705,
          1.038300340305395,
          -0.884885731263254,
          -0.6201625925282921,
          0.5184519198587142,
          0.43543105924330205,
          -0.7227359721398886,
          -0.7755191591579904,
          -1.0755675808765595,
          0.8544324240378218,
          2.076530741297135,
          0.43393973919277723,
          -0.4690057057030747,
          1.6062580004266929,
          1.3388694692214416,
          0.3555205791346771,
          0.13372868023617268,
          -1.274558124113613,
          0.007648624125840822,
          -1.1725752578112267,
          -0.4476181800792881,
          1.025402172731115,
          -0.9778778830870949,
          -1.9127435863256657,
          0.7662278656128317,
          1.7013257856725703,
          1.227232519758253,
          -0.07606912837548144,
          0.5952707419086611,
          0.18385146042710004,
          -0.6123272648027931,
          -0.3200931051252156,
          0.6388727081193947,
          0.5438565635317469,
          0.4985924271650018,
          1.582456123753077,
          0.00900868556309942,
          -0.3661353184511324,
          -0.5282883669256038,
          0.1620926442176821,
          1.5666749409075835,
          0.3472465771172096,
          0.2287517566522857,
          0.8253230381114772,
          -1.3204961957638008,
          1.2104316254647076,
          -0.8837493643965285,
          1.5207769567087257,
          -1.8632609220655565,
          0.3257742103009992,
          0.6961644380276888
         ],
         "xaxis": "x12",
         "y": [
          -0.05043432899368031,
          0.6383985377849963,
          -0.5552104688070715,
          0.8733894761659502,
          -0.27973637356455144,
          0.3099198456823666,
          -0.88279025720947,
          1.5867347920708614,
          -1.1682939504435819,
          -0.5398035790255533,
          2.6047288884328945,
          -0.28450355075339073,
          -0.18411605199644634,
          -0.7087374298548398,
          1.6390687626183504,
          -0.5433847348255266,
          -0.29102616128048525,
          0.3867966969243918,
          -0.5738198681006161,
          -0.8467916453984707,
          0.5297032633356104,
          0.34987822330080387,
          0.6945634517303589,
          0.7468221924352632,
          1.900151098890552,
          -0.621938312162858,
          -0.16362440785066615,
          0.3584161327870031,
          0.6084762558026675,
          -0.9318463866260959,
          -1.7149056880168532,
          -0.10128499226000447,
          0.19637626627572874,
          0.2969997402467644,
          -0.5831229998849408,
          -0.6053470808434863,
          -0.519200620192376,
          1.132014562741578,
          2.14583857085064,
          1.1082670904027203,
          0.9915436083465138,
          0.35064782627575036,
          -0.8718624044359158,
          -0.7711209904670029,
          1.8434894167073075,
          -0.881682946775223,
          2.2198785443767775,
          -0.9020703454223811,
          -2.0310072709609477,
          0.0859417760441214,
          -0.5497913464560333,
          -0.8896792267662379,
          0.0501728664565584,
          -1.4144078755079297,
          -1.2547969891058721,
          0.4244866684966232,
          0.5746324117859202,
          0.23125449383760513,
          0.6734505472376046,
          0.9481492334735947,
          -0.15602051696246882,
          -0.27681846353088535,
          0.6879641900610127,
          -0.5650179988527602,
          -0.6727447321566563,
          0.8055284608391798,
          -0.07814871647186178,
          0.5983513117146525,
          0.39409971719175724,
          0.2652492847240678,
          -1.1594253536181287,
          1.5322943352645402,
          0.29524129053229714,
          -0.21092943984307086,
          0.7241385453207122,
          -0.5075445506409986,
          -1.0399223896721543,
          -2.6981299945993604,
          0.444443913026689,
          -0.2080299799409404,
          -0.48655055177461065,
          -0.24397033164856838,
          -0.1394653239772895,
          0.8566379732556342,
          -0.40928402997218166,
          -0.8146622155618218,
          -0.12037812400398963,
          -0.0004340621273201351,
          2.4020992968620263,
          0.8084817681546183,
          0.3342529934430462,
          0.21356656246612182,
          -0.7660769594747029,
          -0.1688787331661423,
          -0.8175685865248625,
          1.1337186472505991,
          -0.8818864274262241,
          -0.6262697386361157,
          -1.587580606392134,
          1.3878120685001782
         ],
         "yaxis": "y12"
        },
        {
         "line": {
          "color": "rgba(128, 128, 128, 1.0)",
          "dash": "solid",
          "shape": "linear",
          "width": 1.3
         },
         "marker": {
          "size": 2,
          "symbol": "circle"
         },
         "mode": "markers",
         "name": "D",
         "text": "",
         "type": "scatter",
         "x": [
          -1.149882228543045,
          1.5362385410467798,
          0.3932379374579331,
          -2.059996463523254,
          0.09562991677781363,
          -0.1844539287632311,
          2.3418220729645576,
          -0.43975047658280936,
          0.6288630050374875,
          -0.030326212811700944,
          -1.702156021656865,
          -1.517666528581438,
          1.19528182618035,
          -0.9288515943816018,
          0.2672440911504483,
          -0.4002975415796906,
          -1.2173180116996651,
          0.9662247412467714,
          -1.9290761726699661,
          1.249919408423394,
          -0.6783813256393709,
          -0.7888541279691633,
          -2.7701270507949274,
          -0.4570081697608714,
          -1.5754577270896186,
          1.7040742114772185,
          -1.323623647403465,
          -1.0710918640009173,
          0.2187213850037935,
          -0.07078716233479242,
          -1.303646959301516,
          2.1897266317892035,
          0.13093518856030348,
          -0.9903480467852114,
          0.33671892236565953,
          -1.1556963538417262,
          -0.2773860242357469,
          1.9377494811247495,
          0.1423953006490988,
          0.6731945716487792,
          -0.46541278669836533,
          -0.714379146180877,
          1.0651922056412366,
          0.3114333896682094,
          -0.29224469547465676,
          -0.6358918139816263,
          -0.06286318467275165,
          0.07858067675403434,
          -0.02010629030746235,
          0.9735632755624417,
          0.3806941990300737,
          0.9555634570784103,
          -0.38220496895255784,
          -0.22327324528616546,
          -1.8998284305790532,
          -0.24424740920339258,
          -0.02526692348391983,
          -0.1382620224959738,
          1.395861014773399,
          -0.3604338840902675,
          0.3563945466276664,
          -0.07645210423467486,
          1.058060157864064,
          0.03543017928138459,
          0.32199934259140944,
          0.7294917431182483,
          0.16221584077406218,
          0.44579793102551135,
          -0.06772507530824512,
          0.39109205187050505,
          -0.7385195761252955,
          -1.2023650450948926,
          -1.3018179686182045,
          -0.7588769767804764,
          0.8540615931350239,
          0.7937811845169089,
          -0.11330210909059032,
          0.9786046847077196,
          0.1026403652012129,
          -0.6973082302186342,
          -0.7309060647842065,
          -0.3824059171264001,
          0.5322395624685383,
          0.5520881490592399,
          0.7893147543534774,
          0.9593248351973666,
          0.08953894702720594,
          -0.10201225506825605,
          -0.112709501292115,
          -0.6104114734459825,
          0.4274545255274656,
          0.3232725058320922,
          0.14213070118669957,
          -0.7675916048632497,
          -0.15544652729455274,
          -0.6522117023376075,
          1.7648913777096549,
          -1.0343556208880231,
          0.6291210941714808,
          -0.2714321671685072
         ],
         "xaxis": "x13",
         "y": [
          0.5453066085348863,
          0.6297272301796784,
          -0.9401461784548403,
          -0.9847733132602441,
          1.509088854044453,
          -1.7000718360475824,
          -1.2225246766948081,
          1.3568654711368602,
          0.22949621448467727,
          2.1801712492246623,
          0.5837170028026545,
          0.24891769712044948,
          0.10317662432857874,
          -1.4088141062786053,
          3.114453696537187,
          0.5834183604615801,
          -0.5741527118434024,
          -1.1152938765819431,
          -0.32064879042738254,
          -0.0028248826754078134,
          -1.0740947558270184,
          -1.145910377161432,
          -1.622254906735283,
          0.0849850233504138,
          0.48170159146795744,
          0.1577755528307472,
          -0.504127259110801,
          -0.42063541220074924,
          0.7892685553129059,
          0.5268042161431765,
          1.2662485409933102,
          1.2956511293072994,
          -1.9576037803587114,
          0.5811261923984811,
          1.8785462043575325,
          -0.08774836819701964,
          0.9936591690188294,
          0.20979789911097893,
          0.9783870564757947,
          -0.4828364341183934,
          0.7638656251918456,
          -0.10031401419564683,
          0.6256444425530976,
          1.474091024374885,
          -1.8210439918869357,
          -0.6306310693510034,
          -1.249298484344971,
          -1.999155382645612,
          0.46224949849096975,
          -0.34470294101095705,
          1.038300340305395,
          -0.884885731263254,
          -0.6201625925282921,
          0.5184519198587142,
          0.43543105924330205,
          -0.7227359721398886,
          -0.7755191591579904,
          -1.0755675808765595,
          0.8544324240378218,
          2.076530741297135,
          0.43393973919277723,
          -0.4690057057030747,
          1.6062580004266929,
          1.3388694692214416,
          0.3555205791346771,
          0.13372868023617268,
          -1.274558124113613,
          0.007648624125840822,
          -1.1725752578112267,
          -0.4476181800792881,
          1.025402172731115,
          -0.9778778830870949,
          -1.9127435863256657,
          0.7662278656128317,
          1.7013257856725703,
          1.227232519758253,
          -0.07606912837548144,
          0.5952707419086611,
          0.18385146042710004,
          -0.6123272648027931,
          -0.3200931051252156,
          0.6388727081193947,
          0.5438565635317469,
          0.4985924271650018,
          1.582456123753077,
          0.00900868556309942,
          -0.3661353184511324,
          -0.5282883669256038,
          0.1620926442176821,
          1.5666749409075835,
          0.3472465771172096,
          0.2287517566522857,
          0.8253230381114772,
          -1.3204961957638008,
          1.2104316254647076,
          -0.8837493643965285,
          1.5207769567087257,
          -1.8632609220655565,
          0.3257742103009992,
          0.6961644380276888
         ],
         "yaxis": "y13"
        },
        {
         "line": {
          "color": "rgba(128, 128, 128, 1.0)",
          "dash": "solid",
          "shape": "linear",
          "width": 1.3
         },
         "marker": {
          "size": 2,
          "symbol": "circle"
         },
         "mode": "markers",
         "name": "D",
         "text": "",
         "type": "scatter",
         "x": [
          -0.821596800402655,
          0.5664394505597601,
          0.5089641346070292,
          -0.2592635248813433,
          1.1425648848092516,
          0.1303293725182424,
          -0.7452599453081017,
          0.6807839819422564,
          -0.03025028909446263,
          -0.7216948550717397,
          0.012099971974348565,
          -1.9328018674909626,
          0.2940669437690773,
          -0.6425845565868856,
          -1.274457701503331,
          -0.31820163749691893,
          -0.9201990535926323,
          -1.3082244088756303,
          0.9672470890932595,
          0.5604202824371384,
          -0.7169037558756315,
          0.5214208294070508,
          0.005276194451701883,
          1.34131395639202,
          0.862730069774194,
          0.444210324881266,
          0.7166122997543846,
          0.5905621985926649,
          -0.6123356568653066,
          -0.526925454627251,
          0.3566581207234709,
          -0.7958593703435825,
          0.4820928557493119,
          2.082313812263963,
          1.2477493754732194,
          0.4347371625321479,
          -0.5524659931146368,
          -0.8005632090645551,
          -0.49586200765958227,
          0.7363425104966456,
          -0.5004712861884172,
          1.0482761927570294,
          -0.6137346570027824,
          -0.03968309123000246,
          -0.3226370483232409,
          -0.9003242820526284,
          -0.4726691235269847,
          1.468411024145207,
          -0.45566617797248504,
          0.07953301178126826,
          0.5357369360643719,
          -0.08765107497054818,
          -1.426308343534027,
          0.819068484709911,
          1.8086881553071021,
          0.40025853155354885,
          -0.8893840863646113,
          0.9387138657020594,
          0.6986426191038498,
          0.43740462673617786,
          0.6644892611484586,
          0.0311752431301281,
          -0.8240084892443692,
          1.5178420616192276,
          0.014463322301807217,
          -0.07506796365150185,
          0.25267110665442416,
          0.9536021445007004,
          -0.021310183431371237,
          -1.3114035432534275,
          0.8592510660239445,
          -1.2507752033737798,
          1.4246620884121426,
          1.1027173115312447,
          0.6118120227281758,
          -0.7975020166108695,
          -1.462540048851282,
          0.6827294493991927,
          0.5334301271174584,
          0.7294526884023559,
          -0.04388537975766861,
          -0.789556783280647,
          0.3392864194491249,
          0.790166279806434,
          1.0259494794903965,
          0.27094021554193,
          1.4829223336581099,
          -0.23293511983863718,
          0.6859245229420942,
          0.5874723324937035,
          0.48557210628845787,
          -0.12662879963201118,
          0.9212668798284969,
          -1.2223765090701693,
          -0.029869681236115303,
          -1.8045036109927406,
          -1.9155662026040001,
          -0.536847880512402,
          0.34557732447025485,
          -0.3892917688322118
         ],
         "xaxis": "x14",
         "y": [
          0.5453066085348863,
          0.6297272301796784,
          -0.9401461784548403,
          -0.9847733132602441,
          1.509088854044453,
          -1.7000718360475824,
          -1.2225246766948081,
          1.3568654711368602,
          0.22949621448467727,
          2.1801712492246623,
          0.5837170028026545,
          0.24891769712044948,
          0.10317662432857874,
          -1.4088141062786053,
          3.114453696537187,
          0.5834183604615801,
          -0.5741527118434024,
          -1.1152938765819431,
          -0.32064879042738254,
          -0.0028248826754078134,
          -1.0740947558270184,
          -1.145910377161432,
          -1.622254906735283,
          0.0849850233504138,
          0.48170159146795744,
          0.1577755528307472,
          -0.504127259110801,
          -0.42063541220074924,
          0.7892685553129059,
          0.5268042161431765,
          1.2662485409933102,
          1.2956511293072994,
          -1.9576037803587114,
          0.5811261923984811,
          1.8785462043575325,
          -0.08774836819701964,
          0.9936591690188294,
          0.20979789911097893,
          0.9783870564757947,
          -0.4828364341183934,
          0.7638656251918456,
          -0.10031401419564683,
          0.6256444425530976,
          1.474091024374885,
          -1.8210439918869357,
          -0.6306310693510034,
          -1.249298484344971,
          -1.999155382645612,
          0.46224949849096975,
          -0.34470294101095705,
          1.038300340305395,
          -0.884885731263254,
          -0.6201625925282921,
          0.5184519198587142,
          0.43543105924330205,
          -0.7227359721398886,
          -0.7755191591579904,
          -1.0755675808765595,
          0.8544324240378218,
          2.076530741297135,
          0.43393973919277723,
          -0.4690057057030747,
          1.6062580004266929,
          1.3388694692214416,
          0.3555205791346771,
          0.13372868023617268,
          -1.274558124113613,
          0.007648624125840822,
          -1.1725752578112267,
          -0.4476181800792881,
          1.025402172731115,
          -0.9778778830870949,
          -1.9127435863256657,
          0.7662278656128317,
          1.7013257856725703,
          1.227232519758253,
          -0.07606912837548144,
          0.5952707419086611,
          0.18385146042710004,
          -0.6123272648027931,
          -0.3200931051252156,
          0.6388727081193947,
          0.5438565635317469,
          0.4985924271650018,
          1.582456123753077,
          0.00900868556309942,
          -0.3661353184511324,
          -0.5282883669256038,
          0.1620926442176821,
          1.5666749409075835,
          0.3472465771172096,
          0.2287517566522857,
          0.8253230381114772,
          -1.3204961957638008,
          1.2104316254647076,
          -0.8837493643965285,
          1.5207769567087257,
          -1.8632609220655565,
          0.3257742103009992,
          0.6961644380276888
         ],
         "yaxis": "y14"
        },
        {
         "line": {
          "color": "rgba(128, 128, 128, 1.0)",
          "dash": "solid",
          "shape": "linear",
          "width": 1.3
         },
         "marker": {
          "size": 2,
          "symbol": "circle"
         },
         "mode": "markers",
         "name": "D",
         "text": "",
         "type": "scatter",
         "x": [
          -0.05043432899368031,
          0.6383985377849963,
          -0.5552104688070715,
          0.8733894761659502,
          -0.27973637356455144,
          0.3099198456823666,
          -0.88279025720947,
          1.5867347920708614,
          -1.1682939504435819,
          -0.5398035790255533,
          2.6047288884328945,
          -0.28450355075339073,
          -0.18411605199644634,
          -0.7087374298548398,
          1.6390687626183504,
          -0.5433847348255266,
          -0.29102616128048525,
          0.3867966969243918,
          -0.5738198681006161,
          -0.8467916453984707,
          0.5297032633356104,
          0.34987822330080387,
          0.6945634517303589,
          0.7468221924352632,
          1.900151098890552,
          -0.621938312162858,
          -0.16362440785066615,
          0.3584161327870031,
          0.6084762558026675,
          -0.9318463866260959,
          -1.7149056880168532,
          -0.10128499226000447,
          0.19637626627572874,
          0.2969997402467644,
          -0.5831229998849408,
          -0.6053470808434863,
          -0.519200620192376,
          1.132014562741578,
          2.14583857085064,
          1.1082670904027203,
          0.9915436083465138,
          0.35064782627575036,
          -0.8718624044359158,
          -0.7711209904670029,
          1.8434894167073075,
          -0.881682946775223,
          2.2198785443767775,
          -0.9020703454223811,
          -2.0310072709609477,
          0.0859417760441214,
          -0.5497913464560333,
          -0.8896792267662379,
          0.0501728664565584,
          -1.4144078755079297,
          -1.2547969891058721,
          0.4244866684966232,
          0.5746324117859202,
          0.23125449383760513,
          0.6734505472376046,
          0.9481492334735947,
          -0.15602051696246882,
          -0.27681846353088535,
          0.6879641900610127,
          -0.5650179988527602,
          -0.6727447321566563,
          0.8055284608391798,
          -0.07814871647186178,
          0.5983513117146525,
          0.39409971719175724,
          0.2652492847240678,
          -1.1594253536181287,
          1.5322943352645402,
          0.29524129053229714,
          -0.21092943984307086,
          0.7241385453207122,
          -0.5075445506409986,
          -1.0399223896721543,
          -2.6981299945993604,
          0.444443913026689,
          -0.2080299799409404,
          -0.48655055177461065,
          -0.24397033164856838,
          -0.1394653239772895,
          0.8566379732556342,
          -0.40928402997218166,
          -0.8146622155618218,
          -0.12037812400398963,
          -0.0004340621273201351,
          2.4020992968620263,
          0.8084817681546183,
          0.3342529934430462,
          0.21356656246612182,
          -0.7660769594747029,
          -0.1688787331661423,
          -0.8175685865248625,
          1.1337186472505991,
          -0.8818864274262241,
          -0.6262697386361157,
          -1.587580606392134,
          1.3878120685001782
         ],
         "xaxis": "x15",
         "y": [
          0.5453066085348863,
          0.6297272301796784,
          -0.9401461784548403,
          -0.9847733132602441,
          1.509088854044453,
          -1.7000718360475824,
          -1.2225246766948081,
          1.3568654711368602,
          0.22949621448467727,
          2.1801712492246623,
          0.5837170028026545,
          0.24891769712044948,
          0.10317662432857874,
          -1.4088141062786053,
          3.114453696537187,
          0.5834183604615801,
          -0.5741527118434024,
          -1.1152938765819431,
          -0.32064879042738254,
          -0.0028248826754078134,
          -1.0740947558270184,
          -1.145910377161432,
          -1.622254906735283,
          0.0849850233504138,
          0.48170159146795744,
          0.1577755528307472,
          -0.504127259110801,
          -0.42063541220074924,
          0.7892685553129059,
          0.5268042161431765,
          1.2662485409933102,
          1.2956511293072994,
          -1.9576037803587114,
          0.5811261923984811,
          1.8785462043575325,
          -0.08774836819701964,
          0.9936591690188294,
          0.20979789911097893,
          0.9783870564757947,
          -0.4828364341183934,
          0.7638656251918456,
          -0.10031401419564683,
          0.6256444425530976,
          1.474091024374885,
          -1.8210439918869357,
          -0.6306310693510034,
          -1.249298484344971,
          -1.999155382645612,
          0.46224949849096975,
          -0.34470294101095705,
          1.038300340305395,
          -0.884885731263254,
          -0.6201625925282921,
          0.5184519198587142,
          0.43543105924330205,
          -0.7227359721398886,
          -0.7755191591579904,
          -1.0755675808765595,
          0.8544324240378218,
          2.076530741297135,
          0.43393973919277723,
          -0.4690057057030747,
          1.6062580004266929,
          1.3388694692214416,
          0.3555205791346771,
          0.13372868023617268,
          -1.274558124113613,
          0.007648624125840822,
          -1.1725752578112267,
          -0.4476181800792881,
          1.025402172731115,
          -0.9778778830870949,
          -1.9127435863256657,
          0.7662278656128317,
          1.7013257856725703,
          1.227232519758253,
          -0.07606912837548144,
          0.5952707419086611,
          0.18385146042710004,
          -0.6123272648027931,
          -0.3200931051252156,
          0.6388727081193947,
          0.5438565635317469,
          0.4985924271650018,
          1.582456123753077,
          0.00900868556309942,
          -0.3661353184511324,
          -0.5282883669256038,
          0.1620926442176821,
          1.5666749409075835,
          0.3472465771172096,
          0.2287517566522857,
          0.8253230381114772,
          -1.3204961957638008,
          1.2104316254647076,
          -0.8837493643965285,
          1.5207769567087257,
          -1.8632609220655565,
          0.3257742103009992,
          0.6961644380276888
         ],
         "yaxis": "y15"
        },
        {
         "histfunc": "count",
         "histnorm": "",
         "marker": {
          "color": "rgba(128, 0, 128, 1.0)",
          "line": {
           "color": "#4D5663",
           "width": 1.3
          }
         },
         "name": "D",
         "nbinsx": 10,
         "opacity": 0.8,
         "orientation": "v",
         "type": "histogram",
         "x": [
          0.5453066085348863,
          0.6297272301796784,
          -0.9401461784548403,
          -0.9847733132602441,
          1.509088854044453,
          -1.7000718360475824,
          -1.2225246766948081,
          1.3568654711368602,
          0.22949621448467727,
          2.1801712492246623,
          0.5837170028026545,
          0.24891769712044948,
          0.10317662432857874,
          -1.4088141062786053,
          3.114453696537187,
          0.5834183604615801,
          -0.5741527118434024,
          -1.1152938765819431,
          -0.32064879042738254,
          -0.0028248826754078134,
          -1.0740947558270184,
          -1.145910377161432,
          -1.622254906735283,
          0.0849850233504138,
          0.48170159146795744,
          0.1577755528307472,
          -0.504127259110801,
          -0.42063541220074924,
          0.7892685553129059,
          0.5268042161431765,
          1.2662485409933102,
          1.2956511293072994,
          -1.9576037803587114,
          0.5811261923984811,
          1.8785462043575325,
          -0.08774836819701964,
          0.9936591690188294,
          0.20979789911097893,
          0.9783870564757947,
          -0.4828364341183934,
          0.7638656251918456,
          -0.10031401419564683,
          0.6256444425530976,
          1.474091024374885,
          -1.8210439918869357,
          -0.6306310693510034,
          -1.249298484344971,
          -1.999155382645612,
          0.46224949849096975,
          -0.34470294101095705,
          1.038300340305395,
          -0.884885731263254,
          -0.6201625925282921,
          0.5184519198587142,
          0.43543105924330205,
          -0.7227359721398886,
          -0.7755191591579904,
          -1.0755675808765595,
          0.8544324240378218,
          2.076530741297135,
          0.43393973919277723,
          -0.4690057057030747,
          1.6062580004266929,
          1.3388694692214416,
          0.3555205791346771,
          0.13372868023617268,
          -1.274558124113613,
          0.007648624125840822,
          -1.1725752578112267,
          -0.4476181800792881,
          1.025402172731115,
          -0.9778778830870949,
          -1.9127435863256657,
          0.7662278656128317,
          1.7013257856725703,
          1.227232519758253,
          -0.07606912837548144,
          0.5952707419086611,
          0.18385146042710004,
          -0.6123272648027931,
          -0.3200931051252156,
          0.6388727081193947,
          0.5438565635317469,
          0.4985924271650018,
          1.582456123753077,
          0.00900868556309942,
          -0.3661353184511324,
          -0.5282883669256038,
          0.1620926442176821,
          1.5666749409075835,
          0.3472465771172096,
          0.2287517566522857,
          0.8253230381114772,
          -1.3204961957638008,
          1.2104316254647076,
          -0.8837493643965285,
          1.5207769567087257,
          -1.8632609220655565,
          0.3257742103009992,
          0.6961644380276888
         ],
         "xaxis": "x16",
         "yaxis": "y16"
        }
       ],
       "layout": {
        "bargap": 0.02,
        "legend": {
         "bgcolor": "#F5F6F9",
         "font": {
          "color": "#4D5663"
         }
        },
        "paper_bgcolor": "#F5F6F9",
        "plot_bgcolor": "#F5F6F9",
        "showlegend": false,
        "template": {
         "data": {
          "bar": [
           {
            "error_x": {
             "color": "#2a3f5f"
            },
            "error_y": {
             "color": "#2a3f5f"
            },
            "marker": {
             "line": {
              "color": "#E5ECF6",
              "width": 0.5
             }
            },
            "type": "bar"
           }
          ],
          "barpolar": [
           {
            "marker": {
             "line": {
              "color": "#E5ECF6",
              "width": 0.5
             }
            },
            "type": "barpolar"
           }
          ],
          "carpet": [
           {
            "aaxis": {
             "endlinecolor": "#2a3f5f",
             "gridcolor": "white",
             "linecolor": "white",
             "minorgridcolor": "white",
             "startlinecolor": "#2a3f5f"
            },
            "baxis": {
             "endlinecolor": "#2a3f5f",
             "gridcolor": "white",
             "linecolor": "white",
             "minorgridcolor": "white",
             "startlinecolor": "#2a3f5f"
            },
            "type": "carpet"
           }
          ],
          "choropleth": [
           {
            "colorbar": {
             "outlinewidth": 0,
             "ticks": ""
            },
            "type": "choropleth"
           }
          ],
          "contour": [
           {
            "colorbar": {
             "outlinewidth": 0,
             "ticks": ""
            },
            "colorscale": [
             [
              0,
              "#0d0887"
             ],
             [
              0.1111111111111111,
              "#46039f"
             ],
             [
              0.2222222222222222,
              "#7201a8"
             ],
             [
              0.3333333333333333,
              "#9c179e"
             ],
             [
              0.4444444444444444,
              "#bd3786"
             ],
             [
              0.5555555555555556,
              "#d8576b"
             ],
             [
              0.6666666666666666,
              "#ed7953"
             ],
             [
              0.7777777777777778,
              "#fb9f3a"
             ],
             [
              0.8888888888888888,
              "#fdca26"
             ],
             [
              1,
              "#f0f921"
             ]
            ],
            "type": "contour"
           }
          ],
          "contourcarpet": [
           {
            "colorbar": {
             "outlinewidth": 0,
             "ticks": ""
            },
            "type": "contourcarpet"
           }
          ],
          "heatmap": [
           {
            "colorbar": {
             "outlinewidth": 0,
             "ticks": ""
            },
            "colorscale": [
             [
              0,
              "#0d0887"
             ],
             [
              0.1111111111111111,
              "#46039f"
             ],
             [
              0.2222222222222222,
              "#7201a8"
             ],
             [
              0.3333333333333333,
              "#9c179e"
             ],
             [
              0.4444444444444444,
              "#bd3786"
             ],
             [
              0.5555555555555556,
              "#d8576b"
             ],
             [
              0.6666666666666666,
              "#ed7953"
             ],
             [
              0.7777777777777778,
              "#fb9f3a"
             ],
             [
              0.8888888888888888,
              "#fdca26"
             ],
             [
              1,
              "#f0f921"
             ]
            ],
            "type": "heatmap"
           }
          ],
          "heatmapgl": [
           {
            "colorbar": {
             "outlinewidth": 0,
             "ticks": ""
            },
            "colorscale": [
             [
              0,
              "#0d0887"
             ],
             [
              0.1111111111111111,
              "#46039f"
             ],
             [
              0.2222222222222222,
              "#7201a8"
             ],
             [
              0.3333333333333333,
              "#9c179e"
             ],
             [
              0.4444444444444444,
              "#bd3786"
             ],
             [
              0.5555555555555556,
              "#d8576b"
             ],
             [
              0.6666666666666666,
              "#ed7953"
             ],
             [
              0.7777777777777778,
              "#fb9f3a"
             ],
             [
              0.8888888888888888,
              "#fdca26"
             ],
             [
              1,
              "#f0f921"
             ]
            ],
            "type": "heatmapgl"
           }
          ],
          "histogram": [
           {
            "marker": {
             "colorbar": {
              "outlinewidth": 0,
              "ticks": ""
             }
            },
            "type": "histogram"
           }
          ],
          "histogram2d": [
           {
            "colorbar": {
             "outlinewidth": 0,
             "ticks": ""
            },
            "colorscale": [
             [
              0,
              "#0d0887"
             ],
             [
              0.1111111111111111,
              "#46039f"
             ],
             [
              0.2222222222222222,
              "#7201a8"
             ],
             [
              0.3333333333333333,
              "#9c179e"
             ],
             [
              0.4444444444444444,
              "#bd3786"
             ],
             [
              0.5555555555555556,
              "#d8576b"
             ],
             [
              0.6666666666666666,
              "#ed7953"
             ],
             [
              0.7777777777777778,
              "#fb9f3a"
             ],
             [
              0.8888888888888888,
              "#fdca26"
             ],
             [
              1,
              "#f0f921"
             ]
            ],
            "type": "histogram2d"
           }
          ],
          "histogram2dcontour": [
           {
            "colorbar": {
             "outlinewidth": 0,
             "ticks": ""
            },
            "colorscale": [
             [
              0,
              "#0d0887"
             ],
             [
              0.1111111111111111,
              "#46039f"
             ],
             [
              0.2222222222222222,
              "#7201a8"
             ],
             [
              0.3333333333333333,
              "#9c179e"
             ],
             [
              0.4444444444444444,
              "#bd3786"
             ],
             [
              0.5555555555555556,
              "#d8576b"
             ],
             [
              0.6666666666666666,
              "#ed7953"
             ],
             [
              0.7777777777777778,
              "#fb9f3a"
             ],
             [
              0.8888888888888888,
              "#fdca26"
             ],
             [
              1,
              "#f0f921"
             ]
            ],
            "type": "histogram2dcontour"
           }
          ],
          "mesh3d": [
           {
            "colorbar": {
             "outlinewidth": 0,
             "ticks": ""
            },
            "type": "mesh3d"
           }
          ],
          "parcoords": [
           {
            "line": {
             "colorbar": {
              "outlinewidth": 0,
              "ticks": ""
             }
            },
            "type": "parcoords"
           }
          ],
          "pie": [
           {
            "automargin": true,
            "type": "pie"
           }
          ],
          "scatter": [
           {
            "marker": {
             "colorbar": {
              "outlinewidth": 0,
              "ticks": ""
             }
            },
            "type": "scatter"
           }
          ],
          "scatter3d": [
           {
            "line": {
             "colorbar": {
              "outlinewidth": 0,
              "ticks": ""
             }
            },
            "marker": {
             "colorbar": {
              "outlinewidth": 0,
              "ticks": ""
             }
            },
            "type": "scatter3d"
           }
          ],
          "scattercarpet": [
           {
            "marker": {
             "colorbar": {
              "outlinewidth": 0,
              "ticks": ""
             }
            },
            "type": "scattercarpet"
           }
          ],
          "scattergeo": [
           {
            "marker": {
             "colorbar": {
              "outlinewidth": 0,
              "ticks": ""
             }
            },
            "type": "scattergeo"
           }
          ],
          "scattergl": [
           {
            "marker": {
             "colorbar": {
              "outlinewidth": 0,
              "ticks": ""
             }
            },
            "type": "scattergl"
           }
          ],
          "scattermapbox": [
           {
            "marker": {
             "colorbar": {
              "outlinewidth": 0,
              "ticks": ""
             }
            },
            "type": "scattermapbox"
           }
          ],
          "scatterpolar": [
           {
            "marker": {
             "colorbar": {
              "outlinewidth": 0,
              "ticks": ""
             }
            },
            "type": "scatterpolar"
           }
          ],
          "scatterpolargl": [
           {
            "marker": {
             "colorbar": {
              "outlinewidth": 0,
              "ticks": ""
             }
            },
            "type": "scatterpolargl"
           }
          ],
          "scatterternary": [
           {
            "marker": {
             "colorbar": {
              "outlinewidth": 0,
              "ticks": ""
             }
            },
            "type": "scatterternary"
           }
          ],
          "surface": [
           {
            "colorbar": {
             "outlinewidth": 0,
             "ticks": ""
            },
            "colorscale": [
             [
              0,
              "#0d0887"
             ],
             [
              0.1111111111111111,
              "#46039f"
             ],
             [
              0.2222222222222222,
              "#7201a8"
             ],
             [
              0.3333333333333333,
              "#9c179e"
             ],
             [
              0.4444444444444444,
              "#bd3786"
             ],
             [
              0.5555555555555556,
              "#d8576b"
             ],
             [
              0.6666666666666666,
              "#ed7953"
             ],
             [
              0.7777777777777778,
              "#fb9f3a"
             ],
             [
              0.8888888888888888,
              "#fdca26"
             ],
             [
              1,
              "#f0f921"
             ]
            ],
            "type": "surface"
           }
          ],
          "table": [
           {
            "cells": {
             "fill": {
              "color": "#EBF0F8"
             },
             "line": {
              "color": "white"
             }
            },
            "header": {
             "fill": {
              "color": "#C8D4E3"
             },
             "line": {
              "color": "white"
             }
            },
            "type": "table"
           }
          ]
         },
         "layout": {
          "annotationdefaults": {
           "arrowcolor": "#2a3f5f",
           "arrowhead": 0,
           "arrowwidth": 1
          },
          "coloraxis": {
           "colorbar": {
            "outlinewidth": 0,
            "ticks": ""
           }
          },
          "colorscale": {
           "diverging": [
            [
             0,
             "#8e0152"
            ],
            [
             0.1,
             "#c51b7d"
            ],
            [
             0.2,
             "#de77ae"
            ],
            [
             0.3,
             "#f1b6da"
            ],
            [
             0.4,
             "#fde0ef"
            ],
            [
             0.5,
             "#f7f7f7"
            ],
            [
             0.6,
             "#e6f5d0"
            ],
            [
             0.7,
             "#b8e186"
            ],
            [
             0.8,
             "#7fbc41"
            ],
            [
             0.9,
             "#4d9221"
            ],
            [
             1,
             "#276419"
            ]
           ],
           "sequential": [
            [
             0,
             "#0d0887"
            ],
            [
             0.1111111111111111,
             "#46039f"
            ],
            [
             0.2222222222222222,
             "#7201a8"
            ],
            [
             0.3333333333333333,
             "#9c179e"
            ],
            [
             0.4444444444444444,
             "#bd3786"
            ],
            [
             0.5555555555555556,
             "#d8576b"
            ],
            [
             0.6666666666666666,
             "#ed7953"
            ],
            [
             0.7777777777777778,
             "#fb9f3a"
            ],
            [
             0.8888888888888888,
             "#fdca26"
            ],
            [
             1,
             "#f0f921"
            ]
           ],
           "sequentialminus": [
            [
             0,
             "#0d0887"
            ],
            [
             0.1111111111111111,
             "#46039f"
            ],
            [
             0.2222222222222222,
             "#7201a8"
            ],
            [
             0.3333333333333333,
             "#9c179e"
            ],
            [
             0.4444444444444444,
             "#bd3786"
            ],
            [
             0.5555555555555556,
             "#d8576b"
            ],
            [
             0.6666666666666666,
             "#ed7953"
            ],
            [
             0.7777777777777778,
             "#fb9f3a"
            ],
            [
             0.8888888888888888,
             "#fdca26"
            ],
            [
             1,
             "#f0f921"
            ]
           ]
          },
          "colorway": [
           "#636efa",
           "#EF553B",
           "#00cc96",
           "#ab63fa",
           "#FFA15A",
           "#19d3f3",
           "#FF6692",
           "#B6E880",
           "#FF97FF",
           "#FECB52"
          ],
          "font": {
           "color": "#2a3f5f"
          },
          "geo": {
           "bgcolor": "white",
           "lakecolor": "white",
           "landcolor": "#E5ECF6",
           "showlakes": true,
           "showland": true,
           "subunitcolor": "white"
          },
          "hoverlabel": {
           "align": "left"
          },
          "hovermode": "closest",
          "mapbox": {
           "style": "light"
          },
          "paper_bgcolor": "white",
          "plot_bgcolor": "#E5ECF6",
          "polar": {
           "angularaxis": {
            "gridcolor": "white",
            "linecolor": "white",
            "ticks": ""
           },
           "bgcolor": "#E5ECF6",
           "radialaxis": {
            "gridcolor": "white",
            "linecolor": "white",
            "ticks": ""
           }
          },
          "scene": {
           "xaxis": {
            "backgroundcolor": "#E5ECF6",
            "gridcolor": "white",
            "gridwidth": 2,
            "linecolor": "white",
            "showbackground": true,
            "ticks": "",
            "zerolinecolor": "white"
           },
           "yaxis": {
            "backgroundcolor": "#E5ECF6",
            "gridcolor": "white",
            "gridwidth": 2,
            "linecolor": "white",
            "showbackground": true,
            "ticks": "",
            "zerolinecolor": "white"
           },
           "zaxis": {
            "backgroundcolor": "#E5ECF6",
            "gridcolor": "white",
            "gridwidth": 2,
            "linecolor": "white",
            "showbackground": true,
            "ticks": "",
            "zerolinecolor": "white"
           }
          },
          "shapedefaults": {
           "line": {
            "color": "#2a3f5f"
           }
          },
          "ternary": {
           "aaxis": {
            "gridcolor": "white",
            "linecolor": "white",
            "ticks": ""
           },
           "baxis": {
            "gridcolor": "white",
            "linecolor": "white",
            "ticks": ""
           },
           "bgcolor": "#E5ECF6",
           "caxis": {
            "gridcolor": "white",
            "linecolor": "white",
            "ticks": ""
           }
          },
          "title": {
           "x": 0.05
          },
          "xaxis": {
           "automargin": true,
           "gridcolor": "white",
           "linecolor": "white",
           "ticks": "",
           "title": {
            "standoff": 15
           },
           "zerolinecolor": "white",
           "zerolinewidth": 2
          },
          "yaxis": {
           "automargin": true,
           "gridcolor": "white",
           "linecolor": "white",
           "ticks": "",
           "title": {
            "standoff": 15
           },
           "zerolinecolor": "white",
           "zerolinewidth": 2
          }
         }
        },
        "title": {
         "font": {
          "color": "#4D5663"
         }
        },
        "xaxis": {
         "anchor": "y",
         "domain": [
          0,
          0.2125
         ],
         "gridcolor": "#E1E5ED",
         "showgrid": false,
         "tickfont": {
          "color": "#4D5663"
         },
         "title": {
          "font": {
           "color": "#4D5663"
          },
          "text": ""
         },
         "zerolinecolor": "#E1E5ED"
        },
        "xaxis10": {
         "anchor": "y10",
         "domain": [
          0.2625,
          0.475
         ],
         "gridcolor": "#E1E5ED",
         "showgrid": false,
         "tickfont": {
          "color": "#4D5663"
         },
         "title": {
          "font": {
           "color": "#4D5663"
          },
          "text": ""
         },
         "zerolinecolor": "#E1E5ED"
        },
        "xaxis11": {
         "anchor": "y11",
         "domain": [
          0.525,
          0.7375
         ],
         "gridcolor": "#E1E5ED",
         "showgrid": false,
         "tickfont": {
          "color": "#4D5663"
         },
         "title": {
          "font": {
           "color": "#4D5663"
          },
          "text": ""
         },
         "zerolinecolor": "#E1E5ED"
        },
        "xaxis12": {
         "anchor": "y12",
         "domain": [
          0.7875,
          1
         ],
         "gridcolor": "#E1E5ED",
         "showgrid": false,
         "tickfont": {
          "color": "#4D5663"
         },
         "title": {
          "font": {
           "color": "#4D5663"
          },
          "text": ""
         },
         "zerolinecolor": "#E1E5ED"
        },
        "xaxis13": {
         "anchor": "y13",
         "domain": [
          0,
          0.2125
         ],
         "gridcolor": "#E1E5ED",
         "showgrid": false,
         "tickfont": {
          "color": "#4D5663"
         },
         "title": {
          "font": {
           "color": "#4D5663"
          },
          "text": ""
         },
         "zerolinecolor": "#E1E5ED"
        },
        "xaxis14": {
         "anchor": "y14",
         "domain": [
          0.2625,
          0.475
         ],
         "gridcolor": "#E1E5ED",
         "showgrid": false,
         "tickfont": {
          "color": "#4D5663"
         },
         "title": {
          "font": {
           "color": "#4D5663"
          },
          "text": ""
         },
         "zerolinecolor": "#E1E5ED"
        },
        "xaxis15": {
         "anchor": "y15",
         "domain": [
          0.525,
          0.7375
         ],
         "gridcolor": "#E1E5ED",
         "showgrid": false,
         "tickfont": {
          "color": "#4D5663"
         },
         "title": {
          "font": {
           "color": "#4D5663"
          },
          "text": ""
         },
         "zerolinecolor": "#E1E5ED"
        },
        "xaxis16": {
         "anchor": "y16",
         "domain": [
          0.7875,
          1
         ],
         "gridcolor": "#E1E5ED",
         "showgrid": false,
         "tickfont": {
          "color": "#4D5663"
         },
         "title": {
          "font": {
           "color": "#4D5663"
          },
          "text": ""
         },
         "zerolinecolor": "#E1E5ED"
        },
        "xaxis2": {
         "anchor": "y2",
         "domain": [
          0.2625,
          0.475
         ],
         "gridcolor": "#E1E5ED",
         "showgrid": false,
         "tickfont": {
          "color": "#4D5663"
         },
         "title": {
          "font": {
           "color": "#4D5663"
          },
          "text": ""
         },
         "zerolinecolor": "#E1E5ED"
        },
        "xaxis3": {
         "anchor": "y3",
         "domain": [
          0.525,
          0.7375
         ],
         "gridcolor": "#E1E5ED",
         "showgrid": false,
         "tickfont": {
          "color": "#4D5663"
         },
         "title": {
          "font": {
           "color": "#4D5663"
          },
          "text": ""
         },
         "zerolinecolor": "#E1E5ED"
        },
        "xaxis4": {
         "anchor": "y4",
         "domain": [
          0.7875,
          1
         ],
         "gridcolor": "#E1E5ED",
         "showgrid": false,
         "tickfont": {
          "color": "#4D5663"
         },
         "title": {
          "font": {
           "color": "#4D5663"
          },
          "text": ""
         },
         "zerolinecolor": "#E1E5ED"
        },
        "xaxis5": {
         "anchor": "y5",
         "domain": [
          0,
          0.2125
         ],
         "gridcolor": "#E1E5ED",
         "showgrid": false,
         "tickfont": {
          "color": "#4D5663"
         },
         "title": {
          "font": {
           "color": "#4D5663"
          },
          "text": ""
         },
         "zerolinecolor": "#E1E5ED"
        },
        "xaxis6": {
         "anchor": "y6",
         "domain": [
          0.2625,
          0.475
         ],
         "gridcolor": "#E1E5ED",
         "showgrid": false,
         "tickfont": {
          "color": "#4D5663"
         },
         "title": {
          "font": {
           "color": "#4D5663"
          },
          "text": ""
         },
         "zerolinecolor": "#E1E5ED"
        },
        "xaxis7": {
         "anchor": "y7",
         "domain": [
          0.525,
          0.7375
         ],
         "gridcolor": "#E1E5ED",
         "showgrid": false,
         "tickfont": {
          "color": "#4D5663"
         },
         "title": {
          "font": {
           "color": "#4D5663"
          },
          "text": ""
         },
         "zerolinecolor": "#E1E5ED"
        },
        "xaxis8": {
         "anchor": "y8",
         "domain": [
          0.7875,
          1
         ],
         "gridcolor": "#E1E5ED",
         "showgrid": false,
         "tickfont": {
          "color": "#4D5663"
         },
         "title": {
          "font": {
           "color": "#4D5663"
          },
          "text": ""
         },
         "zerolinecolor": "#E1E5ED"
        },
        "xaxis9": {
         "anchor": "y9",
         "domain": [
          0,
          0.2125
         ],
         "gridcolor": "#E1E5ED",
         "showgrid": false,
         "tickfont": {
          "color": "#4D5663"
         },
         "title": {
          "font": {
           "color": "#4D5663"
          },
          "text": ""
         },
         "zerolinecolor": "#E1E5ED"
        },
        "yaxis": {
         "anchor": "x",
         "domain": [
          0.8025,
          1
         ],
         "gridcolor": "#E1E5ED",
         "showgrid": false,
         "tickfont": {
          "color": "#4D5663"
         },
         "title": {
          "font": {
           "color": "#4D5663"
          },
          "text": ""
         },
         "zerolinecolor": "#E1E5ED"
        },
        "yaxis10": {
         "anchor": "x10",
         "domain": [
          0.2675,
          0.465
         ],
         "gridcolor": "#E1E5ED",
         "showgrid": false,
         "tickfont": {
          "color": "#4D5663"
         },
         "title": {
          "font": {
           "color": "#4D5663"
          },
          "text": ""
         },
         "zerolinecolor": "#E1E5ED"
        },
        "yaxis11": {
         "anchor": "x11",
         "domain": [
          0.2675,
          0.465
         ],
         "gridcolor": "#E1E5ED",
         "showgrid": false,
         "tickfont": {
          "color": "#4D5663"
         },
         "title": {
          "font": {
           "color": "#4D5663"
          },
          "text": ""
         },
         "zerolinecolor": "#E1E5ED"
        },
        "yaxis12": {
         "anchor": "x12",
         "domain": [
          0.2675,
          0.465
         ],
         "gridcolor": "#E1E5ED",
         "showgrid": false,
         "tickfont": {
          "color": "#4D5663"
         },
         "title": {
          "font": {
           "color": "#4D5663"
          },
          "text": ""
         },
         "zerolinecolor": "#E1E5ED"
        },
        "yaxis13": {
         "anchor": "x13",
         "domain": [
          0,
          0.1975
         ],
         "gridcolor": "#E1E5ED",
         "showgrid": false,
         "tickfont": {
          "color": "#4D5663"
         },
         "title": {
          "font": {
           "color": "#4D5663"
          },
          "text": ""
         },
         "zerolinecolor": "#E1E5ED"
        },
        "yaxis14": {
         "anchor": "x14",
         "domain": [
          0,
          0.1975
         ],
         "gridcolor": "#E1E5ED",
         "showgrid": false,
         "tickfont": {
          "color": "#4D5663"
         },
         "title": {
          "font": {
           "color": "#4D5663"
          },
          "text": ""
         },
         "zerolinecolor": "#E1E5ED"
        },
        "yaxis15": {
         "anchor": "x15",
         "domain": [
          0,
          0.1975
         ],
         "gridcolor": "#E1E5ED",
         "showgrid": false,
         "tickfont": {
          "color": "#4D5663"
         },
         "title": {
          "font": {
           "color": "#4D5663"
          },
          "text": ""
         },
         "zerolinecolor": "#E1E5ED"
        },
        "yaxis16": {
         "anchor": "x16",
         "domain": [
          0,
          0.1975
         ],
         "gridcolor": "#E1E5ED",
         "showgrid": false,
         "tickfont": {
          "color": "#4D5663"
         },
         "title": {
          "font": {
           "color": "#4D5663"
          },
          "text": ""
         },
         "zerolinecolor": "#E1E5ED"
        },
        "yaxis2": {
         "anchor": "x2",
         "domain": [
          0.8025,
          1
         ],
         "gridcolor": "#E1E5ED",
         "showgrid": false,
         "tickfont": {
          "color": "#4D5663"
         },
         "title": {
          "font": {
           "color": "#4D5663"
          },
          "text": ""
         },
         "zerolinecolor": "#E1E5ED"
        },
        "yaxis3": {
         "anchor": "x3",
         "domain": [
          0.8025,
          1
         ],
         "gridcolor": "#E1E5ED",
         "showgrid": false,
         "tickfont": {
          "color": "#4D5663"
         },
         "title": {
          "font": {
           "color": "#4D5663"
          },
          "text": ""
         },
         "zerolinecolor": "#E1E5ED"
        },
        "yaxis4": {
         "anchor": "x4",
         "domain": [
          0.8025,
          1
         ],
         "gridcolor": "#E1E5ED",
         "showgrid": false,
         "tickfont": {
          "color": "#4D5663"
         },
         "title": {
          "font": {
           "color": "#4D5663"
          },
          "text": ""
         },
         "zerolinecolor": "#E1E5ED"
        },
        "yaxis5": {
         "anchor": "x5",
         "domain": [
          0.535,
          0.7325
         ],
         "gridcolor": "#E1E5ED",
         "showgrid": false,
         "tickfont": {
          "color": "#4D5663"
         },
         "title": {
          "font": {
           "color": "#4D5663"
          },
          "text": ""
         },
         "zerolinecolor": "#E1E5ED"
        },
        "yaxis6": {
         "anchor": "x6",
         "domain": [
          0.535,
          0.7325
         ],
         "gridcolor": "#E1E5ED",
         "showgrid": false,
         "tickfont": {
          "color": "#4D5663"
         },
         "title": {
          "font": {
           "color": "#4D5663"
          },
          "text": ""
         },
         "zerolinecolor": "#E1E5ED"
        },
        "yaxis7": {
         "anchor": "x7",
         "domain": [
          0.535,
          0.7325
         ],
         "gridcolor": "#E1E5ED",
         "showgrid": false,
         "tickfont": {
          "color": "#4D5663"
         },
         "title": {
          "font": {
           "color": "#4D5663"
          },
          "text": ""
         },
         "zerolinecolor": "#E1E5ED"
        },
        "yaxis8": {
         "anchor": "x8",
         "domain": [
          0.535,
          0.7325
         ],
         "gridcolor": "#E1E5ED",
         "showgrid": false,
         "tickfont": {
          "color": "#4D5663"
         },
         "title": {
          "font": {
           "color": "#4D5663"
          },
          "text": ""
         },
         "zerolinecolor": "#E1E5ED"
        },
        "yaxis9": {
         "anchor": "x9",
         "domain": [
          0.2675,
          0.465
         ],
         "gridcolor": "#E1E5ED",
         "showgrid": false,
         "tickfont": {
          "color": "#4D5663"
         },
         "title": {
          "font": {
           "color": "#4D5663"
          },
          "text": ""
         },
         "zerolinecolor": "#E1E5ED"
        }
       }
      },
      "text/html": [
       "<div>\n",
       "        \n",
       "        \n",
       "            <div id=\"bb0afbd5-6eb4-47b9-a821-40fa601d64dd\" class=\"plotly-graph-div\" style=\"height:525px; width:100%;\"></div>\n",
       "            <script type=\"text/javascript\">\n",
       "                require([\"plotly\"], function(Plotly) {\n",
       "                    window.PLOTLYENV=window.PLOTLYENV || {};\n",
       "                    window.PLOTLYENV.BASE_URL='https://plot.ly';\n",
       "                    \n",
       "                if (document.getElementById(\"bb0afbd5-6eb4-47b9-a821-40fa601d64dd\")) {\n",
       "                    Plotly.newPlot(\n",
       "                        'bb0afbd5-6eb4-47b9-a821-40fa601d64dd',\n",
       "                        [{\"histfunc\": \"count\", \"histnorm\": \"\", \"marker\": {\"color\": \"rgba(255, 153, 51, 1.0)\", \"line\": {\"color\": \"#4D5663\", \"width\": 1.3}}, \"name\": \"A\", \"nbinsx\": 10, \"opacity\": 0.8, \"orientation\": \"v\", \"type\": \"histogram\", \"x\": [-1.149882228543045, 1.5362385410467798, 0.3932379374579331, -2.059996463523254, 0.09562991677781363, -0.1844539287632311, 2.3418220729645576, -0.43975047658280936, 0.6288630050374875, -0.030326212811700944, -1.702156021656865, -1.517666528581438, 1.19528182618035, -0.9288515943816018, 0.2672440911504483, -0.4002975415796906, -1.2173180116996651, 0.9662247412467714, -1.9290761726699661, 1.249919408423394, -0.6783813256393709, -0.7888541279691633, -2.7701270507949274, -0.4570081697608714, -1.5754577270896186, 1.7040742114772185, -1.323623647403465, -1.0710918640009173, 0.2187213850037935, -0.07078716233479242, -1.303646959301516, 2.1897266317892035, 0.13093518856030348, -0.9903480467852114, 0.33671892236565953, -1.1556963538417262, -0.2773860242357469, 1.9377494811247495, 0.1423953006490988, 0.6731945716487792, -0.46541278669836533, -0.714379146180877, 1.0651922056412366, 0.3114333896682094, -0.29224469547465676, -0.6358918139816263, -0.06286318467275165, 0.07858067675403434, -0.02010629030746235, 0.9735632755624417, 0.3806941990300737, 0.9555634570784103, -0.38220496895255784, -0.22327324528616546, -1.8998284305790532, -0.24424740920339258, -0.02526692348391983, -0.1382620224959738, 1.395861014773399, -0.3604338840902675, 0.3563945466276664, -0.07645210423467486, 1.058060157864064, 0.03543017928138459, 0.32199934259140944, 0.7294917431182483, 0.16221584077406218, 0.44579793102551135, -0.06772507530824512, 0.39109205187050505, -0.7385195761252955, -1.2023650450948926, -1.3018179686182045, -0.7588769767804764, 0.8540615931350239, 0.7937811845169089, -0.11330210909059032, 0.9786046847077196, 0.1026403652012129, -0.6973082302186342, -0.7309060647842065, -0.3824059171264001, 0.5322395624685383, 0.5520881490592399, 0.7893147543534774, 0.9593248351973666, 0.08953894702720594, -0.10201225506825605, -0.112709501292115, -0.6104114734459825, 0.4274545255274656, 0.3232725058320922, 0.14213070118669957, -0.7675916048632497, -0.15544652729455274, -0.6522117023376075, 1.7648913777096549, -1.0343556208880231, 0.6291210941714808, -0.2714321671685072], \"xaxis\": \"x\", \"yaxis\": \"y\"}, {\"line\": {\"color\": \"rgba(128, 128, 128, 1.0)\", \"dash\": \"solid\", \"shape\": \"linear\", \"width\": 1.3}, \"marker\": {\"size\": 2, \"symbol\": \"circle\"}, \"mode\": \"markers\", \"name\": \"A\", \"text\": \"\", \"type\": \"scatter\", \"x\": [-0.821596800402655, 0.5664394505597601, 0.5089641346070292, -0.2592635248813433, 1.1425648848092516, 0.1303293725182424, -0.7452599453081017, 0.6807839819422564, -0.03025028909446263, -0.7216948550717397, 0.012099971974348565, -1.9328018674909626, 0.2940669437690773, -0.6425845565868856, -1.274457701503331, -0.31820163749691893, -0.9201990535926323, -1.3082244088756303, 0.9672470890932595, 0.5604202824371384, -0.7169037558756315, 0.5214208294070508, 0.005276194451701883, 1.34131395639202, 0.862730069774194, 0.444210324881266, 0.7166122997543846, 0.5905621985926649, -0.6123356568653066, -0.526925454627251, 0.3566581207234709, -0.7958593703435825, 0.4820928557493119, 2.082313812263963, 1.2477493754732194, 0.4347371625321479, -0.5524659931146368, -0.8005632090645551, -0.49586200765958227, 0.7363425104966456, -0.5004712861884172, 1.0482761927570294, -0.6137346570027824, -0.03968309123000246, -0.3226370483232409, -0.9003242820526284, -0.4726691235269847, 1.468411024145207, -0.45566617797248504, 0.07953301178126826, 0.5357369360643719, -0.08765107497054818, -1.426308343534027, 0.819068484709911, 1.8086881553071021, 0.40025853155354885, -0.8893840863646113, 0.9387138657020594, 0.6986426191038498, 0.43740462673617786, 0.6644892611484586, 0.0311752431301281, -0.8240084892443692, 1.5178420616192276, 0.014463322301807217, -0.07506796365150185, 0.25267110665442416, 0.9536021445007004, -0.021310183431371237, -1.3114035432534275, 0.8592510660239445, -1.2507752033737798, 1.4246620884121426, 1.1027173115312447, 0.6118120227281758, -0.7975020166108695, -1.462540048851282, 0.6827294493991927, 0.5334301271174584, 0.7294526884023559, -0.04388537975766861, -0.789556783280647, 0.3392864194491249, 0.790166279806434, 1.0259494794903965, 0.27094021554193, 1.4829223336581099, -0.23293511983863718, 0.6859245229420942, 0.5874723324937035, 0.48557210628845787, -0.12662879963201118, 0.9212668798284969, -1.2223765090701693, -0.029869681236115303, -1.8045036109927406, -1.9155662026040001, -0.536847880512402, 0.34557732447025485, -0.3892917688322118], \"xaxis\": \"x2\", \"y\": [-1.149882228543045, 1.5362385410467798, 0.3932379374579331, -2.059996463523254, 0.09562991677781363, -0.1844539287632311, 2.3418220729645576, -0.43975047658280936, 0.6288630050374875, -0.030326212811700944, -1.702156021656865, -1.517666528581438, 1.19528182618035, -0.9288515943816018, 0.2672440911504483, -0.4002975415796906, -1.2173180116996651, 0.9662247412467714, -1.9290761726699661, 1.249919408423394, -0.6783813256393709, -0.7888541279691633, -2.7701270507949274, -0.4570081697608714, -1.5754577270896186, 1.7040742114772185, -1.323623647403465, -1.0710918640009173, 0.2187213850037935, -0.07078716233479242, -1.303646959301516, 2.1897266317892035, 0.13093518856030348, -0.9903480467852114, 0.33671892236565953, -1.1556963538417262, -0.2773860242357469, 1.9377494811247495, 0.1423953006490988, 0.6731945716487792, -0.46541278669836533, -0.714379146180877, 1.0651922056412366, 0.3114333896682094, -0.29224469547465676, -0.6358918139816263, -0.06286318467275165, 0.07858067675403434, -0.02010629030746235, 0.9735632755624417, 0.3806941990300737, 0.9555634570784103, -0.38220496895255784, -0.22327324528616546, -1.8998284305790532, -0.24424740920339258, -0.02526692348391983, -0.1382620224959738, 1.395861014773399, -0.3604338840902675, 0.3563945466276664, -0.07645210423467486, 1.058060157864064, 0.03543017928138459, 0.32199934259140944, 0.7294917431182483, 0.16221584077406218, 0.44579793102551135, -0.06772507530824512, 0.39109205187050505, -0.7385195761252955, -1.2023650450948926, -1.3018179686182045, -0.7588769767804764, 0.8540615931350239, 0.7937811845169089, -0.11330210909059032, 0.9786046847077196, 0.1026403652012129, -0.6973082302186342, -0.7309060647842065, -0.3824059171264001, 0.5322395624685383, 0.5520881490592399, 0.7893147543534774, 0.9593248351973666, 0.08953894702720594, -0.10201225506825605, -0.112709501292115, -0.6104114734459825, 0.4274545255274656, 0.3232725058320922, 0.14213070118669957, -0.7675916048632497, -0.15544652729455274, -0.6522117023376075, 1.7648913777096549, -1.0343556208880231, 0.6291210941714808, -0.2714321671685072], \"yaxis\": \"y2\"}, {\"line\": {\"color\": \"rgba(128, 128, 128, 1.0)\", \"dash\": \"solid\", \"shape\": \"linear\", \"width\": 1.3}, \"marker\": {\"size\": 2, \"symbol\": \"circle\"}, \"mode\": \"markers\", \"name\": \"A\", \"text\": \"\", \"type\": \"scatter\", \"x\": [-0.05043432899368031, 0.6383985377849963, -0.5552104688070715, 0.8733894761659502, -0.27973637356455144, 0.3099198456823666, -0.88279025720947, 1.5867347920708614, -1.1682939504435819, -0.5398035790255533, 2.6047288884328945, -0.28450355075339073, -0.18411605199644634, -0.7087374298548398, 1.6390687626183504, -0.5433847348255266, -0.29102616128048525, 0.3867966969243918, -0.5738198681006161, -0.8467916453984707, 0.5297032633356104, 0.34987822330080387, 0.6945634517303589, 0.7468221924352632, 1.900151098890552, -0.621938312162858, -0.16362440785066615, 0.3584161327870031, 0.6084762558026675, -0.9318463866260959, -1.7149056880168532, -0.10128499226000447, 0.19637626627572874, 0.2969997402467644, -0.5831229998849408, -0.6053470808434863, -0.519200620192376, 1.132014562741578, 2.14583857085064, 1.1082670904027203, 0.9915436083465138, 0.35064782627575036, -0.8718624044359158, -0.7711209904670029, 1.8434894167073075, -0.881682946775223, 2.2198785443767775, -0.9020703454223811, -2.0310072709609477, 0.0859417760441214, -0.5497913464560333, -0.8896792267662379, 0.0501728664565584, -1.4144078755079297, -1.2547969891058721, 0.4244866684966232, 0.5746324117859202, 0.23125449383760513, 0.6734505472376046, 0.9481492334735947, -0.15602051696246882, -0.27681846353088535, 0.6879641900610127, -0.5650179988527602, -0.6727447321566563, 0.8055284608391798, -0.07814871647186178, 0.5983513117146525, 0.39409971719175724, 0.2652492847240678, -1.1594253536181287, 1.5322943352645402, 0.29524129053229714, -0.21092943984307086, 0.7241385453207122, -0.5075445506409986, -1.0399223896721543, -2.6981299945993604, 0.444443913026689, -0.2080299799409404, -0.48655055177461065, -0.24397033164856838, -0.1394653239772895, 0.8566379732556342, -0.40928402997218166, -0.8146622155618218, -0.12037812400398963, -0.0004340621273201351, 2.4020992968620263, 0.8084817681546183, 0.3342529934430462, 0.21356656246612182, -0.7660769594747029, -0.1688787331661423, -0.8175685865248625, 1.1337186472505991, -0.8818864274262241, -0.6262697386361157, -1.587580606392134, 1.3878120685001782], \"xaxis\": \"x3\", \"y\": [-1.149882228543045, 1.5362385410467798, 0.3932379374579331, -2.059996463523254, 0.09562991677781363, -0.1844539287632311, 2.3418220729645576, -0.43975047658280936, 0.6288630050374875, -0.030326212811700944, -1.702156021656865, -1.517666528581438, 1.19528182618035, -0.9288515943816018, 0.2672440911504483, -0.4002975415796906, -1.2173180116996651, 0.9662247412467714, -1.9290761726699661, 1.249919408423394, -0.6783813256393709, -0.7888541279691633, -2.7701270507949274, -0.4570081697608714, -1.5754577270896186, 1.7040742114772185, -1.323623647403465, -1.0710918640009173, 0.2187213850037935, -0.07078716233479242, -1.303646959301516, 2.1897266317892035, 0.13093518856030348, -0.9903480467852114, 0.33671892236565953, -1.1556963538417262, -0.2773860242357469, 1.9377494811247495, 0.1423953006490988, 0.6731945716487792, -0.46541278669836533, -0.714379146180877, 1.0651922056412366, 0.3114333896682094, -0.29224469547465676, -0.6358918139816263, -0.06286318467275165, 0.07858067675403434, -0.02010629030746235, 0.9735632755624417, 0.3806941990300737, 0.9555634570784103, -0.38220496895255784, -0.22327324528616546, -1.8998284305790532, -0.24424740920339258, -0.02526692348391983, -0.1382620224959738, 1.395861014773399, -0.3604338840902675, 0.3563945466276664, -0.07645210423467486, 1.058060157864064, 0.03543017928138459, 0.32199934259140944, 0.7294917431182483, 0.16221584077406218, 0.44579793102551135, -0.06772507530824512, 0.39109205187050505, -0.7385195761252955, -1.2023650450948926, -1.3018179686182045, -0.7588769767804764, 0.8540615931350239, 0.7937811845169089, -0.11330210909059032, 0.9786046847077196, 0.1026403652012129, -0.6973082302186342, -0.7309060647842065, -0.3824059171264001, 0.5322395624685383, 0.5520881490592399, 0.7893147543534774, 0.9593248351973666, 0.08953894702720594, -0.10201225506825605, -0.112709501292115, -0.6104114734459825, 0.4274545255274656, 0.3232725058320922, 0.14213070118669957, -0.7675916048632497, -0.15544652729455274, -0.6522117023376075, 1.7648913777096549, -1.0343556208880231, 0.6291210941714808, -0.2714321671685072], \"yaxis\": \"y3\"}, {\"line\": {\"color\": \"rgba(128, 128, 128, 1.0)\", \"dash\": \"solid\", \"shape\": \"linear\", \"width\": 1.3}, \"marker\": {\"size\": 2, \"symbol\": \"circle\"}, \"mode\": \"markers\", \"name\": \"A\", \"text\": \"\", \"type\": \"scatter\", \"x\": [0.5453066085348863, 0.6297272301796784, -0.9401461784548403, -0.9847733132602441, 1.509088854044453, -1.7000718360475824, -1.2225246766948081, 1.3568654711368602, 0.22949621448467727, 2.1801712492246623, 0.5837170028026545, 0.24891769712044948, 0.10317662432857874, -1.4088141062786053, 3.114453696537187, 0.5834183604615801, -0.5741527118434024, -1.1152938765819431, -0.32064879042738254, -0.0028248826754078134, -1.0740947558270184, -1.145910377161432, -1.622254906735283, 0.0849850233504138, 0.48170159146795744, 0.1577755528307472, -0.504127259110801, -0.42063541220074924, 0.7892685553129059, 0.5268042161431765, 1.2662485409933102, 1.2956511293072994, -1.9576037803587114, 0.5811261923984811, 1.8785462043575325, -0.08774836819701964, 0.9936591690188294, 0.20979789911097893, 0.9783870564757947, -0.4828364341183934, 0.7638656251918456, -0.10031401419564683, 0.6256444425530976, 1.474091024374885, -1.8210439918869357, -0.6306310693510034, -1.249298484344971, -1.999155382645612, 0.46224949849096975, -0.34470294101095705, 1.038300340305395, -0.884885731263254, -0.6201625925282921, 0.5184519198587142, 0.43543105924330205, -0.7227359721398886, -0.7755191591579904, -1.0755675808765595, 0.8544324240378218, 2.076530741297135, 0.43393973919277723, -0.4690057057030747, 1.6062580004266929, 1.3388694692214416, 0.3555205791346771, 0.13372868023617268, -1.274558124113613, 0.007648624125840822, -1.1725752578112267, -0.4476181800792881, 1.025402172731115, -0.9778778830870949, -1.9127435863256657, 0.7662278656128317, 1.7013257856725703, 1.227232519758253, -0.07606912837548144, 0.5952707419086611, 0.18385146042710004, -0.6123272648027931, -0.3200931051252156, 0.6388727081193947, 0.5438565635317469, 0.4985924271650018, 1.582456123753077, 0.00900868556309942, -0.3661353184511324, -0.5282883669256038, 0.1620926442176821, 1.5666749409075835, 0.3472465771172096, 0.2287517566522857, 0.8253230381114772, -1.3204961957638008, 1.2104316254647076, -0.8837493643965285, 1.5207769567087257, -1.8632609220655565, 0.3257742103009992, 0.6961644380276888], \"xaxis\": \"x4\", \"y\": [-1.149882228543045, 1.5362385410467798, 0.3932379374579331, -2.059996463523254, 0.09562991677781363, -0.1844539287632311, 2.3418220729645576, -0.43975047658280936, 0.6288630050374875, -0.030326212811700944, -1.702156021656865, -1.517666528581438, 1.19528182618035, -0.9288515943816018, 0.2672440911504483, -0.4002975415796906, -1.2173180116996651, 0.9662247412467714, -1.9290761726699661, 1.249919408423394, -0.6783813256393709, -0.7888541279691633, -2.7701270507949274, -0.4570081697608714, -1.5754577270896186, 1.7040742114772185, -1.323623647403465, -1.0710918640009173, 0.2187213850037935, -0.07078716233479242, -1.303646959301516, 2.1897266317892035, 0.13093518856030348, -0.9903480467852114, 0.33671892236565953, -1.1556963538417262, -0.2773860242357469, 1.9377494811247495, 0.1423953006490988, 0.6731945716487792, -0.46541278669836533, -0.714379146180877, 1.0651922056412366, 0.3114333896682094, -0.29224469547465676, -0.6358918139816263, -0.06286318467275165, 0.07858067675403434, -0.02010629030746235, 0.9735632755624417, 0.3806941990300737, 0.9555634570784103, -0.38220496895255784, -0.22327324528616546, -1.8998284305790532, -0.24424740920339258, -0.02526692348391983, -0.1382620224959738, 1.395861014773399, -0.3604338840902675, 0.3563945466276664, -0.07645210423467486, 1.058060157864064, 0.03543017928138459, 0.32199934259140944, 0.7294917431182483, 0.16221584077406218, 0.44579793102551135, -0.06772507530824512, 0.39109205187050505, -0.7385195761252955, -1.2023650450948926, -1.3018179686182045, -0.7588769767804764, 0.8540615931350239, 0.7937811845169089, -0.11330210909059032, 0.9786046847077196, 0.1026403652012129, -0.6973082302186342, -0.7309060647842065, -0.3824059171264001, 0.5322395624685383, 0.5520881490592399, 0.7893147543534774, 0.9593248351973666, 0.08953894702720594, -0.10201225506825605, -0.112709501292115, -0.6104114734459825, 0.4274545255274656, 0.3232725058320922, 0.14213070118669957, -0.7675916048632497, -0.15544652729455274, -0.6522117023376075, 1.7648913777096549, -1.0343556208880231, 0.6291210941714808, -0.2714321671685072], \"yaxis\": \"y4\"}, {\"line\": {\"color\": \"rgba(128, 128, 128, 1.0)\", \"dash\": \"solid\", \"shape\": \"linear\", \"width\": 1.3}, \"marker\": {\"size\": 2, \"symbol\": \"circle\"}, \"mode\": \"markers\", \"name\": \"B\", \"text\": \"\", \"type\": \"scatter\", \"x\": [-1.149882228543045, 1.5362385410467798, 0.3932379374579331, -2.059996463523254, 0.09562991677781363, -0.1844539287632311, 2.3418220729645576, -0.43975047658280936, 0.6288630050374875, -0.030326212811700944, -1.702156021656865, -1.517666528581438, 1.19528182618035, -0.9288515943816018, 0.2672440911504483, -0.4002975415796906, -1.2173180116996651, 0.9662247412467714, -1.9290761726699661, 1.249919408423394, -0.6783813256393709, -0.7888541279691633, -2.7701270507949274, -0.4570081697608714, -1.5754577270896186, 1.7040742114772185, -1.323623647403465, -1.0710918640009173, 0.2187213850037935, -0.07078716233479242, -1.303646959301516, 2.1897266317892035, 0.13093518856030348, -0.9903480467852114, 0.33671892236565953, -1.1556963538417262, -0.2773860242357469, 1.9377494811247495, 0.1423953006490988, 0.6731945716487792, -0.46541278669836533, -0.714379146180877, 1.0651922056412366, 0.3114333896682094, -0.29224469547465676, -0.6358918139816263, -0.06286318467275165, 0.07858067675403434, -0.02010629030746235, 0.9735632755624417, 0.3806941990300737, 0.9555634570784103, -0.38220496895255784, -0.22327324528616546, -1.8998284305790532, -0.24424740920339258, -0.02526692348391983, -0.1382620224959738, 1.395861014773399, -0.3604338840902675, 0.3563945466276664, -0.07645210423467486, 1.058060157864064, 0.03543017928138459, 0.32199934259140944, 0.7294917431182483, 0.16221584077406218, 0.44579793102551135, -0.06772507530824512, 0.39109205187050505, -0.7385195761252955, -1.2023650450948926, -1.3018179686182045, -0.7588769767804764, 0.8540615931350239, 0.7937811845169089, -0.11330210909059032, 0.9786046847077196, 0.1026403652012129, -0.6973082302186342, -0.7309060647842065, -0.3824059171264001, 0.5322395624685383, 0.5520881490592399, 0.7893147543534774, 0.9593248351973666, 0.08953894702720594, -0.10201225506825605, -0.112709501292115, -0.6104114734459825, 0.4274545255274656, 0.3232725058320922, 0.14213070118669957, -0.7675916048632497, -0.15544652729455274, -0.6522117023376075, 1.7648913777096549, -1.0343556208880231, 0.6291210941714808, -0.2714321671685072], \"xaxis\": \"x5\", \"y\": [-0.821596800402655, 0.5664394505597601, 0.5089641346070292, -0.2592635248813433, 1.1425648848092516, 0.1303293725182424, -0.7452599453081017, 0.6807839819422564, -0.03025028909446263, -0.7216948550717397, 0.012099971974348565, -1.9328018674909626, 0.2940669437690773, -0.6425845565868856, -1.274457701503331, -0.31820163749691893, -0.9201990535926323, -1.3082244088756303, 0.9672470890932595, 0.5604202824371384, -0.7169037558756315, 0.5214208294070508, 0.005276194451701883, 1.34131395639202, 0.862730069774194, 0.444210324881266, 0.7166122997543846, 0.5905621985926649, -0.6123356568653066, -0.526925454627251, 0.3566581207234709, -0.7958593703435825, 0.4820928557493119, 2.082313812263963, 1.2477493754732194, 0.4347371625321479, -0.5524659931146368, -0.8005632090645551, -0.49586200765958227, 0.7363425104966456, -0.5004712861884172, 1.0482761927570294, -0.6137346570027824, -0.03968309123000246, -0.3226370483232409, -0.9003242820526284, -0.4726691235269847, 1.468411024145207, -0.45566617797248504, 0.07953301178126826, 0.5357369360643719, -0.08765107497054818, -1.426308343534027, 0.819068484709911, 1.8086881553071021, 0.40025853155354885, -0.8893840863646113, 0.9387138657020594, 0.6986426191038498, 0.43740462673617786, 0.6644892611484586, 0.0311752431301281, -0.8240084892443692, 1.5178420616192276, 0.014463322301807217, -0.07506796365150185, 0.25267110665442416, 0.9536021445007004, -0.021310183431371237, -1.3114035432534275, 0.8592510660239445, -1.2507752033737798, 1.4246620884121426, 1.1027173115312447, 0.6118120227281758, -0.7975020166108695, -1.462540048851282, 0.6827294493991927, 0.5334301271174584, 0.7294526884023559, -0.04388537975766861, -0.789556783280647, 0.3392864194491249, 0.790166279806434, 1.0259494794903965, 0.27094021554193, 1.4829223336581099, -0.23293511983863718, 0.6859245229420942, 0.5874723324937035, 0.48557210628845787, -0.12662879963201118, 0.9212668798284969, -1.2223765090701693, -0.029869681236115303, -1.8045036109927406, -1.9155662026040001, -0.536847880512402, 0.34557732447025485, -0.3892917688322118], \"yaxis\": \"y5\"}, {\"histfunc\": \"count\", \"histnorm\": \"\", \"marker\": {\"color\": \"rgba(55, 128, 191, 1.0)\", \"line\": {\"color\": \"#4D5663\", \"width\": 1.3}}, \"name\": \"B\", \"nbinsx\": 10, \"opacity\": 0.8, \"orientation\": \"v\", \"type\": \"histogram\", \"x\": [-0.821596800402655, 0.5664394505597601, 0.5089641346070292, -0.2592635248813433, 1.1425648848092516, 0.1303293725182424, -0.7452599453081017, 0.6807839819422564, -0.03025028909446263, -0.7216948550717397, 0.012099971974348565, -1.9328018674909626, 0.2940669437690773, -0.6425845565868856, -1.274457701503331, -0.31820163749691893, -0.9201990535926323, -1.3082244088756303, 0.9672470890932595, 0.5604202824371384, -0.7169037558756315, 0.5214208294070508, 0.005276194451701883, 1.34131395639202, 0.862730069774194, 0.444210324881266, 0.7166122997543846, 0.5905621985926649, -0.6123356568653066, -0.526925454627251, 0.3566581207234709, -0.7958593703435825, 0.4820928557493119, 2.082313812263963, 1.2477493754732194, 0.4347371625321479, -0.5524659931146368, -0.8005632090645551, -0.49586200765958227, 0.7363425104966456, -0.5004712861884172, 1.0482761927570294, -0.6137346570027824, -0.03968309123000246, -0.3226370483232409, -0.9003242820526284, -0.4726691235269847, 1.468411024145207, -0.45566617797248504, 0.07953301178126826, 0.5357369360643719, -0.08765107497054818, -1.426308343534027, 0.819068484709911, 1.8086881553071021, 0.40025853155354885, -0.8893840863646113, 0.9387138657020594, 0.6986426191038498, 0.43740462673617786, 0.6644892611484586, 0.0311752431301281, -0.8240084892443692, 1.5178420616192276, 0.014463322301807217, -0.07506796365150185, 0.25267110665442416, 0.9536021445007004, -0.021310183431371237, -1.3114035432534275, 0.8592510660239445, -1.2507752033737798, 1.4246620884121426, 1.1027173115312447, 0.6118120227281758, -0.7975020166108695, -1.462540048851282, 0.6827294493991927, 0.5334301271174584, 0.7294526884023559, -0.04388537975766861, -0.789556783280647, 0.3392864194491249, 0.790166279806434, 1.0259494794903965, 0.27094021554193, 1.4829223336581099, -0.23293511983863718, 0.6859245229420942, 0.5874723324937035, 0.48557210628845787, -0.12662879963201118, 0.9212668798284969, -1.2223765090701693, -0.029869681236115303, -1.8045036109927406, -1.9155662026040001, -0.536847880512402, 0.34557732447025485, -0.3892917688322118], \"xaxis\": \"x6\", \"yaxis\": \"y6\"}, {\"line\": {\"color\": \"rgba(128, 128, 128, 1.0)\", \"dash\": \"solid\", \"shape\": \"linear\", \"width\": 1.3}, \"marker\": {\"size\": 2, \"symbol\": \"circle\"}, \"mode\": \"markers\", \"name\": \"B\", \"text\": \"\", \"type\": \"scatter\", \"x\": [-0.05043432899368031, 0.6383985377849963, -0.5552104688070715, 0.8733894761659502, -0.27973637356455144, 0.3099198456823666, -0.88279025720947, 1.5867347920708614, -1.1682939504435819, -0.5398035790255533, 2.6047288884328945, -0.28450355075339073, -0.18411605199644634, -0.7087374298548398, 1.6390687626183504, -0.5433847348255266, -0.29102616128048525, 0.3867966969243918, -0.5738198681006161, -0.8467916453984707, 0.5297032633356104, 0.34987822330080387, 0.6945634517303589, 0.7468221924352632, 1.900151098890552, -0.621938312162858, -0.16362440785066615, 0.3584161327870031, 0.6084762558026675, -0.9318463866260959, -1.7149056880168532, -0.10128499226000447, 0.19637626627572874, 0.2969997402467644, -0.5831229998849408, -0.6053470808434863, -0.519200620192376, 1.132014562741578, 2.14583857085064, 1.1082670904027203, 0.9915436083465138, 0.35064782627575036, -0.8718624044359158, -0.7711209904670029, 1.8434894167073075, -0.881682946775223, 2.2198785443767775, -0.9020703454223811, -2.0310072709609477, 0.0859417760441214, -0.5497913464560333, -0.8896792267662379, 0.0501728664565584, -1.4144078755079297, -1.2547969891058721, 0.4244866684966232, 0.5746324117859202, 0.23125449383760513, 0.6734505472376046, 0.9481492334735947, -0.15602051696246882, -0.27681846353088535, 0.6879641900610127, -0.5650179988527602, -0.6727447321566563, 0.8055284608391798, -0.07814871647186178, 0.5983513117146525, 0.39409971719175724, 0.2652492847240678, -1.1594253536181287, 1.5322943352645402, 0.29524129053229714, -0.21092943984307086, 0.7241385453207122, -0.5075445506409986, -1.0399223896721543, -2.6981299945993604, 0.444443913026689, -0.2080299799409404, -0.48655055177461065, -0.24397033164856838, -0.1394653239772895, 0.8566379732556342, -0.40928402997218166, -0.8146622155618218, -0.12037812400398963, -0.0004340621273201351, 2.4020992968620263, 0.8084817681546183, 0.3342529934430462, 0.21356656246612182, -0.7660769594747029, -0.1688787331661423, -0.8175685865248625, 1.1337186472505991, -0.8818864274262241, -0.6262697386361157, -1.587580606392134, 1.3878120685001782], \"xaxis\": \"x7\", \"y\": [-0.821596800402655, 0.5664394505597601, 0.5089641346070292, -0.2592635248813433, 1.1425648848092516, 0.1303293725182424, -0.7452599453081017, 0.6807839819422564, -0.03025028909446263, -0.7216948550717397, 0.012099971974348565, -1.9328018674909626, 0.2940669437690773, -0.6425845565868856, -1.274457701503331, -0.31820163749691893, -0.9201990535926323, -1.3082244088756303, 0.9672470890932595, 0.5604202824371384, -0.7169037558756315, 0.5214208294070508, 0.005276194451701883, 1.34131395639202, 0.862730069774194, 0.444210324881266, 0.7166122997543846, 0.5905621985926649, -0.6123356568653066, -0.526925454627251, 0.3566581207234709, -0.7958593703435825, 0.4820928557493119, 2.082313812263963, 1.2477493754732194, 0.4347371625321479, -0.5524659931146368, -0.8005632090645551, -0.49586200765958227, 0.7363425104966456, -0.5004712861884172, 1.0482761927570294, -0.6137346570027824, -0.03968309123000246, -0.3226370483232409, -0.9003242820526284, -0.4726691235269847, 1.468411024145207, -0.45566617797248504, 0.07953301178126826, 0.5357369360643719, -0.08765107497054818, -1.426308343534027, 0.819068484709911, 1.8086881553071021, 0.40025853155354885, -0.8893840863646113, 0.9387138657020594, 0.6986426191038498, 0.43740462673617786, 0.6644892611484586, 0.0311752431301281, -0.8240084892443692, 1.5178420616192276, 0.014463322301807217, -0.07506796365150185, 0.25267110665442416, 0.9536021445007004, -0.021310183431371237, -1.3114035432534275, 0.8592510660239445, -1.2507752033737798, 1.4246620884121426, 1.1027173115312447, 0.6118120227281758, -0.7975020166108695, -1.462540048851282, 0.6827294493991927, 0.5334301271174584, 0.7294526884023559, -0.04388537975766861, -0.789556783280647, 0.3392864194491249, 0.790166279806434, 1.0259494794903965, 0.27094021554193, 1.4829223336581099, -0.23293511983863718, 0.6859245229420942, 0.5874723324937035, 0.48557210628845787, -0.12662879963201118, 0.9212668798284969, -1.2223765090701693, -0.029869681236115303, -1.8045036109927406, -1.9155662026040001, -0.536847880512402, 0.34557732447025485, -0.3892917688322118], \"yaxis\": \"y7\"}, {\"line\": {\"color\": \"rgba(128, 128, 128, 1.0)\", \"dash\": \"solid\", \"shape\": \"linear\", \"width\": 1.3}, \"marker\": {\"size\": 2, \"symbol\": \"circle\"}, \"mode\": \"markers\", \"name\": \"B\", \"text\": \"\", \"type\": \"scatter\", \"x\": [0.5453066085348863, 0.6297272301796784, -0.9401461784548403, -0.9847733132602441, 1.509088854044453, -1.7000718360475824, -1.2225246766948081, 1.3568654711368602, 0.22949621448467727, 2.1801712492246623, 0.5837170028026545, 0.24891769712044948, 0.10317662432857874, -1.4088141062786053, 3.114453696537187, 0.5834183604615801, -0.5741527118434024, -1.1152938765819431, -0.32064879042738254, -0.0028248826754078134, -1.0740947558270184, -1.145910377161432, -1.622254906735283, 0.0849850233504138, 0.48170159146795744, 0.1577755528307472, -0.504127259110801, -0.42063541220074924, 0.7892685553129059, 0.5268042161431765, 1.2662485409933102, 1.2956511293072994, -1.9576037803587114, 0.5811261923984811, 1.8785462043575325, -0.08774836819701964, 0.9936591690188294, 0.20979789911097893, 0.9783870564757947, -0.4828364341183934, 0.7638656251918456, -0.10031401419564683, 0.6256444425530976, 1.474091024374885, -1.8210439918869357, -0.6306310693510034, -1.249298484344971, -1.999155382645612, 0.46224949849096975, -0.34470294101095705, 1.038300340305395, -0.884885731263254, -0.6201625925282921, 0.5184519198587142, 0.43543105924330205, -0.7227359721398886, -0.7755191591579904, -1.0755675808765595, 0.8544324240378218, 2.076530741297135, 0.43393973919277723, -0.4690057057030747, 1.6062580004266929, 1.3388694692214416, 0.3555205791346771, 0.13372868023617268, -1.274558124113613, 0.007648624125840822, -1.1725752578112267, -0.4476181800792881, 1.025402172731115, -0.9778778830870949, -1.9127435863256657, 0.7662278656128317, 1.7013257856725703, 1.227232519758253, -0.07606912837548144, 0.5952707419086611, 0.18385146042710004, -0.6123272648027931, -0.3200931051252156, 0.6388727081193947, 0.5438565635317469, 0.4985924271650018, 1.582456123753077, 0.00900868556309942, -0.3661353184511324, -0.5282883669256038, 0.1620926442176821, 1.5666749409075835, 0.3472465771172096, 0.2287517566522857, 0.8253230381114772, -1.3204961957638008, 1.2104316254647076, -0.8837493643965285, 1.5207769567087257, -1.8632609220655565, 0.3257742103009992, 0.6961644380276888], \"xaxis\": \"x8\", \"y\": [-0.821596800402655, 0.5664394505597601, 0.5089641346070292, -0.2592635248813433, 1.1425648848092516, 0.1303293725182424, -0.7452599453081017, 0.6807839819422564, -0.03025028909446263, -0.7216948550717397, 0.012099971974348565, -1.9328018674909626, 0.2940669437690773, -0.6425845565868856, -1.274457701503331, -0.31820163749691893, -0.9201990535926323, -1.3082244088756303, 0.9672470890932595, 0.5604202824371384, -0.7169037558756315, 0.5214208294070508, 0.005276194451701883, 1.34131395639202, 0.862730069774194, 0.444210324881266, 0.7166122997543846, 0.5905621985926649, -0.6123356568653066, -0.526925454627251, 0.3566581207234709, -0.7958593703435825, 0.4820928557493119, 2.082313812263963, 1.2477493754732194, 0.4347371625321479, -0.5524659931146368, -0.8005632090645551, -0.49586200765958227, 0.7363425104966456, -0.5004712861884172, 1.0482761927570294, -0.6137346570027824, -0.03968309123000246, -0.3226370483232409, -0.9003242820526284, -0.4726691235269847, 1.468411024145207, -0.45566617797248504, 0.07953301178126826, 0.5357369360643719, -0.08765107497054818, -1.426308343534027, 0.819068484709911, 1.8086881553071021, 0.40025853155354885, -0.8893840863646113, 0.9387138657020594, 0.6986426191038498, 0.43740462673617786, 0.6644892611484586, 0.0311752431301281, -0.8240084892443692, 1.5178420616192276, 0.014463322301807217, -0.07506796365150185, 0.25267110665442416, 0.9536021445007004, -0.021310183431371237, -1.3114035432534275, 0.8592510660239445, -1.2507752033737798, 1.4246620884121426, 1.1027173115312447, 0.6118120227281758, -0.7975020166108695, -1.462540048851282, 0.6827294493991927, 0.5334301271174584, 0.7294526884023559, -0.04388537975766861, -0.789556783280647, 0.3392864194491249, 0.790166279806434, 1.0259494794903965, 0.27094021554193, 1.4829223336581099, -0.23293511983863718, 0.6859245229420942, 0.5874723324937035, 0.48557210628845787, -0.12662879963201118, 0.9212668798284969, -1.2223765090701693, -0.029869681236115303, -1.8045036109927406, -1.9155662026040001, -0.536847880512402, 0.34557732447025485, -0.3892917688322118], \"yaxis\": \"y8\"}, {\"line\": {\"color\": \"rgba(128, 128, 128, 1.0)\", \"dash\": \"solid\", \"shape\": \"linear\", \"width\": 1.3}, \"marker\": {\"size\": 2, \"symbol\": \"circle\"}, \"mode\": \"markers\", \"name\": \"C\", \"text\": \"\", \"type\": \"scatter\", \"x\": [-1.149882228543045, 1.5362385410467798, 0.3932379374579331, -2.059996463523254, 0.09562991677781363, -0.1844539287632311, 2.3418220729645576, -0.43975047658280936, 0.6288630050374875, -0.030326212811700944, -1.702156021656865, -1.517666528581438, 1.19528182618035, -0.9288515943816018, 0.2672440911504483, -0.4002975415796906, -1.2173180116996651, 0.9662247412467714, -1.9290761726699661, 1.249919408423394, -0.6783813256393709, -0.7888541279691633, -2.7701270507949274, -0.4570081697608714, -1.5754577270896186, 1.7040742114772185, -1.323623647403465, -1.0710918640009173, 0.2187213850037935, -0.07078716233479242, -1.303646959301516, 2.1897266317892035, 0.13093518856030348, -0.9903480467852114, 0.33671892236565953, -1.1556963538417262, -0.2773860242357469, 1.9377494811247495, 0.1423953006490988, 0.6731945716487792, -0.46541278669836533, -0.714379146180877, 1.0651922056412366, 0.3114333896682094, -0.29224469547465676, -0.6358918139816263, -0.06286318467275165, 0.07858067675403434, -0.02010629030746235, 0.9735632755624417, 0.3806941990300737, 0.9555634570784103, -0.38220496895255784, -0.22327324528616546, -1.8998284305790532, -0.24424740920339258, -0.02526692348391983, -0.1382620224959738, 1.395861014773399, -0.3604338840902675, 0.3563945466276664, -0.07645210423467486, 1.058060157864064, 0.03543017928138459, 0.32199934259140944, 0.7294917431182483, 0.16221584077406218, 0.44579793102551135, -0.06772507530824512, 0.39109205187050505, -0.7385195761252955, -1.2023650450948926, -1.3018179686182045, -0.7588769767804764, 0.8540615931350239, 0.7937811845169089, -0.11330210909059032, 0.9786046847077196, 0.1026403652012129, -0.6973082302186342, -0.7309060647842065, -0.3824059171264001, 0.5322395624685383, 0.5520881490592399, 0.7893147543534774, 0.9593248351973666, 0.08953894702720594, -0.10201225506825605, -0.112709501292115, -0.6104114734459825, 0.4274545255274656, 0.3232725058320922, 0.14213070118669957, -0.7675916048632497, -0.15544652729455274, -0.6522117023376075, 1.7648913777096549, -1.0343556208880231, 0.6291210941714808, -0.2714321671685072], \"xaxis\": \"x9\", \"y\": [-0.05043432899368031, 0.6383985377849963, -0.5552104688070715, 0.8733894761659502, -0.27973637356455144, 0.3099198456823666, -0.88279025720947, 1.5867347920708614, -1.1682939504435819, -0.5398035790255533, 2.6047288884328945, -0.28450355075339073, -0.18411605199644634, -0.7087374298548398, 1.6390687626183504, -0.5433847348255266, -0.29102616128048525, 0.3867966969243918, -0.5738198681006161, -0.8467916453984707, 0.5297032633356104, 0.34987822330080387, 0.6945634517303589, 0.7468221924352632, 1.900151098890552, -0.621938312162858, -0.16362440785066615, 0.3584161327870031, 0.6084762558026675, -0.9318463866260959, -1.7149056880168532, -0.10128499226000447, 0.19637626627572874, 0.2969997402467644, -0.5831229998849408, -0.6053470808434863, -0.519200620192376, 1.132014562741578, 2.14583857085064, 1.1082670904027203, 0.9915436083465138, 0.35064782627575036, -0.8718624044359158, -0.7711209904670029, 1.8434894167073075, -0.881682946775223, 2.2198785443767775, -0.9020703454223811, -2.0310072709609477, 0.0859417760441214, -0.5497913464560333, -0.8896792267662379, 0.0501728664565584, -1.4144078755079297, -1.2547969891058721, 0.4244866684966232, 0.5746324117859202, 0.23125449383760513, 0.6734505472376046, 0.9481492334735947, -0.15602051696246882, -0.27681846353088535, 0.6879641900610127, -0.5650179988527602, -0.6727447321566563, 0.8055284608391798, -0.07814871647186178, 0.5983513117146525, 0.39409971719175724, 0.2652492847240678, -1.1594253536181287, 1.5322943352645402, 0.29524129053229714, -0.21092943984307086, 0.7241385453207122, -0.5075445506409986, -1.0399223896721543, -2.6981299945993604, 0.444443913026689, -0.2080299799409404, -0.48655055177461065, -0.24397033164856838, -0.1394653239772895, 0.8566379732556342, -0.40928402997218166, -0.8146622155618218, -0.12037812400398963, -0.0004340621273201351, 2.4020992968620263, 0.8084817681546183, 0.3342529934430462, 0.21356656246612182, -0.7660769594747029, -0.1688787331661423, -0.8175685865248625, 1.1337186472505991, -0.8818864274262241, -0.6262697386361157, -1.587580606392134, 1.3878120685001782], \"yaxis\": \"y9\"}, {\"line\": {\"color\": \"rgba(128, 128, 128, 1.0)\", \"dash\": \"solid\", \"shape\": \"linear\", \"width\": 1.3}, \"marker\": {\"size\": 2, \"symbol\": \"circle\"}, \"mode\": \"markers\", \"name\": \"C\", \"text\": \"\", \"type\": \"scatter\", \"x\": [-0.821596800402655, 0.5664394505597601, 0.5089641346070292, -0.2592635248813433, 1.1425648848092516, 0.1303293725182424, -0.7452599453081017, 0.6807839819422564, -0.03025028909446263, -0.7216948550717397, 0.012099971974348565, -1.9328018674909626, 0.2940669437690773, -0.6425845565868856, -1.274457701503331, -0.31820163749691893, -0.9201990535926323, -1.3082244088756303, 0.9672470890932595, 0.5604202824371384, -0.7169037558756315, 0.5214208294070508, 0.005276194451701883, 1.34131395639202, 0.862730069774194, 0.444210324881266, 0.7166122997543846, 0.5905621985926649, -0.6123356568653066, -0.526925454627251, 0.3566581207234709, -0.7958593703435825, 0.4820928557493119, 2.082313812263963, 1.2477493754732194, 0.4347371625321479, -0.5524659931146368, -0.8005632090645551, -0.49586200765958227, 0.7363425104966456, -0.5004712861884172, 1.0482761927570294, -0.6137346570027824, -0.03968309123000246, -0.3226370483232409, -0.9003242820526284, -0.4726691235269847, 1.468411024145207, -0.45566617797248504, 0.07953301178126826, 0.5357369360643719, -0.08765107497054818, -1.426308343534027, 0.819068484709911, 1.8086881553071021, 0.40025853155354885, -0.8893840863646113, 0.9387138657020594, 0.6986426191038498, 0.43740462673617786, 0.6644892611484586, 0.0311752431301281, -0.8240084892443692, 1.5178420616192276, 0.014463322301807217, -0.07506796365150185, 0.25267110665442416, 0.9536021445007004, -0.021310183431371237, -1.3114035432534275, 0.8592510660239445, -1.2507752033737798, 1.4246620884121426, 1.1027173115312447, 0.6118120227281758, -0.7975020166108695, -1.462540048851282, 0.6827294493991927, 0.5334301271174584, 0.7294526884023559, -0.04388537975766861, -0.789556783280647, 0.3392864194491249, 0.790166279806434, 1.0259494794903965, 0.27094021554193, 1.4829223336581099, -0.23293511983863718, 0.6859245229420942, 0.5874723324937035, 0.48557210628845787, -0.12662879963201118, 0.9212668798284969, -1.2223765090701693, -0.029869681236115303, -1.8045036109927406, -1.9155662026040001, -0.536847880512402, 0.34557732447025485, -0.3892917688322118], \"xaxis\": \"x10\", \"y\": [-0.05043432899368031, 0.6383985377849963, -0.5552104688070715, 0.8733894761659502, -0.27973637356455144, 0.3099198456823666, -0.88279025720947, 1.5867347920708614, -1.1682939504435819, -0.5398035790255533, 2.6047288884328945, -0.28450355075339073, -0.18411605199644634, -0.7087374298548398, 1.6390687626183504, -0.5433847348255266, -0.29102616128048525, 0.3867966969243918, -0.5738198681006161, -0.8467916453984707, 0.5297032633356104, 0.34987822330080387, 0.6945634517303589, 0.7468221924352632, 1.900151098890552, -0.621938312162858, -0.16362440785066615, 0.3584161327870031, 0.6084762558026675, -0.9318463866260959, -1.7149056880168532, -0.10128499226000447, 0.19637626627572874, 0.2969997402467644, -0.5831229998849408, -0.6053470808434863, -0.519200620192376, 1.132014562741578, 2.14583857085064, 1.1082670904027203, 0.9915436083465138, 0.35064782627575036, -0.8718624044359158, -0.7711209904670029, 1.8434894167073075, -0.881682946775223, 2.2198785443767775, -0.9020703454223811, -2.0310072709609477, 0.0859417760441214, -0.5497913464560333, -0.8896792267662379, 0.0501728664565584, -1.4144078755079297, -1.2547969891058721, 0.4244866684966232, 0.5746324117859202, 0.23125449383760513, 0.6734505472376046, 0.9481492334735947, -0.15602051696246882, -0.27681846353088535, 0.6879641900610127, -0.5650179988527602, -0.6727447321566563, 0.8055284608391798, -0.07814871647186178, 0.5983513117146525, 0.39409971719175724, 0.2652492847240678, -1.1594253536181287, 1.5322943352645402, 0.29524129053229714, -0.21092943984307086, 0.7241385453207122, -0.5075445506409986, -1.0399223896721543, -2.6981299945993604, 0.444443913026689, -0.2080299799409404, -0.48655055177461065, -0.24397033164856838, -0.1394653239772895, 0.8566379732556342, -0.40928402997218166, -0.8146622155618218, -0.12037812400398963, -0.0004340621273201351, 2.4020992968620263, 0.8084817681546183, 0.3342529934430462, 0.21356656246612182, -0.7660769594747029, -0.1688787331661423, -0.8175685865248625, 1.1337186472505991, -0.8818864274262241, -0.6262697386361157, -1.587580606392134, 1.3878120685001782], \"yaxis\": \"y10\"}, {\"histfunc\": \"count\", \"histnorm\": \"\", \"marker\": {\"color\": \"rgba(50, 171, 96, 1.0)\", \"line\": {\"color\": \"#4D5663\", \"width\": 1.3}}, \"name\": \"C\", \"nbinsx\": 10, \"opacity\": 0.8, \"orientation\": \"v\", \"type\": \"histogram\", \"x\": [-0.05043432899368031, 0.6383985377849963, -0.5552104688070715, 0.8733894761659502, -0.27973637356455144, 0.3099198456823666, -0.88279025720947, 1.5867347920708614, -1.1682939504435819, -0.5398035790255533, 2.6047288884328945, -0.28450355075339073, -0.18411605199644634, -0.7087374298548398, 1.6390687626183504, -0.5433847348255266, -0.29102616128048525, 0.3867966969243918, -0.5738198681006161, -0.8467916453984707, 0.5297032633356104, 0.34987822330080387, 0.6945634517303589, 0.7468221924352632, 1.900151098890552, -0.621938312162858, -0.16362440785066615, 0.3584161327870031, 0.6084762558026675, -0.9318463866260959, -1.7149056880168532, -0.10128499226000447, 0.19637626627572874, 0.2969997402467644, -0.5831229998849408, -0.6053470808434863, -0.519200620192376, 1.132014562741578, 2.14583857085064, 1.1082670904027203, 0.9915436083465138, 0.35064782627575036, -0.8718624044359158, -0.7711209904670029, 1.8434894167073075, -0.881682946775223, 2.2198785443767775, -0.9020703454223811, -2.0310072709609477, 0.0859417760441214, -0.5497913464560333, -0.8896792267662379, 0.0501728664565584, -1.4144078755079297, -1.2547969891058721, 0.4244866684966232, 0.5746324117859202, 0.23125449383760513, 0.6734505472376046, 0.9481492334735947, -0.15602051696246882, -0.27681846353088535, 0.6879641900610127, -0.5650179988527602, -0.6727447321566563, 0.8055284608391798, -0.07814871647186178, 0.5983513117146525, 0.39409971719175724, 0.2652492847240678, -1.1594253536181287, 1.5322943352645402, 0.29524129053229714, -0.21092943984307086, 0.7241385453207122, -0.5075445506409986, -1.0399223896721543, -2.6981299945993604, 0.444443913026689, -0.2080299799409404, -0.48655055177461065, -0.24397033164856838, -0.1394653239772895, 0.8566379732556342, -0.40928402997218166, -0.8146622155618218, -0.12037812400398963, -0.0004340621273201351, 2.4020992968620263, 0.8084817681546183, 0.3342529934430462, 0.21356656246612182, -0.7660769594747029, -0.1688787331661423, -0.8175685865248625, 1.1337186472505991, -0.8818864274262241, -0.6262697386361157, -1.587580606392134, 1.3878120685001782], \"xaxis\": \"x11\", \"yaxis\": \"y11\"}, {\"line\": {\"color\": \"rgba(128, 128, 128, 1.0)\", \"dash\": \"solid\", \"shape\": \"linear\", \"width\": 1.3}, \"marker\": {\"size\": 2, \"symbol\": \"circle\"}, \"mode\": \"markers\", \"name\": \"C\", \"text\": \"\", \"type\": \"scatter\", \"x\": [0.5453066085348863, 0.6297272301796784, -0.9401461784548403, -0.9847733132602441, 1.509088854044453, -1.7000718360475824, -1.2225246766948081, 1.3568654711368602, 0.22949621448467727, 2.1801712492246623, 0.5837170028026545, 0.24891769712044948, 0.10317662432857874, -1.4088141062786053, 3.114453696537187, 0.5834183604615801, -0.5741527118434024, -1.1152938765819431, -0.32064879042738254, -0.0028248826754078134, -1.0740947558270184, -1.145910377161432, -1.622254906735283, 0.0849850233504138, 0.48170159146795744, 0.1577755528307472, -0.504127259110801, -0.42063541220074924, 0.7892685553129059, 0.5268042161431765, 1.2662485409933102, 1.2956511293072994, -1.9576037803587114, 0.5811261923984811, 1.8785462043575325, -0.08774836819701964, 0.9936591690188294, 0.20979789911097893, 0.9783870564757947, -0.4828364341183934, 0.7638656251918456, -0.10031401419564683, 0.6256444425530976, 1.474091024374885, -1.8210439918869357, -0.6306310693510034, -1.249298484344971, -1.999155382645612, 0.46224949849096975, -0.34470294101095705, 1.038300340305395, -0.884885731263254, -0.6201625925282921, 0.5184519198587142, 0.43543105924330205, -0.7227359721398886, -0.7755191591579904, -1.0755675808765595, 0.8544324240378218, 2.076530741297135, 0.43393973919277723, -0.4690057057030747, 1.6062580004266929, 1.3388694692214416, 0.3555205791346771, 0.13372868023617268, -1.274558124113613, 0.007648624125840822, -1.1725752578112267, -0.4476181800792881, 1.025402172731115, -0.9778778830870949, -1.9127435863256657, 0.7662278656128317, 1.7013257856725703, 1.227232519758253, -0.07606912837548144, 0.5952707419086611, 0.18385146042710004, -0.6123272648027931, -0.3200931051252156, 0.6388727081193947, 0.5438565635317469, 0.4985924271650018, 1.582456123753077, 0.00900868556309942, -0.3661353184511324, -0.5282883669256038, 0.1620926442176821, 1.5666749409075835, 0.3472465771172096, 0.2287517566522857, 0.8253230381114772, -1.3204961957638008, 1.2104316254647076, -0.8837493643965285, 1.5207769567087257, -1.8632609220655565, 0.3257742103009992, 0.6961644380276888], \"xaxis\": \"x12\", \"y\": [-0.05043432899368031, 0.6383985377849963, -0.5552104688070715, 0.8733894761659502, -0.27973637356455144, 0.3099198456823666, -0.88279025720947, 1.5867347920708614, -1.1682939504435819, -0.5398035790255533, 2.6047288884328945, -0.28450355075339073, -0.18411605199644634, -0.7087374298548398, 1.6390687626183504, -0.5433847348255266, -0.29102616128048525, 0.3867966969243918, -0.5738198681006161, -0.8467916453984707, 0.5297032633356104, 0.34987822330080387, 0.6945634517303589, 0.7468221924352632, 1.900151098890552, -0.621938312162858, -0.16362440785066615, 0.3584161327870031, 0.6084762558026675, -0.9318463866260959, -1.7149056880168532, -0.10128499226000447, 0.19637626627572874, 0.2969997402467644, -0.5831229998849408, -0.6053470808434863, -0.519200620192376, 1.132014562741578, 2.14583857085064, 1.1082670904027203, 0.9915436083465138, 0.35064782627575036, -0.8718624044359158, -0.7711209904670029, 1.8434894167073075, -0.881682946775223, 2.2198785443767775, -0.9020703454223811, -2.0310072709609477, 0.0859417760441214, -0.5497913464560333, -0.8896792267662379, 0.0501728664565584, -1.4144078755079297, -1.2547969891058721, 0.4244866684966232, 0.5746324117859202, 0.23125449383760513, 0.6734505472376046, 0.9481492334735947, -0.15602051696246882, -0.27681846353088535, 0.6879641900610127, -0.5650179988527602, -0.6727447321566563, 0.8055284608391798, -0.07814871647186178, 0.5983513117146525, 0.39409971719175724, 0.2652492847240678, -1.1594253536181287, 1.5322943352645402, 0.29524129053229714, -0.21092943984307086, 0.7241385453207122, -0.5075445506409986, -1.0399223896721543, -2.6981299945993604, 0.444443913026689, -0.2080299799409404, -0.48655055177461065, -0.24397033164856838, -0.1394653239772895, 0.8566379732556342, -0.40928402997218166, -0.8146622155618218, -0.12037812400398963, -0.0004340621273201351, 2.4020992968620263, 0.8084817681546183, 0.3342529934430462, 0.21356656246612182, -0.7660769594747029, -0.1688787331661423, -0.8175685865248625, 1.1337186472505991, -0.8818864274262241, -0.6262697386361157, -1.587580606392134, 1.3878120685001782], \"yaxis\": \"y12\"}, {\"line\": {\"color\": \"rgba(128, 128, 128, 1.0)\", \"dash\": \"solid\", \"shape\": \"linear\", \"width\": 1.3}, \"marker\": {\"size\": 2, \"symbol\": \"circle\"}, \"mode\": \"markers\", \"name\": \"D\", \"text\": \"\", \"type\": \"scatter\", \"x\": [-1.149882228543045, 1.5362385410467798, 0.3932379374579331, -2.059996463523254, 0.09562991677781363, -0.1844539287632311, 2.3418220729645576, -0.43975047658280936, 0.6288630050374875, -0.030326212811700944, -1.702156021656865, -1.517666528581438, 1.19528182618035, -0.9288515943816018, 0.2672440911504483, -0.4002975415796906, -1.2173180116996651, 0.9662247412467714, -1.9290761726699661, 1.249919408423394, -0.6783813256393709, -0.7888541279691633, -2.7701270507949274, -0.4570081697608714, -1.5754577270896186, 1.7040742114772185, -1.323623647403465, -1.0710918640009173, 0.2187213850037935, -0.07078716233479242, -1.303646959301516, 2.1897266317892035, 0.13093518856030348, -0.9903480467852114, 0.33671892236565953, -1.1556963538417262, -0.2773860242357469, 1.9377494811247495, 0.1423953006490988, 0.6731945716487792, -0.46541278669836533, -0.714379146180877, 1.0651922056412366, 0.3114333896682094, -0.29224469547465676, -0.6358918139816263, -0.06286318467275165, 0.07858067675403434, -0.02010629030746235, 0.9735632755624417, 0.3806941990300737, 0.9555634570784103, -0.38220496895255784, -0.22327324528616546, -1.8998284305790532, -0.24424740920339258, -0.02526692348391983, -0.1382620224959738, 1.395861014773399, -0.3604338840902675, 0.3563945466276664, -0.07645210423467486, 1.058060157864064, 0.03543017928138459, 0.32199934259140944, 0.7294917431182483, 0.16221584077406218, 0.44579793102551135, -0.06772507530824512, 0.39109205187050505, -0.7385195761252955, -1.2023650450948926, -1.3018179686182045, -0.7588769767804764, 0.8540615931350239, 0.7937811845169089, -0.11330210909059032, 0.9786046847077196, 0.1026403652012129, -0.6973082302186342, -0.7309060647842065, -0.3824059171264001, 0.5322395624685383, 0.5520881490592399, 0.7893147543534774, 0.9593248351973666, 0.08953894702720594, -0.10201225506825605, -0.112709501292115, -0.6104114734459825, 0.4274545255274656, 0.3232725058320922, 0.14213070118669957, -0.7675916048632497, -0.15544652729455274, -0.6522117023376075, 1.7648913777096549, -1.0343556208880231, 0.6291210941714808, -0.2714321671685072], \"xaxis\": \"x13\", \"y\": [0.5453066085348863, 0.6297272301796784, -0.9401461784548403, -0.9847733132602441, 1.509088854044453, -1.7000718360475824, -1.2225246766948081, 1.3568654711368602, 0.22949621448467727, 2.1801712492246623, 0.5837170028026545, 0.24891769712044948, 0.10317662432857874, -1.4088141062786053, 3.114453696537187, 0.5834183604615801, -0.5741527118434024, -1.1152938765819431, -0.32064879042738254, -0.0028248826754078134, -1.0740947558270184, -1.145910377161432, -1.622254906735283, 0.0849850233504138, 0.48170159146795744, 0.1577755528307472, -0.504127259110801, -0.42063541220074924, 0.7892685553129059, 0.5268042161431765, 1.2662485409933102, 1.2956511293072994, -1.9576037803587114, 0.5811261923984811, 1.8785462043575325, -0.08774836819701964, 0.9936591690188294, 0.20979789911097893, 0.9783870564757947, -0.4828364341183934, 0.7638656251918456, -0.10031401419564683, 0.6256444425530976, 1.474091024374885, -1.8210439918869357, -0.6306310693510034, -1.249298484344971, -1.999155382645612, 0.46224949849096975, -0.34470294101095705, 1.038300340305395, -0.884885731263254, -0.6201625925282921, 0.5184519198587142, 0.43543105924330205, -0.7227359721398886, -0.7755191591579904, -1.0755675808765595, 0.8544324240378218, 2.076530741297135, 0.43393973919277723, -0.4690057057030747, 1.6062580004266929, 1.3388694692214416, 0.3555205791346771, 0.13372868023617268, -1.274558124113613, 0.007648624125840822, -1.1725752578112267, -0.4476181800792881, 1.025402172731115, -0.9778778830870949, -1.9127435863256657, 0.7662278656128317, 1.7013257856725703, 1.227232519758253, -0.07606912837548144, 0.5952707419086611, 0.18385146042710004, -0.6123272648027931, -0.3200931051252156, 0.6388727081193947, 0.5438565635317469, 0.4985924271650018, 1.582456123753077, 0.00900868556309942, -0.3661353184511324, -0.5282883669256038, 0.1620926442176821, 1.5666749409075835, 0.3472465771172096, 0.2287517566522857, 0.8253230381114772, -1.3204961957638008, 1.2104316254647076, -0.8837493643965285, 1.5207769567087257, -1.8632609220655565, 0.3257742103009992, 0.6961644380276888], \"yaxis\": \"y13\"}, {\"line\": {\"color\": \"rgba(128, 128, 128, 1.0)\", \"dash\": \"solid\", \"shape\": \"linear\", \"width\": 1.3}, \"marker\": {\"size\": 2, \"symbol\": \"circle\"}, \"mode\": \"markers\", \"name\": \"D\", \"text\": \"\", \"type\": \"scatter\", \"x\": [-0.821596800402655, 0.5664394505597601, 0.5089641346070292, -0.2592635248813433, 1.1425648848092516, 0.1303293725182424, -0.7452599453081017, 0.6807839819422564, -0.03025028909446263, -0.7216948550717397, 0.012099971974348565, -1.9328018674909626, 0.2940669437690773, -0.6425845565868856, -1.274457701503331, -0.31820163749691893, -0.9201990535926323, -1.3082244088756303, 0.9672470890932595, 0.5604202824371384, -0.7169037558756315, 0.5214208294070508, 0.005276194451701883, 1.34131395639202, 0.862730069774194, 0.444210324881266, 0.7166122997543846, 0.5905621985926649, -0.6123356568653066, -0.526925454627251, 0.3566581207234709, -0.7958593703435825, 0.4820928557493119, 2.082313812263963, 1.2477493754732194, 0.4347371625321479, -0.5524659931146368, -0.8005632090645551, -0.49586200765958227, 0.7363425104966456, -0.5004712861884172, 1.0482761927570294, -0.6137346570027824, -0.03968309123000246, -0.3226370483232409, -0.9003242820526284, -0.4726691235269847, 1.468411024145207, -0.45566617797248504, 0.07953301178126826, 0.5357369360643719, -0.08765107497054818, -1.426308343534027, 0.819068484709911, 1.8086881553071021, 0.40025853155354885, -0.8893840863646113, 0.9387138657020594, 0.6986426191038498, 0.43740462673617786, 0.6644892611484586, 0.0311752431301281, -0.8240084892443692, 1.5178420616192276, 0.014463322301807217, -0.07506796365150185, 0.25267110665442416, 0.9536021445007004, -0.021310183431371237, -1.3114035432534275, 0.8592510660239445, -1.2507752033737798, 1.4246620884121426, 1.1027173115312447, 0.6118120227281758, -0.7975020166108695, -1.462540048851282, 0.6827294493991927, 0.5334301271174584, 0.7294526884023559, -0.04388537975766861, -0.789556783280647, 0.3392864194491249, 0.790166279806434, 1.0259494794903965, 0.27094021554193, 1.4829223336581099, -0.23293511983863718, 0.6859245229420942, 0.5874723324937035, 0.48557210628845787, -0.12662879963201118, 0.9212668798284969, -1.2223765090701693, -0.029869681236115303, -1.8045036109927406, -1.9155662026040001, -0.536847880512402, 0.34557732447025485, -0.3892917688322118], \"xaxis\": \"x14\", \"y\": [0.5453066085348863, 0.6297272301796784, -0.9401461784548403, -0.9847733132602441, 1.509088854044453, -1.7000718360475824, -1.2225246766948081, 1.3568654711368602, 0.22949621448467727, 2.1801712492246623, 0.5837170028026545, 0.24891769712044948, 0.10317662432857874, -1.4088141062786053, 3.114453696537187, 0.5834183604615801, -0.5741527118434024, -1.1152938765819431, -0.32064879042738254, -0.0028248826754078134, -1.0740947558270184, -1.145910377161432, -1.622254906735283, 0.0849850233504138, 0.48170159146795744, 0.1577755528307472, -0.504127259110801, -0.42063541220074924, 0.7892685553129059, 0.5268042161431765, 1.2662485409933102, 1.2956511293072994, -1.9576037803587114, 0.5811261923984811, 1.8785462043575325, -0.08774836819701964, 0.9936591690188294, 0.20979789911097893, 0.9783870564757947, -0.4828364341183934, 0.7638656251918456, -0.10031401419564683, 0.6256444425530976, 1.474091024374885, -1.8210439918869357, -0.6306310693510034, -1.249298484344971, -1.999155382645612, 0.46224949849096975, -0.34470294101095705, 1.038300340305395, -0.884885731263254, -0.6201625925282921, 0.5184519198587142, 0.43543105924330205, -0.7227359721398886, -0.7755191591579904, -1.0755675808765595, 0.8544324240378218, 2.076530741297135, 0.43393973919277723, -0.4690057057030747, 1.6062580004266929, 1.3388694692214416, 0.3555205791346771, 0.13372868023617268, -1.274558124113613, 0.007648624125840822, -1.1725752578112267, -0.4476181800792881, 1.025402172731115, -0.9778778830870949, -1.9127435863256657, 0.7662278656128317, 1.7013257856725703, 1.227232519758253, -0.07606912837548144, 0.5952707419086611, 0.18385146042710004, -0.6123272648027931, -0.3200931051252156, 0.6388727081193947, 0.5438565635317469, 0.4985924271650018, 1.582456123753077, 0.00900868556309942, -0.3661353184511324, -0.5282883669256038, 0.1620926442176821, 1.5666749409075835, 0.3472465771172096, 0.2287517566522857, 0.8253230381114772, -1.3204961957638008, 1.2104316254647076, -0.8837493643965285, 1.5207769567087257, -1.8632609220655565, 0.3257742103009992, 0.6961644380276888], \"yaxis\": \"y14\"}, {\"line\": {\"color\": \"rgba(128, 128, 128, 1.0)\", \"dash\": \"solid\", \"shape\": \"linear\", \"width\": 1.3}, \"marker\": {\"size\": 2, \"symbol\": \"circle\"}, \"mode\": \"markers\", \"name\": \"D\", \"text\": \"\", \"type\": \"scatter\", \"x\": [-0.05043432899368031, 0.6383985377849963, -0.5552104688070715, 0.8733894761659502, -0.27973637356455144, 0.3099198456823666, -0.88279025720947, 1.5867347920708614, -1.1682939504435819, -0.5398035790255533, 2.6047288884328945, -0.28450355075339073, -0.18411605199644634, -0.7087374298548398, 1.6390687626183504, -0.5433847348255266, -0.29102616128048525, 0.3867966969243918, -0.5738198681006161, -0.8467916453984707, 0.5297032633356104, 0.34987822330080387, 0.6945634517303589, 0.7468221924352632, 1.900151098890552, -0.621938312162858, -0.16362440785066615, 0.3584161327870031, 0.6084762558026675, -0.9318463866260959, -1.7149056880168532, -0.10128499226000447, 0.19637626627572874, 0.2969997402467644, -0.5831229998849408, -0.6053470808434863, -0.519200620192376, 1.132014562741578, 2.14583857085064, 1.1082670904027203, 0.9915436083465138, 0.35064782627575036, -0.8718624044359158, -0.7711209904670029, 1.8434894167073075, -0.881682946775223, 2.2198785443767775, -0.9020703454223811, -2.0310072709609477, 0.0859417760441214, -0.5497913464560333, -0.8896792267662379, 0.0501728664565584, -1.4144078755079297, -1.2547969891058721, 0.4244866684966232, 0.5746324117859202, 0.23125449383760513, 0.6734505472376046, 0.9481492334735947, -0.15602051696246882, -0.27681846353088535, 0.6879641900610127, -0.5650179988527602, -0.6727447321566563, 0.8055284608391798, -0.07814871647186178, 0.5983513117146525, 0.39409971719175724, 0.2652492847240678, -1.1594253536181287, 1.5322943352645402, 0.29524129053229714, -0.21092943984307086, 0.7241385453207122, -0.5075445506409986, -1.0399223896721543, -2.6981299945993604, 0.444443913026689, -0.2080299799409404, -0.48655055177461065, -0.24397033164856838, -0.1394653239772895, 0.8566379732556342, -0.40928402997218166, -0.8146622155618218, -0.12037812400398963, -0.0004340621273201351, 2.4020992968620263, 0.8084817681546183, 0.3342529934430462, 0.21356656246612182, -0.7660769594747029, -0.1688787331661423, -0.8175685865248625, 1.1337186472505991, -0.8818864274262241, -0.6262697386361157, -1.587580606392134, 1.3878120685001782], \"xaxis\": \"x15\", \"y\": [0.5453066085348863, 0.6297272301796784, -0.9401461784548403, -0.9847733132602441, 1.509088854044453, -1.7000718360475824, -1.2225246766948081, 1.3568654711368602, 0.22949621448467727, 2.1801712492246623, 0.5837170028026545, 0.24891769712044948, 0.10317662432857874, -1.4088141062786053, 3.114453696537187, 0.5834183604615801, -0.5741527118434024, -1.1152938765819431, -0.32064879042738254, -0.0028248826754078134, -1.0740947558270184, -1.145910377161432, -1.622254906735283, 0.0849850233504138, 0.48170159146795744, 0.1577755528307472, -0.504127259110801, -0.42063541220074924, 0.7892685553129059, 0.5268042161431765, 1.2662485409933102, 1.2956511293072994, -1.9576037803587114, 0.5811261923984811, 1.8785462043575325, -0.08774836819701964, 0.9936591690188294, 0.20979789911097893, 0.9783870564757947, -0.4828364341183934, 0.7638656251918456, -0.10031401419564683, 0.6256444425530976, 1.474091024374885, -1.8210439918869357, -0.6306310693510034, -1.249298484344971, -1.999155382645612, 0.46224949849096975, -0.34470294101095705, 1.038300340305395, -0.884885731263254, -0.6201625925282921, 0.5184519198587142, 0.43543105924330205, -0.7227359721398886, -0.7755191591579904, -1.0755675808765595, 0.8544324240378218, 2.076530741297135, 0.43393973919277723, -0.4690057057030747, 1.6062580004266929, 1.3388694692214416, 0.3555205791346771, 0.13372868023617268, -1.274558124113613, 0.007648624125840822, -1.1725752578112267, -0.4476181800792881, 1.025402172731115, -0.9778778830870949, -1.9127435863256657, 0.7662278656128317, 1.7013257856725703, 1.227232519758253, -0.07606912837548144, 0.5952707419086611, 0.18385146042710004, -0.6123272648027931, -0.3200931051252156, 0.6388727081193947, 0.5438565635317469, 0.4985924271650018, 1.582456123753077, 0.00900868556309942, -0.3661353184511324, -0.5282883669256038, 0.1620926442176821, 1.5666749409075835, 0.3472465771172096, 0.2287517566522857, 0.8253230381114772, -1.3204961957638008, 1.2104316254647076, -0.8837493643965285, 1.5207769567087257, -1.8632609220655565, 0.3257742103009992, 0.6961644380276888], \"yaxis\": \"y15\"}, {\"histfunc\": \"count\", \"histnorm\": \"\", \"marker\": {\"color\": \"rgba(128, 0, 128, 1.0)\", \"line\": {\"color\": \"#4D5663\", \"width\": 1.3}}, \"name\": \"D\", \"nbinsx\": 10, \"opacity\": 0.8, \"orientation\": \"v\", \"type\": \"histogram\", \"x\": [0.5453066085348863, 0.6297272301796784, -0.9401461784548403, -0.9847733132602441, 1.509088854044453, -1.7000718360475824, -1.2225246766948081, 1.3568654711368602, 0.22949621448467727, 2.1801712492246623, 0.5837170028026545, 0.24891769712044948, 0.10317662432857874, -1.4088141062786053, 3.114453696537187, 0.5834183604615801, -0.5741527118434024, -1.1152938765819431, -0.32064879042738254, -0.0028248826754078134, -1.0740947558270184, -1.145910377161432, -1.622254906735283, 0.0849850233504138, 0.48170159146795744, 0.1577755528307472, -0.504127259110801, -0.42063541220074924, 0.7892685553129059, 0.5268042161431765, 1.2662485409933102, 1.2956511293072994, -1.9576037803587114, 0.5811261923984811, 1.8785462043575325, -0.08774836819701964, 0.9936591690188294, 0.20979789911097893, 0.9783870564757947, -0.4828364341183934, 0.7638656251918456, -0.10031401419564683, 0.6256444425530976, 1.474091024374885, -1.8210439918869357, -0.6306310693510034, -1.249298484344971, -1.999155382645612, 0.46224949849096975, -0.34470294101095705, 1.038300340305395, -0.884885731263254, -0.6201625925282921, 0.5184519198587142, 0.43543105924330205, -0.7227359721398886, -0.7755191591579904, -1.0755675808765595, 0.8544324240378218, 2.076530741297135, 0.43393973919277723, -0.4690057057030747, 1.6062580004266929, 1.3388694692214416, 0.3555205791346771, 0.13372868023617268, -1.274558124113613, 0.007648624125840822, -1.1725752578112267, -0.4476181800792881, 1.025402172731115, -0.9778778830870949, -1.9127435863256657, 0.7662278656128317, 1.7013257856725703, 1.227232519758253, -0.07606912837548144, 0.5952707419086611, 0.18385146042710004, -0.6123272648027931, -0.3200931051252156, 0.6388727081193947, 0.5438565635317469, 0.4985924271650018, 1.582456123753077, 0.00900868556309942, -0.3661353184511324, -0.5282883669256038, 0.1620926442176821, 1.5666749409075835, 0.3472465771172096, 0.2287517566522857, 0.8253230381114772, -1.3204961957638008, 1.2104316254647076, -0.8837493643965285, 1.5207769567087257, -1.8632609220655565, 0.3257742103009992, 0.6961644380276888], \"xaxis\": \"x16\", \"yaxis\": \"y16\"}],\n",
       "                        {\"bargap\": 0.02, \"legend\": {\"bgcolor\": \"#F5F6F9\", \"font\": {\"color\": \"#4D5663\"}}, \"paper_bgcolor\": \"#F5F6F9\", \"plot_bgcolor\": \"#F5F6F9\", \"showlegend\": false, \"template\": {\"data\": {\"bar\": [{\"error_x\": {\"color\": \"#2a3f5f\"}, \"error_y\": {\"color\": \"#2a3f5f\"}, \"marker\": {\"line\": {\"color\": \"#E5ECF6\", \"width\": 0.5}}, \"type\": \"bar\"}], \"barpolar\": [{\"marker\": {\"line\": {\"color\": \"#E5ECF6\", \"width\": 0.5}}, \"type\": \"barpolar\"}], \"carpet\": [{\"aaxis\": {\"endlinecolor\": \"#2a3f5f\", \"gridcolor\": \"white\", \"linecolor\": \"white\", \"minorgridcolor\": \"white\", \"startlinecolor\": \"#2a3f5f\"}, \"baxis\": {\"endlinecolor\": \"#2a3f5f\", \"gridcolor\": \"white\", \"linecolor\": \"white\", \"minorgridcolor\": \"white\", \"startlinecolor\": \"#2a3f5f\"}, \"type\": \"carpet\"}], \"choropleth\": [{\"colorbar\": {\"outlinewidth\": 0, \"ticks\": \"\"}, \"type\": \"choropleth\"}], \"contour\": [{\"colorbar\": {\"outlinewidth\": 0, \"ticks\": \"\"}, \"colorscale\": [[0.0, \"#0d0887\"], [0.1111111111111111, \"#46039f\"], [0.2222222222222222, \"#7201a8\"], [0.3333333333333333, \"#9c179e\"], [0.4444444444444444, \"#bd3786\"], [0.5555555555555556, \"#d8576b\"], [0.6666666666666666, \"#ed7953\"], [0.7777777777777778, \"#fb9f3a\"], [0.8888888888888888, \"#fdca26\"], [1.0, \"#f0f921\"]], \"type\": \"contour\"}], \"contourcarpet\": [{\"colorbar\": {\"outlinewidth\": 0, \"ticks\": \"\"}, \"type\": \"contourcarpet\"}], \"heatmap\": [{\"colorbar\": {\"outlinewidth\": 0, \"ticks\": \"\"}, \"colorscale\": [[0.0, \"#0d0887\"], [0.1111111111111111, \"#46039f\"], [0.2222222222222222, \"#7201a8\"], [0.3333333333333333, \"#9c179e\"], [0.4444444444444444, \"#bd3786\"], [0.5555555555555556, \"#d8576b\"], [0.6666666666666666, \"#ed7953\"], [0.7777777777777778, \"#fb9f3a\"], [0.8888888888888888, \"#fdca26\"], [1.0, \"#f0f921\"]], \"type\": \"heatmap\"}], \"heatmapgl\": [{\"colorbar\": {\"outlinewidth\": 0, \"ticks\": \"\"}, \"colorscale\": [[0.0, \"#0d0887\"], [0.1111111111111111, \"#46039f\"], [0.2222222222222222, \"#7201a8\"], [0.3333333333333333, \"#9c179e\"], [0.4444444444444444, \"#bd3786\"], [0.5555555555555556, \"#d8576b\"], [0.6666666666666666, \"#ed7953\"], [0.7777777777777778, \"#fb9f3a\"], [0.8888888888888888, \"#fdca26\"], [1.0, \"#f0f921\"]], \"type\": \"heatmapgl\"}], \"histogram\": [{\"marker\": {\"colorbar\": {\"outlinewidth\": 0, \"ticks\": \"\"}}, \"type\": \"histogram\"}], \"histogram2d\": [{\"colorbar\": {\"outlinewidth\": 0, \"ticks\": \"\"}, \"colorscale\": [[0.0, \"#0d0887\"], [0.1111111111111111, \"#46039f\"], [0.2222222222222222, \"#7201a8\"], [0.3333333333333333, \"#9c179e\"], [0.4444444444444444, \"#bd3786\"], [0.5555555555555556, \"#d8576b\"], [0.6666666666666666, \"#ed7953\"], [0.7777777777777778, \"#fb9f3a\"], [0.8888888888888888, \"#fdca26\"], [1.0, \"#f0f921\"]], \"type\": \"histogram2d\"}], \"histogram2dcontour\": [{\"colorbar\": {\"outlinewidth\": 0, \"ticks\": \"\"}, \"colorscale\": [[0.0, \"#0d0887\"], [0.1111111111111111, \"#46039f\"], [0.2222222222222222, \"#7201a8\"], [0.3333333333333333, \"#9c179e\"], [0.4444444444444444, \"#bd3786\"], [0.5555555555555556, \"#d8576b\"], [0.6666666666666666, \"#ed7953\"], [0.7777777777777778, \"#fb9f3a\"], [0.8888888888888888, \"#fdca26\"], [1.0, \"#f0f921\"]], \"type\": \"histogram2dcontour\"}], \"mesh3d\": [{\"colorbar\": {\"outlinewidth\": 0, \"ticks\": \"\"}, \"type\": \"mesh3d\"}], \"parcoords\": [{\"line\": {\"colorbar\": {\"outlinewidth\": 0, \"ticks\": \"\"}}, \"type\": \"parcoords\"}], \"pie\": [{\"automargin\": true, \"type\": \"pie\"}], \"scatter\": [{\"marker\": {\"colorbar\": {\"outlinewidth\": 0, \"ticks\": \"\"}}, \"type\": \"scatter\"}], \"scatter3d\": [{\"line\": {\"colorbar\": {\"outlinewidth\": 0, \"ticks\": \"\"}}, \"marker\": {\"colorbar\": {\"outlinewidth\": 0, \"ticks\": \"\"}}, \"type\": \"scatter3d\"}], \"scattercarpet\": [{\"marker\": {\"colorbar\": {\"outlinewidth\": 0, \"ticks\": \"\"}}, \"type\": \"scattercarpet\"}], \"scattergeo\": [{\"marker\": {\"colorbar\": {\"outlinewidth\": 0, \"ticks\": \"\"}}, \"type\": \"scattergeo\"}], \"scattergl\": [{\"marker\": {\"colorbar\": {\"outlinewidth\": 0, \"ticks\": \"\"}}, \"type\": \"scattergl\"}], \"scattermapbox\": [{\"marker\": {\"colorbar\": {\"outlinewidth\": 0, \"ticks\": \"\"}}, \"type\": \"scattermapbox\"}], \"scatterpolar\": [{\"marker\": {\"colorbar\": {\"outlinewidth\": 0, \"ticks\": \"\"}}, \"type\": \"scatterpolar\"}], \"scatterpolargl\": [{\"marker\": {\"colorbar\": {\"outlinewidth\": 0, \"ticks\": \"\"}}, \"type\": \"scatterpolargl\"}], \"scatterternary\": [{\"marker\": {\"colorbar\": {\"outlinewidth\": 0, \"ticks\": \"\"}}, \"type\": \"scatterternary\"}], \"surface\": [{\"colorbar\": {\"outlinewidth\": 0, \"ticks\": \"\"}, \"colorscale\": [[0.0, \"#0d0887\"], [0.1111111111111111, \"#46039f\"], [0.2222222222222222, \"#7201a8\"], [0.3333333333333333, \"#9c179e\"], [0.4444444444444444, \"#bd3786\"], [0.5555555555555556, \"#d8576b\"], [0.6666666666666666, \"#ed7953\"], [0.7777777777777778, \"#fb9f3a\"], [0.8888888888888888, \"#fdca26\"], [1.0, \"#f0f921\"]], \"type\": \"surface\"}], \"table\": [{\"cells\": {\"fill\": {\"color\": \"#EBF0F8\"}, \"line\": {\"color\": \"white\"}}, \"header\": {\"fill\": {\"color\": \"#C8D4E3\"}, \"line\": {\"color\": \"white\"}}, \"type\": \"table\"}]}, \"layout\": {\"annotationdefaults\": {\"arrowcolor\": \"#2a3f5f\", \"arrowhead\": 0, \"arrowwidth\": 1}, \"coloraxis\": {\"colorbar\": {\"outlinewidth\": 0, \"ticks\": \"\"}}, \"colorscale\": {\"diverging\": [[0, \"#8e0152\"], [0.1, \"#c51b7d\"], [0.2, \"#de77ae\"], [0.3, \"#f1b6da\"], [0.4, \"#fde0ef\"], [0.5, \"#f7f7f7\"], [0.6, \"#e6f5d0\"], [0.7, \"#b8e186\"], [0.8, \"#7fbc41\"], [0.9, \"#4d9221\"], [1, \"#276419\"]], \"sequential\": [[0.0, \"#0d0887\"], [0.1111111111111111, \"#46039f\"], [0.2222222222222222, \"#7201a8\"], [0.3333333333333333, \"#9c179e\"], [0.4444444444444444, \"#bd3786\"], [0.5555555555555556, \"#d8576b\"], [0.6666666666666666, \"#ed7953\"], [0.7777777777777778, \"#fb9f3a\"], [0.8888888888888888, \"#fdca26\"], [1.0, \"#f0f921\"]], \"sequentialminus\": [[0.0, \"#0d0887\"], [0.1111111111111111, \"#46039f\"], [0.2222222222222222, \"#7201a8\"], [0.3333333333333333, \"#9c179e\"], [0.4444444444444444, \"#bd3786\"], [0.5555555555555556, \"#d8576b\"], [0.6666666666666666, \"#ed7953\"], [0.7777777777777778, \"#fb9f3a\"], [0.8888888888888888, \"#fdca26\"], [1.0, \"#f0f921\"]]}, \"colorway\": [\"#636efa\", \"#EF553B\", \"#00cc96\", \"#ab63fa\", \"#FFA15A\", \"#19d3f3\", \"#FF6692\", \"#B6E880\", \"#FF97FF\", \"#FECB52\"], \"font\": {\"color\": \"#2a3f5f\"}, \"geo\": {\"bgcolor\": \"white\", \"lakecolor\": \"white\", \"landcolor\": \"#E5ECF6\", \"showlakes\": true, \"showland\": true, \"subunitcolor\": \"white\"}, \"hoverlabel\": {\"align\": \"left\"}, \"hovermode\": \"closest\", \"mapbox\": {\"style\": \"light\"}, \"paper_bgcolor\": \"white\", \"plot_bgcolor\": \"#E5ECF6\", \"polar\": {\"angularaxis\": {\"gridcolor\": \"white\", \"linecolor\": \"white\", \"ticks\": \"\"}, \"bgcolor\": \"#E5ECF6\", \"radialaxis\": {\"gridcolor\": \"white\", \"linecolor\": \"white\", \"ticks\": \"\"}}, \"scene\": {\"xaxis\": {\"backgroundcolor\": \"#E5ECF6\", \"gridcolor\": \"white\", \"gridwidth\": 2, \"linecolor\": \"white\", \"showbackground\": true, \"ticks\": \"\", \"zerolinecolor\": \"white\"}, \"yaxis\": {\"backgroundcolor\": \"#E5ECF6\", \"gridcolor\": \"white\", \"gridwidth\": 2, \"linecolor\": \"white\", \"showbackground\": true, \"ticks\": \"\", \"zerolinecolor\": \"white\"}, \"zaxis\": {\"backgroundcolor\": \"#E5ECF6\", \"gridcolor\": \"white\", \"gridwidth\": 2, \"linecolor\": \"white\", \"showbackground\": true, \"ticks\": \"\", \"zerolinecolor\": \"white\"}}, \"shapedefaults\": {\"line\": {\"color\": \"#2a3f5f\"}}, \"ternary\": {\"aaxis\": {\"gridcolor\": \"white\", \"linecolor\": \"white\", \"ticks\": \"\"}, \"baxis\": {\"gridcolor\": \"white\", \"linecolor\": \"white\", \"ticks\": \"\"}, \"bgcolor\": \"#E5ECF6\", \"caxis\": {\"gridcolor\": \"white\", \"linecolor\": \"white\", \"ticks\": \"\"}}, \"title\": {\"x\": 0.05}, \"xaxis\": {\"automargin\": true, \"gridcolor\": \"white\", \"linecolor\": \"white\", \"ticks\": \"\", \"title\": {\"standoff\": 15}, \"zerolinecolor\": \"white\", \"zerolinewidth\": 2}, \"yaxis\": {\"automargin\": true, \"gridcolor\": \"white\", \"linecolor\": \"white\", \"ticks\": \"\", \"title\": {\"standoff\": 15}, \"zerolinecolor\": \"white\", \"zerolinewidth\": 2}}}, \"title\": {\"font\": {\"color\": \"#4D5663\"}}, \"xaxis\": {\"anchor\": \"y\", \"domain\": [0.0, 0.2125], \"gridcolor\": \"#E1E5ED\", \"showgrid\": false, \"tickfont\": {\"color\": \"#4D5663\"}, \"title\": {\"font\": {\"color\": \"#4D5663\"}, \"text\": \"\"}, \"zerolinecolor\": \"#E1E5ED\"}, \"xaxis10\": {\"anchor\": \"y10\", \"domain\": [0.2625, 0.475], \"gridcolor\": \"#E1E5ED\", \"showgrid\": false, \"tickfont\": {\"color\": \"#4D5663\"}, \"title\": {\"font\": {\"color\": \"#4D5663\"}, \"text\": \"\"}, \"zerolinecolor\": \"#E1E5ED\"}, \"xaxis11\": {\"anchor\": \"y11\", \"domain\": [0.525, 0.7375], \"gridcolor\": \"#E1E5ED\", \"showgrid\": false, \"tickfont\": {\"color\": \"#4D5663\"}, \"title\": {\"font\": {\"color\": \"#4D5663\"}, \"text\": \"\"}, \"zerolinecolor\": \"#E1E5ED\"}, \"xaxis12\": {\"anchor\": \"y12\", \"domain\": [0.7875, 1.0], \"gridcolor\": \"#E1E5ED\", \"showgrid\": false, \"tickfont\": {\"color\": \"#4D5663\"}, \"title\": {\"font\": {\"color\": \"#4D5663\"}, \"text\": \"\"}, \"zerolinecolor\": \"#E1E5ED\"}, \"xaxis13\": {\"anchor\": \"y13\", \"domain\": [0.0, 0.2125], \"gridcolor\": \"#E1E5ED\", \"showgrid\": false, \"tickfont\": {\"color\": \"#4D5663\"}, \"title\": {\"font\": {\"color\": \"#4D5663\"}, \"text\": \"\"}, \"zerolinecolor\": \"#E1E5ED\"}, \"xaxis14\": {\"anchor\": \"y14\", \"domain\": [0.2625, 0.475], \"gridcolor\": \"#E1E5ED\", \"showgrid\": false, \"tickfont\": {\"color\": \"#4D5663\"}, \"title\": {\"font\": {\"color\": \"#4D5663\"}, \"text\": \"\"}, \"zerolinecolor\": \"#E1E5ED\"}, \"xaxis15\": {\"anchor\": \"y15\", \"domain\": [0.525, 0.7375], \"gridcolor\": \"#E1E5ED\", \"showgrid\": false, \"tickfont\": {\"color\": \"#4D5663\"}, \"title\": {\"font\": {\"color\": \"#4D5663\"}, \"text\": \"\"}, \"zerolinecolor\": \"#E1E5ED\"}, \"xaxis16\": {\"anchor\": \"y16\", \"domain\": [0.7875, 1.0], \"gridcolor\": \"#E1E5ED\", \"showgrid\": false, \"tickfont\": {\"color\": \"#4D5663\"}, \"title\": {\"font\": {\"color\": \"#4D5663\"}, \"text\": \"\"}, \"zerolinecolor\": \"#E1E5ED\"}, \"xaxis2\": {\"anchor\": \"y2\", \"domain\": [0.2625, 0.475], \"gridcolor\": \"#E1E5ED\", \"showgrid\": false, \"tickfont\": {\"color\": \"#4D5663\"}, \"title\": {\"font\": {\"color\": \"#4D5663\"}, \"text\": \"\"}, \"zerolinecolor\": \"#E1E5ED\"}, \"xaxis3\": {\"anchor\": \"y3\", \"domain\": [0.525, 0.7375], \"gridcolor\": \"#E1E5ED\", \"showgrid\": false, \"tickfont\": {\"color\": \"#4D5663\"}, \"title\": {\"font\": {\"color\": \"#4D5663\"}, \"text\": \"\"}, \"zerolinecolor\": \"#E1E5ED\"}, \"xaxis4\": {\"anchor\": \"y4\", \"domain\": [0.7875, 1.0], \"gridcolor\": \"#E1E5ED\", \"showgrid\": false, \"tickfont\": {\"color\": \"#4D5663\"}, \"title\": {\"font\": {\"color\": \"#4D5663\"}, \"text\": \"\"}, \"zerolinecolor\": \"#E1E5ED\"}, \"xaxis5\": {\"anchor\": \"y5\", \"domain\": [0.0, 0.2125], \"gridcolor\": \"#E1E5ED\", \"showgrid\": false, \"tickfont\": {\"color\": \"#4D5663\"}, \"title\": {\"font\": {\"color\": \"#4D5663\"}, \"text\": \"\"}, \"zerolinecolor\": \"#E1E5ED\"}, \"xaxis6\": {\"anchor\": \"y6\", \"domain\": [0.2625, 0.475], \"gridcolor\": \"#E1E5ED\", \"showgrid\": false, \"tickfont\": {\"color\": \"#4D5663\"}, \"title\": {\"font\": {\"color\": \"#4D5663\"}, \"text\": \"\"}, \"zerolinecolor\": \"#E1E5ED\"}, \"xaxis7\": {\"anchor\": \"y7\", \"domain\": [0.525, 0.7375], \"gridcolor\": \"#E1E5ED\", \"showgrid\": false, \"tickfont\": {\"color\": \"#4D5663\"}, \"title\": {\"font\": {\"color\": \"#4D5663\"}, \"text\": \"\"}, \"zerolinecolor\": \"#E1E5ED\"}, \"xaxis8\": {\"anchor\": \"y8\", \"domain\": [0.7875, 1.0], \"gridcolor\": \"#E1E5ED\", \"showgrid\": false, \"tickfont\": {\"color\": \"#4D5663\"}, \"title\": {\"font\": {\"color\": \"#4D5663\"}, \"text\": \"\"}, \"zerolinecolor\": \"#E1E5ED\"}, \"xaxis9\": {\"anchor\": \"y9\", \"domain\": [0.0, 0.2125], \"gridcolor\": \"#E1E5ED\", \"showgrid\": false, \"tickfont\": {\"color\": \"#4D5663\"}, \"title\": {\"font\": {\"color\": \"#4D5663\"}, \"text\": \"\"}, \"zerolinecolor\": \"#E1E5ED\"}, \"yaxis\": {\"anchor\": \"x\", \"domain\": [0.8025, 1.0], \"gridcolor\": \"#E1E5ED\", \"showgrid\": false, \"tickfont\": {\"color\": \"#4D5663\"}, \"title\": {\"font\": {\"color\": \"#4D5663\"}, \"text\": \"\"}, \"zerolinecolor\": \"#E1E5ED\"}, \"yaxis10\": {\"anchor\": \"x10\", \"domain\": [0.2675, 0.465], \"gridcolor\": \"#E1E5ED\", \"showgrid\": false, \"tickfont\": {\"color\": \"#4D5663\"}, \"title\": {\"font\": {\"color\": \"#4D5663\"}, \"text\": \"\"}, \"zerolinecolor\": \"#E1E5ED\"}, \"yaxis11\": {\"anchor\": \"x11\", \"domain\": [0.2675, 0.465], \"gridcolor\": \"#E1E5ED\", \"showgrid\": false, \"tickfont\": {\"color\": \"#4D5663\"}, \"title\": {\"font\": {\"color\": \"#4D5663\"}, \"text\": \"\"}, \"zerolinecolor\": \"#E1E5ED\"}, \"yaxis12\": {\"anchor\": \"x12\", \"domain\": [0.2675, 0.465], \"gridcolor\": \"#E1E5ED\", \"showgrid\": false, \"tickfont\": {\"color\": \"#4D5663\"}, \"title\": {\"font\": {\"color\": \"#4D5663\"}, \"text\": \"\"}, \"zerolinecolor\": \"#E1E5ED\"}, \"yaxis13\": {\"anchor\": \"x13\", \"domain\": [0.0, 0.1975], \"gridcolor\": \"#E1E5ED\", \"showgrid\": false, \"tickfont\": {\"color\": \"#4D5663\"}, \"title\": {\"font\": {\"color\": \"#4D5663\"}, \"text\": \"\"}, \"zerolinecolor\": \"#E1E5ED\"}, \"yaxis14\": {\"anchor\": \"x14\", \"domain\": [0.0, 0.1975], \"gridcolor\": \"#E1E5ED\", \"showgrid\": false, \"tickfont\": {\"color\": \"#4D5663\"}, \"title\": {\"font\": {\"color\": \"#4D5663\"}, \"text\": \"\"}, \"zerolinecolor\": \"#E1E5ED\"}, \"yaxis15\": {\"anchor\": \"x15\", \"domain\": [0.0, 0.1975], \"gridcolor\": \"#E1E5ED\", \"showgrid\": false, \"tickfont\": {\"color\": \"#4D5663\"}, \"title\": {\"font\": {\"color\": \"#4D5663\"}, \"text\": \"\"}, \"zerolinecolor\": \"#E1E5ED\"}, \"yaxis16\": {\"anchor\": \"x16\", \"domain\": [0.0, 0.1975], \"gridcolor\": \"#E1E5ED\", \"showgrid\": false, \"tickfont\": {\"color\": \"#4D5663\"}, \"title\": {\"font\": {\"color\": \"#4D5663\"}, \"text\": \"\"}, \"zerolinecolor\": \"#E1E5ED\"}, \"yaxis2\": {\"anchor\": \"x2\", \"domain\": [0.8025, 1.0], \"gridcolor\": \"#E1E5ED\", \"showgrid\": false, \"tickfont\": {\"color\": \"#4D5663\"}, \"title\": {\"font\": {\"color\": \"#4D5663\"}, \"text\": \"\"}, \"zerolinecolor\": \"#E1E5ED\"}, \"yaxis3\": {\"anchor\": \"x3\", \"domain\": [0.8025, 1.0], \"gridcolor\": \"#E1E5ED\", \"showgrid\": false, \"tickfont\": {\"color\": \"#4D5663\"}, \"title\": {\"font\": {\"color\": \"#4D5663\"}, \"text\": \"\"}, \"zerolinecolor\": \"#E1E5ED\"}, \"yaxis4\": {\"anchor\": \"x4\", \"domain\": [0.8025, 1.0], \"gridcolor\": \"#E1E5ED\", \"showgrid\": false, \"tickfont\": {\"color\": \"#4D5663\"}, \"title\": {\"font\": {\"color\": \"#4D5663\"}, \"text\": \"\"}, \"zerolinecolor\": \"#E1E5ED\"}, \"yaxis5\": {\"anchor\": \"x5\", \"domain\": [0.535, 0.7325], \"gridcolor\": \"#E1E5ED\", \"showgrid\": false, \"tickfont\": {\"color\": \"#4D5663\"}, \"title\": {\"font\": {\"color\": \"#4D5663\"}, \"text\": \"\"}, \"zerolinecolor\": \"#E1E5ED\"}, \"yaxis6\": {\"anchor\": \"x6\", \"domain\": [0.535, 0.7325], \"gridcolor\": \"#E1E5ED\", \"showgrid\": false, \"tickfont\": {\"color\": \"#4D5663\"}, \"title\": {\"font\": {\"color\": \"#4D5663\"}, \"text\": \"\"}, \"zerolinecolor\": \"#E1E5ED\"}, \"yaxis7\": {\"anchor\": \"x7\", \"domain\": [0.535, 0.7325], \"gridcolor\": \"#E1E5ED\", \"showgrid\": false, \"tickfont\": {\"color\": \"#4D5663\"}, \"title\": {\"font\": {\"color\": \"#4D5663\"}, \"text\": \"\"}, \"zerolinecolor\": \"#E1E5ED\"}, \"yaxis8\": {\"anchor\": \"x8\", \"domain\": [0.535, 0.7325], \"gridcolor\": \"#E1E5ED\", \"showgrid\": false, \"tickfont\": {\"color\": \"#4D5663\"}, \"title\": {\"font\": {\"color\": \"#4D5663\"}, \"text\": \"\"}, \"zerolinecolor\": \"#E1E5ED\"}, \"yaxis9\": {\"anchor\": \"x9\", \"domain\": [0.2675, 0.465], \"gridcolor\": \"#E1E5ED\", \"showgrid\": false, \"tickfont\": {\"color\": \"#4D5663\"}, \"title\": {\"font\": {\"color\": \"#4D5663\"}, \"text\": \"\"}, \"zerolinecolor\": \"#E1E5ED\"}},\n",
       "                        {\"showLink\": true, \"linkText\": \"Export to plot.ly\", \"plotlyServerURL\": \"https://plot.ly\", \"responsive\": true}\n",
       "                    ).then(function(){\n",
       "                            \n",
       "var gd = document.getElementById('bb0afbd5-6eb4-47b9-a821-40fa601d64dd');\n",
       "var x = new MutationObserver(function (mutations, observer) {{\n",
       "        var display = window.getComputedStyle(gd).display;\n",
       "        if (!display || display === 'none') {{\n",
       "            console.log([gd, 'removed!']);\n",
       "            Plotly.purge(gd);\n",
       "            observer.disconnect();\n",
       "        }}\n",
       "}});\n",
       "\n",
       "// Listen for the removal of the full notebook cells\n",
       "var notebookContainer = gd.closest('#notebook-container');\n",
       "if (notebookContainer) {{\n",
       "    x.observe(notebookContainer, {childList: true});\n",
       "}}\n",
       "\n",
       "// Listen for the clearing of the current output cell\n",
       "var outputEl = gd.closest('.output');\n",
       "if (outputEl) {{\n",
       "    x.observe(outputEl, {childList: true});\n",
       "}}\n",
       "\n",
       "                        })\n",
       "                };\n",
       "                });\n",
       "            </script>\n",
       "        </div>"
      ]
     },
     "metadata": {},
     "output_type": "display_data"
    }
   ],
   "source": [
    "df.scatter_matrix()"
   ]
  },
  {
   "cell_type": "markdown",
   "metadata": {
    "collapsed": true
   },
   "source": [
    "# Great Job!"
   ]
  }
 ],
 "metadata": {
  "kernelspec": {
   "display_name": "Python 3",
   "language": "python",
   "name": "python3"
  },
  "language_info": {
   "codemirror_mode": {
    "name": "ipython",
    "version": 3
   },
   "file_extension": ".py",
   "mimetype": "text/x-python",
   "name": "python",
   "nbconvert_exporter": "python",
   "pygments_lexer": "ipython3",
   "version": "3.7.6"
  }
 },
 "nbformat": 4,
 "nbformat_minor": 1
}
